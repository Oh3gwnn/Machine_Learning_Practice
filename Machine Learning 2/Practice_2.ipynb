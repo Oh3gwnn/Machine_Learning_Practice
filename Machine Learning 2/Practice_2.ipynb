{
  "nbformat": 4,
  "nbformat_minor": 0,
  "metadata": {
    "colab": {
      "name": "Practice_2.ipynb",
      "provenance": [],
      "collapsed_sections": [
        "8Ufz6Bn6SKyt",
        "h66JjQJWpOl0",
        "G_91hz5JSKyu",
        "y-VlPYTpWIRG",
        "XbxMA91QWMtI",
        "ae1HXsIQSKy2",
        "w95JPwUPVcUE",
        "BA9BpbwiSKy6",
        "h-kbjH_MX01k",
        "5UYFz-M2YAC0",
        "CpzYnsHFYPGv",
        "JzaNAwJerLSt",
        "BYSHt0Kfeoi4",
        "0mnpX-Z3rd-4",
        "Q_p6wnjZSKzD",
        "ks3Ow79Hsarf",
        "fNxkV1S1sfna",
        "xOkf4TXpsxFc",
        "odKx6M7zs5fd",
        "dvcXq8SrtKqd",
        "QVjS8QlHSKzI",
        "BhL5jQZhSKzJ",
        "SKaazCB3SKzJ",
        "POJlPry5cQ15",
        "c1fMLavVcWl1",
        "Zr_tDUtJsRbk",
        "Z7Ommh6SZx0p",
        "ZNAPC0a30z7J",
        "SutkGhKY0z7a",
        "3Cq6wfLu2R1h",
        "Z0Vj7PLv0z7l",
        "DKxqjfZK0z7m",
        "59cp1bjF0z7t",
        "Tx4rsYvj0z7t",
        "6kDVQvHF0z7x",
        "Becgowul0z70",
        "mor1dgqm0z70",
        "Fh_jMuk70z74",
        "OxJCQail0z75",
        "G6G3buIh0z75",
        "JDjjTp3K3jJ0",
        "H3B9GzCGjrra",
        "O_P6WIjP3jKI",
        "puDIbvhT3jKI",
        "-F_Gl6Hx3jKK"
      ]
    },
    "kernelspec": {
      "display_name": "Python 3",
      "name": "python3"
    },
    "language_info": {
      "name": "python"
    }
  },
  "cells": [
    {
      "cell_type": "markdown",
      "metadata": {
        "id": "8Ufz6Bn6SKyt"
      },
      "source": [
        "## 기본 설정"
      ]
    },
    {
      "cell_type": "markdown",
      "metadata": {
        "id": "nJLJIH5ISKyu"
      },
      "source": [
        "필수 모듈을 불러오고 그래프 출력 관련 기본 설정을 정한다."
      ]
    },
    {
      "cell_type": "code",
      "metadata": {
        "id": "YaCa1musSKyu"
      },
      "source": [
        "# 파이썬 ≥3.5\n",
        "import sys\n",
        "assert sys.version_info >= (3, 5)\n",
        "\n",
        "# 사이킷런 ≥0.20\n",
        "import sklearn\n",
        "assert sklearn.__version__ >= \"0.20\"\n",
        "\n",
        "# 공통 모듈 임포트\n",
        "import numpy as np\n",
        "import os\n",
        "\n",
        "# 깔금한 그래프 출력을 위해\n",
        "%matplotlib inline\n",
        "import matplotlib as mpl\n",
        "import matplotlib.pyplot as plt\n",
        "mpl.rc('axes', labelsize=14)\n",
        "mpl.rc('xtick', labelsize=12)\n",
        "mpl.rc('ytick', labelsize=12)\n",
        "\n",
        "# 그림 저장 위치 지정\n",
        "PROJECT_ROOT_DIR = \".\"\n",
        "CHAPTER_ID = \"end_to_end_project\"\n",
        "IMAGES_PATH = os.path.join(PROJECT_ROOT_DIR, \"images\", CHAPTER_ID)\n",
        "os.makedirs(IMAGES_PATH, exist_ok=True)\n",
        "\n",
        "def save_fig(fig_id, tight_layout=True, fig_extension=\"png\", resolution=300):\n",
        "    path = os.path.join(IMAGES_PATH, fig_id + \".\" + fig_extension)\n",
        "    print(\"그림 저장:\", fig_id)\n",
        "    if tight_layout:\n",
        "        plt.tight_layout()\n",
        "    plt.savefig(path, format=fig_extension, dpi=resolution)"
      ],
      "execution_count": 1,
      "outputs": []
    },
    {
      "cell_type": "markdown",
      "metadata": {
        "id": "G_91hz5JSKyu"
      },
      "source": [
        "### 0. 데이터 가져오기"
      ]
    },
    {
      "cell_type": "markdown",
      "metadata": {
        "id": "y-VlPYTpWIRG"
      },
      "source": [
        "#### 0.1 데이터 다운로드\n",
        "\n",
        "* 온라인 상에 저장된 압축파일을 가져오기\n",
        "* 압축파일을 풀어 csv 파일로 저장"
      ]
    },
    {
      "cell_type": "code",
      "metadata": {
        "id": "vchgc4N7SKyv"
      },
      "source": [
        "import os\n",
        "import tarfile\n",
        "import urllib.request\n",
        "\n",
        "DOWNLOAD_ROOT = \"https://raw.githubusercontent.com/codingalzi/handson-ml/master/\"\n",
        "HOUSING_PATH = os.path.join(\"datasets\", \"housing\")\n",
        "HOUSING_URL = DOWNLOAD_ROOT + \"notebooks/datasets/housing/housing.tgz\"\n",
        "\n",
        "def fetch_housing_data(housing_url=HOUSING_URL, housing_path=HOUSING_PATH):\n",
        "    if not os.path.isdir(housing_path):\n",
        "        os.makedirs(housing_path)\n",
        "    tgz_path = os.path.join(housing_path, \"housing.tgz\")\n",
        "    urllib.request.urlretrieve(housing_url, tgz_path)\n",
        "    housing_tgz = tarfile.open(tgz_path)\n",
        "    housing_tgz.extractall(path=housing_path)\n",
        "    housing_tgz.close()"
      ],
      "execution_count": 7,
      "outputs": []
    },
    {
      "cell_type": "code",
      "metadata": {
        "id": "P08xwYNASKyv"
      },
      "source": [
        "fetch_housing_data()"
      ],
      "execution_count": 8,
      "outputs": []
    },
    {
      "cell_type": "markdown",
      "metadata": {
        "id": "XbxMA91QWMtI"
      },
      "source": [
        "#### 0.2 데이터 구조 훑어보기\n",
        "\n",
        "* csv 파일을 판다스 데이터프레임으로 불러오기"
      ]
    },
    {
      "cell_type": "code",
      "metadata": {
        "id": "5KybpdkzSKyv"
      },
      "source": [
        "import pandas as pd\n",
        "\n",
        "def load_housing_data(housing_path=HOUSING_PATH):\n",
        "    csv_path = os.path.join(housing_path, \"housing.csv\")\n",
        "    return pd.read_csv(csv_path)"
      ],
      "execution_count": 9,
      "outputs": []
    },
    {
      "cell_type": "code",
      "metadata": {
        "colab": {
          "base_uri": "https://localhost:8080/",
          "height": 0
        },
        "id": "aphFH8y3SKyv",
        "outputId": "02f0d249-8cb4-4b0c-e933-f356e02e1961"
      },
      "source": [
        "housing = load_housing_data()\n",
        "housing.head()"
      ],
      "execution_count": 10,
      "outputs": [
        {
          "output_type": "execute_result",
          "data": {
            "text/html": [
              "<div>\n",
              "<style scoped>\n",
              "    .dataframe tbody tr th:only-of-type {\n",
              "        vertical-align: middle;\n",
              "    }\n",
              "\n",
              "    .dataframe tbody tr th {\n",
              "        vertical-align: top;\n",
              "    }\n",
              "\n",
              "    .dataframe thead th {\n",
              "        text-align: right;\n",
              "    }\n",
              "</style>\n",
              "<table border=\"1\" class=\"dataframe\">\n",
              "  <thead>\n",
              "    <tr style=\"text-align: right;\">\n",
              "      <th></th>\n",
              "      <th>longitude</th>\n",
              "      <th>latitude</th>\n",
              "      <th>housing_median_age</th>\n",
              "      <th>total_rooms</th>\n",
              "      <th>total_bedrooms</th>\n",
              "      <th>population</th>\n",
              "      <th>households</th>\n",
              "      <th>median_income</th>\n",
              "      <th>median_house_value</th>\n",
              "      <th>ocean_proximity</th>\n",
              "    </tr>\n",
              "  </thead>\n",
              "  <tbody>\n",
              "    <tr>\n",
              "      <th>0</th>\n",
              "      <td>-122.23</td>\n",
              "      <td>37.88</td>\n",
              "      <td>41.0</td>\n",
              "      <td>880.0</td>\n",
              "      <td>129.0</td>\n",
              "      <td>322.0</td>\n",
              "      <td>126.0</td>\n",
              "      <td>8.3252</td>\n",
              "      <td>452600.0</td>\n",
              "      <td>NEAR BAY</td>\n",
              "    </tr>\n",
              "    <tr>\n",
              "      <th>1</th>\n",
              "      <td>-122.22</td>\n",
              "      <td>37.86</td>\n",
              "      <td>21.0</td>\n",
              "      <td>7099.0</td>\n",
              "      <td>1106.0</td>\n",
              "      <td>2401.0</td>\n",
              "      <td>1138.0</td>\n",
              "      <td>8.3014</td>\n",
              "      <td>358500.0</td>\n",
              "      <td>NEAR BAY</td>\n",
              "    </tr>\n",
              "    <tr>\n",
              "      <th>2</th>\n",
              "      <td>-122.24</td>\n",
              "      <td>37.85</td>\n",
              "      <td>52.0</td>\n",
              "      <td>1467.0</td>\n",
              "      <td>190.0</td>\n",
              "      <td>496.0</td>\n",
              "      <td>177.0</td>\n",
              "      <td>7.2574</td>\n",
              "      <td>352100.0</td>\n",
              "      <td>NEAR BAY</td>\n",
              "    </tr>\n",
              "    <tr>\n",
              "      <th>3</th>\n",
              "      <td>-122.25</td>\n",
              "      <td>37.85</td>\n",
              "      <td>52.0</td>\n",
              "      <td>1274.0</td>\n",
              "      <td>235.0</td>\n",
              "      <td>558.0</td>\n",
              "      <td>219.0</td>\n",
              "      <td>5.6431</td>\n",
              "      <td>341300.0</td>\n",
              "      <td>NEAR BAY</td>\n",
              "    </tr>\n",
              "    <tr>\n",
              "      <th>4</th>\n",
              "      <td>-122.25</td>\n",
              "      <td>37.85</td>\n",
              "      <td>52.0</td>\n",
              "      <td>1627.0</td>\n",
              "      <td>280.0</td>\n",
              "      <td>565.0</td>\n",
              "      <td>259.0</td>\n",
              "      <td>3.8462</td>\n",
              "      <td>342200.0</td>\n",
              "      <td>NEAR BAY</td>\n",
              "    </tr>\n",
              "  </tbody>\n",
              "</table>\n",
              "</div>"
            ],
            "text/plain": [
              "   longitude  latitude  ...  median_house_value  ocean_proximity\n",
              "0    -122.23     37.88  ...            452600.0         NEAR BAY\n",
              "1    -122.22     37.86  ...            358500.0         NEAR BAY\n",
              "2    -122.24     37.85  ...            352100.0         NEAR BAY\n",
              "3    -122.25     37.85  ...            341300.0         NEAR BAY\n",
              "4    -122.25     37.85  ...            342200.0         NEAR BAY\n",
              "\n",
              "[5 rows x 10 columns]"
            ]
          },
          "metadata": {},
          "execution_count": 10
        }
      ]
    },
    {
      "cell_type": "markdown",
      "metadata": {
        "id": "-c538K5CufNO"
      },
      "source": [
        "* 데이터셋 기본 정보 확인하기"
      ]
    },
    {
      "cell_type": "code",
      "metadata": {
        "colab": {
          "base_uri": "https://localhost:8080/"
        },
        "id": "wVKnAkx2SKyw",
        "outputId": "a27e044c-e5a4-47d0-ebb1-4102af9c0ea1"
      },
      "source": [
        "housing.info()"
      ],
      "execution_count": 11,
      "outputs": [
        {
          "output_type": "stream",
          "name": "stdout",
          "text": [
            "<class 'pandas.core.frame.DataFrame'>\n",
            "RangeIndex: 20640 entries, 0 to 20639\n",
            "Data columns (total 10 columns):\n",
            " #   Column              Non-Null Count  Dtype  \n",
            "---  ------              --------------  -----  \n",
            " 0   longitude           20640 non-null  float64\n",
            " 1   latitude            20640 non-null  float64\n",
            " 2   housing_median_age  20640 non-null  float64\n",
            " 3   total_rooms         20640 non-null  float64\n",
            " 4   total_bedrooms      20433 non-null  float64\n",
            " 5   population          20640 non-null  float64\n",
            " 6   households          20640 non-null  float64\n",
            " 7   median_income       20640 non-null  float64\n",
            " 8   median_house_value  20640 non-null  float64\n",
            " 9   ocean_proximity     20640 non-null  object \n",
            "dtypes: float64(9), object(1)\n",
            "memory usage: 1.6+ MB\n"
          ]
        }
      ]
    },
    {
      "cell_type": "markdown",
      "metadata": {
        "id": "X6ascIn-ulhH"
      },
      "source": [
        "* 범주형 데이터 탐색"
      ]
    },
    {
      "cell_type": "code",
      "metadata": {
        "colab": {
          "base_uri": "https://localhost:8080/"
        },
        "id": "8apkr2jqSKyx",
        "outputId": "c8dfc108-bfdc-4bdc-81c3-97dd526d4970"
      },
      "source": [
        "housing[\"ocean_proximity\"].value_counts()"
      ],
      "execution_count": 12,
      "outputs": [
        {
          "output_type": "execute_result",
          "data": {
            "text/plain": [
              "<1H OCEAN     9136\n",
              "INLAND        6551\n",
              "NEAR OCEAN    2658\n",
              "NEAR BAY      2290\n",
              "ISLAND           5\n",
              "Name: ocean_proximity, dtype: int64"
            ]
          },
          "metadata": {},
          "execution_count": 12
        }
      ]
    },
    {
      "cell_type": "markdown",
      "metadata": {
        "id": "0Fub52QWutis"
      },
      "source": [
        "* 수치형 데이터 탐색"
      ]
    },
    {
      "cell_type": "code",
      "metadata": {
        "colab": {
          "base_uri": "https://localhost:8080/",
          "height": 0
        },
        "id": "LPE8hfM1SKyx",
        "outputId": "631a3591-2d0e-437c-87f4-a2190a0492f7"
      },
      "source": [
        "housing.describe()"
      ],
      "execution_count": 13,
      "outputs": [
        {
          "output_type": "execute_result",
          "data": {
            "text/html": [
              "<div>\n",
              "<style scoped>\n",
              "    .dataframe tbody tr th:only-of-type {\n",
              "        vertical-align: middle;\n",
              "    }\n",
              "\n",
              "    .dataframe tbody tr th {\n",
              "        vertical-align: top;\n",
              "    }\n",
              "\n",
              "    .dataframe thead th {\n",
              "        text-align: right;\n",
              "    }\n",
              "</style>\n",
              "<table border=\"1\" class=\"dataframe\">\n",
              "  <thead>\n",
              "    <tr style=\"text-align: right;\">\n",
              "      <th></th>\n",
              "      <th>longitude</th>\n",
              "      <th>latitude</th>\n",
              "      <th>housing_median_age</th>\n",
              "      <th>total_rooms</th>\n",
              "      <th>total_bedrooms</th>\n",
              "      <th>population</th>\n",
              "      <th>households</th>\n",
              "      <th>median_income</th>\n",
              "      <th>median_house_value</th>\n",
              "    </tr>\n",
              "  </thead>\n",
              "  <tbody>\n",
              "    <tr>\n",
              "      <th>count</th>\n",
              "      <td>20640.000000</td>\n",
              "      <td>20640.000000</td>\n",
              "      <td>20640.000000</td>\n",
              "      <td>20640.000000</td>\n",
              "      <td>20433.000000</td>\n",
              "      <td>20640.000000</td>\n",
              "      <td>20640.000000</td>\n",
              "      <td>20640.000000</td>\n",
              "      <td>20640.000000</td>\n",
              "    </tr>\n",
              "    <tr>\n",
              "      <th>mean</th>\n",
              "      <td>-119.569704</td>\n",
              "      <td>35.631861</td>\n",
              "      <td>28.639486</td>\n",
              "      <td>2635.763081</td>\n",
              "      <td>537.870553</td>\n",
              "      <td>1425.476744</td>\n",
              "      <td>499.539680</td>\n",
              "      <td>3.870671</td>\n",
              "      <td>206855.816909</td>\n",
              "    </tr>\n",
              "    <tr>\n",
              "      <th>std</th>\n",
              "      <td>2.003532</td>\n",
              "      <td>2.135952</td>\n",
              "      <td>12.585558</td>\n",
              "      <td>2181.615252</td>\n",
              "      <td>421.385070</td>\n",
              "      <td>1132.462122</td>\n",
              "      <td>382.329753</td>\n",
              "      <td>1.899822</td>\n",
              "      <td>115395.615874</td>\n",
              "    </tr>\n",
              "    <tr>\n",
              "      <th>min</th>\n",
              "      <td>-124.350000</td>\n",
              "      <td>32.540000</td>\n",
              "      <td>1.000000</td>\n",
              "      <td>2.000000</td>\n",
              "      <td>1.000000</td>\n",
              "      <td>3.000000</td>\n",
              "      <td>1.000000</td>\n",
              "      <td>0.499900</td>\n",
              "      <td>14999.000000</td>\n",
              "    </tr>\n",
              "    <tr>\n",
              "      <th>25%</th>\n",
              "      <td>-121.800000</td>\n",
              "      <td>33.930000</td>\n",
              "      <td>18.000000</td>\n",
              "      <td>1447.750000</td>\n",
              "      <td>296.000000</td>\n",
              "      <td>787.000000</td>\n",
              "      <td>280.000000</td>\n",
              "      <td>2.563400</td>\n",
              "      <td>119600.000000</td>\n",
              "    </tr>\n",
              "    <tr>\n",
              "      <th>50%</th>\n",
              "      <td>-118.490000</td>\n",
              "      <td>34.260000</td>\n",
              "      <td>29.000000</td>\n",
              "      <td>2127.000000</td>\n",
              "      <td>435.000000</td>\n",
              "      <td>1166.000000</td>\n",
              "      <td>409.000000</td>\n",
              "      <td>3.534800</td>\n",
              "      <td>179700.000000</td>\n",
              "    </tr>\n",
              "    <tr>\n",
              "      <th>75%</th>\n",
              "      <td>-118.010000</td>\n",
              "      <td>37.710000</td>\n",
              "      <td>37.000000</td>\n",
              "      <td>3148.000000</td>\n",
              "      <td>647.000000</td>\n",
              "      <td>1725.000000</td>\n",
              "      <td>605.000000</td>\n",
              "      <td>4.743250</td>\n",
              "      <td>264725.000000</td>\n",
              "    </tr>\n",
              "    <tr>\n",
              "      <th>max</th>\n",
              "      <td>-114.310000</td>\n",
              "      <td>41.950000</td>\n",
              "      <td>52.000000</td>\n",
              "      <td>39320.000000</td>\n",
              "      <td>6445.000000</td>\n",
              "      <td>35682.000000</td>\n",
              "      <td>6082.000000</td>\n",
              "      <td>15.000100</td>\n",
              "      <td>500001.000000</td>\n",
              "    </tr>\n",
              "  </tbody>\n",
              "</table>\n",
              "</div>"
            ],
            "text/plain": [
              "          longitude      latitude  ...  median_income  median_house_value\n",
              "count  20640.000000  20640.000000  ...   20640.000000        20640.000000\n",
              "mean    -119.569704     35.631861  ...       3.870671       206855.816909\n",
              "std        2.003532      2.135952  ...       1.899822       115395.615874\n",
              "min     -124.350000     32.540000  ...       0.499900        14999.000000\n",
              "25%     -121.800000     33.930000  ...       2.563400       119600.000000\n",
              "50%     -118.490000     34.260000  ...       3.534800       179700.000000\n",
              "75%     -118.010000     37.710000  ...       4.743250       264725.000000\n",
              "max     -114.310000     41.950000  ...      15.000100       500001.000000\n",
              "\n",
              "[8 rows x 9 columns]"
            ]
          },
          "metadata": {},
          "execution_count": 13
        }
      ]
    },
    {
      "cell_type": "markdown",
      "metadata": {
        "id": "MMKQ-H2Bu2Fy"
      },
      "source": [
        "* 수치형 데이터 특성별 히스토그램"
      ]
    },
    {
      "cell_type": "code",
      "metadata": {
        "colab": {
          "base_uri": "https://localhost:8080/",
          "height": 0
        },
        "id": "LkGUwKXNSKyx",
        "outputId": "b2a8c614-c6ca-499a-b57d-1cb2e4f099fe"
      },
      "source": [
        "%matplotlib inline\n",
        "import matplotlib.pyplot as plt\n",
        "housing.hist(bins=50, figsize=(20,15))\n",
        "save_fig(\"attribute_histogram_plots\")\n",
        "plt.show()"
      ],
      "execution_count": 14,
      "outputs": [
        {
          "output_type": "stream",
          "name": "stdout",
          "text": [
            "그림 저장: attribute_histogram_plots\n"
          ]
        },
        {
          "output_type": "display_data",
          "data": {
            "image/png": "[encoded data removed]",
            "text/plain": [
              "<Figure size 1440x1080 with 9 Axes>"
            ]
          },
          "metadata": {
            "needs_background": "light"
          }
        }
      ]
    },
    {
      "cell_type": "markdown",
      "metadata": {
        "id": "8NqLDZdhVPWg"
      },
      "source": [
        "#### 0.3 테스트 세트 만들기"
      ]
    },
    {
      "cell_type": "code",
      "metadata": {
        "id": "Mo82ACECSKyy"
      },
      "source": [
        "# 노트북의 실행 결과가 동일하도록\n",
        "np.random.seed(42)"
      ],
      "execution_count": 15,
      "outputs": []
    },
    {
      "cell_type": "markdown",
      "metadata": {
        "id": "NWmK2T_7h1bV"
      },
      "source": [
        "#### 0.4 무작위 샘플링\n",
        "\n",
        "* 훈련 세트와 테스트 세트 구분 연습하기"
      ]
    },
    {
      "cell_type": "code",
      "metadata": {
        "id": "d1ubNmOlSKyy"
      },
      "source": [
        "import numpy as np\n",
        "\n",
        "# 예시 용도로 만든 훈련 세트/테스트 세트 분류 함수. 실전용 아님.\n",
        "def split_train_test(data, test_ratio):\n",
        "    shuffled_indices = np.random.permutation(len(data))\n",
        "    test_set_size = int(len(data) * test_ratio)\n",
        "    test_indices = shuffled_indices[:test_set_size]\n",
        "    train_indices = shuffled_indices[test_set_size:]\n",
        "    return data.iloc[train_indices], data.iloc[test_indices]"
      ],
      "execution_count": 16,
      "outputs": []
    },
    {
      "cell_type": "code",
      "metadata": {
        "colab": {
          "base_uri": "https://localhost:8080/"
        },
        "id": "3XWEdVm7SKyy",
        "outputId": "6f0af8be-5fee-4cbf-84f2-88c6f24e5849"
      },
      "source": [
        "train_set, test_set = split_train_test(housing, 0.2)\n",
        "len(train_set)"
      ],
      "execution_count": 17,
      "outputs": [
        {
          "output_type": "execute_result",
          "data": {
            "text/plain": [
              "16512"
            ]
          },
          "metadata": {},
          "execution_count": 17
        }
      ]
    },
    {
      "cell_type": "code",
      "metadata": {
        "colab": {
          "base_uri": "https://localhost:8080/"
        },
        "id": "R-KsIG-VSKyz",
        "outputId": "1c6377d2-9058-4a8b-8d51-05898fe4f12f"
      },
      "source": [
        "len(test_set)"
      ],
      "execution_count": 18,
      "outputs": [
        {
          "output_type": "execute_result",
          "data": {
            "text/plain": [
              "4128"
            ]
          },
          "metadata": {},
          "execution_count": 18
        }
      ]
    },
    {
      "cell_type": "markdown",
      "metadata": {
        "id": "qO4nBJhLvYpz"
      },
      "source": [
        "* 테스트 세트의 비율은 20%"
      ]
    },
    {
      "cell_type": "code",
      "metadata": {
        "colab": {
          "base_uri": "https://localhost:8080/"
        },
        "id": "UHrufHY7vfP5",
        "outputId": "1cee9ed2-0184-46a0-86bb-dd66bd2b1e90"
      },
      "source": [
        "len(test_set) / len(housing)"
      ],
      "execution_count": 19,
      "outputs": [
        {
          "output_type": "execute_result",
          "data": {
            "text/plain": [
              "0.2"
            ]
          },
          "metadata": {},
          "execution_count": 19
        }
      ]
    },
    {
      "cell_type": "markdown",
      "metadata": {
        "id": "dC-CvRdsLMmP"
      },
      "source": [
        "* 문제점\n",
        "    - 실행할 때마다 완전히 새로 구분함\n",
        "    - 따라서 반복 훈련을 진행 할 경우 테스트 세트가 모델에 노출됨.\n",
        "테* 문제점\n",
        "    - 실행할 때마다 완전히 새로 구분함\n",
        "    - 따라서 반복 훈련을 진행 할 경우 테스트 세트가 모델에 노출됨.\n",
        "    - 해결책: 샘플 고유의 식별자를 활용하여 식별자를 기준으로 훈련세트와 테스트 세트 구분"
      ]
    },
    {
      "cell_type": "markdown",
      "metadata": {
        "id": "kFVsTlhKL3Pm"
      },
      "source": [
        "* &#x270b; `split_train_test_by_id()` 함수\n",
        "    * 식별자의 체크섬을 기준으로 체크섬 값이 일정 백분율 이하인 \n",
        "        샘플을 테스트 세트에 저장\n",
        "    - 체크섬(checksum): 파일 전송 과정에서 발생할 수 있는 손실 여부를 판단하기 위해 사용되는 값으로\n",
        "        파일이 달라지면 체크섬 값이 달라짐.\n",
        "        - 참고: [위키백과: 체크섬](https://ko.wikipedia.org/wiki/체크섬)\n",
        "    - `zlib.crc32()` 함수: 파일의 체크섬을 CRC 방식으로 계산한 32비트 정수 반환\n",
        "        - CRC(순환 중복 검사): 파일의 체크섬을 계산하는 방식\n",
        "        - `0xffffffff`: 32비트 정수 중에서 가장 큰 정수, 즉 `2**32 - 1`.\n",
        "        - `test_ratio * 2**32`: 32비트 정수 중에서 `test_ratio` 비율에 해당하는 정수\n",
        "            예를 들어, `test_ratio = 0.2` 이며, 하위 20%에 해당하는 정수.\n",
        "    - `&`: __이진 논리곱__(binary AND)이라는 비트 연산자.\n",
        "        - 이진법으로 표현된 두 숫자의 논리곱 연산자\n",
        "        - 동일한 위치의 수가 둘 모두 1일 때만 1로 계산됨.\n",
        "        - 여기서는 `0xffffffff`와의 비트 연산을 통해 `2**32` 보다 작은 값으로 제한하기 위해 사용됨. \n",
        "            하지만 `zlib.crc32()` 함수가 32비트 정수를 반환하기에 굳이 사용할 필요 없음.\n",
        "    - 참고: [위키독스: 비트 연산자](https://wikidocs.net/20704)"
      ]
    },
    {
      "cell_type": "code",
      "metadata": {
        "id": "lFaWtEEiSKyz"
      },
      "source": [
        "from zlib import crc32\n",
        "\n",
        "def test_set_check(identifier, test_ratio):\n",
        "    return crc32(np.int64(identifier)) & 0xffffffff < test_ratio * 2**32\n",
        "\n",
        "def split_train_test_by_id(data, test_ratio, id_column):\n",
        "    ids = data[id_column]\n",
        "    in_test_set = ids.apply(lambda id_: test_set_check(id_, test_ratio))\n",
        "    return data.loc[~in_test_set], data.loc[in_test_set]"
      ],
      "execution_count": 20,
      "outputs": []
    },
    {
      "cell_type": "markdown",
      "metadata": {
        "id": "kix9p7GhxJuX"
      },
      "source": [
        "* 고유 식별자 생성법 1: 인덱스 활용"
      ]
    },
    {
      "cell_type": "code",
      "metadata": {
        "id": "Hc7wtsr8SKy0"
      },
      "source": [
        "housing_with_id = housing.reset_index()   # `index` 열이 추가된 데이터프레임 반환\n",
        "train_set, test_set = split_train_test_by_id(housing_with_id, 0.2, \"index\")"
      ],
      "execution_count": 21,
      "outputs": []
    },
    {
      "cell_type": "markdown",
      "metadata": {
        "id": "bsrFNO5jxdux"
      },
      "source": [
        "* 고유 식별자 생성법 2: 경도와 위도 활용"
      ]
    },
    {
      "cell_type": "code",
      "metadata": {
        "id": "eKyPCoqvSKy0"
      },
      "source": [
        "housing_with_id[\"id\"] = housing[\"longitude\"] * 1000 + housing[\"latitude\"]\n",
        "train_set, test_set = split_train_test_by_id(housing_with_id, 0.2, \"id\")"
      ],
      "execution_count": 22,
      "outputs": []
    },
    {
      "cell_type": "code",
      "metadata": {
        "colab": {
          "base_uri": "https://localhost:8080/",
          "height": 0
        },
        "id": "CKzyKk_iSKy0",
        "outputId": "4e83d110-ad5c-46ed-e3b4-145fadf83d6d"
      },
      "source": [
        "test_set.head()"
      ],
      "execution_count": 23,
      "outputs": [
        {
          "output_type": "execute_result",
          "data": {
            "text/html": [
              "<div>\n",
              "<style scoped>\n",
              "    .dataframe tbody tr th:only-of-type {\n",
              "        vertical-align: middle;\n",
              "    }\n",
              "\n",
              "    .dataframe tbody tr th {\n",
              "        vertical-align: top;\n",
              "    }\n",
              "\n",
              "    .dataframe thead th {\n",
              "        text-align: right;\n",
              "    }\n",
              "</style>\n",
              "<table border=\"1\" class=\"dataframe\">\n",
              "  <thead>\n",
              "    <tr style=\"text-align: right;\">\n",
              "      <th></th>\n",
              "      <th>index</th>\n",
              "      <th>longitude</th>\n",
              "      <th>latitude</th>\n",
              "      <th>housing_median_age</th>\n",
              "      <th>total_rooms</th>\n",
              "      <th>total_bedrooms</th>\n",
              "      <th>population</th>\n",
              "      <th>households</th>\n",
              "      <th>median_income</th>\n",
              "      <th>median_house_value</th>\n",
              "      <th>ocean_proximity</th>\n",
              "      <th>id</th>\n",
              "    </tr>\n",
              "  </thead>\n",
              "  <tbody>\n",
              "    <tr>\n",
              "      <th>59</th>\n",
              "      <td>59</td>\n",
              "      <td>-122.29</td>\n",
              "      <td>37.82</td>\n",
              "      <td>2.0</td>\n",
              "      <td>158.0</td>\n",
              "      <td>43.0</td>\n",
              "      <td>94.0</td>\n",
              "      <td>57.0</td>\n",
              "      <td>2.5625</td>\n",
              "      <td>60000.0</td>\n",
              "      <td>NEAR BAY</td>\n",
              "      <td>-122252.18</td>\n",
              "    </tr>\n",
              "    <tr>\n",
              "      <th>60</th>\n",
              "      <td>60</td>\n",
              "      <td>-122.29</td>\n",
              "      <td>37.83</td>\n",
              "      <td>52.0</td>\n",
              "      <td>1121.0</td>\n",
              "      <td>211.0</td>\n",
              "      <td>554.0</td>\n",
              "      <td>187.0</td>\n",
              "      <td>3.3929</td>\n",
              "      <td>75700.0</td>\n",
              "      <td>NEAR BAY</td>\n",
              "      <td>-122252.17</td>\n",
              "    </tr>\n",
              "    <tr>\n",
              "      <th>61</th>\n",
              "      <td>61</td>\n",
              "      <td>-122.29</td>\n",
              "      <td>37.82</td>\n",
              "      <td>49.0</td>\n",
              "      <td>135.0</td>\n",
              "      <td>29.0</td>\n",
              "      <td>86.0</td>\n",
              "      <td>23.0</td>\n",
              "      <td>6.1183</td>\n",
              "      <td>75000.0</td>\n",
              "      <td>NEAR BAY</td>\n",
              "      <td>-122252.18</td>\n",
              "    </tr>\n",
              "    <tr>\n",
              "      <th>62</th>\n",
              "      <td>62</td>\n",
              "      <td>-122.29</td>\n",
              "      <td>37.81</td>\n",
              "      <td>50.0</td>\n",
              "      <td>760.0</td>\n",
              "      <td>190.0</td>\n",
              "      <td>377.0</td>\n",
              "      <td>122.0</td>\n",
              "      <td>0.9011</td>\n",
              "      <td>86100.0</td>\n",
              "      <td>NEAR BAY</td>\n",
              "      <td>-122252.19</td>\n",
              "    </tr>\n",
              "    <tr>\n",
              "      <th>67</th>\n",
              "      <td>67</td>\n",
              "      <td>-122.29</td>\n",
              "      <td>37.80</td>\n",
              "      <td>52.0</td>\n",
              "      <td>1027.0</td>\n",
              "      <td>244.0</td>\n",
              "      <td>492.0</td>\n",
              "      <td>147.0</td>\n",
              "      <td>2.6094</td>\n",
              "      <td>81300.0</td>\n",
              "      <td>NEAR BAY</td>\n",
              "      <td>-122252.20</td>\n",
              "    </tr>\n",
              "  </tbody>\n",
              "</table>\n",
              "</div>"
            ],
            "text/plain": [
              "    index  longitude  latitude  ...  median_house_value  ocean_proximity         id\n",
              "59     59    -122.29     37.82  ...             60000.0         NEAR BAY -122252.18\n",
              "60     60    -122.29     37.83  ...             75700.0         NEAR BAY -122252.17\n",
              "61     61    -122.29     37.82  ...             75000.0         NEAR BAY -122252.18\n",
              "62     62    -122.29     37.81  ...             86100.0         NEAR BAY -122252.19\n",
              "67     67    -122.29     37.80  ...             81300.0         NEAR BAY -122252.20\n",
              "\n",
              "[5 rows x 12 columns]"
            ]
          },
          "metadata": {},
          "execution_count": 23
        }
      ]
    },
    {
      "cell_type": "markdown",
      "metadata": {
        "id": "StyWbK5nxygg"
      },
      "source": [
        "* 사이킷런의 무작위 구분 함수"
      ]
    },
    {
      "cell_type": "code",
      "metadata": {
        "id": "K_yma_DdSKy0"
      },
      "source": [
        "from sklearn.model_selection import train_test_split\n",
        "\n",
        "train_set, test_set = train_test_split(housing, test_size=0.2, random_state=42)"
      ],
      "execution_count": 24,
      "outputs": []
    },
    {
      "cell_type": "code",
      "metadata": {
        "colab": {
          "base_uri": "https://localhost:8080/",
          "height": 0
        },
        "id": "V5u3yziYSKy0",
        "outputId": "60f2f083-091c-4822-f634-ac9d01557e80"
      },
      "source": [
        "test_set.head()"
      ],
      "execution_count": 25,
      "outputs": [
        {
          "output_type": "execute_result",
          "data": {
            "text/html": [
              "<div>\n",
              "<style scoped>\n",
              "    .dataframe tbody tr th:only-of-type {\n",
              "        vertical-align: middle;\n",
              "    }\n",
              "\n",
              "    .dataframe tbody tr th {\n",
              "        vertical-align: top;\n",
              "    }\n",
              "\n",
              "    .dataframe thead th {\n",
              "        text-align: right;\n",
              "    }\n",
              "</style>\n",
              "<table border=\"1\" class=\"dataframe\">\n",
              "  <thead>\n",
              "    <tr style=\"text-align: right;\">\n",
              "      <th></th>\n",
              "      <th>longitude</th>\n",
              "      <th>latitude</th>\n",
              "      <th>housing_median_age</th>\n",
              "      <th>total_rooms</th>\n",
              "      <th>total_bedrooms</th>\n",
              "      <th>population</th>\n",
              "      <th>households</th>\n",
              "      <th>median_income</th>\n",
              "      <th>median_house_value</th>\n",
              "      <th>ocean_proximity</th>\n",
              "    </tr>\n",
              "  </thead>\n",
              "  <tbody>\n",
              "    <tr>\n",
              "      <th>20046</th>\n",
              "      <td>-119.01</td>\n",
              "      <td>36.06</td>\n",
              "      <td>25.0</td>\n",
              "      <td>1505.0</td>\n",
              "      <td>NaN</td>\n",
              "      <td>1392.0</td>\n",
              "      <td>359.0</td>\n",
              "      <td>1.6812</td>\n",
              "      <td>47700.0</td>\n",
              "      <td>INLAND</td>\n",
              "    </tr>\n",
              "    <tr>\n",
              "      <th>3024</th>\n",
              "      <td>-119.46</td>\n",
              "      <td>35.14</td>\n",
              "      <td>30.0</td>\n",
              "      <td>2943.0</td>\n",
              "      <td>NaN</td>\n",
              "      <td>1565.0</td>\n",
              "      <td>584.0</td>\n",
              "      <td>2.5313</td>\n",
              "      <td>45800.0</td>\n",
              "      <td>INLAND</td>\n",
              "    </tr>\n",
              "    <tr>\n",
              "      <th>15663</th>\n",
              "      <td>-122.44</td>\n",
              "      <td>37.80</td>\n",
              "      <td>52.0</td>\n",
              "      <td>3830.0</td>\n",
              "      <td>NaN</td>\n",
              "      <td>1310.0</td>\n",
              "      <td>963.0</td>\n",
              "      <td>3.4801</td>\n",
              "      <td>500001.0</td>\n",
              "      <td>NEAR BAY</td>\n",
              "    </tr>\n",
              "    <tr>\n",
              "      <th>20484</th>\n",
              "      <td>-118.72</td>\n",
              "      <td>34.28</td>\n",
              "      <td>17.0</td>\n",
              "      <td>3051.0</td>\n",
              "      <td>NaN</td>\n",
              "      <td>1705.0</td>\n",
              "      <td>495.0</td>\n",
              "      <td>5.7376</td>\n",
              "      <td>218600.0</td>\n",
              "      <td>&lt;1H OCEAN</td>\n",
              "    </tr>\n",
              "    <tr>\n",
              "      <th>9814</th>\n",
              "      <td>-121.93</td>\n",
              "      <td>36.62</td>\n",
              "      <td>34.0</td>\n",
              "      <td>2351.0</td>\n",
              "      <td>NaN</td>\n",
              "      <td>1063.0</td>\n",
              "      <td>428.0</td>\n",
              "      <td>3.7250</td>\n",
              "      <td>278000.0</td>\n",
              "      <td>NEAR OCEAN</td>\n",
              "    </tr>\n",
              "  </tbody>\n",
              "</table>\n",
              "</div>"
            ],
            "text/plain": [
              "       longitude  latitude  ...  median_house_value  ocean_proximity\n",
              "20046    -119.01     36.06  ...             47700.0           INLAND\n",
              "3024     -119.46     35.14  ...             45800.0           INLAND\n",
              "15663    -122.44     37.80  ...            500001.0         NEAR BAY\n",
              "20484    -118.72     34.28  ...            218600.0        <1H OCEAN\n",
              "9814     -121.93     36.62  ...            278000.0       NEAR OCEAN\n",
              "\n",
              "[5 rows x 10 columns]"
            ]
          },
          "metadata": {},
          "execution_count": 25
        }
      ]
    },
    {
      "cell_type": "markdown",
      "metadata": {
        "id": "JhVpt6CBSa_V"
      },
      "source": [
        "* 무작위 구분의 단점\n",
        "    - 계층별 특성을 고려하지 못함"
      ]
    },
    {
      "cell_type": "markdown",
      "metadata": {
        "id": "XJmPWMWoybwK"
      },
      "source": [
        "#### 0.5 계층적 샘플링\n",
        "\n",
        "* 전체 데이터셋의 중간 소득 히스토그램"
      ]
    },
    {
      "cell_type": "code",
      "metadata": {
        "colab": {
          "base_uri": "https://localhost:8080/",
          "height": 286
        },
        "id": "xYiOLwFDSKy0",
        "outputId": "349741fb-570d-450d-a833-a7d2a2c3920a"
      },
      "source": [
        "housing[\"median_income\"].hist()"
      ],
      "execution_count": 26,
      "outputs": [
        {
          "output_type": "execute_result",
          "data": {
            "text/plain": [
              "<matplotlib.axes._subplots.AxesSubplot at 0x7f2daa4e5e90>"
            ]
          },
          "metadata": {},
          "execution_count": 26
        },
        {
          "output_type": "display_data",
          "data": {
            "image/png": "[encoded data removed]",
            "text/plain": [
              "<Figure size 432x288 with 1 Axes>"
            ]
          },
          "metadata": {
            "needs_background": "light"
          }
        }
      ]
    },
    {
      "cell_type": "markdown",
      "metadata": {
        "id": "4z1pGrEOTsA3"
      },
      "source": [
        "* 대부분 구역의 중간 소득이 **1.5~6.0**(15,000~60,000&#x24;) 사이\n",
        "\n",
        "* 소득 구간을 아래 숫자를 기준으로 5개로 구분\n",
        "\n",
        "    ```python\n",
        "    [0, 1.5, 3.0, 4.6, 6.0, np,inf]\n",
        "    ```"
      ]
    },
    {
      "cell_type": "markdown",
      "metadata": {
        "id": "Qwz_VQxVURax"
      },
      "source": [
        "* 5개의 카테고리를 갖는 특성 추가\n",
        "    - 특성값: 1, 2, 3, 4, 5"
      ]
    },
    {
      "cell_type": "code",
      "metadata": {
        "id": "DCV1masUSKy1"
      },
      "source": [
        "housing[\"income_cat\"] = pd.cut(housing[\"median_income\"],\n",
        "                               bins=[0., 1.5, 3.0, 4.5, 6., np.inf],\n",
        "                               labels=[1, 2, 3, 4, 5])"
      ],
      "execution_count": 27,
      "outputs": []
    },
    {
      "cell_type": "markdown",
      "metadata": {
        "id": "uxG79yn7UnsO"
      },
      "source": [
        "* 계층(소득 구간) 특성 히스토그램"
      ]
    },
    {
      "cell_type": "code",
      "metadata": {
        "colab": {
          "base_uri": "https://localhost:8080/"
        },
        "id": "1q8oJNj_SKy1",
        "outputId": "4b0babb7-93ec-4a1d-e232-0038d78ac0fa"
      },
      "source": [
        "housing[\"income_cat\"].value_counts()"
      ],
      "execution_count": 28,
      "outputs": [
        {
          "output_type": "execute_result",
          "data": {
            "text/plain": [
              "3    7236\n",
              "2    6581\n",
              "4    3639\n",
              "5    2362\n",
              "1     822\n",
              "Name: income_cat, dtype: int64"
            ]
          },
          "metadata": {},
          "execution_count": 28
        }
      ]
    },
    {
      "cell_type": "code",
      "metadata": {
        "colab": {
          "base_uri": "https://localhost:8080/",
          "height": 286
        },
        "id": "sVqmu5cVSKy1",
        "outputId": "58a008bf-df92-428e-8480-1440cbd697cd"
      },
      "source": [
        "housing[\"income_cat\"].hist()"
      ],
      "execution_count": 29,
      "outputs": [
        {
          "output_type": "execute_result",
          "data": {
            "text/plain": [
              "<matplotlib.axes._subplots.AxesSubplot at 0x7f2da969d790>"
            ]
          },
          "metadata": {},
          "execution_count": 29
        },
        {
          "output_type": "display_data",
          "data": {
            "image/png": "[encoded data removed]",
            "text/plain": [
              "<Figure size 432x288 with 1 Axes>"
            ]
          },
          "metadata": {
            "needs_background": "light"
          }
        }
      ]
    },
    {
      "cell_type": "markdown",
      "metadata": {
        "id": "lLSEHhTvU3R1"
      },
      "source": [
        "* 계층별 샘플링 실행\n",
        "    - `housing[\"income_cat\"]` 기준"
      ]
    },
    {
      "cell_type": "code",
      "metadata": {
        "id": "offrtR05SKy1"
      },
      "source": [
        "from sklearn.model_selection import StratifiedShuffleSplit\n",
        "\n",
        "split = StratifiedShuffleSplit(n_splits=1, test_size=0.2, random_state=42)\n",
        "for train_index, test_index in split.split(housing, housing[\"income_cat\"]):\n",
        "    strat_train_set = housing.loc[train_index]\n",
        "    strat_test_set = housing.loc[test_index]"
      ],
      "execution_count": 30,
      "outputs": []
    },
    {
      "cell_type": "markdown",
      "metadata": {
        "id": "JCvDBQNbVMdf"
      },
      "source": [
        "* 소득 계층 비율이 유지되었음을 확인 가능"
      ]
    },
    {
      "cell_type": "code",
      "metadata": {
        "colab": {
          "base_uri": "https://localhost:8080/"
        },
        "id": "y1prCwbSSKy1",
        "outputId": "310a8ff6-1eda-4530-a25e-14e2c8553f74"
      },
      "source": [
        "strat_test_set[\"income_cat\"].value_counts() / len(strat_test_set)"
      ],
      "execution_count": 31,
      "outputs": [
        {
          "output_type": "execute_result",
          "data": {
            "text/plain": [
              "3    0.350533\n",
              "2    0.318798\n",
              "4    0.176357\n",
              "5    0.114583\n",
              "1    0.039729\n",
              "Name: income_cat, dtype: float64"
            ]
          },
          "metadata": {},
          "execution_count": 31
        }
      ]
    },
    {
      "cell_type": "code",
      "metadata": {
        "colab": {
          "base_uri": "https://localhost:8080/"
        },
        "id": "Hf3AI_DnSKy2",
        "scrolled": true,
        "outputId": "2e40deff-6676-49e0-d57e-cef707430f95"
      },
      "source": [
        "housing[\"income_cat\"].value_counts() / len(housing)"
      ],
      "execution_count": 32,
      "outputs": [
        {
          "output_type": "execute_result",
          "data": {
            "text/plain": [
              "3    0.350581\n",
              "2    0.318847\n",
              "4    0.176308\n",
              "5    0.114438\n",
              "1    0.039826\n",
              "Name: income_cat, dtype: float64"
            ]
          },
          "metadata": {},
          "execution_count": 32
        }
      ]
    },
    {
      "cell_type": "markdown",
      "metadata": {
        "id": "yp3GyfoaicgT"
      },
      "source": [
        "* 무작위 샘플림 대 계층별 샘플링 결과 비교"
      ]
    },
    {
      "cell_type": "code",
      "metadata": {
        "id": "TEoJdVxiSKy2"
      },
      "source": [
        "def income_cat_proportions(data):\n",
        "    return data[\"income_cat\"].value_counts() / len(data)\n",
        "\n",
        "train_set, test_set = train_test_split(housing, test_size=0.2, random_state=42)\n",
        "\n",
        "compare_props = pd.DataFrame({\n",
        "    \"Overall\": income_cat_proportions(housing),\n",
        "    \"Stratified\": income_cat_proportions(strat_test_set),\n",
        "    \"Random\": income_cat_proportions(test_set),\n",
        "}).sort_index()\n",
        "\n",
        "compare_props[\"Rand. %error\"] = 100 * compare_props[\"Random\"] / compare_props[\"Overall\"] - 100\n",
        "compare_props[\"Strat. %error\"] = 100 * compare_props[\"Stratified\"] / compare_props[\"Overall\"] - 100"
      ],
      "execution_count": 33,
      "outputs": []
    },
    {
      "cell_type": "code",
      "metadata": {
        "colab": {
          "base_uri": "https://localhost:8080/",
          "height": 204
        },
        "id": "XS8NxuEFSKy2",
        "outputId": "109cf01a-9e65-4833-a108-cdd22bbd1791"
      },
      "source": [
        "compare_props"
      ],
      "execution_count": 34,
      "outputs": [
        {
          "output_type": "execute_result",
          "data": {
            "text/html": [
              "<div>\n",
              "<style scoped>\n",
              "    .dataframe tbody tr th:only-of-type {\n",
              "        vertical-align: middle;\n",
              "    }\n",
              "\n",
              "    .dataframe tbody tr th {\n",
              "        vertical-align: top;\n",
              "    }\n",
              "\n",
              "    .dataframe thead th {\n",
              "        text-align: right;\n",
              "    }\n",
              "</style>\n",
              "<table border=\"1\" class=\"dataframe\">\n",
              "  <thead>\n",
              "    <tr style=\"text-align: right;\">\n",
              "      <th></th>\n",
              "      <th>Overall</th>\n",
              "      <th>Stratified</th>\n",
              "      <th>Random</th>\n",
              "      <th>Rand. %error</th>\n",
              "      <th>Strat. %error</th>\n",
              "    </tr>\n",
              "  </thead>\n",
              "  <tbody>\n",
              "    <tr>\n",
              "      <th>1</th>\n",
              "      <td>0.039826</td>\n",
              "      <td>0.039729</td>\n",
              "      <td>0.040213</td>\n",
              "      <td>0.973236</td>\n",
              "      <td>-0.243309</td>\n",
              "    </tr>\n",
              "    <tr>\n",
              "      <th>2</th>\n",
              "      <td>0.318847</td>\n",
              "      <td>0.318798</td>\n",
              "      <td>0.324370</td>\n",
              "      <td>1.732260</td>\n",
              "      <td>-0.015195</td>\n",
              "    </tr>\n",
              "    <tr>\n",
              "      <th>3</th>\n",
              "      <td>0.350581</td>\n",
              "      <td>0.350533</td>\n",
              "      <td>0.358527</td>\n",
              "      <td>2.266446</td>\n",
              "      <td>-0.013820</td>\n",
              "    </tr>\n",
              "    <tr>\n",
              "      <th>4</th>\n",
              "      <td>0.176308</td>\n",
              "      <td>0.176357</td>\n",
              "      <td>0.167393</td>\n",
              "      <td>-5.056334</td>\n",
              "      <td>0.027480</td>\n",
              "    </tr>\n",
              "    <tr>\n",
              "      <th>5</th>\n",
              "      <td>0.114438</td>\n",
              "      <td>0.114583</td>\n",
              "      <td>0.109496</td>\n",
              "      <td>-4.318374</td>\n",
              "      <td>0.127011</td>\n",
              "    </tr>\n",
              "  </tbody>\n",
              "</table>\n",
              "</div>"
            ],
            "text/plain": [
              "    Overall  Stratified    Random  Rand. %error  Strat. %error\n",
              "1  0.039826    0.039729  0.040213      0.973236      -0.243309\n",
              "2  0.318847    0.318798  0.324370      1.732260      -0.015195\n",
              "3  0.350581    0.350533  0.358527      2.266446      -0.013820\n",
              "4  0.176308    0.176357  0.167393     -5.056334       0.027480\n",
              "5  0.114438    0.114583  0.109496     -4.318374       0.127011"
            ]
          },
          "metadata": {},
          "execution_count": 34
        }
      ]
    },
    {
      "cell_type": "markdown",
      "metadata": {
        "id": "eJ94ZWQVyviB"
      },
      "source": [
        "* 데이터 되돌리기\n",
        "    - `income_cat` 특성 삭제\n",
        "    - 이제 본격적으로 학습 시작할 것임"
      ]
    },
    {
      "cell_type": "code",
      "metadata": {
        "id": "EFvwFNcASKy2"
      },
      "source": [
        "for set_ in (strat_train_set, strat_test_set):\n",
        "    set_.drop(\"income_cat\", axis=1, inplace=True)"
      ],
      "execution_count": 35,
      "outputs": []
    },
    {
      "cell_type": "markdown",
      "metadata": {
        "id": "vrqhX20ses4E"
      },
      "source": [
        "# **프로젝트 과제(변환 1~3)**"
      ]
    },
    {
      "cell_type": "markdown",
      "metadata": {
        "id": "POJlPry5cQ15"
      },
      "source": [
        "### **변환 1**"
      ]
    },
    {
      "cell_type": "markdown",
      "metadata": {
        "id": "mYGMl8qdRMSY"
      },
      "source": [
        "중간 소득과 중간 주택 가격 사이의 상관관계 그래프에서 확인할 수 있는 수평선에 위치한 데이터를 삭제한다.\n",
        "\n",
        "**우선 그래프를 확인해보면 median_house_value의 500,000 값이 집중적으로 존재한다.**"
      ]
    },
    {
      "cell_type": "code",
      "metadata": {
        "id": "_U_PUw1ErEnJ"
      },
      "source": [
        "housing = strat_train_set.copy()\n",
        "# housing 값 초기화"
      ],
      "execution_count": 37,
      "outputs": []
    },
    {
      "cell_type": "code",
      "metadata": {
        "colab": {
          "base_uri": "https://localhost:8080/",
          "height": 315
        },
        "id": "jiCuWiuu7VYd",
        "outputId": "272e0ace-11f4-4380-f9f2-0b6472767a53"
      },
      "source": [
        "housing.plot(kind=\"scatter\", x=\"median_income\", y=\"median_house_value\",\n",
        "             alpha=0.1)\n",
        "plt.axis([0, 16, 0, 550000])\n",
        "save_fig(\"income_vs_house_value_scatterplot\")"
      ],
      "execution_count": 38,
      "outputs": [
        {
          "output_type": "stream",
          "name": "stdout",
          "text": [
            "그림 저장: income_vs_house_value_scatterplot\n"
          ]
        },
        {
          "output_type": "display_data",
          "data": {
            "image/png": "[encoded data removed]",
            "text/plain": [
              "<Figure size 432x288 with 1 Axes>"
            ]
          },
          "metadata": {
            "needs_background": "light"
          }
        }
      ]
    },
    {
      "cell_type": "markdown",
      "metadata": {
        "id": "pP0bZFOPR47q"
      },
      "source": [
        "**한번 수치로도 확인해보자. 내림차순으로 정리를 하면 500,001 이라는 값이 있다는 것을 볼 수 있다.**\n",
        "\n",
        "**50만 이상인 median_house_value 값을 전부 500,001로 처리한 것이라고 생각된다.**"
      ]
    },
    {
      "cell_type": "code",
      "metadata": {
        "colab": {
          "base_uri": "https://localhost:8080/",
          "height": 419
        },
        "id": "z9BfB6GC8UzW",
        "outputId": "fbcadcd3-931e-4e5c-c181-d214809bb797"
      },
      "source": [
        "housing.loc[:, [\"median_income\",\"median_house_value\"]]"
      ],
      "execution_count": 39,
      "outputs": [
        {
          "output_type": "execute_result",
          "data": {
            "text/html": [
              "<div>\n",
              "<style scoped>\n",
              "    .dataframe tbody tr th:only-of-type {\n",
              "        vertical-align: middle;\n",
              "    }\n",
              "\n",
              "    .dataframe tbody tr th {\n",
              "        vertical-align: top;\n",
              "    }\n",
              "\n",
              "    .dataframe thead th {\n",
              "        text-align: right;\n",
              "    }\n",
              "</style>\n",
              "<table border=\"1\" class=\"dataframe\">\n",
              "  <thead>\n",
              "    <tr style=\"text-align: right;\">\n",
              "      <th></th>\n",
              "      <th>median_income</th>\n",
              "      <th>median_house_value</th>\n",
              "    </tr>\n",
              "  </thead>\n",
              "  <tbody>\n",
              "    <tr>\n",
              "      <th>17606</th>\n",
              "      <td>2.7042</td>\n",
              "      <td>286600.0</td>\n",
              "    </tr>\n",
              "    <tr>\n",
              "      <th>18632</th>\n",
              "      <td>6.4214</td>\n",
              "      <td>340600.0</td>\n",
              "    </tr>\n",
              "    <tr>\n",
              "      <th>14650</th>\n",
              "      <td>2.8621</td>\n",
              "      <td>196900.0</td>\n",
              "    </tr>\n",
              "    <tr>\n",
              "      <th>3230</th>\n",
              "      <td>1.8839</td>\n",
              "      <td>46300.0</td>\n",
              "    </tr>\n",
              "    <tr>\n",
              "      <th>3555</th>\n",
              "      <td>3.0347</td>\n",
              "      <td>254500.0</td>\n",
              "    </tr>\n",
              "    <tr>\n",
              "      <th>...</th>\n",
              "      <td>...</td>\n",
              "      <td>...</td>\n",
              "    </tr>\n",
              "    <tr>\n",
              "      <th>6563</th>\n",
              "      <td>4.9312</td>\n",
              "      <td>240200.0</td>\n",
              "    </tr>\n",
              "    <tr>\n",
              "      <th>12053</th>\n",
              "      <td>2.0682</td>\n",
              "      <td>113000.0</td>\n",
              "    </tr>\n",
              "    <tr>\n",
              "      <th>13908</th>\n",
              "      <td>3.2723</td>\n",
              "      <td>97800.0</td>\n",
              "    </tr>\n",
              "    <tr>\n",
              "      <th>11159</th>\n",
              "      <td>4.0625</td>\n",
              "      <td>225900.0</td>\n",
              "    </tr>\n",
              "    <tr>\n",
              "      <th>15775</th>\n",
              "      <td>3.5750</td>\n",
              "      <td>500001.0</td>\n",
              "    </tr>\n",
              "  </tbody>\n",
              "</table>\n",
              "<p>16512 rows × 2 columns</p>\n",
              "</div>"
            ],
            "text/plain": [
              "       median_income  median_house_value\n",
              "17606         2.7042            286600.0\n",
              "18632         6.4214            340600.0\n",
              "14650         2.8621            196900.0\n",
              "3230          1.8839             46300.0\n",
              "3555          3.0347            254500.0\n",
              "...              ...                 ...\n",
              "6563          4.9312            240200.0\n",
              "12053         2.0682            113000.0\n",
              "13908         3.2723             97800.0\n",
              "11159         4.0625            225900.0\n",
              "15775         3.5750            500001.0\n",
              "\n",
              "[16512 rows x 2 columns]"
            ]
          },
          "metadata": {},
          "execution_count": 39
        }
      ]
    },
    {
      "cell_type": "code",
      "metadata": {
        "colab": {
          "base_uri": "https://localhost:8080/",
          "height": 419
        },
        "id": "Wb7iIS-H9Sd7",
        "outputId": "4c001b14-1cd9-4d17-953b-ccb7b6f1814f"
      },
      "source": [
        "housing_sorted_by_values = housing.sort_values(by=[\"median_income\",\"median_house_value\"] ,ascending=False)\n",
        "housing_sorted_by_values.loc[:, [\"median_income\",\"median_house_value\"]]"
      ],
      "execution_count": 40,
      "outputs": [
        {
          "output_type": "execute_result",
          "data": {
            "text/html": [
              "<div>\n",
              "<style scoped>\n",
              "    .dataframe tbody tr th:only-of-type {\n",
              "        vertical-align: middle;\n",
              "    }\n",
              "\n",
              "    .dataframe tbody tr th {\n",
              "        vertical-align: top;\n",
              "    }\n",
              "\n",
              "    .dataframe thead th {\n",
              "        text-align: right;\n",
              "    }\n",
              "</style>\n",
              "<table border=\"1\" class=\"dataframe\">\n",
              "  <thead>\n",
              "    <tr style=\"text-align: right;\">\n",
              "      <th></th>\n",
              "      <th>median_income</th>\n",
              "      <th>median_house_value</th>\n",
              "    </tr>\n",
              "  </thead>\n",
              "  <tbody>\n",
              "    <tr>\n",
              "      <th>8851</th>\n",
              "      <td>15.0001</td>\n",
              "      <td>500001.0</td>\n",
              "    </tr>\n",
              "    <tr>\n",
              "      <th>6399</th>\n",
              "      <td>15.0001</td>\n",
              "      <td>500001.0</td>\n",
              "    </tr>\n",
              "    <tr>\n",
              "      <th>6590</th>\n",
              "      <td>15.0001</td>\n",
              "      <td>500001.0</td>\n",
              "    </tr>\n",
              "    <tr>\n",
              "      <th>4606</th>\n",
              "      <td>15.0001</td>\n",
              "      <td>500001.0</td>\n",
              "    </tr>\n",
              "    <tr>\n",
              "      <th>8848</th>\n",
              "      <td>15.0001</td>\n",
              "      <td>500001.0</td>\n",
              "    </tr>\n",
              "    <tr>\n",
              "      <th>...</th>\n",
              "      <td>...</td>\n",
              "      <td>...</td>\n",
              "    </tr>\n",
              "    <tr>\n",
              "      <th>3249</th>\n",
              "      <td>0.4999</td>\n",
              "      <td>100000.0</td>\n",
              "    </tr>\n",
              "    <tr>\n",
              "      <th>5213</th>\n",
              "      <td>0.4999</td>\n",
              "      <td>90600.0</td>\n",
              "    </tr>\n",
              "    <tr>\n",
              "      <th>19523</th>\n",
              "      <td>0.4999</td>\n",
              "      <td>82500.0</td>\n",
              "    </tr>\n",
              "    <tr>\n",
              "      <th>3258</th>\n",
              "      <td>0.4999</td>\n",
              "      <td>73500.0</td>\n",
              "    </tr>\n",
              "    <tr>\n",
              "      <th>19800</th>\n",
              "      <td>0.4999</td>\n",
              "      <td>56700.0</td>\n",
              "    </tr>\n",
              "  </tbody>\n",
              "</table>\n",
              "<p>16512 rows × 2 columns</p>\n",
              "</div>"
            ],
            "text/plain": [
              "       median_income  median_house_value\n",
              "8851         15.0001            500001.0\n",
              "6399         15.0001            500001.0\n",
              "6590         15.0001            500001.0\n",
              "4606         15.0001            500001.0\n",
              "8848         15.0001            500001.0\n",
              "...              ...                 ...\n",
              "3249          0.4999            100000.0\n",
              "5213          0.4999             90600.0\n",
              "19523         0.4999             82500.0\n",
              "3258          0.4999             73500.0\n",
              "19800         0.4999             56700.0\n",
              "\n",
              "[16512 rows x 2 columns]"
            ]
          },
          "metadata": {},
          "execution_count": 40
        }
      ]
    },
    {
      "cell_type": "markdown",
      "metadata": {
        "id": "5M2Z1MeKaTCz"
      },
      "source": [
        "**추가로 500,001과 동시에 수평선으로 보이는 것들도 체크해보자.**\n",
        "\n",
        "**500,001, 450,000, 350,000, 275,000, 225,000, 187,500, 137,500,**\n",
        "**112,500와 같은 수치가 두드러지는 수평선을 보이는 것 같다.**"
      ]
    },
    {
      "cell_type": "code",
      "metadata": {
        "colab": {
          "base_uri": "https://localhost:8080/"
        },
        "id": "dtN-d8iOXShk",
        "outputId": "dec7fd1c-1a64-4fa9-f52a-beae81281a60"
      },
      "source": [
        "housing_counts = housing.value_counts(\"median_house_value\")\n",
        "housing_counts.iloc[:20]"
      ],
      "execution_count": 41,
      "outputs": [
        {
          "output_type": "execute_result",
          "data": {
            "text/plain": [
              "median_house_value\n",
              "500001.0    786\n",
              "137500.0    102\n",
              "162500.0     91\n",
              "112500.0     80\n",
              "187500.0     76\n",
              "225000.0     70\n",
              "350000.0     65\n",
              "87500.0      59\n",
              "150000.0     58\n",
              "175000.0     52\n",
              "100000.0     51\n",
              "125000.0     49\n",
              "275000.0     46\n",
              "67500.0      43\n",
              "200000.0     40\n",
              "250000.0     37\n",
              "118800.0     28\n",
              "450000.0     28\n",
              "75000.0      27\n",
              "156300.0     27\n",
              "dtype: int64"
            ]
          },
          "metadata": {},
          "execution_count": 41
        }
      ]
    },
    {
      "cell_type": "markdown",
      "metadata": {
        "id": "nPkgoiqRSQ-7"
      },
      "source": [
        "**이제 이상치라고 생각하는 부분들을 제거해보자.**"
      ]
    },
    {
      "cell_type": "code",
      "metadata": {
        "id": "707nQy1EOUOg"
      },
      "source": [
        "Outlier_line = [112500, 137500, 187500, 225000, 275000, 350000, 450000, 500001]\n",
        "for i in Outlier_line :\n",
        "  housing = housing[housing.median_house_value != i]"
      ],
      "execution_count": 42,
      "outputs": []
    },
    {
      "cell_type": "markdown",
      "metadata": {
        "id": "6u_rCD5DSevs"
      },
      "source": [
        "**확실히 전에 있던 그래프보다 보기 좋아지고 이상치를 가지고 학습하지 않을 것이다.**"
      ]
    },
    {
      "cell_type": "code",
      "metadata": {
        "colab": {
          "base_uri": "https://localhost:8080/",
          "height": 315
        },
        "id": "vtF_4T8AMoLK",
        "outputId": "ed59cb35-90ab-4b44-a16f-7e4252409faf"
      },
      "source": [
        "housing.plot(kind=\"scatter\", x=\"median_income\", y=\"median_house_value\",\n",
        "             alpha=0.1)\n",
        "plt.axis([0, 16, 0, 550000])\n",
        "save_fig(\"income_vs_house_value_scatterplot\")"
      ],
      "execution_count": 43,
      "outputs": [
        {
          "output_type": "stream",
          "name": "stdout",
          "text": [
            "그림 저장: income_vs_house_value_scatterplot\n"
          ]
        },
        {
          "output_type": "display_data",
          "data": {
            "image/png": "[encoded data removed]",
            "text/plain": [
              "<Figure size 432x288 with 1 Axes>"
            ]
          },
          "metadata": {
            "needs_background": "light"
          }
        }
      ]
    },
    {
      "cell_type": "markdown",
      "metadata": {
        "id": "c1fMLavVcWl1"
      },
      "source": [
        "### **변환 2**"
      ]
    },
    {
      "cell_type": "markdown",
      "metadata": {
        "id": "VkAH6KDacj0G"
      },
      "source": [
        "회귀 모델 훈련에 사용되는 12개의 특성 중에 세 개는 기존 9개의 특성을 조합하여 생성하였다. 12개의 특성 중에 중간 주택 가격과의 상관계수의 절댓값이 0.2 보다 작은 특성을 삭제한다.\n"
      ]
    },
    {
      "cell_type": "markdown",
      "metadata": {
        "id": "iDDsnxDYfr6D"
      },
      "source": [
        "**우선 12개의 특성과 중간 주택 가격과의 상관계수를 다시 확인해보자.**"
      ]
    },
    {
      "cell_type": "code",
      "metadata": {
        "colab": {
          "base_uri": "https://localhost:8080/"
        },
        "id": "ShWh_fMIfsPQ",
        "outputId": "d427daaf-aca6-4a27-a3ff-b79bfc36952d"
      },
      "source": [
        "housing = strat_train_set.drop(\"ocean_proximity\", axis=1)\n",
        "#범주형 데이터 \"ocean_proximity\"는 일단 제거해놓는다.\n",
        "\n",
        "housing[\"rooms_per_household\"] = housing[\"total_rooms\"]/housing[\"households\"]\n",
        "housing[\"bedrooms_per_room\"] = housing[\"total_bedrooms\"]/housing[\"total_rooms\"]\n",
        "housing[\"population_per_household\"]=housing[\"population\"]/housing[\"households\"]\n",
        "#특성 3개 추가\n",
        "\n",
        "corr_matrix = housing.corr()\n",
        "corr_matrix[\"median_house_value\"]"
      ],
      "execution_count": 44,
      "outputs": [
        {
          "output_type": "execute_result",
          "data": {
            "text/plain": [
              "longitude                  -0.047432\n",
              "latitude                   -0.142724\n",
              "housing_median_age          0.114110\n",
              "total_rooms                 0.135097\n",
              "total_bedrooms              0.047689\n",
              "population                 -0.026920\n",
              "households                  0.064506\n",
              "median_income               0.687160\n",
              "median_house_value          1.000000\n",
              "rooms_per_household         0.146285\n",
              "bedrooms_per_room          -0.259984\n",
              "population_per_household   -0.021985\n",
              "Name: median_house_value, dtype: float64"
            ]
          },
          "metadata": {},
          "execution_count": 44
        }
      ]
    },
    {
      "cell_type": "markdown",
      "metadata": {
        "id": "sph_VgsEf4sP"
      },
      "source": [
        "**당연히 자기 자신(median_house_value)은 상관계수가 1일 것이고, 상관이 없으면 없을수록 수치는 낮을 것이다.**\n",
        "\n",
        "**이제 (절대값)corr_matrix에서 0.2보다 낮은 항목을 housing 데이터프레임에서 제거해보자.**"
      ]
    },
    {
      "cell_type": "code",
      "metadata": {
        "colab": {
          "base_uri": "https://localhost:8080/",
          "height": 0
        },
        "id": "0eHLErxbg2Wk",
        "outputId": "491f1f4b-70a5-4e90-f64c-d9942963cafc"
      },
      "source": [
        "corr_matrix2 = corr_matrix[\"median_house_value\"]\n",
        "delist = []\n",
        "i = 0\n",
        "\n",
        "while i < len(housing.columns):\n",
        "  if abs(corr_matrix2[i]) < 0.2:\n",
        "    delist.append(housing.columns[i])\n",
        "  i += 1\n",
        "\n",
        "housing = housing.drop(delist, axis=1)\n",
        "housing"
      ],
      "execution_count": 45,
      "outputs": [
        {
          "output_type": "execute_result",
          "data": {
            "text/html": [
              "<div>\n",
              "<style scoped>\n",
              "    .dataframe tbody tr th:only-of-type {\n",
              "        vertical-align: middle;\n",
              "    }\n",
              "\n",
              "    .dataframe tbody tr th {\n",
              "        vertical-align: top;\n",
              "    }\n",
              "\n",
              "    .dataframe thead th {\n",
              "        text-align: right;\n",
              "    }\n",
              "</style>\n",
              "<table border=\"1\" class=\"dataframe\">\n",
              "  <thead>\n",
              "    <tr style=\"text-align: right;\">\n",
              "      <th></th>\n",
              "      <th>median_income</th>\n",
              "      <th>median_house_value</th>\n",
              "      <th>bedrooms_per_room</th>\n",
              "    </tr>\n",
              "  </thead>\n",
              "  <tbody>\n",
              "    <tr>\n",
              "      <th>17606</th>\n",
              "      <td>2.7042</td>\n",
              "      <td>286600.0</td>\n",
              "      <td>0.223852</td>\n",
              "    </tr>\n",
              "    <tr>\n",
              "      <th>18632</th>\n",
              "      <td>6.4214</td>\n",
              "      <td>340600.0</td>\n",
              "      <td>0.159057</td>\n",
              "    </tr>\n",
              "    <tr>\n",
              "      <th>14650</th>\n",
              "      <td>2.8621</td>\n",
              "      <td>196900.0</td>\n",
              "      <td>0.241291</td>\n",
              "    </tr>\n",
              "    <tr>\n",
              "      <th>3230</th>\n",
              "      <td>1.8839</td>\n",
              "      <td>46300.0</td>\n",
              "      <td>0.200866</td>\n",
              "    </tr>\n",
              "    <tr>\n",
              "      <th>3555</th>\n",
              "      <td>3.0347</td>\n",
              "      <td>254500.0</td>\n",
              "      <td>0.231341</td>\n",
              "    </tr>\n",
              "    <tr>\n",
              "      <th>...</th>\n",
              "      <td>...</td>\n",
              "      <td>...</td>\n",
              "      <td>...</td>\n",
              "    </tr>\n",
              "    <tr>\n",
              "      <th>6563</th>\n",
              "      <td>4.9312</td>\n",
              "      <td>240200.0</td>\n",
              "      <td>0.185681</td>\n",
              "    </tr>\n",
              "    <tr>\n",
              "      <th>12053</th>\n",
              "      <td>2.0682</td>\n",
              "      <td>113000.0</td>\n",
              "      <td>0.245819</td>\n",
              "    </tr>\n",
              "    <tr>\n",
              "      <th>13908</th>\n",
              "      <td>3.2723</td>\n",
              "      <td>97800.0</td>\n",
              "      <td>0.179609</td>\n",
              "    </tr>\n",
              "    <tr>\n",
              "      <th>11159</th>\n",
              "      <td>4.0625</td>\n",
              "      <td>225900.0</td>\n",
              "      <td>0.193878</td>\n",
              "    </tr>\n",
              "    <tr>\n",
              "      <th>15775</th>\n",
              "      <td>3.5750</td>\n",
              "      <td>500001.0</td>\n",
              "      <td>0.220355</td>\n",
              "    </tr>\n",
              "  </tbody>\n",
              "</table>\n",
              "<p>16512 rows × 3 columns</p>\n",
              "</div>"
            ],
            "text/plain": [
              "       median_income  median_house_value  bedrooms_per_room\n",
              "17606         2.7042            286600.0           0.223852\n",
              "18632         6.4214            340600.0           0.159057\n",
              "14650         2.8621            196900.0           0.241291\n",
              "3230          1.8839             46300.0           0.200866\n",
              "3555          3.0347            254500.0           0.231341\n",
              "...              ...                 ...                ...\n",
              "6563          4.9312            240200.0           0.185681\n",
              "12053         2.0682            113000.0           0.245819\n",
              "13908         3.2723             97800.0           0.179609\n",
              "11159         4.0625            225900.0           0.193878\n",
              "15775         3.5750            500001.0           0.220355\n",
              "\n",
              "[16512 rows x 3 columns]"
            ]
          },
          "metadata": {},
          "execution_count": 45
        }
      ]
    },
    {
      "cell_type": "markdown",
      "metadata": {
        "id": "Db5yPmJlqdFn"
      },
      "source": [
        "**제거된 열을 제외하고 출력된 것을 확인할 수 있다.**"
      ]
    },
    {
      "cell_type": "code",
      "metadata": {
        "colab": {
          "base_uri": "https://localhost:8080/"
        },
        "id": "Qf32VrE_qo_L",
        "outputId": "5b74cc34-4c26-40da-e534-b5d07697fefe"
      },
      "source": [
        "corr_matrix = housing.corr()\n",
        "corr_matrix[\"median_house_value\"]"
      ],
      "execution_count": 46,
      "outputs": [
        {
          "output_type": "execute_result",
          "data": {
            "text/plain": [
              "median_income         0.687160\n",
              "median_house_value    1.000000\n",
              "bedrooms_per_room    -0.259984\n",
              "Name: median_house_value, dtype: float64"
            ]
          },
          "metadata": {},
          "execution_count": 46
        }
      ]
    },
    {
      "cell_type": "markdown",
      "metadata": {
        "id": "Zr_tDUtJsRbk"
      },
      "source": [
        "### **변환 3**"
      ]
    },
    {
      "cell_type": "markdown",
      "metadata": {
        "id": "jS5S9AUusWvk"
      },
      "source": [
        "범주형 특성을 제외한 9개 특성별 히스토그램을 보면 일부 특성의 히스토그램이 좌우 비대칭이다. (전문 용어로 왜도(skewness)가 0이 아닐 때 이런 분포가 발생한다.) 대표적으로 방의 총 개수(total_rooms), 침실 총 개수(total_bedrooms), 인구(population), 가구수(households), 중간소득(median_income) 등 다섯 개의 특성이 그렇다. 앞서 언급된 5개 특성 또는 일부에 대해 로그 변환을 적용한다."
      ]
    },
    {
      "cell_type": "markdown",
      "metadata": {
        "id": "6I8rrn34E2hS"
      },
      "source": [
        "**우선 다시 housing 데이터프레임을 불러온다.**"
      ]
    },
    {
      "cell_type": "code",
      "metadata": {
        "id": "NruNigi_HB63"
      },
      "source": [
        "housing = strat_train_set.copy()\n",
        "# housing 값 초기화"
      ],
      "execution_count": 47,
      "outputs": []
    },
    {
      "cell_type": "markdown",
      "metadata": {
        "id": "xppYBJGsE_WD"
      },
      "source": [
        "**9개 특성들의 히스토그램을 확인해보면**"
      ]
    },
    {
      "cell_type": "code",
      "metadata": {
        "colab": {
          "base_uri": "https://localhost:8080/",
          "height": 0
        },
        "id": "9mr9q4jYHoIp",
        "outputId": "707461e0-7234-4850-fefa-4429035ddd9e"
      },
      "source": [
        "housing.hist(bins=50,figsize=(10,10))"
      ],
      "execution_count": 48,
      "outputs": [
        {
          "output_type": "execute_result",
          "data": {
            "text/plain": [
              "array([[<matplotlib.axes._subplots.AxesSubplot object at 0x7f2da9626490>,\n",
              "        <matplotlib.axes._subplots.AxesSubplot object at 0x7f2db4faae10>,\n",
              "        <matplotlib.axes._subplots.AxesSubplot object at 0x7f2db4ef4410>],\n",
              "       [<matplotlib.axes._subplots.AxesSubplot object at 0x7f2db4f501d0>,\n",
              "        <matplotlib.axes._subplots.AxesSubplot object at 0x7f2db51e6610>,\n",
              "        <matplotlib.axes._subplots.AxesSubplot object at 0x7f2db4fd7290>],\n",
              "       [<matplotlib.axes._subplots.AxesSubplot object at 0x7f2db4fef550>,\n",
              "        <matplotlib.axes._subplots.AxesSubplot object at 0x7f2db50e3bd0>,\n",
              "        <matplotlib.axes._subplots.AxesSubplot object at 0x7f2db50e3ed0>]],\n",
              "      dtype=object)"
            ]
          },
          "metadata": {},
          "execution_count": 48
        },
        {
          "output_type": "display_data",
          "data": {
            "image/png": "[encoded data removed]",
            "text/plain": [
              "<Figure size 720x720 with 9 Axes>"
            ]
          },
          "metadata": {
            "needs_background": "light"
          }
        }
      ]
    },
    {
      "cell_type": "markdown",
      "metadata": {
        "id": "UrH81LuwFGw1"
      },
      "source": [
        "**여기서 방의 총 개수(total_rooms), 침실 총 개수(total_bedrooms),**\n",
        "\n",
        "**인구(population), 가구수(households), 중간소득(median_income)**\n",
        "\n",
        "**이 5개의 특성이 좌우 비대칭인 것을 확인할 수 있다.**\n",
        "\n",
        "**우선 자세하게 total_rooms 특성부터 살펴보자.**"
      ]
    },
    {
      "cell_type": "code",
      "metadata": {
        "colab": {
          "base_uri": "https://localhost:8080/",
          "height": 0
        },
        "id": "ZRqWGnLpD_YX",
        "outputId": "8e4dcc77-f18f-4bd5-8744-45412e8ca35a"
      },
      "source": [
        "housing[\"total_rooms\"].hist(bins=50,figsize=(5,5))"
      ],
      "execution_count": 49,
      "outputs": [
        {
          "output_type": "execute_result",
          "data": {
            "text/plain": [
              "<matplotlib.axes._subplots.AxesSubplot at 0x7f2db542ae90>"
            ]
          },
          "metadata": {},
          "execution_count": 49
        },
        {
          "output_type": "display_data",
          "data": {
            "image/png": "[encoded data removed]",
            "text/plain": [
              "<Figure size 360x360 with 1 Axes>"
            ]
          },
          "metadata": {
            "needs_background": "light"
          }
        }
      ]
    },
    {
      "cell_type": "markdown",
      "metadata": {
        "id": "Et7W_osPFe9p"
      },
      "source": [
        "**여기서 그냥 numpy에서 로그변환을 가져와서 시키면 된다.**"
      ]
    },
    {
      "cell_type": "code",
      "metadata": {
        "id": "saIecGl2DxUA"
      },
      "source": [
        "housing[\"total_rooms\"] = np.log1p(housing[\"total_rooms\"])"
      ],
      "execution_count": 50,
      "outputs": []
    },
    {
      "cell_type": "markdown",
      "metadata": {
        "id": "xT4_d65xFkon"
      },
      "source": [
        "**밑은 로그 변환 후 히스토그램이다. 확실히 좌우비대칭이 괜찮아졌다.**"
      ]
    },
    {
      "cell_type": "code",
      "metadata": {
        "colab": {
          "base_uri": "https://localhost:8080/",
          "height": 0
        },
        "id": "Y4vq-zYvEy-5",
        "outputId": "52c42107-552e-454f-953a-6e259e7937cc"
      },
      "source": [
        "housing[\"total_rooms\"].hist(bins=50,figsize=(5,5))"
      ],
      "execution_count": 51,
      "outputs": [
        {
          "output_type": "execute_result",
          "data": {
            "text/plain": [
              "<matplotlib.axes._subplots.AxesSubplot at 0x7f2db5479f90>"
            ]
          },
          "metadata": {},
          "execution_count": 51
        },
        {
          "output_type": "display_data",
          "data": {
            "image/png": "[encoded data removed]",
            "text/plain": [
              "<Figure size 360x360 with 1 Axes>"
            ]
          },
          "metadata": {
            "needs_background": "light"
          }
        }
      ]
    },
    {
      "cell_type": "markdown",
      "metadata": {
        "id": "nCfUZpeeFrwl"
      },
      "source": [
        "**다른 4개의 특성도 로그변환을 시키고 히스토그램으로 확인해보면**\n",
        "\n",
        "**좌우비대칭 현상이 해결된 것을 확인할 수 있다.**"
      ]
    },
    {
      "cell_type": "code",
      "metadata": {
        "colab": {
          "base_uri": "https://localhost:8080/",
          "height": 0
        },
        "id": "1X9mhy1kFw0J",
        "outputId": "6fcdf086-8f2f-4815-a1fc-b1431d38588a"
      },
      "source": [
        "housing[\"total_bedrooms\"] = np.log1p(housing[\"total_bedrooms\"])\n",
        "housing[\"population\"] = np.log1p(housing[\"population\"])\n",
        "housing[\"households\"] = np.log1p(housing[\"households\"])\n",
        "housing[\"median_income\"] = np.log1p(housing[\"median_income\"])\n",
        "housing.hist(bins=50,figsize=(10,10))"
      ],
      "execution_count": 52,
      "outputs": [
        {
          "output_type": "execute_result",
          "data": {
            "text/plain": [
              "array([[<matplotlib.axes._subplots.AxesSubplot object at 0x7f2da9422dd0>,\n",
              "        <matplotlib.axes._subplots.AxesSubplot object at 0x7f2db4f94d90>,\n",
              "        <matplotlib.axes._subplots.AxesSubplot object at 0x7f2db5068ed0>],\n",
              "       [<matplotlib.axes._subplots.AxesSubplot object at 0x7f2db5414a90>,\n",
              "        <matplotlib.axes._subplots.AxesSubplot object at 0x7f2da9535890>,\n",
              "        <matplotlib.axes._subplots.AxesSubplot object at 0x7f2da9654810>],\n",
              "       [<matplotlib.axes._subplots.AxesSubplot object at 0x7f2daa4fd310>,\n",
              "        <matplotlib.axes._subplots.AxesSubplot object at 0x7f2da932b5d0>,\n",
              "        <matplotlib.axes._subplots.AxesSubplot object at 0x7f2da932b610>]],\n",
              "      dtype=object)"
            ]
          },
          "metadata": {},
          "execution_count": 52
        },
        {
          "output_type": "display_data",
          "data": {
            "image/png": "[encoded data removed]",
            "text/plain": [
              "<Figure size 720x720 with 9 Axes>"
            ]
          },
          "metadata": {
            "needs_background": "light"
          }
        }
      ]
    },
    {
      "cell_type": "markdown",
      "metadata": {
        "id": "8HleqHnwHVA3"
      },
      "source": [
        "# **실제 데이터와 변환 적용한 데이터 비교**"
      ]
    },
    {
      "cell_type": "markdown",
      "metadata": {
        "id": "Z7Ommh6SZx0p"
      },
      "source": [
        "## **1. 원본(수정) (RMSE = 47730.22690385927)**"
      ]
    },
    {
      "cell_type": "markdown",
      "metadata": {
        "id": "ZNAPC0a30z7J"
      },
      "source": [
        "#### **1.1 알고리즘을 위한 데이터 준비**"
      ]
    },
    {
      "cell_type": "code",
      "metadata": {
        "id": "xRWO2tTI0z7Z"
      },
      "source": [
        "housing = strat_train_set.drop(\"median_house_value\", axis=1) # 훈련 세트를 위해 레이블 삭제\n",
        "housing_labels = strat_train_set[\"median_house_value\"].copy()"
      ],
      "execution_count": 53,
      "outputs": []
    },
    {
      "cell_type": "markdown",
      "metadata": {
        "id": "SutkGhKY0z7a"
      },
      "source": [
        "##### 1.1.1 데이터 정제"
      ]
    },
    {
      "cell_type": "code",
      "metadata": {
        "colab": {
          "base_uri": "https://localhost:8080/",
          "height": 0
        },
        "id": "iHxX644-0z7a",
        "outputId": "c2792ec2-15ed-4d05-c5b1-9b8f1acc5524"
      },
      "source": [
        "sample_incomplete_rows = housing[housing.isnull().any(axis=1)].head()\n",
        "sample_incomplete_rows"
      ],
      "execution_count": 54,
      "outputs": [
        {
          "output_type": "execute_result",
          "data": {
            "text/html": [
              "<div>\n",
              "<style scoped>\n",
              "    .dataframe tbody tr th:only-of-type {\n",
              "        vertical-align: middle;\n",
              "    }\n",
              "\n",
              "    .dataframe tbody tr th {\n",
              "        vertical-align: top;\n",
              "    }\n",
              "\n",
              "    .dataframe thead th {\n",
              "        text-align: right;\n",
              "    }\n",
              "</style>\n",
              "<table border=\"1\" class=\"dataframe\">\n",
              "  <thead>\n",
              "    <tr style=\"text-align: right;\">\n",
              "      <th></th>\n",
              "      <th>longitude</th>\n",
              "      <th>latitude</th>\n",
              "      <th>housing_median_age</th>\n",
              "      <th>total_rooms</th>\n",
              "      <th>total_bedrooms</th>\n",
              "      <th>population</th>\n",
              "      <th>households</th>\n",
              "      <th>median_income</th>\n",
              "      <th>ocean_proximity</th>\n",
              "    </tr>\n",
              "  </thead>\n",
              "  <tbody>\n",
              "    <tr>\n",
              "      <th>4629</th>\n",
              "      <td>-118.30</td>\n",
              "      <td>34.07</td>\n",
              "      <td>18.0</td>\n",
              "      <td>3759.0</td>\n",
              "      <td>NaN</td>\n",
              "      <td>3296.0</td>\n",
              "      <td>1462.0</td>\n",
              "      <td>2.2708</td>\n",
              "      <td>&lt;1H OCEAN</td>\n",
              "    </tr>\n",
              "    <tr>\n",
              "      <th>6068</th>\n",
              "      <td>-117.86</td>\n",
              "      <td>34.01</td>\n",
              "      <td>16.0</td>\n",
              "      <td>4632.0</td>\n",
              "      <td>NaN</td>\n",
              "      <td>3038.0</td>\n",
              "      <td>727.0</td>\n",
              "      <td>5.1762</td>\n",
              "      <td>&lt;1H OCEAN</td>\n",
              "    </tr>\n",
              "    <tr>\n",
              "      <th>17923</th>\n",
              "      <td>-121.97</td>\n",
              "      <td>37.35</td>\n",
              "      <td>30.0</td>\n",
              "      <td>1955.0</td>\n",
              "      <td>NaN</td>\n",
              "      <td>999.0</td>\n",
              "      <td>386.0</td>\n",
              "      <td>4.6328</td>\n",
              "      <td>&lt;1H OCEAN</td>\n",
              "    </tr>\n",
              "    <tr>\n",
              "      <th>13656</th>\n",
              "      <td>-117.30</td>\n",
              "      <td>34.05</td>\n",
              "      <td>6.0</td>\n",
              "      <td>2155.0</td>\n",
              "      <td>NaN</td>\n",
              "      <td>1039.0</td>\n",
              "      <td>391.0</td>\n",
              "      <td>1.6675</td>\n",
              "      <td>INLAND</td>\n",
              "    </tr>\n",
              "    <tr>\n",
              "      <th>19252</th>\n",
              "      <td>-122.79</td>\n",
              "      <td>38.48</td>\n",
              "      <td>7.0</td>\n",
              "      <td>6837.0</td>\n",
              "      <td>NaN</td>\n",
              "      <td>3468.0</td>\n",
              "      <td>1405.0</td>\n",
              "      <td>3.1662</td>\n",
              "      <td>&lt;1H OCEAN</td>\n",
              "    </tr>\n",
              "  </tbody>\n",
              "</table>\n",
              "</div>"
            ],
            "text/plain": [
              "       longitude  latitude  ...  median_income  ocean_proximity\n",
              "4629     -118.30     34.07  ...         2.2708        <1H OCEAN\n",
              "6068     -117.86     34.01  ...         5.1762        <1H OCEAN\n",
              "17923    -121.97     37.35  ...         4.6328        <1H OCEAN\n",
              "13656    -117.30     34.05  ...         1.6675           INLAND\n",
              "19252    -122.79     38.48  ...         3.1662        <1H OCEAN\n",
              "\n",
              "[5 rows x 9 columns]"
            ]
          },
          "metadata": {},
          "execution_count": 54
        }
      ]
    },
    {
      "cell_type": "code",
      "metadata": {
        "colab": {
          "base_uri": "https://localhost:8080/",
          "height": 0
        },
        "id": "ASwtXhss0z7b",
        "outputId": "8ed64145-01e8-4aaf-da94-7cd6d267083a"
      },
      "source": [
        "sample_incomplete_rows.dropna(subset=[\"total_bedrooms\"])    # 옵션 1"
      ],
      "execution_count": 55,
      "outputs": [
        {
          "output_type": "execute_result",
          "data": {
            "text/html": [
              "<div>\n",
              "<style scoped>\n",
              "    .dataframe tbody tr th:only-of-type {\n",
              "        vertical-align: middle;\n",
              "    }\n",
              "\n",
              "    .dataframe tbody tr th {\n",
              "        vertical-align: top;\n",
              "    }\n",
              "\n",
              "    .dataframe thead th {\n",
              "        text-align: right;\n",
              "    }\n",
              "</style>\n",
              "<table border=\"1\" class=\"dataframe\">\n",
              "  <thead>\n",
              "    <tr style=\"text-align: right;\">\n",
              "      <th></th>\n",
              "      <th>longitude</th>\n",
              "      <th>latitude</th>\n",
              "      <th>housing_median_age</th>\n",
              "      <th>total_rooms</th>\n",
              "      <th>total_bedrooms</th>\n",
              "      <th>population</th>\n",
              "      <th>households</th>\n",
              "      <th>median_income</th>\n",
              "      <th>ocean_proximity</th>\n",
              "    </tr>\n",
              "  </thead>\n",
              "  <tbody>\n",
              "  </tbody>\n",
              "</table>\n",
              "</div>"
            ],
            "text/plain": [
              "Empty DataFrame\n",
              "Columns: [longitude, latitude, housing_median_age, total_rooms, total_bedrooms, population, households, median_income, ocean_proximity]\n",
              "Index: []"
            ]
          },
          "metadata": {},
          "execution_count": 55
        }
      ]
    },
    {
      "cell_type": "code",
      "metadata": {
        "colab": {
          "base_uri": "https://localhost:8080/",
          "height": 0
        },
        "id": "UU_JlD3w0z7c",
        "outputId": "4e4f2741-6db5-4778-86b3-3c3365fa3fdd"
      },
      "source": [
        "sample_incomplete_rows.drop(\"total_bedrooms\", axis=1)       # 옵션 2"
      ],
      "execution_count": 56,
      "outputs": [
        {
          "output_type": "execute_result",
          "data": {
            "text/html": [
              "<div>\n",
              "<style scoped>\n",
              "    .dataframe tbody tr th:only-of-type {\n",
              "        vertical-align: middle;\n",
              "    }\n",
              "\n",
              "    .dataframe tbody tr th {\n",
              "        vertical-align: top;\n",
              "    }\n",
              "\n",
              "    .dataframe thead th {\n",
              "        text-align: right;\n",
              "    }\n",
              "</style>\n",
              "<table border=\"1\" class=\"dataframe\">\n",
              "  <thead>\n",
              "    <tr style=\"text-align: right;\">\n",
              "      <th></th>\n",
              "      <th>longitude</th>\n",
              "      <th>latitude</th>\n",
              "      <th>housing_median_age</th>\n",
              "      <th>total_rooms</th>\n",
              "      <th>population</th>\n",
              "      <th>households</th>\n",
              "      <th>median_income</th>\n",
              "      <th>ocean_proximity</th>\n",
              "    </tr>\n",
              "  </thead>\n",
              "  <tbody>\n",
              "    <tr>\n",
              "      <th>4629</th>\n",
              "      <td>-118.30</td>\n",
              "      <td>34.07</td>\n",
              "      <td>18.0</td>\n",
              "      <td>3759.0</td>\n",
              "      <td>3296.0</td>\n",
              "      <td>1462.0</td>\n",
              "      <td>2.2708</td>\n",
              "      <td>&lt;1H OCEAN</td>\n",
              "    </tr>\n",
              "    <tr>\n",
              "      <th>6068</th>\n",
              "      <td>-117.86</td>\n",
              "      <td>34.01</td>\n",
              "      <td>16.0</td>\n",
              "      <td>4632.0</td>\n",
              "      <td>3038.0</td>\n",
              "      <td>727.0</td>\n",
              "      <td>5.1762</td>\n",
              "      <td>&lt;1H OCEAN</td>\n",
              "    </tr>\n",
              "    <tr>\n",
              "      <th>17923</th>\n",
              "      <td>-121.97</td>\n",
              "      <td>37.35</td>\n",
              "      <td>30.0</td>\n",
              "      <td>1955.0</td>\n",
              "      <td>999.0</td>\n",
              "      <td>386.0</td>\n",
              "      <td>4.6328</td>\n",
              "      <td>&lt;1H OCEAN</td>\n",
              "    </tr>\n",
              "    <tr>\n",
              "      <th>13656</th>\n",
              "      <td>-117.30</td>\n",
              "      <td>34.05</td>\n",
              "      <td>6.0</td>\n",
              "      <td>2155.0</td>\n",
              "      <td>1039.0</td>\n",
              "      <td>391.0</td>\n",
              "      <td>1.6675</td>\n",
              "      <td>INLAND</td>\n",
              "    </tr>\n",
              "    <tr>\n",
              "      <th>19252</th>\n",
              "      <td>-122.79</td>\n",
              "      <td>38.48</td>\n",
              "      <td>7.0</td>\n",
              "      <td>6837.0</td>\n",
              "      <td>3468.0</td>\n",
              "      <td>1405.0</td>\n",
              "      <td>3.1662</td>\n",
              "      <td>&lt;1H OCEAN</td>\n",
              "    </tr>\n",
              "  </tbody>\n",
              "</table>\n",
              "</div>"
            ],
            "text/plain": [
              "       longitude  latitude  ...  median_income  ocean_proximity\n",
              "4629     -118.30     34.07  ...         2.2708        <1H OCEAN\n",
              "6068     -117.86     34.01  ...         5.1762        <1H OCEAN\n",
              "17923    -121.97     37.35  ...         4.6328        <1H OCEAN\n",
              "13656    -117.30     34.05  ...         1.6675           INLAND\n",
              "19252    -122.79     38.48  ...         3.1662        <1H OCEAN\n",
              "\n",
              "[5 rows x 8 columns]"
            ]
          },
          "metadata": {},
          "execution_count": 56
        }
      ]
    },
    {
      "cell_type": "code",
      "metadata": {
        "id": "AFKd_XU80z7c"
      },
      "source": [
        "median = housing[\"total_bedrooms\"].median()\n",
        "sample_incomplete_rows[\"total_bedrooms\"].fillna(median, inplace=True) # 옵션 3"
      ],
      "execution_count": 57,
      "outputs": []
    },
    {
      "cell_type": "code",
      "metadata": {
        "colab": {
          "base_uri": "https://localhost:8080/",
          "height": 0
        },
        "id": "o3S0cRs60z7d",
        "outputId": "2a5308fd-b48f-43c0-f58e-a4051b06f100"
      },
      "source": [
        "sample_incomplete_rows"
      ],
      "execution_count": 58,
      "outputs": [
        {
          "output_type": "execute_result",
          "data": {
            "text/html": [
              "<div>\n",
              "<style scoped>\n",
              "    .dataframe tbody tr th:only-of-type {\n",
              "        vertical-align: middle;\n",
              "    }\n",
              "\n",
              "    .dataframe tbody tr th {\n",
              "        vertical-align: top;\n",
              "    }\n",
              "\n",
              "    .dataframe thead th {\n",
              "        text-align: right;\n",
              "    }\n",
              "</style>\n",
              "<table border=\"1\" class=\"dataframe\">\n",
              "  <thead>\n",
              "    <tr style=\"text-align: right;\">\n",
              "      <th></th>\n",
              "      <th>longitude</th>\n",
              "      <th>latitude</th>\n",
              "      <th>housing_median_age</th>\n",
              "      <th>total_rooms</th>\n",
              "      <th>total_bedrooms</th>\n",
              "      <th>population</th>\n",
              "      <th>households</th>\n",
              "      <th>median_income</th>\n",
              "      <th>ocean_proximity</th>\n",
              "    </tr>\n",
              "  </thead>\n",
              "  <tbody>\n",
              "    <tr>\n",
              "      <th>4629</th>\n",
              "      <td>-118.30</td>\n",
              "      <td>34.07</td>\n",
              "      <td>18.0</td>\n",
              "      <td>3759.0</td>\n",
              "      <td>433.0</td>\n",
              "      <td>3296.0</td>\n",
              "      <td>1462.0</td>\n",
              "      <td>2.2708</td>\n",
              "      <td>&lt;1H OCEAN</td>\n",
              "    </tr>\n",
              "    <tr>\n",
              "      <th>6068</th>\n",
              "      <td>-117.86</td>\n",
              "      <td>34.01</td>\n",
              "      <td>16.0</td>\n",
              "      <td>4632.0</td>\n",
              "      <td>433.0</td>\n",
              "      <td>3038.0</td>\n",
              "      <td>727.0</td>\n",
              "      <td>5.1762</td>\n",
              "      <td>&lt;1H OCEAN</td>\n",
              "    </tr>\n",
              "    <tr>\n",
              "      <th>17923</th>\n",
              "      <td>-121.97</td>\n",
              "      <td>37.35</td>\n",
              "      <td>30.0</td>\n",
              "      <td>1955.0</td>\n",
              "      <td>433.0</td>\n",
              "      <td>999.0</td>\n",
              "      <td>386.0</td>\n",
              "      <td>4.6328</td>\n",
              "      <td>&lt;1H OCEAN</td>\n",
              "    </tr>\n",
              "    <tr>\n",
              "      <th>13656</th>\n",
              "      <td>-117.30</td>\n",
              "      <td>34.05</td>\n",
              "      <td>6.0</td>\n",
              "      <td>2155.0</td>\n",
              "      <td>433.0</td>\n",
              "      <td>1039.0</td>\n",
              "      <td>391.0</td>\n",
              "      <td>1.6675</td>\n",
              "      <td>INLAND</td>\n",
              "    </tr>\n",
              "    <tr>\n",
              "      <th>19252</th>\n",
              "      <td>-122.79</td>\n",
              "      <td>38.48</td>\n",
              "      <td>7.0</td>\n",
              "      <td>6837.0</td>\n",
              "      <td>433.0</td>\n",
              "      <td>3468.0</td>\n",
              "      <td>1405.0</td>\n",
              "      <td>3.1662</td>\n",
              "      <td>&lt;1H OCEAN</td>\n",
              "    </tr>\n",
              "  </tbody>\n",
              "</table>\n",
              "</div>"
            ],
            "text/plain": [
              "       longitude  latitude  ...  median_income  ocean_proximity\n",
              "4629     -118.30     34.07  ...         2.2708        <1H OCEAN\n",
              "6068     -117.86     34.01  ...         5.1762        <1H OCEAN\n",
              "17923    -121.97     37.35  ...         4.6328        <1H OCEAN\n",
              "13656    -117.30     34.05  ...         1.6675           INLAND\n",
              "19252    -122.79     38.48  ...         3.1662        <1H OCEAN\n",
              "\n",
              "[5 rows x 9 columns]"
            ]
          },
          "metadata": {},
          "execution_count": 58
        }
      ]
    },
    {
      "cell_type": "code",
      "metadata": {
        "id": "vLRyFsqz0z7d"
      },
      "source": [
        "from sklearn.impute import SimpleImputer\n",
        "imputer = SimpleImputer(strategy=\"median\")"
      ],
      "execution_count": 59,
      "outputs": []
    },
    {
      "cell_type": "markdown",
      "metadata": {
        "id": "GGnSFtEz0z7d"
      },
      "source": [
        "중간값이 수치형 특성에서만 계산될 수 있기 때문에 텍스트 특성을 삭제합니다:"
      ]
    },
    {
      "cell_type": "code",
      "metadata": {
        "id": "_f1xd9N70z7e"
      },
      "source": [
        "housing_num = housing.drop(\"ocean_proximity\", axis=1)\n",
        "# 다른 방법: housing_num = housing.select_dtypes(include=[np.number])"
      ],
      "execution_count": 60,
      "outputs": []
    },
    {
      "cell_type": "code",
      "metadata": {
        "colab": {
          "base_uri": "https://localhost:8080/"
        },
        "id": "IutXPiis0z7e",
        "outputId": "13e9124b-90b4-46b8-883b-c05b283e50fa"
      },
      "source": [
        "imputer.fit(housing_num)"
      ],
      "execution_count": 61,
      "outputs": [
        {
          "output_type": "execute_result",
          "data": {
            "text/plain": [
              "SimpleImputer(add_indicator=False, copy=True, fill_value=None,\n",
              "              missing_values=nan, strategy='median', verbose=0)"
            ]
          },
          "metadata": {},
          "execution_count": 61
        }
      ]
    },
    {
      "cell_type": "code",
      "metadata": {
        "colab": {
          "base_uri": "https://localhost:8080/"
        },
        "id": "3SdnyThp0z7f",
        "outputId": "846b6cc2-10cc-4085-d1d8-1484da75b975"
      },
      "source": [
        "imputer.statistics_"
      ],
      "execution_count": 62,
      "outputs": [
        {
          "output_type": "execute_result",
          "data": {
            "text/plain": [
              "array([-118.51  ,   34.26  ,   29.    , 2119.5   ,  433.    , 1164.    ,\n",
              "        408.    ,    3.5409])"
            ]
          },
          "metadata": {},
          "execution_count": 62
        }
      ]
    },
    {
      "cell_type": "markdown",
      "metadata": {
        "id": "YtsscZrn0z7f"
      },
      "source": [
        "각 특성의 중간 값이 수동으로 계산한 것과 같은지 확인해 보세요:"
      ]
    },
    {
      "cell_type": "code",
      "metadata": {
        "colab": {
          "base_uri": "https://localhost:8080/"
        },
        "id": "McJGQ-kI0z7f",
        "outputId": "5506d2e9-6428-4b01-c283-fb75cd85653a"
      },
      "source": [
        "housing_num.median().values"
      ],
      "execution_count": 63,
      "outputs": [
        {
          "output_type": "execute_result",
          "data": {
            "text/plain": [
              "array([-118.51  ,   34.26  ,   29.    , 2119.5   ,  433.    , 1164.    ,\n",
              "        408.    ,    3.5409])"
            ]
          },
          "metadata": {},
          "execution_count": 63
        }
      ]
    },
    {
      "cell_type": "markdown",
      "metadata": {
        "id": "bHCpyjiy0z7g"
      },
      "source": [
        "훈련 세트를 변환합니다:"
      ]
    },
    {
      "cell_type": "code",
      "metadata": {
        "id": "m3tyvkJz0z7g"
      },
      "source": [
        "X = imputer.transform(housing_num)"
      ],
      "execution_count": 64,
      "outputs": []
    },
    {
      "cell_type": "code",
      "metadata": {
        "id": "q476STI50z7g"
      },
      "source": [
        "housing_tr = pd.DataFrame(X, columns=housing_num.columns,\n",
        "                          index=housing_num.index)"
      ],
      "execution_count": 65,
      "outputs": []
    },
    {
      "cell_type": "code",
      "metadata": {
        "colab": {
          "base_uri": "https://localhost:8080/",
          "height": 0
        },
        "id": "bOktudbK0z7g",
        "outputId": "96808c05-0d70-48a8-dfa9-ee2e8b4f5023"
      },
      "source": [
        "housing_tr.loc[sample_incomplete_rows.index.values]"
      ],
      "execution_count": 66,
      "outputs": [
        {
          "output_type": "execute_result",
          "data": {
            "text/html": [
              "<div>\n",
              "<style scoped>\n",
              "    .dataframe tbody tr th:only-of-type {\n",
              "        vertical-align: middle;\n",
              "    }\n",
              "\n",
              "    .dataframe tbody tr th {\n",
              "        vertical-align: top;\n",
              "    }\n",
              "\n",
              "    .dataframe thead th {\n",
              "        text-align: right;\n",
              "    }\n",
              "</style>\n",
              "<table border=\"1\" class=\"dataframe\">\n",
              "  <thead>\n",
              "    <tr style=\"text-align: right;\">\n",
              "      <th></th>\n",
              "      <th>longitude</th>\n",
              "      <th>latitude</th>\n",
              "      <th>housing_median_age</th>\n",
              "      <th>total_rooms</th>\n",
              "      <th>total_bedrooms</th>\n",
              "      <th>population</th>\n",
              "      <th>households</th>\n",
              "      <th>median_income</th>\n",
              "    </tr>\n",
              "  </thead>\n",
              "  <tbody>\n",
              "    <tr>\n",
              "      <th>4629</th>\n",
              "      <td>-118.30</td>\n",
              "      <td>34.07</td>\n",
              "      <td>18.0</td>\n",
              "      <td>3759.0</td>\n",
              "      <td>433.0</td>\n",
              "      <td>3296.0</td>\n",
              "      <td>1462.0</td>\n",
              "      <td>2.2708</td>\n",
              "    </tr>\n",
              "    <tr>\n",
              "      <th>6068</th>\n",
              "      <td>-117.86</td>\n",
              "      <td>34.01</td>\n",
              "      <td>16.0</td>\n",
              "      <td>4632.0</td>\n",
              "      <td>433.0</td>\n",
              "      <td>3038.0</td>\n",
              "      <td>727.0</td>\n",
              "      <td>5.1762</td>\n",
              "    </tr>\n",
              "    <tr>\n",
              "      <th>17923</th>\n",
              "      <td>-121.97</td>\n",
              "      <td>37.35</td>\n",
              "      <td>30.0</td>\n",
              "      <td>1955.0</td>\n",
              "      <td>433.0</td>\n",
              "      <td>999.0</td>\n",
              "      <td>386.0</td>\n",
              "      <td>4.6328</td>\n",
              "    </tr>\n",
              "    <tr>\n",
              "      <th>13656</th>\n",
              "      <td>-117.30</td>\n",
              "      <td>34.05</td>\n",
              "      <td>6.0</td>\n",
              "      <td>2155.0</td>\n",
              "      <td>433.0</td>\n",
              "      <td>1039.0</td>\n",
              "      <td>391.0</td>\n",
              "      <td>1.6675</td>\n",
              "    </tr>\n",
              "    <tr>\n",
              "      <th>19252</th>\n",
              "      <td>-122.79</td>\n",
              "      <td>38.48</td>\n",
              "      <td>7.0</td>\n",
              "      <td>6837.0</td>\n",
              "      <td>433.0</td>\n",
              "      <td>3468.0</td>\n",
              "      <td>1405.0</td>\n",
              "      <td>3.1662</td>\n",
              "    </tr>\n",
              "  </tbody>\n",
              "</table>\n",
              "</div>"
            ],
            "text/plain": [
              "       longitude  latitude  ...  households  median_income\n",
              "4629     -118.30     34.07  ...      1462.0         2.2708\n",
              "6068     -117.86     34.01  ...       727.0         5.1762\n",
              "17923    -121.97     37.35  ...       386.0         4.6328\n",
              "13656    -117.30     34.05  ...       391.0         1.6675\n",
              "19252    -122.79     38.48  ...      1405.0         3.1662\n",
              "\n",
              "[5 rows x 8 columns]"
            ]
          },
          "metadata": {},
          "execution_count": 66
        }
      ]
    },
    {
      "cell_type": "code",
      "metadata": {
        "colab": {
          "base_uri": "https://localhost:8080/",
          "height": 0
        },
        "id": "VgBjJlgv0z7h",
        "outputId": "08ed4220-d74a-4438-dcff-2c8ed99304f3"
      },
      "source": [
        "imputer.strategy"
      ],
      "execution_count": 67,
      "outputs": [
        {
          "output_type": "execute_result",
          "data": {
            "application/vnd.google.colaboratory.intrinsic+json": {
              "type": "string"
            },
            "text/plain": [
              "'median'"
            ]
          },
          "metadata": {},
          "execution_count": 67
        }
      ]
    },
    {
      "cell_type": "code",
      "metadata": {
        "colab": {
          "base_uri": "https://localhost:8080/",
          "height": 0
        },
        "id": "IVznKdK30z7h",
        "outputId": "52ab6edf-178f-4688-ca75-6fae8853b955"
      },
      "source": [
        "housing_tr.head()"
      ],
      "execution_count": 68,
      "outputs": [
        {
          "output_type": "execute_result",
          "data": {
            "text/html": [
              "<div>\n",
              "<style scoped>\n",
              "    .dataframe tbody tr th:only-of-type {\n",
              "        vertical-align: middle;\n",
              "    }\n",
              "\n",
              "    .dataframe tbody tr th {\n",
              "        vertical-align: top;\n",
              "    }\n",
              "\n",
              "    .dataframe thead th {\n",
              "        text-align: right;\n",
              "    }\n",
              "</style>\n",
              "<table border=\"1\" class=\"dataframe\">\n",
              "  <thead>\n",
              "    <tr style=\"text-align: right;\">\n",
              "      <th></th>\n",
              "      <th>longitude</th>\n",
              "      <th>latitude</th>\n",
              "      <th>housing_median_age</th>\n",
              "      <th>total_rooms</th>\n",
              "      <th>total_bedrooms</th>\n",
              "      <th>population</th>\n",
              "      <th>households</th>\n",
              "      <th>median_income</th>\n",
              "    </tr>\n",
              "  </thead>\n",
              "  <tbody>\n",
              "    <tr>\n",
              "      <th>17606</th>\n",
              "      <td>-121.89</td>\n",
              "      <td>37.29</td>\n",
              "      <td>38.0</td>\n",
              "      <td>1568.0</td>\n",
              "      <td>351.0</td>\n",
              "      <td>710.0</td>\n",
              "      <td>339.0</td>\n",
              "      <td>2.7042</td>\n",
              "    </tr>\n",
              "    <tr>\n",
              "      <th>18632</th>\n",
              "      <td>-121.93</td>\n",
              "      <td>37.05</td>\n",
              "      <td>14.0</td>\n",
              "      <td>679.0</td>\n",
              "      <td>108.0</td>\n",
              "      <td>306.0</td>\n",
              "      <td>113.0</td>\n",
              "      <td>6.4214</td>\n",
              "    </tr>\n",
              "    <tr>\n",
              "      <th>14650</th>\n",
              "      <td>-117.20</td>\n",
              "      <td>32.77</td>\n",
              "      <td>31.0</td>\n",
              "      <td>1952.0</td>\n",
              "      <td>471.0</td>\n",
              "      <td>936.0</td>\n",
              "      <td>462.0</td>\n",
              "      <td>2.8621</td>\n",
              "    </tr>\n",
              "    <tr>\n",
              "      <th>3230</th>\n",
              "      <td>-119.61</td>\n",
              "      <td>36.31</td>\n",
              "      <td>25.0</td>\n",
              "      <td>1847.0</td>\n",
              "      <td>371.0</td>\n",
              "      <td>1460.0</td>\n",
              "      <td>353.0</td>\n",
              "      <td>1.8839</td>\n",
              "    </tr>\n",
              "    <tr>\n",
              "      <th>3555</th>\n",
              "      <td>-118.59</td>\n",
              "      <td>34.23</td>\n",
              "      <td>17.0</td>\n",
              "      <td>6592.0</td>\n",
              "      <td>1525.0</td>\n",
              "      <td>4459.0</td>\n",
              "      <td>1463.0</td>\n",
              "      <td>3.0347</td>\n",
              "    </tr>\n",
              "  </tbody>\n",
              "</table>\n",
              "</div>"
            ],
            "text/plain": [
              "       longitude  latitude  ...  households  median_income\n",
              "17606    -121.89     37.29  ...       339.0         2.7042\n",
              "18632    -121.93     37.05  ...       113.0         6.4214\n",
              "14650    -117.20     32.77  ...       462.0         2.8621\n",
              "3230     -119.61     36.31  ...       353.0         1.8839\n",
              "3555     -118.59     34.23  ...      1463.0         3.0347\n",
              "\n",
              "[5 rows x 8 columns]"
            ]
          },
          "metadata": {},
          "execution_count": 68
        }
      ]
    },
    {
      "cell_type": "markdown",
      "metadata": {
        "id": "3Cq6wfLu2R1h"
      },
      "source": [
        "##### 1.1.2 텍스트와 범주형 특성 다루기 (p.102)"
      ]
    },
    {
      "cell_type": "markdown",
      "metadata": {
        "id": "pYd9ig6v2R2H"
      },
      "source": [
        "이제 범주형 입력 특성인 `ocean_proximity`을 전처리합니다:"
      ]
    },
    {
      "cell_type": "code",
      "metadata": {
        "colab": {
          "base_uri": "https://localhost:8080/",
          "height": 0
        },
        "id": "jgiuYhSD2R2I",
        "outputId": "c185b1be-1304-4e84-b222-9c4585bd0482"
      },
      "source": [
        "housing_cat = housing[[\"ocean_proximity\"]]\n",
        "housing_cat.head(10)"
      ],
      "execution_count": 69,
      "outputs": [
        {
          "output_type": "execute_result",
          "data": {
            "text/html": [
              "<div>\n",
              "<style scoped>\n",
              "    .dataframe tbody tr th:only-of-type {\n",
              "        vertical-align: middle;\n",
              "    }\n",
              "\n",
              "    .dataframe tbody tr th {\n",
              "        vertical-align: top;\n",
              "    }\n",
              "\n",
              "    .dataframe thead th {\n",
              "        text-align: right;\n",
              "    }\n",
              "</style>\n",
              "<table border=\"1\" class=\"dataframe\">\n",
              "  <thead>\n",
              "    <tr style=\"text-align: right;\">\n",
              "      <th></th>\n",
              "      <th>ocean_proximity</th>\n",
              "    </tr>\n",
              "  </thead>\n",
              "  <tbody>\n",
              "    <tr>\n",
              "      <th>17606</th>\n",
              "      <td>&lt;1H OCEAN</td>\n",
              "    </tr>\n",
              "    <tr>\n",
              "      <th>18632</th>\n",
              "      <td>&lt;1H OCEAN</td>\n",
              "    </tr>\n",
              "    <tr>\n",
              "      <th>14650</th>\n",
              "      <td>NEAR OCEAN</td>\n",
              "    </tr>\n",
              "    <tr>\n",
              "      <th>3230</th>\n",
              "      <td>INLAND</td>\n",
              "    </tr>\n",
              "    <tr>\n",
              "      <th>3555</th>\n",
              "      <td>&lt;1H OCEAN</td>\n",
              "    </tr>\n",
              "    <tr>\n",
              "      <th>19480</th>\n",
              "      <td>INLAND</td>\n",
              "    </tr>\n",
              "    <tr>\n",
              "      <th>8879</th>\n",
              "      <td>&lt;1H OCEAN</td>\n",
              "    </tr>\n",
              "    <tr>\n",
              "      <th>13685</th>\n",
              "      <td>INLAND</td>\n",
              "    </tr>\n",
              "    <tr>\n",
              "      <th>4937</th>\n",
              "      <td>&lt;1H OCEAN</td>\n",
              "    </tr>\n",
              "    <tr>\n",
              "      <th>4861</th>\n",
              "      <td>&lt;1H OCEAN</td>\n",
              "    </tr>\n",
              "  </tbody>\n",
              "</table>\n",
              "</div>"
            ],
            "text/plain": [
              "      ocean_proximity\n",
              "17606       <1H OCEAN\n",
              "18632       <1H OCEAN\n",
              "14650      NEAR OCEAN\n",
              "3230           INLAND\n",
              "3555        <1H OCEAN\n",
              "19480          INLAND\n",
              "8879        <1H OCEAN\n",
              "13685          INLAND\n",
              "4937        <1H OCEAN\n",
              "4861        <1H OCEAN"
            ]
          },
          "metadata": {},
          "execution_count": 69
        }
      ]
    },
    {
      "cell_type": "code",
      "metadata": {
        "colab": {
          "base_uri": "https://localhost:8080/"
        },
        "id": "nS-WUFpC2R2K",
        "outputId": "c6692b49-2043-4daf-ac13-7b3d008fb3dd"
      },
      "source": [
        "from sklearn.preprocessing import OrdinalEncoder\n",
        "\n",
        "ordinal_encoder = OrdinalEncoder()\n",
        "housing_cat_encoded = ordinal_encoder.fit_transform(housing_cat)\n",
        "housing_cat_encoded[:10]"
      ],
      "execution_count": 70,
      "outputs": [
        {
          "output_type": "execute_result",
          "data": {
            "text/plain": [
              "array([[0.],\n",
              "       [0.],\n",
              "       [4.],\n",
              "       [1.],\n",
              "       [0.],\n",
              "       [1.],\n",
              "       [0.],\n",
              "       [1.],\n",
              "       [0.],\n",
              "       [0.]])"
            ]
          },
          "metadata": {},
          "execution_count": 70
        }
      ]
    },
    {
      "cell_type": "code",
      "metadata": {
        "colab": {
          "base_uri": "https://localhost:8080/"
        },
        "id": "47jnccXE2R2K",
        "outputId": "057756d5-8974-4f94-b10e-ad9c3dce3001"
      },
      "source": [
        "ordinal_encoder.categories_"
      ],
      "execution_count": 71,
      "outputs": [
        {
          "output_type": "execute_result",
          "data": {
            "text/plain": [
              "[array(['<1H OCEAN', 'INLAND', 'ISLAND', 'NEAR BAY', 'NEAR OCEAN'],\n",
              "       dtype=object)]"
            ]
          },
          "metadata": {},
          "execution_count": 71
        }
      ]
    },
    {
      "cell_type": "code",
      "metadata": {
        "colab": {
          "base_uri": "https://localhost:8080/"
        },
        "id": "Xay8NTxy2R2L",
        "outputId": "2795c3c8-af87-4c05-b738-b176c068313c"
      },
      "source": [
        "from sklearn.preprocessing import OneHotEncoder\n",
        "\n",
        "cat_encoder = OneHotEncoder()\n",
        "housing_cat_1hot = cat_encoder.fit_transform(housing_cat)\n",
        "housing_cat_1hot"
      ],
      "execution_count": 72,
      "outputs": [
        {
          "output_type": "execute_result",
          "data": {
            "text/plain": [
              "<16512x5 sparse matrix of type '<class 'numpy.float64'>'\n",
              "\twith 16512 stored elements in Compressed Sparse Row format>"
            ]
          },
          "metadata": {},
          "execution_count": 72
        }
      ]
    },
    {
      "cell_type": "markdown",
      "metadata": {
        "id": "r4vcUI-C2R2M"
      },
      "source": [
        "`OneHotEncoder`는 기본적으로 희소 행렬을 반환합니다. 필요하면 `toarray()` 메서드를 사용해 밀집 배열로 변환할 수 있습니다:"
      ]
    },
    {
      "cell_type": "code",
      "metadata": {
        "colab": {
          "base_uri": "https://localhost:8080/"
        },
        "id": "ke3bCPJv2R2M",
        "outputId": "e87cef60-c47b-496b-dc0e-4b90dedd5beb"
      },
      "source": [
        "housing_cat_1hot.toarray()"
      ],
      "execution_count": 73,
      "outputs": [
        {
          "output_type": "execute_result",
          "data": {
            "text/plain": [
              "array([[1., 0., 0., 0., 0.],\n",
              "       [1., 0., 0., 0., 0.],\n",
              "       [0., 0., 0., 0., 1.],\n",
              "       ...,\n",
              "       [0., 1., 0., 0., 0.],\n",
              "       [1., 0., 0., 0., 0.],\n",
              "       [0., 0., 0., 1., 0.]])"
            ]
          },
          "metadata": {},
          "execution_count": 73
        }
      ]
    },
    {
      "cell_type": "markdown",
      "metadata": {
        "id": "EY7kA8rJ2R2N"
      },
      "source": [
        "또는 `OneHotEncoder`를 만들 때 `sparse=False`로 지정할 수 있습니다:"
      ]
    },
    {
      "cell_type": "code",
      "metadata": {
        "colab": {
          "base_uri": "https://localhost:8080/"
        },
        "id": "TABNC2dC2R2N",
        "outputId": "9b3facd5-7405-4b89-b01f-7fbbd27d4e69"
      },
      "source": [
        "cat_encoder = OneHotEncoder(sparse=False)\n",
        "housing_cat_1hot = cat_encoder.fit_transform(housing_cat)\n",
        "housing_cat_1hot"
      ],
      "execution_count": 74,
      "outputs": [
        {
          "output_type": "execute_result",
          "data": {
            "text/plain": [
              "array([[1., 0., 0., 0., 0.],\n",
              "       [1., 0., 0., 0., 0.],\n",
              "       [0., 0., 0., 0., 1.],\n",
              "       ...,\n",
              "       [0., 1., 0., 0., 0.],\n",
              "       [1., 0., 0., 0., 0.],\n",
              "       [0., 0., 0., 1., 0.]])"
            ]
          },
          "metadata": {},
          "execution_count": 74
        }
      ]
    },
    {
      "cell_type": "code",
      "metadata": {
        "colab": {
          "base_uri": "https://localhost:8080/"
        },
        "id": "Wc1aUZUB2R2O",
        "outputId": "2ade21d0-8013-48d3-d512-845468dc6962"
      },
      "source": [
        "cat_encoder.categories_"
      ],
      "execution_count": 75,
      "outputs": [
        {
          "output_type": "execute_result",
          "data": {
            "text/plain": [
              "[array(['<1H OCEAN', 'INLAND', 'ISLAND', 'NEAR BAY', 'NEAR OCEAN'],\n",
              "       dtype=object)]"
            ]
          },
          "metadata": {},
          "execution_count": 75
        }
      ]
    },
    {
      "cell_type": "code",
      "metadata": {
        "colab": {
          "base_uri": "https://localhost:8080/"
        },
        "id": "accY6ezZ2R2O",
        "outputId": "59fe2f50-3cfb-4986-975e-b0ebe0acee5b"
      },
      "source": [
        "from sklearn.preprocessing import OneHotEncoder\n",
        "\n",
        "cat_encoder = OneHotEncoder()\n",
        "housing_cat_1hot = cat_encoder.fit_transform(housing_cat)\n",
        "housing_cat_1hot"
      ],
      "execution_count": 76,
      "outputs": [
        {
          "output_type": "execute_result",
          "data": {
            "text/plain": [
              "<16512x5 sparse matrix of type '<class 'numpy.float64'>'\n",
              "\twith 16512 stored elements in Compressed Sparse Row format>"
            ]
          },
          "metadata": {},
          "execution_count": 76
        }
      ]
    },
    {
      "cell_type": "code",
      "metadata": {
        "id": "MKOgMPza2R2P"
      },
      "source": [
        "#housing = housing.drop(\"ocean_proximity\", axis=1)"
      ],
      "execution_count": 77,
      "outputs": []
    },
    {
      "cell_type": "code",
      "metadata": {
        "colab": {
          "base_uri": "https://localhost:8080/",
          "height": 0
        },
        "id": "WUijcbfO2R2P",
        "outputId": "959e6a2d-c8a1-4de7-c007-55b36a3db21f"
      },
      "source": [
        "import scipy as sp\n",
        "import numpy as np\n",
        "\n",
        "one_hot_df = pd.DataFrame(housing_cat_1hot.toarray(), columns=cat_encoder.categories_)\n",
        "one_hot_df"
      ],
      "execution_count": 78,
      "outputs": [
        {
          "output_type": "execute_result",
          "data": {
            "text/html": [
              "<div>\n",
              "<style scoped>\n",
              "    .dataframe tbody tr th:only-of-type {\n",
              "        vertical-align: middle;\n",
              "    }\n",
              "\n",
              "    .dataframe tbody tr th {\n",
              "        vertical-align: top;\n",
              "    }\n",
              "\n",
              "    .dataframe thead tr th {\n",
              "        text-align: left;\n",
              "    }\n",
              "</style>\n",
              "<table border=\"1\" class=\"dataframe\">\n",
              "  <thead>\n",
              "    <tr>\n",
              "      <th></th>\n",
              "      <th>&lt;1H OCEAN</th>\n",
              "      <th>INLAND</th>\n",
              "      <th>ISLAND</th>\n",
              "      <th>NEAR BAY</th>\n",
              "      <th>NEAR OCEAN</th>\n",
              "    </tr>\n",
              "  </thead>\n",
              "  <tbody>\n",
              "    <tr>\n",
              "      <th>0</th>\n",
              "      <td>1.0</td>\n",
              "      <td>0.0</td>\n",
              "      <td>0.0</td>\n",
              "      <td>0.0</td>\n",
              "      <td>0.0</td>\n",
              "    </tr>\n",
              "    <tr>\n",
              "      <th>1</th>\n",
              "      <td>1.0</td>\n",
              "      <td>0.0</td>\n",
              "      <td>0.0</td>\n",
              "      <td>0.0</td>\n",
              "      <td>0.0</td>\n",
              "    </tr>\n",
              "    <tr>\n",
              "      <th>2</th>\n",
              "      <td>0.0</td>\n",
              "      <td>0.0</td>\n",
              "      <td>0.0</td>\n",
              "      <td>0.0</td>\n",
              "      <td>1.0</td>\n",
              "    </tr>\n",
              "    <tr>\n",
              "      <th>3</th>\n",
              "      <td>0.0</td>\n",
              "      <td>1.0</td>\n",
              "      <td>0.0</td>\n",
              "      <td>0.0</td>\n",
              "      <td>0.0</td>\n",
              "    </tr>\n",
              "    <tr>\n",
              "      <th>4</th>\n",
              "      <td>1.0</td>\n",
              "      <td>0.0</td>\n",
              "      <td>0.0</td>\n",
              "      <td>0.0</td>\n",
              "      <td>0.0</td>\n",
              "    </tr>\n",
              "    <tr>\n",
              "      <th>...</th>\n",
              "      <td>...</td>\n",
              "      <td>...</td>\n",
              "      <td>...</td>\n",
              "      <td>...</td>\n",
              "      <td>...</td>\n",
              "    </tr>\n",
              "    <tr>\n",
              "      <th>16507</th>\n",
              "      <td>0.0</td>\n",
              "      <td>1.0</td>\n",
              "      <td>0.0</td>\n",
              "      <td>0.0</td>\n",
              "      <td>0.0</td>\n",
              "    </tr>\n",
              "    <tr>\n",
              "      <th>16508</th>\n",
              "      <td>0.0</td>\n",
              "      <td>1.0</td>\n",
              "      <td>0.0</td>\n",
              "      <td>0.0</td>\n",
              "      <td>0.0</td>\n",
              "    </tr>\n",
              "    <tr>\n",
              "      <th>16509</th>\n",
              "      <td>0.0</td>\n",
              "      <td>1.0</td>\n",
              "      <td>0.0</td>\n",
              "      <td>0.0</td>\n",
              "      <td>0.0</td>\n",
              "    </tr>\n",
              "    <tr>\n",
              "      <th>16510</th>\n",
              "      <td>1.0</td>\n",
              "      <td>0.0</td>\n",
              "      <td>0.0</td>\n",
              "      <td>0.0</td>\n",
              "      <td>0.0</td>\n",
              "    </tr>\n",
              "    <tr>\n",
              "      <th>16511</th>\n",
              "      <td>0.0</td>\n",
              "      <td>0.0</td>\n",
              "      <td>0.0</td>\n",
              "      <td>1.0</td>\n",
              "      <td>0.0</td>\n",
              "    </tr>\n",
              "  </tbody>\n",
              "</table>\n",
              "<p>16512 rows × 5 columns</p>\n",
              "</div>"
            ],
            "text/plain": [
              "      <1H OCEAN INLAND ISLAND NEAR BAY NEAR OCEAN\n",
              "0           1.0    0.0    0.0      0.0        0.0\n",
              "1           1.0    0.0    0.0      0.0        0.0\n",
              "2           0.0    0.0    0.0      0.0        1.0\n",
              "3           0.0    1.0    0.0      0.0        0.0\n",
              "4           1.0    0.0    0.0      0.0        0.0\n",
              "...         ...    ...    ...      ...        ...\n",
              "16507       0.0    1.0    0.0      0.0        0.0\n",
              "16508       0.0    1.0    0.0      0.0        0.0\n",
              "16509       0.0    1.0    0.0      0.0        0.0\n",
              "16510       1.0    0.0    0.0      0.0        0.0\n",
              "16511       0.0    0.0    0.0      1.0        0.0\n",
              "\n",
              "[16512 rows x 5 columns]"
            ]
          },
          "metadata": {},
          "execution_count": 78
        }
      ]
    },
    {
      "cell_type": "code",
      "metadata": {
        "id": "2cg2WZK_2R2Q"
      },
      "source": [
        "housing = housing.reset_index(drop=True)"
      ],
      "execution_count": 79,
      "outputs": []
    },
    {
      "cell_type": "code",
      "metadata": {
        "colab": {
          "base_uri": "https://localhost:8080/",
          "height": 0
        },
        "id": "0lgO7OMO2R2Q",
        "outputId": "a8fbc712-3924-4879-bd3d-492ba25b4eae"
      },
      "source": [
        "pd.concat([housing, one_hot_df], axis = 1)"
      ],
      "execution_count": 80,
      "outputs": [
        {
          "output_type": "execute_result",
          "data": {
            "text/html": [
              "<div>\n",
              "<style scoped>\n",
              "    .dataframe tbody tr th:only-of-type {\n",
              "        vertical-align: middle;\n",
              "    }\n",
              "\n",
              "    .dataframe tbody tr th {\n",
              "        vertical-align: top;\n",
              "    }\n",
              "\n",
              "    .dataframe thead th {\n",
              "        text-align: right;\n",
              "    }\n",
              "</style>\n",
              "<table border=\"1\" class=\"dataframe\">\n",
              "  <thead>\n",
              "    <tr style=\"text-align: right;\">\n",
              "      <th></th>\n",
              "      <th>longitude</th>\n",
              "      <th>latitude</th>\n",
              "      <th>housing_median_age</th>\n",
              "      <th>total_rooms</th>\n",
              "      <th>total_bedrooms</th>\n",
              "      <th>population</th>\n",
              "      <th>households</th>\n",
              "      <th>median_income</th>\n",
              "      <th>ocean_proximity</th>\n",
              "      <th>(&lt;1H OCEAN,)</th>\n",
              "      <th>(INLAND,)</th>\n",
              "      <th>(ISLAND,)</th>\n",
              "      <th>(NEAR BAY,)</th>\n",
              "      <th>(NEAR OCEAN,)</th>\n",
              "    </tr>\n",
              "  </thead>\n",
              "  <tbody>\n",
              "    <tr>\n",
              "      <th>0</th>\n",
              "      <td>-121.89</td>\n",
              "      <td>37.29</td>\n",
              "      <td>38.0</td>\n",
              "      <td>1568.0</td>\n",
              "      <td>351.0</td>\n",
              "      <td>710.0</td>\n",
              "      <td>339.0</td>\n",
              "      <td>2.7042</td>\n",
              "      <td>&lt;1H OCEAN</td>\n",
              "      <td>1.0</td>\n",
              "      <td>0.0</td>\n",
              "      <td>0.0</td>\n",
              "      <td>0.0</td>\n",
              "      <td>0.0</td>\n",
              "    </tr>\n",
              "    <tr>\n",
              "      <th>1</th>\n",
              "      <td>-121.93</td>\n",
              "      <td>37.05</td>\n",
              "      <td>14.0</td>\n",
              "      <td>679.0</td>\n",
              "      <td>108.0</td>\n",
              "      <td>306.0</td>\n",
              "      <td>113.0</td>\n",
              "      <td>6.4214</td>\n",
              "      <td>&lt;1H OCEAN</td>\n",
              "      <td>1.0</td>\n",
              "      <td>0.0</td>\n",
              "      <td>0.0</td>\n",
              "      <td>0.0</td>\n",
              "      <td>0.0</td>\n",
              "    </tr>\n",
              "    <tr>\n",
              "      <th>2</th>\n",
              "      <td>-117.20</td>\n",
              "      <td>32.77</td>\n",
              "      <td>31.0</td>\n",
              "      <td>1952.0</td>\n",
              "      <td>471.0</td>\n",
              "      <td>936.0</td>\n",
              "      <td>462.0</td>\n",
              "      <td>2.8621</td>\n",
              "      <td>NEAR OCEAN</td>\n",
              "      <td>0.0</td>\n",
              "      <td>0.0</td>\n",
              "      <td>0.0</td>\n",
              "      <td>0.0</td>\n",
              "      <td>1.0</td>\n",
              "    </tr>\n",
              "    <tr>\n",
              "      <th>3</th>\n",
              "      <td>-119.61</td>\n",
              "      <td>36.31</td>\n",
              "      <td>25.0</td>\n",
              "      <td>1847.0</td>\n",
              "      <td>371.0</td>\n",
              "      <td>1460.0</td>\n",
              "      <td>353.0</td>\n",
              "      <td>1.8839</td>\n",
              "      <td>INLAND</td>\n",
              "      <td>0.0</td>\n",
              "      <td>1.0</td>\n",
              "      <td>0.0</td>\n",
              "      <td>0.0</td>\n",
              "      <td>0.0</td>\n",
              "    </tr>\n",
              "    <tr>\n",
              "      <th>4</th>\n",
              "      <td>-118.59</td>\n",
              "      <td>34.23</td>\n",
              "      <td>17.0</td>\n",
              "      <td>6592.0</td>\n",
              "      <td>1525.0</td>\n",
              "      <td>4459.0</td>\n",
              "      <td>1463.0</td>\n",
              "      <td>3.0347</td>\n",
              "      <td>&lt;1H OCEAN</td>\n",
              "      <td>1.0</td>\n",
              "      <td>0.0</td>\n",
              "      <td>0.0</td>\n",
              "      <td>0.0</td>\n",
              "      <td>0.0</td>\n",
              "    </tr>\n",
              "    <tr>\n",
              "      <th>...</th>\n",
              "      <td>...</td>\n",
              "      <td>...</td>\n",
              "      <td>...</td>\n",
              "      <td>...</td>\n",
              "      <td>...</td>\n",
              "      <td>...</td>\n",
              "      <td>...</td>\n",
              "      <td>...</td>\n",
              "      <td>...</td>\n",
              "      <td>...</td>\n",
              "      <td>...</td>\n",
              "      <td>...</td>\n",
              "      <td>...</td>\n",
              "      <td>...</td>\n",
              "    </tr>\n",
              "    <tr>\n",
              "      <th>16507</th>\n",
              "      <td>-118.13</td>\n",
              "      <td>34.20</td>\n",
              "      <td>46.0</td>\n",
              "      <td>1271.0</td>\n",
              "      <td>236.0</td>\n",
              "      <td>573.0</td>\n",
              "      <td>210.0</td>\n",
              "      <td>4.9312</td>\n",
              "      <td>INLAND</td>\n",
              "      <td>0.0</td>\n",
              "      <td>1.0</td>\n",
              "      <td>0.0</td>\n",
              "      <td>0.0</td>\n",
              "      <td>0.0</td>\n",
              "    </tr>\n",
              "    <tr>\n",
              "      <th>16508</th>\n",
              "      <td>-117.56</td>\n",
              "      <td>33.88</td>\n",
              "      <td>40.0</td>\n",
              "      <td>1196.0</td>\n",
              "      <td>294.0</td>\n",
              "      <td>1052.0</td>\n",
              "      <td>258.0</td>\n",
              "      <td>2.0682</td>\n",
              "      <td>INLAND</td>\n",
              "      <td>0.0</td>\n",
              "      <td>1.0</td>\n",
              "      <td>0.0</td>\n",
              "      <td>0.0</td>\n",
              "      <td>0.0</td>\n",
              "    </tr>\n",
              "    <tr>\n",
              "      <th>16509</th>\n",
              "      <td>-116.40</td>\n",
              "      <td>34.09</td>\n",
              "      <td>9.0</td>\n",
              "      <td>4855.0</td>\n",
              "      <td>872.0</td>\n",
              "      <td>2098.0</td>\n",
              "      <td>765.0</td>\n",
              "      <td>3.2723</td>\n",
              "      <td>INLAND</td>\n",
              "      <td>0.0</td>\n",
              "      <td>1.0</td>\n",
              "      <td>0.0</td>\n",
              "      <td>0.0</td>\n",
              "      <td>0.0</td>\n",
              "    </tr>\n",
              "    <tr>\n",
              "      <th>16510</th>\n",
              "      <td>-118.01</td>\n",
              "      <td>33.82</td>\n",
              "      <td>31.0</td>\n",
              "      <td>1960.0</td>\n",
              "      <td>380.0</td>\n",
              "      <td>1356.0</td>\n",
              "      <td>356.0</td>\n",
              "      <td>4.0625</td>\n",
              "      <td>&lt;1H OCEAN</td>\n",
              "      <td>1.0</td>\n",
              "      <td>0.0</td>\n",
              "      <td>0.0</td>\n",
              "      <td>0.0</td>\n",
              "      <td>0.0</td>\n",
              "    </tr>\n",
              "    <tr>\n",
              "      <th>16511</th>\n",
              "      <td>-122.45</td>\n",
              "      <td>37.77</td>\n",
              "      <td>52.0</td>\n",
              "      <td>3095.0</td>\n",
              "      <td>682.0</td>\n",
              "      <td>1269.0</td>\n",
              "      <td>639.0</td>\n",
              "      <td>3.5750</td>\n",
              "      <td>NEAR BAY</td>\n",
              "      <td>0.0</td>\n",
              "      <td>0.0</td>\n",
              "      <td>0.0</td>\n",
              "      <td>1.0</td>\n",
              "      <td>0.0</td>\n",
              "    </tr>\n",
              "  </tbody>\n",
              "</table>\n",
              "<p>16512 rows × 14 columns</p>\n",
              "</div>"
            ],
            "text/plain": [
              "       longitude  latitude  ...  (NEAR BAY,)  (NEAR OCEAN,)\n",
              "0        -121.89     37.29  ...          0.0            0.0\n",
              "1        -121.93     37.05  ...          0.0            0.0\n",
              "2        -117.20     32.77  ...          0.0            1.0\n",
              "3        -119.61     36.31  ...          0.0            0.0\n",
              "4        -118.59     34.23  ...          0.0            0.0\n",
              "...          ...       ...  ...          ...            ...\n",
              "16507    -118.13     34.20  ...          0.0            0.0\n",
              "16508    -117.56     33.88  ...          0.0            0.0\n",
              "16509    -116.40     34.09  ...          0.0            0.0\n",
              "16510    -118.01     33.82  ...          0.0            0.0\n",
              "16511    -122.45     37.77  ...          1.0            0.0\n",
              "\n",
              "[16512 rows x 14 columns]"
            ]
          },
          "metadata": {},
          "execution_count": 80
        }
      ]
    },
    {
      "cell_type": "markdown",
      "metadata": {
        "id": "Z0Vj7PLv0z7l"
      },
      "source": [
        "##### 1.1.3 나만의 변환기 (p.105)"
      ]
    },
    {
      "cell_type": "markdown",
      "metadata": {
        "id": "ahYtRwMw0z7l"
      },
      "source": [
        "추가 특성을 위해 사용자 정의 변환기를 만들어보죠:"
      ]
    },
    {
      "cell_type": "code",
      "metadata": {
        "id": "Rym6d3Ov0z7l"
      },
      "source": [
        "from sklearn.base import BaseEstimator, TransformerMixin\n",
        "\n",
        "# 열 인덱스\n",
        "rooms_ix, bedrooms_ix, population_ix, households_ix = 3, 4, 5, 6\n",
        "\n",
        "class CombinedAttributesAdder(BaseEstimator, TransformerMixin):\n",
        "    def __init__(self, add_bedrooms_per_room=True): # *args 또는 **kargs 없음\n",
        "        self.add_bedrooms_per_room = add_bedrooms_per_room\n",
        "    def fit(self, X, y=None):\n",
        "        return self  # 아무것도 하지 않습니다\n",
        "    def transform(self, X):\n",
        "        rooms_per_household = X[:, rooms_ix] / X[:, households_ix]\n",
        "        population_per_household = X[:, population_ix] / X[:, households_ix]\n",
        "        if self.add_bedrooms_per_room:\n",
        "            bedrooms_per_room = X[:, bedrooms_ix] / X[:, rooms_ix]\n",
        "            return np.c_[X, rooms_per_household, population_per_household,\n",
        "                         bedrooms_per_room]\n",
        "        else:\n",
        "            return np.c_[X, rooms_per_household, population_per_household]\n",
        "\n",
        "attr_adder = CombinedAttributesAdder(add_bedrooms_per_room=False)\n",
        "housing_extra_attribs = attr_adder.transform(housing.to_numpy())"
      ],
      "execution_count": 81,
      "outputs": []
    },
    {
      "cell_type": "markdown",
      "metadata": {
        "id": "dsUB67Pr0z7l"
      },
      "source": [
        "책에서는 간단하게 인덱스 (3, 4, 5, 6)을 하드코딩했지만 다음처럼 동적으로 처리하는 것이 더 좋습니다:"
      ]
    },
    {
      "cell_type": "code",
      "metadata": {
        "id": "wveiwCbD0z7m"
      },
      "source": [
        "col_names = \"total_rooms\", \"total_bedrooms\", \"population\", \"households\"\n",
        "rooms_ix, bedrooms_ix, population_ix, households_ix = [\n",
        "    housing.columns.get_loc(c) for c in col_names] # 열 인덱스 구하기"
      ],
      "execution_count": 82,
      "outputs": []
    },
    {
      "cell_type": "markdown",
      "metadata": {
        "id": "iLHnKLZK0z7m"
      },
      "source": [
        "또한 `housing_extra_attribs`는 넘파이 배열이기 때문에 열 이름이 없습니다(안타깝지만 사이킷런을 사용할 때 생기는 문제입니다). `DataFrame`으로 복원하려면 다음과 같이 할 수 있습니다:"
      ]
    },
    {
      "cell_type": "code",
      "metadata": {
        "colab": {
          "base_uri": "https://localhost:8080/",
          "height": 0
        },
        "id": "B60k0VLF0z7m",
        "outputId": "0c10754f-fb69-4bfb-d0c7-98314627c75b"
      },
      "source": [
        "housing_extra_attribs = pd.DataFrame(\n",
        "    housing_extra_attribs,\n",
        "    columns=list(housing.columns)+[\"rooms_per_household\", \"population_per_household\"],\n",
        "    index=housing.index)\n",
        "housing_extra_attribs.head()"
      ],
      "execution_count": 83,
      "outputs": [
        {
          "output_type": "execute_result",
          "data": {
            "text/html": [
              "<div>\n",
              "<style scoped>\n",
              "    .dataframe tbody tr th:only-of-type {\n",
              "        vertical-align: middle;\n",
              "    }\n",
              "\n",
              "    .dataframe tbody tr th {\n",
              "        vertical-align: top;\n",
              "    }\n",
              "\n",
              "    .dataframe thead th {\n",
              "        text-align: right;\n",
              "    }\n",
              "</style>\n",
              "<table border=\"1\" class=\"dataframe\">\n",
              "  <thead>\n",
              "    <tr style=\"text-align: right;\">\n",
              "      <th></th>\n",
              "      <th>longitude</th>\n",
              "      <th>latitude</th>\n",
              "      <th>housing_median_age</th>\n",
              "      <th>total_rooms</th>\n",
              "      <th>total_bedrooms</th>\n",
              "      <th>population</th>\n",
              "      <th>households</th>\n",
              "      <th>median_income</th>\n",
              "      <th>ocean_proximity</th>\n",
              "      <th>rooms_per_household</th>\n",
              "      <th>population_per_household</th>\n",
              "    </tr>\n",
              "  </thead>\n",
              "  <tbody>\n",
              "    <tr>\n",
              "      <th>0</th>\n",
              "      <td>-121.89</td>\n",
              "      <td>37.29</td>\n",
              "      <td>38</td>\n",
              "      <td>1568</td>\n",
              "      <td>351</td>\n",
              "      <td>710</td>\n",
              "      <td>339</td>\n",
              "      <td>2.7042</td>\n",
              "      <td>&lt;1H OCEAN</td>\n",
              "      <td>4.62537</td>\n",
              "      <td>2.0944</td>\n",
              "    </tr>\n",
              "    <tr>\n",
              "      <th>1</th>\n",
              "      <td>-121.93</td>\n",
              "      <td>37.05</td>\n",
              "      <td>14</td>\n",
              "      <td>679</td>\n",
              "      <td>108</td>\n",
              "      <td>306</td>\n",
              "      <td>113</td>\n",
              "      <td>6.4214</td>\n",
              "      <td>&lt;1H OCEAN</td>\n",
              "      <td>6.00885</td>\n",
              "      <td>2.70796</td>\n",
              "    </tr>\n",
              "    <tr>\n",
              "      <th>2</th>\n",
              "      <td>-117.2</td>\n",
              "      <td>32.77</td>\n",
              "      <td>31</td>\n",
              "      <td>1952</td>\n",
              "      <td>471</td>\n",
              "      <td>936</td>\n",
              "      <td>462</td>\n",
              "      <td>2.8621</td>\n",
              "      <td>NEAR OCEAN</td>\n",
              "      <td>4.22511</td>\n",
              "      <td>2.02597</td>\n",
              "    </tr>\n",
              "    <tr>\n",
              "      <th>3</th>\n",
              "      <td>-119.61</td>\n",
              "      <td>36.31</td>\n",
              "      <td>25</td>\n",
              "      <td>1847</td>\n",
              "      <td>371</td>\n",
              "      <td>1460</td>\n",
              "      <td>353</td>\n",
              "      <td>1.8839</td>\n",
              "      <td>INLAND</td>\n",
              "      <td>5.23229</td>\n",
              "      <td>4.13598</td>\n",
              "    </tr>\n",
              "    <tr>\n",
              "      <th>4</th>\n",
              "      <td>-118.59</td>\n",
              "      <td>34.23</td>\n",
              "      <td>17</td>\n",
              "      <td>6592</td>\n",
              "      <td>1525</td>\n",
              "      <td>4459</td>\n",
              "      <td>1463</td>\n",
              "      <td>3.0347</td>\n",
              "      <td>&lt;1H OCEAN</td>\n",
              "      <td>4.50581</td>\n",
              "      <td>3.04785</td>\n",
              "    </tr>\n",
              "  </tbody>\n",
              "</table>\n",
              "</div>"
            ],
            "text/plain": [
              "  longitude latitude  ... rooms_per_household population_per_household\n",
              "0   -121.89    37.29  ...             4.62537                   2.0944\n",
              "1   -121.93    37.05  ...             6.00885                  2.70796\n",
              "2    -117.2    32.77  ...             4.22511                  2.02597\n",
              "3   -119.61    36.31  ...             5.23229                  4.13598\n",
              "4   -118.59    34.23  ...             4.50581                  3.04785\n",
              "\n",
              "[5 rows x 11 columns]"
            ]
          },
          "metadata": {},
          "execution_count": 83
        }
      ]
    },
    {
      "cell_type": "markdown",
      "metadata": {
        "id": "DKxqjfZK0z7m"
      },
      "source": [
        "##### 1.1.4 변환 파이프라인 (p.108)"
      ]
    },
    {
      "cell_type": "markdown",
      "metadata": {
        "id": "RCIgv9-N0z7m"
      },
      "source": [
        "수치형 특성을 전처리하기 위해 파이프라인을 만듭니다:"
      ]
    },
    {
      "cell_type": "code",
      "metadata": {
        "id": "rGyDPaK90z7n"
      },
      "source": [
        "from sklearn.pipeline import Pipeline\n",
        "from sklearn.preprocessing import StandardScaler\n",
        "\n",
        "num_pipeline = Pipeline([\n",
        "        ('imputer', SimpleImputer(strategy=\"median\")),\n",
        "        ('attribs_adder', CombinedAttributesAdder()),\n",
        "        ('std_scaler', StandardScaler()),\n",
        "    ])\n",
        "\n",
        "housing_num_tr = num_pipeline.fit_transform(housing_num)"
      ],
      "execution_count": 84,
      "outputs": []
    },
    {
      "cell_type": "code",
      "metadata": {
        "colab": {
          "base_uri": "https://localhost:8080/"
        },
        "id": "vwqJKuv40z7n",
        "outputId": "b9f20606-b091-45d3-99e8-abb8fd20e2bc"
      },
      "source": [
        "housing_num_tr"
      ],
      "execution_count": 85,
      "outputs": [
        {
          "output_type": "execute_result",
          "data": {
            "text/plain": [
              "array([[-1.15604281,  0.77194962,  0.74333089, ..., -0.31205452,\n",
              "        -0.08649871,  0.15531753],\n",
              "       [-1.17602483,  0.6596948 , -1.1653172 , ...,  0.21768338,\n",
              "        -0.03353391, -0.83628902],\n",
              "       [ 1.18684903, -1.34218285,  0.18664186, ..., -0.46531516,\n",
              "        -0.09240499,  0.4222004 ],\n",
              "       ...,\n",
              "       [ 1.58648943, -0.72478134, -1.56295222, ...,  0.3469342 ,\n",
              "        -0.03055414, -0.52177644],\n",
              "       [ 0.78221312, -0.85106801,  0.18664186, ...,  0.02499488,\n",
              "         0.06150916, -0.30340741],\n",
              "       [-1.43579109,  0.99645926,  1.85670895, ..., -0.22852947,\n",
              "        -0.09586294,  0.10180567]])"
            ]
          },
          "metadata": {},
          "execution_count": 85
        }
      ]
    },
    {
      "cell_type": "code",
      "metadata": {
        "id": "aX1uIYaL0z7o"
      },
      "source": [
        "from sklearn.compose import ColumnTransformer\n",
        "\n",
        "num_attribs = list(housing_num)\n",
        "cat_attribs = [\"ocean_proximity\"]\n",
        "\n",
        "full_pipeline = ColumnTransformer([\n",
        "        (\"num\", num_pipeline, num_attribs),\n",
        "        (\"cat\", OneHotEncoder(), cat_attribs),\n",
        "    ])\n",
        "\n",
        "housing_prepared = full_pipeline.fit_transform(housing)"
      ],
      "execution_count": 86,
      "outputs": []
    },
    {
      "cell_type": "code",
      "metadata": {
        "colab": {
          "base_uri": "https://localhost:8080/"
        },
        "id": "hAkQIKPh0z7o",
        "outputId": "19a3d7f9-1c66-4c5c-ce91-e1c810507eca"
      },
      "source": [
        "housing_prepared"
      ],
      "execution_count": 87,
      "outputs": [
        {
          "output_type": "execute_result",
          "data": {
            "text/plain": [
              "array([[-1.15604281,  0.77194962,  0.74333089, ...,  0.        ,\n",
              "         0.        ,  0.        ],\n",
              "       [-1.17602483,  0.6596948 , -1.1653172 , ...,  0.        ,\n",
              "         0.        ,  0.        ],\n",
              "       [ 1.18684903, -1.34218285,  0.18664186, ...,  0.        ,\n",
              "         0.        ,  1.        ],\n",
              "       ...,\n",
              "       [ 1.58648943, -0.72478134, -1.56295222, ...,  0.        ,\n",
              "         0.        ,  0.        ],\n",
              "       [ 0.78221312, -0.85106801,  0.18664186, ...,  0.        ,\n",
              "         0.        ,  0.        ],\n",
              "       [-1.43579109,  0.99645926,  1.85670895, ...,  0.        ,\n",
              "         1.        ,  0.        ]])"
            ]
          },
          "metadata": {},
          "execution_count": 87
        }
      ]
    },
    {
      "cell_type": "code",
      "metadata": {
        "colab": {
          "base_uri": "https://localhost:8080/"
        },
        "id": "SDoIhjSP0z7o",
        "outputId": "4ac34b7e-31d7-4186-c6d0-6afa57662772"
      },
      "source": [
        "housing_prepared.shape"
      ],
      "execution_count": 88,
      "outputs": [
        {
          "output_type": "execute_result",
          "data": {
            "text/plain": [
              "(16512, 16)"
            ]
          },
          "metadata": {},
          "execution_count": 88
        }
      ]
    },
    {
      "cell_type": "markdown",
      "metadata": {
        "id": "_tEpWL6A0z7p"
      },
      "source": [
        "다음은 (판다스 `DataFrame` 열의 일부를 선택하기 위해) `DataFrameSelector` 변환기와 `FeatureUnion`를 사용한 예전 방식입니다:"
      ]
    },
    {
      "cell_type": "code",
      "metadata": {
        "id": "lfIOESWb0z7r"
      },
      "source": [
        "from sklearn.base import BaseEstimator, TransformerMixin\n",
        "\n",
        "# 수치형 열과 범주형 열을 선택하기 위한 클래스\n",
        "class OldDataFrameSelector(BaseEstimator, TransformerMixin):\n",
        "    def __init__(self, attribute_names):\n",
        "        self.attribute_names = attribute_names\n",
        "    def fit(self, X, y=None):\n",
        "        return self\n",
        "    def transform(self, X):\n",
        "        return X[self.attribute_names].values"
      ],
      "execution_count": 89,
      "outputs": []
    },
    {
      "cell_type": "markdown",
      "metadata": {
        "id": "M_VLMCwn0z7r"
      },
      "source": [
        "하나의 큰 파이프라인에 이들을 모두 결합하여 수치형과 범주형 특성을 전처리합니다:"
      ]
    },
    {
      "cell_type": "code",
      "metadata": {
        "id": "OVKKnAUV0z7s"
      },
      "source": [
        "num_attribs = list(housing_num)\n",
        "cat_attribs = [\"ocean_proximity\"]\n",
        "\n",
        "old_num_pipeline = Pipeline([\n",
        "        ('selector', OldDataFrameSelector(num_attribs)),\n",
        "        ('imputer', SimpleImputer(strategy=\"median\")),\n",
        "        ('attribs_adder', CombinedAttributesAdder()),\n",
        "        ('std_scaler', StandardScaler()),\n",
        "    ])\n",
        "\n",
        "old_cat_pipeline = Pipeline([\n",
        "        ('selector', OldDataFrameSelector(cat_attribs)),\n",
        "        ('cat_encoder', OneHotEncoder(sparse=False)),\n",
        "    ])"
      ],
      "execution_count": 90,
      "outputs": []
    },
    {
      "cell_type": "code",
      "metadata": {
        "id": "XjUn90T40z7s"
      },
      "source": [
        "from sklearn.pipeline import FeatureUnion\n",
        "\n",
        "old_full_pipeline = FeatureUnion(transformer_list=[\n",
        "        (\"num_pipeline\", old_num_pipeline),\n",
        "        (\"cat_pipeline\", old_cat_pipeline),\n",
        "    ])"
      ],
      "execution_count": 91,
      "outputs": []
    },
    {
      "cell_type": "code",
      "metadata": {
        "colab": {
          "base_uri": "https://localhost:8080/"
        },
        "id": "ijiHEchY0z7s",
        "outputId": "49ac724e-2023-4047-8504-d55bd481dcc9"
      },
      "source": [
        "old_housing_prepared = old_full_pipeline.fit_transform(housing)\n",
        "old_housing_prepared"
      ],
      "execution_count": 92,
      "outputs": [
        {
          "output_type": "execute_result",
          "data": {
            "text/plain": [
              "array([[-1.15604281,  0.77194962,  0.74333089, ...,  0.        ,\n",
              "         0.        ,  0.        ],\n",
              "       [-1.17602483,  0.6596948 , -1.1653172 , ...,  0.        ,\n",
              "         0.        ,  0.        ],\n",
              "       [ 1.18684903, -1.34218285,  0.18664186, ...,  0.        ,\n",
              "         0.        ,  1.        ],\n",
              "       ...,\n",
              "       [ 1.58648943, -0.72478134, -1.56295222, ...,  0.        ,\n",
              "         0.        ,  0.        ],\n",
              "       [ 0.78221312, -0.85106801,  0.18664186, ...,  0.        ,\n",
              "         0.        ,  0.        ],\n",
              "       [-1.43579109,  0.99645926,  1.85670895, ...,  0.        ,\n",
              "         1.        ,  0.        ]])"
            ]
          },
          "metadata": {},
          "execution_count": 92
        }
      ]
    },
    {
      "cell_type": "markdown",
      "metadata": {
        "id": "7TT6Pmdg0z7t"
      },
      "source": [
        "`ColumnTransformer`의 결과와 동일합니다:"
      ]
    },
    {
      "cell_type": "code",
      "metadata": {
        "colab": {
          "base_uri": "https://localhost:8080/"
        },
        "id": "IvgjnVns0z7t",
        "outputId": "6eb05b71-fe2d-4f15-9194-fb5b69eda4ac"
      },
      "source": [
        "np.allclose(housing_prepared, old_housing_prepared)"
      ],
      "execution_count": 93,
      "outputs": [
        {
          "output_type": "execute_result",
          "data": {
            "text/plain": [
              "True"
            ]
          },
          "metadata": {},
          "execution_count": 93
        }
      ]
    },
    {
      "cell_type": "markdown",
      "metadata": {
        "id": "59cp1bjF0z7t"
      },
      "source": [
        "#### **1.2 모델 선택과 훈련**"
      ]
    },
    {
      "cell_type": "markdown",
      "metadata": {
        "id": "Tx4rsYvj0z7t"
      },
      "source": [
        "##### 1.2.1 훈련 세트에서 훈련하고 평가하기 (p. 110)"
      ]
    },
    {
      "cell_type": "code",
      "metadata": {
        "colab": {
          "base_uri": "https://localhost:8080/"
        },
        "id": "MCb5HZh40z7t",
        "outputId": "20f29ffb-69dd-4262-9fe7-fdc7bd30151c"
      },
      "source": [
        "from sklearn.linear_model import LinearRegression\n",
        "\n",
        "lin_reg = LinearRegression()\n",
        "lin_reg.fit(housing_prepared, housing_labels)"
      ],
      "execution_count": 94,
      "outputs": [
        {
          "output_type": "execute_result",
          "data": {
            "text/plain": [
              "LinearRegression(copy_X=True, fit_intercept=True, n_jobs=None, normalize=False)"
            ]
          },
          "metadata": {},
          "execution_count": 94
        }
      ]
    },
    {
      "cell_type": "code",
      "metadata": {
        "colab": {
          "base_uri": "https://localhost:8080/"
        },
        "id": "-hw1h0sZ0z7u",
        "outputId": "4eee9c5f-b90c-4372-da15-80c23ef0157e"
      },
      "source": [
        "# 훈련 샘플 몇 개를 사용해 전체 파이프라인을 적용해 보겠습니다\n",
        "some_data = housing.iloc[:5]\n",
        "some_labels = housing_labels.iloc[:5]\n",
        "some_data_prepared = full_pipeline.transform(some_data)\n",
        "\n",
        "print(\"예측:\", lin_reg.predict(some_data_prepared))"
      ],
      "execution_count": 95,
      "outputs": [
        {
          "output_type": "stream",
          "name": "stdout",
          "text": [
            "예측: [210644.60459286 317768.80697211 210956.43331178  59218.98886849\n",
            " 189747.55849879]\n"
          ]
        }
      ]
    },
    {
      "cell_type": "markdown",
      "metadata": {
        "id": "ug1uaQO70z7u"
      },
      "source": [
        "실제 값과 비교합니다:"
      ]
    },
    {
      "cell_type": "code",
      "metadata": {
        "colab": {
          "base_uri": "https://localhost:8080/"
        },
        "id": "36ylbhz60z7u",
        "outputId": "145f4007-2116-429d-90ab-f82c67a356a7"
      },
      "source": [
        "print(\"레이블:\", list(some_labels))"
      ],
      "execution_count": 96,
      "outputs": [
        {
          "output_type": "stream",
          "name": "stdout",
          "text": [
            "레이블: [286600.0, 340600.0, 196900.0, 46300.0, 254500.0]\n"
          ]
        }
      ]
    },
    {
      "cell_type": "code",
      "metadata": {
        "colab": {
          "base_uri": "https://localhost:8080/"
        },
        "id": "AWaN2d5a0z7u",
        "outputId": "d898bec2-3211-4592-ab53-40280ecdcf47"
      },
      "source": [
        "some_data_prepared"
      ],
      "execution_count": 97,
      "outputs": [
        {
          "output_type": "execute_result",
          "data": {
            "text/plain": [
              "array([[-1.15604281,  0.77194962,  0.74333089, -0.49323393, -0.44543821,\n",
              "        -0.63621141, -0.42069842, -0.61493744, -0.31205452, -0.08649871,\n",
              "         0.15531753,  1.        ,  0.        ,  0.        ,  0.        ,\n",
              "         0.        ],\n",
              "       [-1.17602483,  0.6596948 , -1.1653172 , -0.90896655, -1.0369278 ,\n",
              "        -0.99833135, -1.02222705,  1.33645936,  0.21768338, -0.03353391,\n",
              "        -0.83628902,  1.        ,  0.        ,  0.        ,  0.        ,\n",
              "         0.        ],\n",
              "       [ 1.18684903, -1.34218285,  0.18664186, -0.31365989, -0.15334458,\n",
              "        -0.43363936, -0.0933178 , -0.5320456 , -0.46531516, -0.09240499,\n",
              "         0.4222004 ,  0.        ,  0.        ,  0.        ,  0.        ,\n",
              "         1.        ],\n",
              "       [-0.01706767,  0.31357576, -0.29052016, -0.36276217, -0.39675594,\n",
              "         0.03604096, -0.38343559, -1.04556555, -0.07966124,  0.08973561,\n",
              "        -0.19645314,  0.        ,  1.        ,  0.        ,  0.        ,\n",
              "         0.        ],\n",
              "       [ 0.49247384, -0.65929936, -0.92673619,  1.85619316,  2.41221109,\n",
              "         2.72415407,  2.57097492, -0.44143679, -0.35783383, -0.00419445,\n",
              "         0.2699277 ,  1.        ,  0.        ,  0.        ,  0.        ,\n",
              "         0.        ]])"
            ]
          },
          "metadata": {},
          "execution_count": 97
        }
      ]
    },
    {
      "cell_type": "code",
      "metadata": {
        "colab": {
          "base_uri": "https://localhost:8080/"
        },
        "id": "dB8rfS7T0z7v",
        "outputId": "f0ba4cae-865e-4cf5-ab24-07a90333b739"
      },
      "source": [
        "from sklearn.metrics import mean_squared_error\n",
        "\n",
        "housing_predictions = lin_reg.predict(housing_prepared)\n",
        "lin_mse = mean_squared_error(housing_labels, housing_predictions)\n",
        "lin_rmse = np.sqrt(lin_mse)\n",
        "lin_rmse"
      ],
      "execution_count": 98,
      "outputs": [
        {
          "output_type": "execute_result",
          "data": {
            "text/plain": [
              "68628.19819848923"
            ]
          },
          "metadata": {},
          "execution_count": 98
        }
      ]
    },
    {
      "cell_type": "markdown",
      "metadata": {
        "id": "vCukXWIX0z7v"
      },
      "source": [
        "**노트**: 사이킷런 0.22 버전부터는 `squared=False` 매개변수로 `mean_squared_error()` 함수를 호출하면 RMSE를 바로 얻을 수 있습니다."
      ]
    },
    {
      "cell_type": "code",
      "metadata": {
        "colab": {
          "base_uri": "https://localhost:8080/"
        },
        "id": "N6cU8Hjy0z7w",
        "outputId": "0588a1c1-8afc-41f2-c32e-42c47dc0c377"
      },
      "source": [
        "from sklearn.metrics import mean_absolute_error\n",
        "\n",
        "lin_mae = mean_absolute_error(housing_labels, housing_predictions)\n",
        "lin_mae"
      ],
      "execution_count": 99,
      "outputs": [
        {
          "output_type": "execute_result",
          "data": {
            "text/plain": [
              "49439.89599001897"
            ]
          },
          "metadata": {},
          "execution_count": 99
        }
      ]
    },
    {
      "cell_type": "code",
      "metadata": {
        "colab": {
          "base_uri": "https://localhost:8080/"
        },
        "id": "fqkG9pQf0z7w",
        "outputId": "d0a600bb-983e-4256-b285-19b1054d34f4"
      },
      "source": [
        "from sklearn.tree import DecisionTreeRegressor\n",
        "\n",
        "tree_reg = DecisionTreeRegressor(random_state=42)\n",
        "tree_reg.fit(housing_prepared, housing_labels)"
      ],
      "execution_count": 100,
      "outputs": [
        {
          "output_type": "execute_result",
          "data": {
            "text/plain": [
              "DecisionTreeRegressor(ccp_alpha=0.0, criterion='mse', max_depth=None,\n",
              "                      max_features=None, max_leaf_nodes=None,\n",
              "                      min_impurity_decrease=0.0, min_impurity_split=None,\n",
              "                      min_samples_leaf=1, min_samples_split=2,\n",
              "                      min_weight_fraction_leaf=0.0, presort='deprecated',\n",
              "                      random_state=42, splitter='best')"
            ]
          },
          "metadata": {},
          "execution_count": 100
        }
      ]
    },
    {
      "cell_type": "code",
      "metadata": {
        "colab": {
          "base_uri": "https://localhost:8080/"
        },
        "id": "oBi1-Bg10z7x",
        "outputId": "2e005ded-6f2d-445a-c5b1-172f8525b65f"
      },
      "source": [
        "housing_predictions = tree_reg.predict(housing_prepared)\n",
        "tree_mse = mean_squared_error(housing_labels, housing_predictions)\n",
        "tree_rmse = np.sqrt(tree_mse)\n",
        "tree_rmse"
      ],
      "execution_count": 101,
      "outputs": [
        {
          "output_type": "execute_result",
          "data": {
            "text/plain": [
              "0.0"
            ]
          },
          "metadata": {},
          "execution_count": 101
        }
      ]
    },
    {
      "cell_type": "markdown",
      "metadata": {
        "id": "6kDVQvHF0z7x"
      },
      "source": [
        "##### 1.2.2 교차 검증을 사용한 평가 (p. 112)"
      ]
    },
    {
      "cell_type": "code",
      "metadata": {
        "id": "Ot6HNpFy0z7x"
      },
      "source": [
        "from sklearn.model_selection import cross_val_score\n",
        "\n",
        "scores = cross_val_score(tree_reg, housing_prepared, housing_labels,\n",
        "                         scoring=\"neg_mean_squared_error\", cv=10)\n",
        "tree_rmse_scores = np.sqrt(-scores)"
      ],
      "execution_count": 102,
      "outputs": []
    },
    {
      "cell_type": "code",
      "metadata": {
        "colab": {
          "base_uri": "https://localhost:8080/"
        },
        "id": "bTVKAFEN0z7x",
        "outputId": "7ff249fe-02cd-49f6-a256-bf1e5aa5b927"
      },
      "source": [
        "def display_scores(scores):\n",
        "    print(\"점수:\", scores)\n",
        "    print(\"평균:\", scores.mean())\n",
        "    print(\"표준 편차:\", scores.std())\n",
        "\n",
        "display_scores(tree_rmse_scores)"
      ],
      "execution_count": 103,
      "outputs": [
        {
          "output_type": "stream",
          "name": "stdout",
          "text": [
            "점수: [70194.33680785 66855.16363941 72432.58244769 70758.73896782\n",
            " 71115.88230639 75585.14172901 70262.86139133 70273.6325285\n",
            " 75366.87952553 71231.65726027]\n",
            "평균: 71407.68766037929\n",
            "표준 편차: 2439.4345041191004\n"
          ]
        }
      ]
    },
    {
      "cell_type": "code",
      "metadata": {
        "colab": {
          "base_uri": "https://localhost:8080/"
        },
        "id": "DfVg8JTK0z7y",
        "outputId": "c4c89fc2-9b7c-41c0-c513-50523906c07d"
      },
      "source": [
        "lin_scores = cross_val_score(lin_reg, housing_prepared, housing_labels,\n",
        "                             scoring=\"neg_mean_squared_error\", cv=10)\n",
        "lin_rmse_scores = np.sqrt(-lin_scores)\n",
        "display_scores(lin_rmse_scores)"
      ],
      "execution_count": 104,
      "outputs": [
        {
          "output_type": "stream",
          "name": "stdout",
          "text": [
            "점수: [66782.73843989 66960.118071   70347.95244419 74739.57052552\n",
            " 68031.13388938 71193.84183426 64969.63056405 68281.61137997\n",
            " 71552.91566558 67665.10082067]\n",
            "평균: 69052.46136345083\n",
            "표준 편차: 2731.674001798344\n"
          ]
        }
      ]
    },
    {
      "cell_type": "markdown",
      "metadata": {
        "id": "pDiXsK-80z7y"
      },
      "source": [
        "**노트**: 사이킷런 0.22 버전에서 `n_estimators`의 기본값이 100으로 바뀌기 때문에 향후를 위해 `n_estimators=100`로 지정합니다(책에는 등장하지 않습니다)."
      ]
    },
    {
      "cell_type": "code",
      "metadata": {
        "colab": {
          "base_uri": "https://localhost:8080/"
        },
        "id": "rf9Dt63Z0z7y",
        "outputId": "7ca7bcc4-6436-44df-fd68-077d068a20b2"
      },
      "source": [
        "from sklearn.ensemble import RandomForestRegressor\n",
        "\n",
        "forest_reg = RandomForestRegressor(n_estimators=100, random_state=42)\n",
        "forest_reg.fit(housing_prepared, housing_labels)"
      ],
      "execution_count": 105,
      "outputs": [
        {
          "output_type": "execute_result",
          "data": {
            "text/plain": [
              "RandomForestRegressor(bootstrap=True, ccp_alpha=0.0, criterion='mse',\n",
              "                      max_depth=None, max_features='auto', max_leaf_nodes=None,\n",
              "                      max_samples=None, min_impurity_decrease=0.0,\n",
              "                      min_impurity_split=None, min_samples_leaf=1,\n",
              "                      min_samples_split=2, min_weight_fraction_leaf=0.0,\n",
              "                      n_estimators=100, n_jobs=None, oob_score=False,\n",
              "                      random_state=42, verbose=0, warm_start=False)"
            ]
          },
          "metadata": {},
          "execution_count": 105
        }
      ]
    },
    {
      "cell_type": "code",
      "metadata": {
        "colab": {
          "base_uri": "https://localhost:8080/"
        },
        "id": "ZbEIndvR0z7z",
        "outputId": "e888513f-fd26-4e85-cd19-8ebfc9ccd610"
      },
      "source": [
        "housing_predictions = forest_reg.predict(housing_prepared)\n",
        "forest_mse = mean_squared_error(housing_labels, housing_predictions)\n",
        "forest_rmse = np.sqrt(forest_mse)\n",
        "forest_rmse"
      ],
      "execution_count": 106,
      "outputs": [
        {
          "output_type": "execute_result",
          "data": {
            "text/plain": [
              "18603.515021376355"
            ]
          },
          "metadata": {},
          "execution_count": 106
        }
      ]
    },
    {
      "cell_type": "code",
      "metadata": {
        "colab": {
          "base_uri": "https://localhost:8080/"
        },
        "id": "Ze0T0dlt0z7z",
        "outputId": "a92c57b5-97d9-471e-aa5b-b39b3ab00575"
      },
      "source": [
        "from sklearn.model_selection import cross_val_score\n",
        "\n",
        "forest_scores = cross_val_score(forest_reg, housing_prepared, housing_labels,\n",
        "                                scoring=\"neg_mean_squared_error\", cv=10)\n",
        "forest_rmse_scores = np.sqrt(-forest_scores)\n",
        "display_scores(forest_rmse_scores)"
      ],
      "execution_count": 107,
      "outputs": [
        {
          "output_type": "stream",
          "name": "stdout",
          "text": [
            "점수: [49519.80364233 47461.9115823  50029.02762854 52325.28068953\n",
            " 49308.39426421 53446.37892622 48634.8036574  47585.73832311\n",
            " 53490.10699751 50021.5852922 ]\n",
            "평균: 50182.303100336096\n",
            "표준 편차: 2097.0810550985693\n"
          ]
        }
      ]
    },
    {
      "cell_type": "code",
      "metadata": {
        "colab": {
          "base_uri": "https://localhost:8080/"
        },
        "id": "ggE-wpUa0z7z",
        "outputId": "30214be0-60f4-4ef8-9e0b-ed87cea29e0a"
      },
      "source": [
        "scores = cross_val_score(lin_reg, housing_prepared, housing_labels, scoring=\"neg_mean_squared_error\", cv=10)\n",
        "pd.Series(np.sqrt(-scores)).describe()"
      ],
      "execution_count": 108,
      "outputs": [
        {
          "output_type": "execute_result",
          "data": {
            "text/plain": [
              "count       10.000000\n",
              "mean     69052.461363\n",
              "std       2879.437224\n",
              "min      64969.630564\n",
              "25%      67136.363758\n",
              "50%      68156.372635\n",
              "75%      70982.369487\n",
              "max      74739.570526\n",
              "dtype: float64"
            ]
          },
          "metadata": {},
          "execution_count": 108
        }
      ]
    },
    {
      "cell_type": "code",
      "metadata": {
        "colab": {
          "base_uri": "https://localhost:8080/"
        },
        "id": "SBvuTRZG0z7z",
        "outputId": "fec4b48a-effc-44ef-c41a-47edcf24d6f0"
      },
      "source": [
        "from sklearn.svm import SVR\n",
        "\n",
        "svm_reg = SVR(kernel=\"linear\")\n",
        "svm_reg.fit(housing_prepared, housing_labels)\n",
        "housing_predictions = svm_reg.predict(housing_prepared)\n",
        "svm_mse = mean_squared_error(housing_labels, housing_predictions)\n",
        "svm_rmse = np.sqrt(svm_mse)\n",
        "svm_rmse"
      ],
      "execution_count": 109,
      "outputs": [
        {
          "output_type": "execute_result",
          "data": {
            "text/plain": [
              "111094.6308539982"
            ]
          },
          "metadata": {},
          "execution_count": 109
        }
      ]
    },
    {
      "cell_type": "markdown",
      "metadata": {
        "id": "Becgowul0z70"
      },
      "source": [
        "#### **1.3 모델 세부 튜팅**"
      ]
    },
    {
      "cell_type": "markdown",
      "metadata": {
        "id": "mor1dgqm0z70"
      },
      "source": [
        "##### 1.3.1 그리드 탐색 (p.115)"
      ]
    },
    {
      "cell_type": "code",
      "metadata": {
        "colab": {
          "base_uri": "https://localhost:8080/"
        },
        "id": "np17DUAF0z70",
        "scrolled": true,
        "outputId": "7ad350ec-e69b-454f-a7da-1f80073af87a"
      },
      "source": [
        "from sklearn.model_selection import GridSearchCV\n",
        "\n",
        "param_grid = [\n",
        "    # 12(=3×4)개의 하이퍼파라미터 조합을 시도합니다.\n",
        "    {'n_estimators': [3, 10, 30], 'max_features': [2, 4, 6, 8]},\n",
        "    # bootstrap은 False로 하고 6(=2×3)개의 조합을 시도합니다.\n",
        "    {'bootstrap': [False], 'n_estimators': [3, 10], 'max_features': [2, 3, 4]},\n",
        "  ]\n",
        "\n",
        "forest_reg = RandomForestRegressor(random_state=42)\n",
        "# 다섯 개의 폴드로 훈련하면 총 (12+6)*5=90번의 훈련이 일어납니다.\n",
        "grid_search = GridSearchCV(forest_reg, param_grid, cv=5,\n",
        "                           scoring='neg_mean_squared_error',\n",
        "                           return_train_score=True)\n",
        "grid_search.fit(housing_prepared, housing_labels)"
      ],
      "execution_count": 110,
      "outputs": [
        {
          "output_type": "execute_result",
          "data": {
            "text/plain": [
              "GridSearchCV(cv=5, error_score=nan,\n",
              "             estimator=RandomForestRegressor(bootstrap=True, ccp_alpha=0.0,\n",
              "                                             criterion='mse', max_depth=None,\n",
              "                                             max_features='auto',\n",
              "                                             max_leaf_nodes=None,\n",
              "                                             max_samples=None,\n",
              "                                             min_impurity_decrease=0.0,\n",
              "                                             min_impurity_split=None,\n",
              "                                             min_samples_leaf=1,\n",
              "                                             min_samples_split=2,\n",
              "                                             min_weight_fraction_leaf=0.0,\n",
              "                                             n_estimators=100, n_jobs=None,\n",
              "                                             oob_score=False, random_state=42,\n",
              "                                             verbose=0, warm_start=False),\n",
              "             iid='deprecated', n_jobs=None,\n",
              "             param_grid=[{'max_features': [2, 4, 6, 8],\n",
              "                          'n_estimators': [3, 10, 30]},\n",
              "                         {'bootstrap': [False], 'max_features': [2, 3, 4],\n",
              "                          'n_estimators': [3, 10]}],\n",
              "             pre_dispatch='2*n_jobs', refit=True, return_train_score=True,\n",
              "             scoring='neg_mean_squared_error', verbose=0)"
            ]
          },
          "metadata": {},
          "execution_count": 110
        }
      ]
    },
    {
      "cell_type": "markdown",
      "metadata": {
        "id": "ZU00uenS0z73"
      },
      "source": [
        "최상의 파라미터 조합은 다음과 같습니다:"
      ]
    },
    {
      "cell_type": "code",
      "metadata": {
        "colab": {
          "base_uri": "https://localhost:8080/"
        },
        "id": "F3RMJFQw0z73",
        "outputId": "c0a04203-38f5-47dd-bbf4-5932d811fa21"
      },
      "source": [
        "grid_search.best_params_"
      ],
      "execution_count": 111,
      "outputs": [
        {
          "output_type": "execute_result",
          "data": {
            "text/plain": [
              "{'max_features': 8, 'n_estimators': 30}"
            ]
          },
          "metadata": {},
          "execution_count": 111
        }
      ]
    },
    {
      "cell_type": "code",
      "metadata": {
        "colab": {
          "base_uri": "https://localhost:8080/"
        },
        "id": "mBCYyvoC0z73",
        "outputId": "f0886f4e-f29a-4668-86cd-d409bf2a7eee"
      },
      "source": [
        "grid_search.best_estimator_"
      ],
      "execution_count": 112,
      "outputs": [
        {
          "output_type": "execute_result",
          "data": {
            "text/plain": [
              "RandomForestRegressor(bootstrap=True, ccp_alpha=0.0, criterion='mse',\n",
              "                      max_depth=None, max_features=8, max_leaf_nodes=None,\n",
              "                      max_samples=None, min_impurity_decrease=0.0,\n",
              "                      min_impurity_split=None, min_samples_leaf=1,\n",
              "                      min_samples_split=2, min_weight_fraction_leaf=0.0,\n",
              "                      n_estimators=30, n_jobs=None, oob_score=False,\n",
              "                      random_state=42, verbose=0, warm_start=False)"
            ]
          },
          "metadata": {},
          "execution_count": 112
        }
      ]
    },
    {
      "cell_type": "markdown",
      "metadata": {
        "id": "Ea6dp2VY0z73"
      },
      "source": [
        "그리드서치에서 테스트한 하이퍼파라미터 조합의 점수를 확인합니다:"
      ]
    },
    {
      "cell_type": "code",
      "metadata": {
        "colab": {
          "base_uri": "https://localhost:8080/"
        },
        "id": "8--Zk7X30z73",
        "outputId": "0a0f4152-320d-4d6f-c78a-69f5eb7d8765"
      },
      "source": [
        "cvres = grid_search.cv_results_\n",
        "for mean_score, params in zip(cvres[\"mean_test_score\"], cvres[\"params\"]):\n",
        "    print(np.sqrt(-mean_score), params)"
      ],
      "execution_count": 113,
      "outputs": [
        {
          "output_type": "stream",
          "name": "stdout",
          "text": [
            "63669.11631261028 {'max_features': 2, 'n_estimators': 3}\n",
            "55627.099719926795 {'max_features': 2, 'n_estimators': 10}\n",
            "53384.57275149205 {'max_features': 2, 'n_estimators': 30}\n",
            "60965.950449450494 {'max_features': 4, 'n_estimators': 3}\n",
            "52741.04704299915 {'max_features': 4, 'n_estimators': 10}\n",
            "50377.40461678399 {'max_features': 4, 'n_estimators': 30}\n",
            "58663.93866579625 {'max_features': 6, 'n_estimators': 3}\n",
            "52006.19873526564 {'max_features': 6, 'n_estimators': 10}\n",
            "50146.51167415009 {'max_features': 6, 'n_estimators': 30}\n",
            "57869.25276169646 {'max_features': 8, 'n_estimators': 3}\n",
            "51711.127883959234 {'max_features': 8, 'n_estimators': 10}\n",
            "49682.273345071546 {'max_features': 8, 'n_estimators': 30}\n",
            "62895.06951262424 {'bootstrap': False, 'max_features': 2, 'n_estimators': 3}\n",
            "54658.176157539405 {'bootstrap': False, 'max_features': 2, 'n_estimators': 10}\n",
            "59470.40652318466 {'bootstrap': False, 'max_features': 3, 'n_estimators': 3}\n",
            "52724.9822587892 {'bootstrap': False, 'max_features': 3, 'n_estimators': 10}\n",
            "57490.5691951261 {'bootstrap': False, 'max_features': 4, 'n_estimators': 3}\n",
            "51009.495668875716 {'bootstrap': False, 'max_features': 4, 'n_estimators': 10}\n"
          ]
        }
      ]
    },
    {
      "cell_type": "code",
      "metadata": {
        "colab": {
          "base_uri": "https://localhost:8080/",
          "height": 0
        },
        "id": "6h2k3irk0z74",
        "outputId": "469f482e-eced-460e-997e-92751fecddda"
      },
      "source": [
        "pd.DataFrame(grid_search.cv_results_)"
      ],
      "execution_count": 114,
      "outputs": [
        {
          "output_type": "execute_result",
          "data": {
            "text/html": [
              "<div>\n",
              "<style scoped>\n",
              "    .dataframe tbody tr th:only-of-type {\n",
              "        vertical-align: middle;\n",
              "    }\n",
              "\n",
              "    .dataframe tbody tr th {\n",
              "        vertical-align: top;\n",
              "    }\n",
              "\n",
              "    .dataframe thead th {\n",
              "        text-align: right;\n",
              "    }\n",
              "</style>\n",
              "<table border=\"1\" class=\"dataframe\">\n",
              "  <thead>\n",
              "    <tr style=\"text-align: right;\">\n",
              "      <th></th>\n",
              "      <th>mean_fit_time</th>\n",
              "      <th>std_fit_time</th>\n",
              "      <th>mean_score_time</th>\n",
              "      <th>std_score_time</th>\n",
              "      <th>param_max_features</th>\n",
              "      <th>param_n_estimators</th>\n",
              "      <th>param_bootstrap</th>\n",
              "      <th>params</th>\n",
              "      <th>split0_test_score</th>\n",
              "      <th>split1_test_score</th>\n",
              "      <th>split2_test_score</th>\n",
              "      <th>split3_test_score</th>\n",
              "      <th>split4_test_score</th>\n",
              "      <th>mean_test_score</th>\n",
              "      <th>std_test_score</th>\n",
              "      <th>rank_test_score</th>\n",
              "      <th>split0_train_score</th>\n",
              "      <th>split1_train_score</th>\n",
              "      <th>split2_train_score</th>\n",
              "      <th>split3_train_score</th>\n",
              "      <th>split4_train_score</th>\n",
              "      <th>mean_train_score</th>\n",
              "      <th>std_train_score</th>\n",
              "    </tr>\n",
              "  </thead>\n",
              "  <tbody>\n",
              "    <tr>\n",
              "      <th>0</th>\n",
              "      <td>0.073731</td>\n",
              "      <td>0.002673</td>\n",
              "      <td>0.003784</td>\n",
              "      <td>0.000258</td>\n",
              "      <td>2</td>\n",
              "      <td>3</td>\n",
              "      <td>NaN</td>\n",
              "      <td>{'max_features': 2, 'n_estimators': 3}</td>\n",
              "      <td>-3.837622e+09</td>\n",
              "      <td>-4.147108e+09</td>\n",
              "      <td>-4.196408e+09</td>\n",
              "      <td>-3.903319e+09</td>\n",
              "      <td>-4.184325e+09</td>\n",
              "      <td>-4.053756e+09</td>\n",
              "      <td>1.519591e+08</td>\n",
              "      <td>18</td>\n",
              "      <td>-1.064113e+09</td>\n",
              "      <td>-1.105142e+09</td>\n",
              "      <td>-1.116550e+09</td>\n",
              "      <td>-1.112342e+09</td>\n",
              "      <td>-1.129650e+09</td>\n",
              "      <td>-1.105559e+09</td>\n",
              "      <td>2.220402e+07</td>\n",
              "    </tr>\n",
              "    <tr>\n",
              "      <th>1</th>\n",
              "      <td>0.241444</td>\n",
              "      <td>0.004026</td>\n",
              "      <td>0.011805</td>\n",
              "      <td>0.000578</td>\n",
              "      <td>2</td>\n",
              "      <td>10</td>\n",
              "      <td>NaN</td>\n",
              "      <td>{'max_features': 2, 'n_estimators': 10}</td>\n",
              "      <td>-3.047771e+09</td>\n",
              "      <td>-3.254861e+09</td>\n",
              "      <td>-3.130196e+09</td>\n",
              "      <td>-2.865188e+09</td>\n",
              "      <td>-3.173856e+09</td>\n",
              "      <td>-3.094374e+09</td>\n",
              "      <td>1.327062e+08</td>\n",
              "      <td>11</td>\n",
              "      <td>-5.927175e+08</td>\n",
              "      <td>-5.870952e+08</td>\n",
              "      <td>-5.776964e+08</td>\n",
              "      <td>-5.716332e+08</td>\n",
              "      <td>-5.802501e+08</td>\n",
              "      <td>-5.818785e+08</td>\n",
              "      <td>7.345821e+06</td>\n",
              "    </tr>\n",
              "    <tr>\n",
              "      <th>2</th>\n",
              "      <td>0.722058</td>\n",
              "      <td>0.004012</td>\n",
              "      <td>0.033404</td>\n",
              "      <td>0.001739</td>\n",
              "      <td>2</td>\n",
              "      <td>30</td>\n",
              "      <td>NaN</td>\n",
              "      <td>{'max_features': 2, 'n_estimators': 30}</td>\n",
              "      <td>-2.689185e+09</td>\n",
              "      <td>-3.021086e+09</td>\n",
              "      <td>-2.948330e+09</td>\n",
              "      <td>-2.619995e+09</td>\n",
              "      <td>-2.970968e+09</td>\n",
              "      <td>-2.849913e+09</td>\n",
              "      <td>1.626875e+08</td>\n",
              "      <td>9</td>\n",
              "      <td>-4.381089e+08</td>\n",
              "      <td>-4.391272e+08</td>\n",
              "      <td>-4.371702e+08</td>\n",
              "      <td>-4.376955e+08</td>\n",
              "      <td>-4.452654e+08</td>\n",
              "      <td>-4.394734e+08</td>\n",
              "      <td>2.966320e+06</td>\n",
              "    </tr>\n",
              "    <tr>\n",
              "      <th>3</th>\n",
              "      <td>0.123552</td>\n",
              "      <td>0.006327</td>\n",
              "      <td>0.004670</td>\n",
              "      <td>0.000970</td>\n",
              "      <td>4</td>\n",
              "      <td>3</td>\n",
              "      <td>NaN</td>\n",
              "      <td>{'max_features': 4, 'n_estimators': 3}</td>\n",
              "      <td>-3.730181e+09</td>\n",
              "      <td>-3.786886e+09</td>\n",
              "      <td>-3.734515e+09</td>\n",
              "      <td>-3.418747e+09</td>\n",
              "      <td>-3.913907e+09</td>\n",
              "      <td>-3.716847e+09</td>\n",
              "      <td>1.631510e+08</td>\n",
              "      <td>16</td>\n",
              "      <td>-9.865163e+08</td>\n",
              "      <td>-1.012565e+09</td>\n",
              "      <td>-9.169425e+08</td>\n",
              "      <td>-1.037400e+09</td>\n",
              "      <td>-9.707739e+08</td>\n",
              "      <td>-9.848396e+08</td>\n",
              "      <td>4.084607e+07</td>\n",
              "    </tr>\n",
              "    <tr>\n",
              "      <th>4</th>\n",
              "      <td>0.397702</td>\n",
              "      <td>0.002596</td>\n",
              "      <td>0.011654</td>\n",
              "      <td>0.000084</td>\n",
              "      <td>4</td>\n",
              "      <td>10</td>\n",
              "      <td>NaN</td>\n",
              "      <td>{'max_features': 4, 'n_estimators': 10}</td>\n",
              "      <td>-2.666283e+09</td>\n",
              "      <td>-2.784511e+09</td>\n",
              "      <td>-2.892276e+09</td>\n",
              "      <td>-2.616813e+09</td>\n",
              "      <td>-2.948207e+09</td>\n",
              "      <td>-2.781618e+09</td>\n",
              "      <td>1.268607e+08</td>\n",
              "      <td>8</td>\n",
              "      <td>-5.097115e+08</td>\n",
              "      <td>-5.162820e+08</td>\n",
              "      <td>-4.962893e+08</td>\n",
              "      <td>-5.436192e+08</td>\n",
              "      <td>-5.160297e+08</td>\n",
              "      <td>-5.163863e+08</td>\n",
              "      <td>1.542862e+07</td>\n",
              "    </tr>\n",
              "    <tr>\n",
              "      <th>5</th>\n",
              "      <td>1.184642</td>\n",
              "      <td>0.007795</td>\n",
              "      <td>0.033259</td>\n",
              "      <td>0.001447</td>\n",
              "      <td>4</td>\n",
              "      <td>30</td>\n",
              "      <td>NaN</td>\n",
              "      <td>{'max_features': 4, 'n_estimators': 30}</td>\n",
              "      <td>-2.387153e+09</td>\n",
              "      <td>-2.588448e+09</td>\n",
              "      <td>-2.666426e+09</td>\n",
              "      <td>-2.398071e+09</td>\n",
              "      <td>-2.649316e+09</td>\n",
              "      <td>-2.537883e+09</td>\n",
              "      <td>1.214614e+08</td>\n",
              "      <td>3</td>\n",
              "      <td>-3.838835e+08</td>\n",
              "      <td>-3.880268e+08</td>\n",
              "      <td>-3.790867e+08</td>\n",
              "      <td>-4.040957e+08</td>\n",
              "      <td>-3.845520e+08</td>\n",
              "      <td>-3.879289e+08</td>\n",
              "      <td>8.571233e+06</td>\n",
              "    </tr>\n",
              "    <tr>\n",
              "      <th>6</th>\n",
              "      <td>0.164980</td>\n",
              "      <td>0.004086</td>\n",
              "      <td>0.004331</td>\n",
              "      <td>0.000024</td>\n",
              "      <td>6</td>\n",
              "      <td>3</td>\n",
              "      <td>NaN</td>\n",
              "      <td>{'max_features': 6, 'n_estimators': 3}</td>\n",
              "      <td>-3.119657e+09</td>\n",
              "      <td>-3.586319e+09</td>\n",
              "      <td>-3.592772e+09</td>\n",
              "      <td>-3.328934e+09</td>\n",
              "      <td>-3.579607e+09</td>\n",
              "      <td>-3.441458e+09</td>\n",
              "      <td>1.893056e+08</td>\n",
              "      <td>14</td>\n",
              "      <td>-9.245343e+08</td>\n",
              "      <td>-8.886939e+08</td>\n",
              "      <td>-9.353135e+08</td>\n",
              "      <td>-9.009801e+08</td>\n",
              "      <td>-8.624664e+08</td>\n",
              "      <td>-9.023976e+08</td>\n",
              "      <td>2.591445e+07</td>\n",
              "    </tr>\n",
              "    <tr>\n",
              "      <th>7</th>\n",
              "      <td>0.548568</td>\n",
              "      <td>0.006016</td>\n",
              "      <td>0.012129</td>\n",
              "      <td>0.000764</td>\n",
              "      <td>6</td>\n",
              "      <td>10</td>\n",
              "      <td>NaN</td>\n",
              "      <td>{'max_features': 6, 'n_estimators': 10}</td>\n",
              "      <td>-2.549663e+09</td>\n",
              "      <td>-2.782039e+09</td>\n",
              "      <td>-2.762720e+09</td>\n",
              "      <td>-2.521134e+09</td>\n",
              "      <td>-2.907667e+09</td>\n",
              "      <td>-2.704645e+09</td>\n",
              "      <td>1.471569e+08</td>\n",
              "      <td>6</td>\n",
              "      <td>-4.980344e+08</td>\n",
              "      <td>-5.045869e+08</td>\n",
              "      <td>-4.994664e+08</td>\n",
              "      <td>-4.990325e+08</td>\n",
              "      <td>-5.055542e+08</td>\n",
              "      <td>-5.013349e+08</td>\n",
              "      <td>3.100456e+06</td>\n",
              "    </tr>\n",
              "    <tr>\n",
              "      <th>8</th>\n",
              "      <td>1.688891</td>\n",
              "      <td>0.007969</td>\n",
              "      <td>0.033008</td>\n",
              "      <td>0.000419</td>\n",
              "      <td>6</td>\n",
              "      <td>30</td>\n",
              "      <td>NaN</td>\n",
              "      <td>{'max_features': 6, 'n_estimators': 30}</td>\n",
              "      <td>-2.370010e+09</td>\n",
              "      <td>-2.583638e+09</td>\n",
              "      <td>-2.607703e+09</td>\n",
              "      <td>-2.350953e+09</td>\n",
              "      <td>-2.661059e+09</td>\n",
              "      <td>-2.514673e+09</td>\n",
              "      <td>1.285080e+08</td>\n",
              "      <td>2</td>\n",
              "      <td>-3.838538e+08</td>\n",
              "      <td>-3.804711e+08</td>\n",
              "      <td>-3.805218e+08</td>\n",
              "      <td>-3.856095e+08</td>\n",
              "      <td>-3.901917e+08</td>\n",
              "      <td>-3.841296e+08</td>\n",
              "      <td>3.617057e+06</td>\n",
              "    </tr>\n",
              "    <tr>\n",
              "      <th>9</th>\n",
              "      <td>0.211458</td>\n",
              "      <td>0.003894</td>\n",
              "      <td>0.004566</td>\n",
              "      <td>0.000397</td>\n",
              "      <td>8</td>\n",
              "      <td>3</td>\n",
              "      <td>NaN</td>\n",
              "      <td>{'max_features': 8, 'n_estimators': 3}</td>\n",
              "      <td>-3.353504e+09</td>\n",
              "      <td>-3.348552e+09</td>\n",
              "      <td>-3.402843e+09</td>\n",
              "      <td>-3.129307e+09</td>\n",
              "      <td>-3.510047e+09</td>\n",
              "      <td>-3.348850e+09</td>\n",
              "      <td>1.241939e+08</td>\n",
              "      <td>13</td>\n",
              "      <td>-9.228123e+08</td>\n",
              "      <td>-8.553031e+08</td>\n",
              "      <td>-8.603321e+08</td>\n",
              "      <td>-8.881964e+08</td>\n",
              "      <td>-9.151287e+08</td>\n",
              "      <td>-8.883545e+08</td>\n",
              "      <td>2.750227e+07</td>\n",
              "    </tr>\n",
              "    <tr>\n",
              "      <th>10</th>\n",
              "      <td>0.706878</td>\n",
              "      <td>0.003354</td>\n",
              "      <td>0.012055</td>\n",
              "      <td>0.000472</td>\n",
              "      <td>8</td>\n",
              "      <td>10</td>\n",
              "      <td>NaN</td>\n",
              "      <td>{'max_features': 8, 'n_estimators': 10}</td>\n",
              "      <td>-2.571970e+09</td>\n",
              "      <td>-2.718994e+09</td>\n",
              "      <td>-2.842317e+09</td>\n",
              "      <td>-2.460258e+09</td>\n",
              "      <td>-2.776666e+09</td>\n",
              "      <td>-2.674041e+09</td>\n",
              "      <td>1.392777e+08</td>\n",
              "      <td>5</td>\n",
              "      <td>-4.932416e+08</td>\n",
              "      <td>-4.815238e+08</td>\n",
              "      <td>-4.730979e+08</td>\n",
              "      <td>-5.155367e+08</td>\n",
              "      <td>-4.985555e+08</td>\n",
              "      <td>-4.923911e+08</td>\n",
              "      <td>1.459294e+07</td>\n",
              "    </tr>\n",
              "    <tr>\n",
              "      <th>11</th>\n",
              "      <td>2.136063</td>\n",
              "      <td>0.009669</td>\n",
              "      <td>0.033142</td>\n",
              "      <td>0.000566</td>\n",
              "      <td>8</td>\n",
              "      <td>30</td>\n",
              "      <td>NaN</td>\n",
              "      <td>{'max_features': 8, 'n_estimators': 30}</td>\n",
              "      <td>-2.357390e+09</td>\n",
              "      <td>-2.546640e+09</td>\n",
              "      <td>-2.591972e+09</td>\n",
              "      <td>-2.318617e+09</td>\n",
              "      <td>-2.527022e+09</td>\n",
              "      <td>-2.468328e+09</td>\n",
              "      <td>1.091662e+08</td>\n",
              "      <td>1</td>\n",
              "      <td>-3.841658e+08</td>\n",
              "      <td>-3.744500e+08</td>\n",
              "      <td>-3.773239e+08</td>\n",
              "      <td>-3.882250e+08</td>\n",
              "      <td>-3.810005e+08</td>\n",
              "      <td>-3.810330e+08</td>\n",
              "      <td>4.871017e+06</td>\n",
              "    </tr>\n",
              "    <tr>\n",
              "      <th>12</th>\n",
              "      <td>0.116699</td>\n",
              "      <td>0.004408</td>\n",
              "      <td>0.004950</td>\n",
              "      <td>0.000366</td>\n",
              "      <td>2</td>\n",
              "      <td>3</td>\n",
              "      <td>False</td>\n",
              "      <td>{'bootstrap': False, 'max_features': 2, 'n_est...</td>\n",
              "      <td>-3.785816e+09</td>\n",
              "      <td>-4.166012e+09</td>\n",
              "      <td>-4.061751e+09</td>\n",
              "      <td>-3.675704e+09</td>\n",
              "      <td>-4.089667e+09</td>\n",
              "      <td>-3.955790e+09</td>\n",
              "      <td>1.900964e+08</td>\n",
              "      <td>17</td>\n",
              "      <td>-0.000000e+00</td>\n",
              "      <td>-0.000000e+00</td>\n",
              "      <td>-0.000000e+00</td>\n",
              "      <td>-0.000000e+00</td>\n",
              "      <td>-0.000000e+00</td>\n",
              "      <td>0.000000e+00</td>\n",
              "      <td>0.000000e+00</td>\n",
              "    </tr>\n",
              "    <tr>\n",
              "      <th>13</th>\n",
              "      <td>0.385635</td>\n",
              "      <td>0.003756</td>\n",
              "      <td>0.014161</td>\n",
              "      <td>0.000170</td>\n",
              "      <td>2</td>\n",
              "      <td>10</td>\n",
              "      <td>False</td>\n",
              "      <td>{'bootstrap': False, 'max_features': 2, 'n_est...</td>\n",
              "      <td>-2.810721e+09</td>\n",
              "      <td>-3.107789e+09</td>\n",
              "      <td>-3.131187e+09</td>\n",
              "      <td>-2.788537e+09</td>\n",
              "      <td>-3.099347e+09</td>\n",
              "      <td>-2.987516e+09</td>\n",
              "      <td>1.539234e+08</td>\n",
              "      <td>10</td>\n",
              "      <td>-6.056477e-02</td>\n",
              "      <td>-0.000000e+00</td>\n",
              "      <td>-0.000000e+00</td>\n",
              "      <td>-0.000000e+00</td>\n",
              "      <td>-2.967449e+00</td>\n",
              "      <td>-6.056027e-01</td>\n",
              "      <td>1.181156e+00</td>\n",
              "    </tr>\n",
              "    <tr>\n",
              "      <th>14</th>\n",
              "      <td>0.156665</td>\n",
              "      <td>0.006352</td>\n",
              "      <td>0.005144</td>\n",
              "      <td>0.000394</td>\n",
              "      <td>3</td>\n",
              "      <td>3</td>\n",
              "      <td>False</td>\n",
              "      <td>{'bootstrap': False, 'max_features': 3, 'n_est...</td>\n",
              "      <td>-3.618324e+09</td>\n",
              "      <td>-3.441527e+09</td>\n",
              "      <td>-3.554815e+09</td>\n",
              "      <td>-3.619116e+09</td>\n",
              "      <td>-3.449864e+09</td>\n",
              "      <td>-3.536729e+09</td>\n",
              "      <td>7.795057e+07</td>\n",
              "      <td>15</td>\n",
              "      <td>-0.000000e+00</td>\n",
              "      <td>-0.000000e+00</td>\n",
              "      <td>-0.000000e+00</td>\n",
              "      <td>-0.000000e+00</td>\n",
              "      <td>-6.072840e+01</td>\n",
              "      <td>-1.214568e+01</td>\n",
              "      <td>2.429136e+01</td>\n",
              "    </tr>\n",
              "    <tr>\n",
              "      <th>15</th>\n",
              "      <td>0.511932</td>\n",
              "      <td>0.007068</td>\n",
              "      <td>0.014049</td>\n",
              "      <td>0.000231</td>\n",
              "      <td>3</td>\n",
              "      <td>10</td>\n",
              "      <td>False</td>\n",
              "      <td>{'bootstrap': False, 'max_features': 3, 'n_est...</td>\n",
              "      <td>-2.757999e+09</td>\n",
              "      <td>-2.851737e+09</td>\n",
              "      <td>-2.830927e+09</td>\n",
              "      <td>-2.672765e+09</td>\n",
              "      <td>-2.786190e+09</td>\n",
              "      <td>-2.779924e+09</td>\n",
              "      <td>6.286720e+07</td>\n",
              "      <td>7</td>\n",
              "      <td>-2.089484e+01</td>\n",
              "      <td>-0.000000e+00</td>\n",
              "      <td>-0.000000e+00</td>\n",
              "      <td>-0.000000e+00</td>\n",
              "      <td>-5.465556e+00</td>\n",
              "      <td>-5.272080e+00</td>\n",
              "      <td>8.093117e+00</td>\n",
              "    </tr>\n",
              "    <tr>\n",
              "      <th>16</th>\n",
              "      <td>0.192362</td>\n",
              "      <td>0.002343</td>\n",
              "      <td>0.004981</td>\n",
              "      <td>0.000120</td>\n",
              "      <td>4</td>\n",
              "      <td>3</td>\n",
              "      <td>False</td>\n",
              "      <td>{'bootstrap': False, 'max_features': 4, 'n_est...</td>\n",
              "      <td>-3.134040e+09</td>\n",
              "      <td>-3.559375e+09</td>\n",
              "      <td>-3.440422e+09</td>\n",
              "      <td>-3.053647e+09</td>\n",
              "      <td>-3.338344e+09</td>\n",
              "      <td>-3.305166e+09</td>\n",
              "      <td>1.879165e+08</td>\n",
              "      <td>12</td>\n",
              "      <td>-0.000000e+00</td>\n",
              "      <td>-0.000000e+00</td>\n",
              "      <td>-0.000000e+00</td>\n",
              "      <td>-0.000000e+00</td>\n",
              "      <td>-0.000000e+00</td>\n",
              "      <td>0.000000e+00</td>\n",
              "      <td>0.000000e+00</td>\n",
              "    </tr>\n",
              "    <tr>\n",
              "      <th>17</th>\n",
              "      <td>0.639815</td>\n",
              "      <td>0.002047</td>\n",
              "      <td>0.014372</td>\n",
              "      <td>0.000609</td>\n",
              "      <td>4</td>\n",
              "      <td>10</td>\n",
              "      <td>False</td>\n",
              "      <td>{'bootstrap': False, 'max_features': 4, 'n_est...</td>\n",
              "      <td>-2.525578e+09</td>\n",
              "      <td>-2.710011e+09</td>\n",
              "      <td>-2.609100e+09</td>\n",
              "      <td>-2.439607e+09</td>\n",
              "      <td>-2.725548e+09</td>\n",
              "      <td>-2.601969e+09</td>\n",
              "      <td>1.088048e+08</td>\n",
              "      <td>4</td>\n",
              "      <td>-0.000000e+00</td>\n",
              "      <td>-1.514119e-02</td>\n",
              "      <td>-0.000000e+00</td>\n",
              "      <td>-0.000000e+00</td>\n",
              "      <td>-0.000000e+00</td>\n",
              "      <td>-3.028238e-03</td>\n",
              "      <td>6.056477e-03</td>\n",
              "    </tr>\n",
              "  </tbody>\n",
              "</table>\n",
              "</div>"
            ],
            "text/plain": [
              "    mean_fit_time  std_fit_time  ...  mean_train_score  std_train_score\n",
              "0        0.073731      0.002673  ...     -1.105559e+09     2.220402e+07\n",
              "1        0.241444      0.004026  ...     -5.818785e+08     7.345821e+06\n",
              "2        0.722058      0.004012  ...     -4.394734e+08     2.966320e+06\n",
              "3        0.123552      0.006327  ...     -9.848396e+08     4.084607e+07\n",
              "4        0.397702      0.002596  ...     -5.163863e+08     1.542862e+07\n",
              "5        1.184642      0.007795  ...     -3.879289e+08     8.571233e+06\n",
              "6        0.164980      0.004086  ...     -9.023976e+08     2.591445e+07\n",
              "7        0.548568      0.006016  ...     -5.013349e+08     3.100456e+06\n",
              "8        1.688891      0.007969  ...     -3.841296e+08     3.617057e+06\n",
              "9        0.211458      0.003894  ...     -8.883545e+08     2.750227e+07\n",
              "10       0.706878      0.003354  ...     -4.923911e+08     1.459294e+07\n",
              "11       2.136063      0.009669  ...     -3.810330e+08     4.871017e+06\n",
              "12       0.116699      0.004408  ...      0.000000e+00     0.000000e+00\n",
              "13       0.385635      0.003756  ...     -6.056027e-01     1.181156e+00\n",
              "14       0.156665      0.006352  ...     -1.214568e+01     2.429136e+01\n",
              "15       0.511932      0.007068  ...     -5.272080e+00     8.093117e+00\n",
              "16       0.192362      0.002343  ...      0.000000e+00     0.000000e+00\n",
              "17       0.639815      0.002047  ...     -3.028238e-03     6.056477e-03\n",
              "\n",
              "[18 rows x 23 columns]"
            ]
          },
          "metadata": {},
          "execution_count": 114
        }
      ]
    },
    {
      "cell_type": "markdown",
      "metadata": {
        "id": "TDwTUVam0z74"
      },
      "source": [
        "데이터 전처리와 그리드 탐색을 연결한 파이프라인을 이용하면 전처리 단계에서 \n",
        "설정해야 하는 값들을 일종의 하이퍼파라미터로 다룰 수 있다.\n",
        "예를 들어, \n",
        "\n",
        "* `CombinedAttributesAdder` 클래스의 객체를 생성할 때 지정하는 `add_bedrooms_per_room` 옵션 변수 값 지정하기\n",
        "* 이상치 처리하기\n",
        "* 누락된 값 처리하기\n",
        "* 특성 선택하기\n",
        "\n",
        "등에 대해 어떻게 설정하는 것이 좋은지도 함께 찾아준다. \n",
        "조금은 고급 기술이지만, 지금까지 배운 내용을 이해한다면\n",
        "어렵지 않게 적용할 수 있는 기술이다. \n",
        "파이프라인과 그리드 탐색을 연동한 예제들을 아래 사이트에서 살펴볼 수 있다.\n",
        "\n",
        "* [알고리즘 체인과 파이프라인](https://bizzengine.tistory.com/171)\n",
        "* [Pipeline에서 캐싱 사용하기](https://tensorflow.blog/2017/12/08/pipeline에서-캐싱을-사용하기/)\n",
        "* [A Super Quick Guide to Randomized (or Grid) Search with Pipeline](https://medium.com/swlh/randomized-or-grid-search-with-pipeline-cheatsheet-719c72eda68)"
      ]
    },
    {
      "cell_type": "markdown",
      "metadata": {
        "id": "Fh_jMuk70z74"
      },
      "source": [
        "##### 1.3.2 랜덤 탐색 (p. 118)"
      ]
    },
    {
      "cell_type": "code",
      "metadata": {
        "colab": {
          "base_uri": "https://localhost:8080/"
        },
        "id": "LJKOUONI0z74",
        "outputId": "f7a752f2-9246-4d87-acd2-99c2cddf7fcc"
      },
      "source": [
        "from sklearn.model_selection import RandomizedSearchCV\n",
        "from scipy.stats import randint\n",
        "\n",
        "param_distribs = {\n",
        "        'n_estimators': randint(low=1, high=200),\n",
        "        'max_features': randint(low=1, high=8),\n",
        "    }\n",
        "\n",
        "forest_reg = RandomForestRegressor(random_state=42)\n",
        "rnd_search = RandomizedSearchCV(forest_reg, param_distributions=param_distribs,\n",
        "                                n_iter=10, cv=5, scoring='neg_mean_squared_error', random_state=42)\n",
        "rnd_search.fit(housing_prepared, housing_labels)"
      ],
      "execution_count": 115,
      "outputs": [
        {
          "output_type": "execute_result",
          "data": {
            "text/plain": [
              "RandomizedSearchCV(cv=5, error_score=nan,\n",
              "                   estimator=RandomForestRegressor(bootstrap=True,\n",
              "                                                   ccp_alpha=0.0,\n",
              "                                                   criterion='mse',\n",
              "                                                   max_depth=None,\n",
              "                                                   max_features='auto',\n",
              "                                                   max_leaf_nodes=None,\n",
              "                                                   max_samples=None,\n",
              "                                                   min_impurity_decrease=0.0,\n",
              "                                                   min_impurity_split=None,\n",
              "                                                   min_samples_leaf=1,\n",
              "                                                   min_samples_split=2,\n",
              "                                                   min_weight_fraction_leaf=0.0,\n",
              "                                                   n_estimators=100,\n",
              "                                                   n_jobs=None, oob_score=Fals...\n",
              "                                                   warm_start=False),\n",
              "                   iid='deprecated', n_iter=10, n_jobs=None,\n",
              "                   param_distributions={'max_features': <scipy.stats._distn_infrastructure.rv_frozen object at 0x7f2da33021d0>,\n",
              "                                        'n_estimators': <scipy.stats._distn_infrastructure.rv_frozen object at 0x7f2da3302410>},\n",
              "                   pre_dispatch='2*n_jobs', random_state=42, refit=True,\n",
              "                   return_train_score=False, scoring='neg_mean_squared_error',\n",
              "                   verbose=0)"
            ]
          },
          "metadata": {},
          "execution_count": 115
        }
      ]
    },
    {
      "cell_type": "code",
      "metadata": {
        "colab": {
          "base_uri": "https://localhost:8080/"
        },
        "id": "haGPw2p10z74",
        "outputId": "b6b13d51-4307-43f4-80da-e908cac3300c"
      },
      "source": [
        "cvres = rnd_search.cv_results_\n",
        "for mean_score, params in zip(cvres[\"mean_test_score\"], cvres[\"params\"]):\n",
        "    print(np.sqrt(-mean_score), params)"
      ],
      "execution_count": 116,
      "outputs": [
        {
          "output_type": "stream",
          "name": "stdout",
          "text": [
            "49150.70756927707 {'max_features': 7, 'n_estimators': 180}\n",
            "51389.889203389284 {'max_features': 5, 'n_estimators': 15}\n",
            "50796.155224308866 {'max_features': 3, 'n_estimators': 72}\n",
            "50835.13360315349 {'max_features': 5, 'n_estimators': 21}\n",
            "49280.9449827171 {'max_features': 7, 'n_estimators': 122}\n",
            "50774.90662363929 {'max_features': 3, 'n_estimators': 75}\n",
            "50682.78888164288 {'max_features': 3, 'n_estimators': 88}\n",
            "49608.99608105296 {'max_features': 5, 'n_estimators': 100}\n",
            "50473.61930350219 {'max_features': 3, 'n_estimators': 150}\n",
            "64429.84143294435 {'max_features': 5, 'n_estimators': 2}\n"
          ]
        }
      ]
    },
    {
      "cell_type": "markdown",
      "metadata": {
        "id": "OxJCQail0z75"
      },
      "source": [
        "##### 1.3.3 최상의 모델과 오차 분석 (p.118)"
      ]
    },
    {
      "cell_type": "code",
      "metadata": {
        "colab": {
          "base_uri": "https://localhost:8080/"
        },
        "id": "Di0OERsm0z75",
        "outputId": "e7f3f037-4872-4f7e-850f-c7e79c55a35b"
      },
      "source": [
        "feature_importances = grid_search.best_estimator_.feature_importances_\n",
        "feature_importances"
      ],
      "execution_count": 117,
      "outputs": [
        {
          "output_type": "execute_result",
          "data": {
            "text/plain": [
              "array([7.33442355e-02, 6.29090705e-02, 4.11437985e-02, 1.46726854e-02,\n",
              "       1.41064835e-02, 1.48742809e-02, 1.42575993e-02, 3.66158981e-01,\n",
              "       5.64191792e-02, 1.08792957e-01, 5.33510773e-02, 1.03114883e-02,\n",
              "       1.64780994e-01, 6.02803867e-05, 1.96041560e-03, 2.85647464e-03])"
            ]
          },
          "metadata": {},
          "execution_count": 117
        }
      ]
    },
    {
      "cell_type": "code",
      "metadata": {
        "colab": {
          "base_uri": "https://localhost:8080/"
        },
        "id": "shpIYbjO0z75",
        "outputId": "e12f2767-b7c8-44f0-fcf2-58d271422673"
      },
      "source": [
        "extra_attribs = [\"rooms_per_hhold\", \"pop_per_hhold\", \"bedrooms_per_room\"]\n",
        "#cat_encoder = cat_pipeline.named_steps[\"cat_encoder\"] # 예전 방식\n",
        "cat_encoder = full_pipeline.named_transformers_[\"cat\"]\n",
        "cat_one_hot_attribs = list(cat_encoder.categories_[0])\n",
        "attributes = num_attribs + extra_attribs + cat_one_hot_attribs\n",
        "sorted(zip(feature_importances, attributes), reverse=True)"
      ],
      "execution_count": 118,
      "outputs": [
        {
          "output_type": "execute_result",
          "data": {
            "text/plain": [
              "[(0.36615898061813423, 'median_income'),\n",
              " (0.16478099356159054, 'INLAND'),\n",
              " (0.10879295677551575, 'pop_per_hhold'),\n",
              " (0.07334423551601243, 'longitude'),\n",
              " (0.06290907048262032, 'latitude'),\n",
              " (0.056419179181954014, 'rooms_per_hhold'),\n",
              " (0.053351077347675815, 'bedrooms_per_room'),\n",
              " (0.04114379847872964, 'housing_median_age'),\n",
              " (0.014874280890402769, 'population'),\n",
              " (0.014672685420543239, 'total_rooms'),\n",
              " (0.014257599323407808, 'households'),\n",
              " (0.014106483453584104, 'total_bedrooms'),\n",
              " (0.010311488326303788, '<1H OCEAN'),\n",
              " (0.0028564746373201584, 'NEAR OCEAN'),\n",
              " (0.0019604155994780706, 'NEAR BAY'),\n",
              " (6.0280386727366e-05, 'ISLAND')]"
            ]
          },
          "metadata": {},
          "execution_count": 118
        }
      ]
    },
    {
      "cell_type": "markdown",
      "metadata": {
        "id": "G6G3buIh0z75"
      },
      "source": [
        "##### 1.3.4 테스트 세트로 시스템 평가하기 **(결과)**"
      ]
    },
    {
      "cell_type": "markdown",
      "metadata": {
        "id": "ILTqtrktwsMx"
      },
      "source": [
        "**결과를 확인해보면 rmse = 47730.22690385927 값이 나오는 것을 확인할 수 있다.**"
      ]
    },
    {
      "cell_type": "code",
      "metadata": {
        "id": "qvb-KKep0z75"
      },
      "source": [
        "final_model = grid_search.best_estimator_\n",
        "\n",
        "X_test = strat_test_set.drop(\"median_house_value\", axis=1)\n",
        "y_test = strat_test_set[\"median_house_value\"].copy()\n",
        "\n",
        "X_test_prepared = full_pipeline.transform(X_test)\n",
        "final_predictions = final_model.predict(X_test_prepared)\n",
        "\n",
        "final_mse = mean_squared_error(y_test, final_predictions)\n",
        "final_rmse = np.sqrt(final_mse)"
      ],
      "execution_count": 119,
      "outputs": []
    },
    {
      "cell_type": "code",
      "metadata": {
        "colab": {
          "base_uri": "https://localhost:8080/"
        },
        "id": "dMK3AgWE0z76",
        "outputId": "7a2d34c1-d9e4-4e2a-cc85-59b2ffb77fc9"
      },
      "source": [
        "final_rmse"
      ],
      "execution_count": 120,
      "outputs": [
        {
          "output_type": "execute_result",
          "data": {
            "text/plain": [
              "47730.22690385927"
            ]
          },
          "metadata": {},
          "execution_count": 120
        }
      ]
    },
    {
      "cell_type": "markdown",
      "metadata": {
        "id": "EH24REcs0z76"
      },
      "source": [
        "테스트 RMSE에 대한 95% 신뢰 구간을 계산할 수 있습니다:"
      ]
    },
    {
      "cell_type": "code",
      "metadata": {
        "colab": {
          "base_uri": "https://localhost:8080/"
        },
        "id": "cPJ6-LEg0z76",
        "outputId": "0b7e366b-0ca1-4f1d-9c41-88971ace88d9"
      },
      "source": [
        "from scipy import stats\n",
        "\n",
        "confidence = 0.95\n",
        "squared_errors = (final_predictions - y_test) ** 2\n",
        "np.sqrt(stats.t.interval(confidence, len(squared_errors) - 1,\n",
        "                         loc=squared_errors.mean(),\n",
        "                         scale=stats.sem(squared_errors)))"
      ],
      "execution_count": 121,
      "outputs": [
        {
          "output_type": "execute_result",
          "data": {
            "text/plain": [
              "array([45685.10470776, 49691.25001878])"
            ]
          },
          "metadata": {},
          "execution_count": 121
        }
      ]
    },
    {
      "cell_type": "markdown",
      "metadata": {
        "id": "rXT8qzgp0z76"
      },
      "source": [
        "다음과 같이 수동으로 계산할 수도 있습니다:"
      ]
    },
    {
      "cell_type": "code",
      "metadata": {
        "colab": {
          "base_uri": "https://localhost:8080/"
        },
        "id": "9sbBrGM70z76",
        "outputId": "7826e644-eabf-472f-8d57-4a40ac0e4666"
      },
      "source": [
        "m = len(squared_errors)\n",
        "mean = squared_errors.mean()\n",
        "tscore = stats.t.ppf((1 + confidence) / 2, df=m - 1)\n",
        "tmargin = tscore * squared_errors.std(ddof=1) / np.sqrt(m)\n",
        "np.sqrt(mean - tmargin), np.sqrt(mean + tmargin)"
      ],
      "execution_count": 122,
      "outputs": [
        {
          "output_type": "execute_result",
          "data": {
            "text/plain": [
              "(45685.10470776, 49691.25001877858)"
            ]
          },
          "metadata": {},
          "execution_count": 122
        }
      ]
    },
    {
      "cell_type": "markdown",
      "metadata": {
        "id": "grS8UmCc0z77"
      },
      "source": [
        "또는 t-점수 대신 z-점수를 사용할 수도 있습니다:"
      ]
    },
    {
      "cell_type": "code",
      "metadata": {
        "colab": {
          "base_uri": "https://localhost:8080/"
        },
        "id": "IzoZV_710z77",
        "outputId": "38165306-31cb-45c7-aa01-7abb25d6ab82"
      },
      "source": [
        "zscore = stats.norm.ppf((1 + confidence) / 2)\n",
        "zmargin = zscore * squared_errors.std(ddof=1) / np.sqrt(m)\n",
        "np.sqrt(mean - zmargin), np.sqrt(mean + zmargin)"
      ],
      "execution_count": 123,
      "outputs": [
        {
          "output_type": "execute_result",
          "data": {
            "text/plain": [
              "(45685.717918136455, 49690.68623889413)"
            ]
          },
          "metadata": {},
          "execution_count": 123
        }
      ]
    },
    {
      "cell_type": "code",
      "metadata": {
        "colab": {
          "base_uri": "https://localhost:8080/"
        },
        "id": "pXediUbs0z77",
        "outputId": "0b51c642-a883-4598-e1ca-67c1f77031a3"
      },
      "source": [
        "full_pipeline_with_predictor = Pipeline([\n",
        "        (\"preparation\", full_pipeline),\n",
        "        (\"linear\", LinearRegression())\n",
        "    ])\n",
        "\n",
        "full_pipeline_with_predictor.fit(housing, housing_labels)\n",
        "full_pipeline_with_predictor.predict(some_data)"
      ],
      "execution_count": 124,
      "outputs": [
        {
          "output_type": "execute_result",
          "data": {
            "text/plain": [
              "array([210644.60459286, 317768.80697211, 210956.43331178,  59218.98886849,\n",
              "       189747.55849879])"
            ]
          },
          "metadata": {},
          "execution_count": 124
        }
      ]
    },
    {
      "cell_type": "code",
      "metadata": {
        "id": "pyMYz0kc0z77"
      },
      "source": [
        "my_model = full_pipeline_with_predictor"
      ],
      "execution_count": 125,
      "outputs": []
    },
    {
      "cell_type": "code",
      "metadata": {
        "id": "IXxoJRMs0z78"
      },
      "source": [
        "import joblib\n",
        "joblib.dump(my_model, \"my_model.pkl\") # DIFF\n",
        "#...\n",
        "my_model_loaded = joblib.load(\"my_model.pkl\") # DIFF"
      ],
      "execution_count": 126,
      "outputs": []
    },
    {
      "cell_type": "markdown",
      "metadata": {
        "id": "GeVH6iSuwlFw"
      },
      "source": [
        "**원본 데이터 세트로 시스템 평가를 진행하면 rmse 값은 47730.22690385927이 나온다.**"
      ]
    },
    {
      "cell_type": "markdown",
      "metadata": {
        "id": "b47yH2N3hgfQ"
      },
      "source": [
        "추가 특성을 위해 사용자 정의 변환기를 만들어보죠:"
      ]
    },
    {
      "cell_type": "code",
      "metadata": {
        "id": "WdChujMQhgfR"
      },
      "source": [
        "from sklearn.base import BaseEstimator, TransformerMixin\n",
        "\n",
        "# 열 인덱스\n",
        "rooms_ix, bedrooms_ix, population_ix, households_ix = 3, 4, 5, 6\n",
        "\n",
        "class CombinedAttributesAdder(BaseEstimator, TransformerMixin):\n",
        "    def __init__(self, add_bedrooms_per_room=True): # *args 또는 **kargs 없음\n",
        "        self.add_bedrooms_per_room = add_bedrooms_per_room\n",
        "    def fit(self, X, y=None):\n",
        "        return self  # 아무것도 하지 않습니다\n",
        "    def transform(self, X):\n",
        "        rooms_per_household = X[:, rooms_ix] / X[:, households_ix]\n",
        "        population_per_household = X[:, population_ix] / X[:, households_ix]\n",
        "        if self.add_bedrooms_per_room:\n",
        "            bedrooms_per_room = X[:, bedrooms_ix] / X[:, rooms_ix]\n",
        "            return np.c_[X, rooms_per_household, population_per_household,\n",
        "                         bedrooms_per_room]\n",
        "        else:\n",
        "            return np.c_[X, rooms_per_household, population_per_household]\n",
        "\n",
        "attr_adder = CombinedAttributesAdder(add_bedrooms_per_room=False)\n",
        "housing_extra_attribs = attr_adder.transform(housing.to_numpy())"
      ],
      "execution_count": 127,
      "outputs": []
    },
    {
      "cell_type": "markdown",
      "metadata": {
        "id": "TwFVKgdWhgfR"
      },
      "source": [
        "책에서는 간단하게 인덱스 (3, 4, 5, 6)을 하드코딩했지만 다음처럼 동적으로 처리하는 것이 더 좋습니다:"
      ]
    },
    {
      "cell_type": "code",
      "metadata": {
        "id": "Au0qmD8RhgfR"
      },
      "source": [
        "col_names = \"total_rooms\", \"total_bedrooms\", \"population\", \"households\"\n",
        "rooms_ix, bedrooms_ix, population_ix, households_ix = [\n",
        "    housing.columns.get_loc(c) for c in col_names] # 열 인덱스 구하기"
      ],
      "execution_count": 128,
      "outputs": []
    },
    {
      "cell_type": "markdown",
      "metadata": {
        "id": "lOz6ee1ehgfR"
      },
      "source": [
        "또한 `housing_extra_attribs`는 넘파이 배열이기 때문에 열 이름이 없습니다(안타깝지만 사이킷런을 사용할 때 생기는 문제입니다). `DataFrame`으로 복원하려면 다음과 같이 할 수 있습니다:"
      ]
    },
    {
      "cell_type": "code",
      "metadata": {
        "colab": {
          "base_uri": "https://localhost:8080/",
          "height": 0
        },
        "id": "ep4CI6kshgfS",
        "outputId": "f905a4e5-d7bf-46e3-bd08-4e620a5e3330"
      },
      "source": [
        "housing_extra_attribs = pd.DataFrame(\n",
        "    housing_extra_attribs,\n",
        "    columns=list(housing.columns)+[\"rooms_per_household\", \"population_per_household\"],\n",
        "    index=housing.index)\n",
        "housing_extra_attribs.head()"
      ],
      "execution_count": 129,
      "outputs": [
        {
          "output_type": "execute_result",
          "data": {
            "text/html": [
              "<div>\n",
              "<style scoped>\n",
              "    .dataframe tbody tr th:only-of-type {\n",
              "        vertical-align: middle;\n",
              "    }\n",
              "\n",
              "    .dataframe tbody tr th {\n",
              "        vertical-align: top;\n",
              "    }\n",
              "\n",
              "    .dataframe thead th {\n",
              "        text-align: right;\n",
              "    }\n",
              "</style>\n",
              "<table border=\"1\" class=\"dataframe\">\n",
              "  <thead>\n",
              "    <tr style=\"text-align: right;\">\n",
              "      <th></th>\n",
              "      <th>longitude</th>\n",
              "      <th>latitude</th>\n",
              "      <th>housing_median_age</th>\n",
              "      <th>total_rooms</th>\n",
              "      <th>total_bedrooms</th>\n",
              "      <th>population</th>\n",
              "      <th>households</th>\n",
              "      <th>median_income</th>\n",
              "      <th>ocean_proximity</th>\n",
              "      <th>rooms_per_household</th>\n",
              "      <th>population_per_household</th>\n",
              "    </tr>\n",
              "  </thead>\n",
              "  <tbody>\n",
              "    <tr>\n",
              "      <th>0</th>\n",
              "      <td>-121.89</td>\n",
              "      <td>37.29</td>\n",
              "      <td>38</td>\n",
              "      <td>1568</td>\n",
              "      <td>351</td>\n",
              "      <td>710</td>\n",
              "      <td>339</td>\n",
              "      <td>2.7042</td>\n",
              "      <td>&lt;1H OCEAN</td>\n",
              "      <td>4.62537</td>\n",
              "      <td>2.0944</td>\n",
              "    </tr>\n",
              "    <tr>\n",
              "      <th>1</th>\n",
              "      <td>-121.93</td>\n",
              "      <td>37.05</td>\n",
              "      <td>14</td>\n",
              "      <td>679</td>\n",
              "      <td>108</td>\n",
              "      <td>306</td>\n",
              "      <td>113</td>\n",
              "      <td>6.4214</td>\n",
              "      <td>&lt;1H OCEAN</td>\n",
              "      <td>6.00885</td>\n",
              "      <td>2.70796</td>\n",
              "    </tr>\n",
              "    <tr>\n",
              "      <th>2</th>\n",
              "      <td>-117.2</td>\n",
              "      <td>32.77</td>\n",
              "      <td>31</td>\n",
              "      <td>1952</td>\n",
              "      <td>471</td>\n",
              "      <td>936</td>\n",
              "      <td>462</td>\n",
              "      <td>2.8621</td>\n",
              "      <td>NEAR OCEAN</td>\n",
              "      <td>4.22511</td>\n",
              "      <td>2.02597</td>\n",
              "    </tr>\n",
              "    <tr>\n",
              "      <th>3</th>\n",
              "      <td>-119.61</td>\n",
              "      <td>36.31</td>\n",
              "      <td>25</td>\n",
              "      <td>1847</td>\n",
              "      <td>371</td>\n",
              "      <td>1460</td>\n",
              "      <td>353</td>\n",
              "      <td>1.8839</td>\n",
              "      <td>INLAND</td>\n",
              "      <td>5.23229</td>\n",
              "      <td>4.13598</td>\n",
              "    </tr>\n",
              "    <tr>\n",
              "      <th>4</th>\n",
              "      <td>-118.59</td>\n",
              "      <td>34.23</td>\n",
              "      <td>17</td>\n",
              "      <td>6592</td>\n",
              "      <td>1525</td>\n",
              "      <td>4459</td>\n",
              "      <td>1463</td>\n",
              "      <td>3.0347</td>\n",
              "      <td>&lt;1H OCEAN</td>\n",
              "      <td>4.50581</td>\n",
              "      <td>3.04785</td>\n",
              "    </tr>\n",
              "  </tbody>\n",
              "</table>\n",
              "</div>"
            ],
            "text/plain": [
              "  longitude latitude  ... rooms_per_household population_per_household\n",
              "0   -121.89    37.29  ...             4.62537                   2.0944\n",
              "1   -121.93    37.05  ...             6.00885                  2.70796\n",
              "2    -117.2    32.77  ...             4.22511                  2.02597\n",
              "3   -119.61    36.31  ...             5.23229                  4.13598\n",
              "4   -118.59    34.23  ...             4.50581                  3.04785\n",
              "\n",
              "[5 rows x 11 columns]"
            ]
          },
          "metadata": {},
          "execution_count": 129
        }
      ]
    },
    {
      "cell_type": "code",
      "metadata": {
        "colab": {
          "base_uri": "https://localhost:8080/"
        },
        "id": "vxw1p86Ihgfa",
        "scrolled": true,
        "outputId": "6d69d717-8912-4da2-efd2-309d5063903a"
      },
      "source": [
        "from sklearn.model_selection import GridSearchCV\n",
        "\n",
        "param_grid = [\n",
        "    # 12(=3×4)개의 하이퍼파라미터 조합을 시도합니다.\n",
        "    {'n_estimators': [3, 10, 30], 'max_features': [2, 4, 6, 8]},\n",
        "    # bootstrap은 False로 하고 6(=2×3)개의 조합을 시도합니다.\n",
        "    {'bootstrap': [False], 'n_estimators': [3, 10], 'max_features': [2, 3, 4]},\n",
        "  ]\n",
        "\n",
        "forest_reg = RandomForestRegressor(random_state=42)\n",
        "# 다섯 개의 폴드로 훈련하면 총 (12+6)*5=90번의 훈련이 일어납니다.\n",
        "grid_search = GridSearchCV(forest_reg, param_grid, cv=5,\n",
        "                           scoring='neg_mean_squared_error',\n",
        "                           return_train_score=True)\n",
        "grid_search.fit(housing_prepared, housing_labels)"
      ],
      "execution_count": 130,
      "outputs": [
        {
          "output_type": "execute_result",
          "data": {
            "text/plain": [
              "GridSearchCV(cv=5, error_score=nan,\n",
              "             estimator=RandomForestRegressor(bootstrap=True, ccp_alpha=0.0,\n",
              "                                             criterion='mse', max_depth=None,\n",
              "                                             max_features='auto',\n",
              "                                             max_leaf_nodes=None,\n",
              "                                             max_samples=None,\n",
              "                                             min_impurity_decrease=0.0,\n",
              "                                             min_impurity_split=None,\n",
              "                                             min_samples_leaf=1,\n",
              "                                             min_samples_split=2,\n",
              "                                             min_weight_fraction_leaf=0.0,\n",
              "                                             n_estimators=100, n_jobs=None,\n",
              "                                             oob_score=False, random_state=42,\n",
              "                                             verbose=0, warm_start=False),\n",
              "             iid='deprecated', n_jobs=None,\n",
              "             param_grid=[{'max_features': [2, 4, 6, 8],\n",
              "                          'n_estimators': [3, 10, 30]},\n",
              "                         {'bootstrap': [False], 'max_features': [2, 3, 4],\n",
              "                          'n_estimators': [3, 10]}],\n",
              "             pre_dispatch='2*n_jobs', refit=True, return_train_score=True,\n",
              "             scoring='neg_mean_squared_error', verbose=0)"
            ]
          },
          "metadata": {},
          "execution_count": 130
        }
      ]
    },
    {
      "cell_type": "markdown",
      "metadata": {
        "id": "JAxcJyiQhgfa"
      },
      "source": [
        "최상의 파라미터 조합은 다음과 같습니다:"
      ]
    },
    {
      "cell_type": "code",
      "metadata": {
        "colab": {
          "base_uri": "https://localhost:8080/"
        },
        "id": "EcSsXP0Mhgfa",
        "outputId": "d34372bb-7fb2-4600-a69c-4ed6396dbff4"
      },
      "source": [
        "grid_search.best_params_"
      ],
      "execution_count": 131,
      "outputs": [
        {
          "output_type": "execute_result",
          "data": {
            "text/plain": [
              "{'max_features': 8, 'n_estimators': 30}"
            ]
          },
          "metadata": {},
          "execution_count": 131
        }
      ]
    },
    {
      "cell_type": "code",
      "metadata": {
        "colab": {
          "base_uri": "https://localhost:8080/"
        },
        "id": "vB2n1zRQhgfa",
        "outputId": "723c10bf-98dc-4c63-a15e-f442e1cb1320"
      },
      "source": [
        "grid_search.best_estimator_"
      ],
      "execution_count": 132,
      "outputs": [
        {
          "output_type": "execute_result",
          "data": {
            "text/plain": [
              "RandomForestRegressor(bootstrap=True, ccp_alpha=0.0, criterion='mse',\n",
              "                      max_depth=None, max_features=8, max_leaf_nodes=None,\n",
              "                      max_samples=None, min_impurity_decrease=0.0,\n",
              "                      min_impurity_split=None, min_samples_leaf=1,\n",
              "                      min_samples_split=2, min_weight_fraction_leaf=0.0,\n",
              "                      n_estimators=30, n_jobs=None, oob_score=False,\n",
              "                      random_state=42, verbose=0, warm_start=False)"
            ]
          },
          "metadata": {},
          "execution_count": 132
        }
      ]
    },
    {
      "cell_type": "markdown",
      "metadata": {
        "id": "eecEJ1jhhgfa"
      },
      "source": [
        "그리드서치에서 테스트한 하이퍼파라미터 조합의 점수를 확인합니다:"
      ]
    },
    {
      "cell_type": "code",
      "metadata": {
        "colab": {
          "base_uri": "https://localhost:8080/"
        },
        "id": "ElkeHFdyhgfb",
        "outputId": "3c2800d4-2a99-48eb-8f7a-7cf4c209e51d"
      },
      "source": [
        "cvres = grid_search.cv_results_\n",
        "for mean_score, params in zip(cvres[\"mean_test_score\"], cvres[\"params\"]):\n",
        "    print(np.sqrt(-mean_score), params)"
      ],
      "execution_count": 133,
      "outputs": [
        {
          "output_type": "stream",
          "name": "stdout",
          "text": [
            "63669.11631261028 {'max_features': 2, 'n_estimators': 3}\n",
            "55627.099719926795 {'max_features': 2, 'n_estimators': 10}\n",
            "53384.57275149205 {'max_features': 2, 'n_estimators': 30}\n",
            "60965.950449450494 {'max_features': 4, 'n_estimators': 3}\n",
            "52741.04704299915 {'max_features': 4, 'n_estimators': 10}\n",
            "50377.40461678399 {'max_features': 4, 'n_estimators': 30}\n",
            "58663.93866579625 {'max_features': 6, 'n_estimators': 3}\n",
            "52006.19873526564 {'max_features': 6, 'n_estimators': 10}\n",
            "50146.51167415009 {'max_features': 6, 'n_estimators': 30}\n",
            "57869.25276169646 {'max_features': 8, 'n_estimators': 3}\n",
            "51711.127883959234 {'max_features': 8, 'n_estimators': 10}\n",
            "49682.273345071546 {'max_features': 8, 'n_estimators': 30}\n",
            "62895.06951262424 {'bootstrap': False, 'max_features': 2, 'n_estimators': 3}\n",
            "54658.176157539405 {'bootstrap': False, 'max_features': 2, 'n_estimators': 10}\n",
            "59470.40652318466 {'bootstrap': False, 'max_features': 3, 'n_estimators': 3}\n",
            "52724.9822587892 {'bootstrap': False, 'max_features': 3, 'n_estimators': 10}\n",
            "57490.5691951261 {'bootstrap': False, 'max_features': 4, 'n_estimators': 3}\n",
            "51009.495668875716 {'bootstrap': False, 'max_features': 4, 'n_estimators': 10}\n"
          ]
        }
      ]
    },
    {
      "cell_type": "code",
      "metadata": {
        "colab": {
          "base_uri": "https://localhost:8080/",
          "height": 0
        },
        "id": "3OIN_YFbhgfb",
        "outputId": "5cf84c78-c957-4034-b647-9a425b63f085"
      },
      "source": [
        "pd.DataFrame(grid_search.cv_results_)"
      ],
      "execution_count": 134,
      "outputs": [
        {
          "output_type": "execute_result",
          "data": {
            "text/html": [
              "<div>\n",
              "<style scoped>\n",
              "    .dataframe tbody tr th:only-of-type {\n",
              "        vertical-align: middle;\n",
              "    }\n",
              "\n",
              "    .dataframe tbody tr th {\n",
              "        vertical-align: top;\n",
              "    }\n",
              "\n",
              "    .dataframe thead th {\n",
              "        text-align: right;\n",
              "    }\n",
              "</style>\n",
              "<table border=\"1\" class=\"dataframe\">\n",
              "  <thead>\n",
              "    <tr style=\"text-align: right;\">\n",
              "      <th></th>\n",
              "      <th>mean_fit_time</th>\n",
              "      <th>std_fit_time</th>\n",
              "      <th>mean_score_time</th>\n",
              "      <th>std_score_time</th>\n",
              "      <th>param_max_features</th>\n",
              "      <th>param_n_estimators</th>\n",
              "      <th>param_bootstrap</th>\n",
              "      <th>params</th>\n",
              "      <th>split0_test_score</th>\n",
              "      <th>split1_test_score</th>\n",
              "      <th>split2_test_score</th>\n",
              "      <th>split3_test_score</th>\n",
              "      <th>split4_test_score</th>\n",
              "      <th>mean_test_score</th>\n",
              "      <th>std_test_score</th>\n",
              "      <th>rank_test_score</th>\n",
              "      <th>split0_train_score</th>\n",
              "      <th>split1_train_score</th>\n",
              "      <th>split2_train_score</th>\n",
              "      <th>split3_train_score</th>\n",
              "      <th>split4_train_score</th>\n",
              "      <th>mean_train_score</th>\n",
              "      <th>std_train_score</th>\n",
              "    </tr>\n",
              "  </thead>\n",
              "  <tbody>\n",
              "    <tr>\n",
              "      <th>0</th>\n",
              "      <td>0.075756</td>\n",
              "      <td>0.001743</td>\n",
              "      <td>0.004408</td>\n",
              "      <td>0.000411</td>\n",
              "      <td>2</td>\n",
              "      <td>3</td>\n",
              "      <td>NaN</td>\n",
              "      <td>{'max_features': 2, 'n_estimators': 3}</td>\n",
              "      <td>-3.837622e+09</td>\n",
              "      <td>-4.147108e+09</td>\n",
              "      <td>-4.196408e+09</td>\n",
              "      <td>-3.903319e+09</td>\n",
              "      <td>-4.184325e+09</td>\n",
              "      <td>-4.053756e+09</td>\n",
              "      <td>1.519591e+08</td>\n",
              "      <td>18</td>\n",
              "      <td>-1.064113e+09</td>\n",
              "      <td>-1.105142e+09</td>\n",
              "      <td>-1.116550e+09</td>\n",
              "      <td>-1.112342e+09</td>\n",
              "      <td>-1.129650e+09</td>\n",
              "      <td>-1.105559e+09</td>\n",
              "      <td>2.220402e+07</td>\n",
              "    </tr>\n",
              "    <tr>\n",
              "      <th>1</th>\n",
              "      <td>0.245394</td>\n",
              "      <td>0.005938</td>\n",
              "      <td>0.012317</td>\n",
              "      <td>0.001376</td>\n",
              "      <td>2</td>\n",
              "      <td>10</td>\n",
              "      <td>NaN</td>\n",
              "      <td>{'max_features': 2, 'n_estimators': 10}</td>\n",
              "      <td>-3.047771e+09</td>\n",
              "      <td>-3.254861e+09</td>\n",
              "      <td>-3.130196e+09</td>\n",
              "      <td>-2.865188e+09</td>\n",
              "      <td>-3.173856e+09</td>\n",
              "      <td>-3.094374e+09</td>\n",
              "      <td>1.327062e+08</td>\n",
              "      <td>11</td>\n",
              "      <td>-5.927175e+08</td>\n",
              "      <td>-5.870952e+08</td>\n",
              "      <td>-5.776964e+08</td>\n",
              "      <td>-5.716332e+08</td>\n",
              "      <td>-5.802501e+08</td>\n",
              "      <td>-5.818785e+08</td>\n",
              "      <td>7.345821e+06</td>\n",
              "    </tr>\n",
              "    <tr>\n",
              "      <th>2</th>\n",
              "      <td>0.731683</td>\n",
              "      <td>0.009040</td>\n",
              "      <td>0.032861</td>\n",
              "      <td>0.000451</td>\n",
              "      <td>2</td>\n",
              "      <td>30</td>\n",
              "      <td>NaN</td>\n",
              "      <td>{'max_features': 2, 'n_estimators': 30}</td>\n",
              "      <td>-2.689185e+09</td>\n",
              "      <td>-3.021086e+09</td>\n",
              "      <td>-2.948330e+09</td>\n",
              "      <td>-2.619995e+09</td>\n",
              "      <td>-2.970968e+09</td>\n",
              "      <td>-2.849913e+09</td>\n",
              "      <td>1.626875e+08</td>\n",
              "      <td>9</td>\n",
              "      <td>-4.381089e+08</td>\n",
              "      <td>-4.391272e+08</td>\n",
              "      <td>-4.371702e+08</td>\n",
              "      <td>-4.376955e+08</td>\n",
              "      <td>-4.452654e+08</td>\n",
              "      <td>-4.394734e+08</td>\n",
              "      <td>2.966320e+06</td>\n",
              "    </tr>\n",
              "    <tr>\n",
              "      <th>3</th>\n",
              "      <td>0.123906</td>\n",
              "      <td>0.001940</td>\n",
              "      <td>0.004356</td>\n",
              "      <td>0.000191</td>\n",
              "      <td>4</td>\n",
              "      <td>3</td>\n",
              "      <td>NaN</td>\n",
              "      <td>{'max_features': 4, 'n_estimators': 3}</td>\n",
              "      <td>-3.730181e+09</td>\n",
              "      <td>-3.786886e+09</td>\n",
              "      <td>-3.734515e+09</td>\n",
              "      <td>-3.418747e+09</td>\n",
              "      <td>-3.913907e+09</td>\n",
              "      <td>-3.716847e+09</td>\n",
              "      <td>1.631510e+08</td>\n",
              "      <td>16</td>\n",
              "      <td>-9.865163e+08</td>\n",
              "      <td>-1.012565e+09</td>\n",
              "      <td>-9.169425e+08</td>\n",
              "      <td>-1.037400e+09</td>\n",
              "      <td>-9.707739e+08</td>\n",
              "      <td>-9.848396e+08</td>\n",
              "      <td>4.084607e+07</td>\n",
              "    </tr>\n",
              "    <tr>\n",
              "      <th>4</th>\n",
              "      <td>0.404452</td>\n",
              "      <td>0.002819</td>\n",
              "      <td>0.011744</td>\n",
              "      <td>0.000080</td>\n",
              "      <td>4</td>\n",
              "      <td>10</td>\n",
              "      <td>NaN</td>\n",
              "      <td>{'max_features': 4, 'n_estimators': 10}</td>\n",
              "      <td>-2.666283e+09</td>\n",
              "      <td>-2.784511e+09</td>\n",
              "      <td>-2.892276e+09</td>\n",
              "      <td>-2.616813e+09</td>\n",
              "      <td>-2.948207e+09</td>\n",
              "      <td>-2.781618e+09</td>\n",
              "      <td>1.268607e+08</td>\n",
              "      <td>8</td>\n",
              "      <td>-5.097115e+08</td>\n",
              "      <td>-5.162820e+08</td>\n",
              "      <td>-4.962893e+08</td>\n",
              "      <td>-5.436192e+08</td>\n",
              "      <td>-5.160297e+08</td>\n",
              "      <td>-5.163863e+08</td>\n",
              "      <td>1.542862e+07</td>\n",
              "    </tr>\n",
              "    <tr>\n",
              "      <th>5</th>\n",
              "      <td>1.204350</td>\n",
              "      <td>0.006898</td>\n",
              "      <td>0.032930</td>\n",
              "      <td>0.000274</td>\n",
              "      <td>4</td>\n",
              "      <td>30</td>\n",
              "      <td>NaN</td>\n",
              "      <td>{'max_features': 4, 'n_estimators': 30}</td>\n",
              "      <td>-2.387153e+09</td>\n",
              "      <td>-2.588448e+09</td>\n",
              "      <td>-2.666426e+09</td>\n",
              "      <td>-2.398071e+09</td>\n",
              "      <td>-2.649316e+09</td>\n",
              "      <td>-2.537883e+09</td>\n",
              "      <td>1.214614e+08</td>\n",
              "      <td>3</td>\n",
              "      <td>-3.838835e+08</td>\n",
              "      <td>-3.880268e+08</td>\n",
              "      <td>-3.790867e+08</td>\n",
              "      <td>-4.040957e+08</td>\n",
              "      <td>-3.845520e+08</td>\n",
              "      <td>-3.879289e+08</td>\n",
              "      <td>8.571233e+06</td>\n",
              "    </tr>\n",
              "    <tr>\n",
              "      <th>6</th>\n",
              "      <td>0.166150</td>\n",
              "      <td>0.006374</td>\n",
              "      <td>0.004481</td>\n",
              "      <td>0.000530</td>\n",
              "      <td>6</td>\n",
              "      <td>3</td>\n",
              "      <td>NaN</td>\n",
              "      <td>{'max_features': 6, 'n_estimators': 3}</td>\n",
              "      <td>-3.119657e+09</td>\n",
              "      <td>-3.586319e+09</td>\n",
              "      <td>-3.592772e+09</td>\n",
              "      <td>-3.328934e+09</td>\n",
              "      <td>-3.579607e+09</td>\n",
              "      <td>-3.441458e+09</td>\n",
              "      <td>1.893056e+08</td>\n",
              "      <td>14</td>\n",
              "      <td>-9.245343e+08</td>\n",
              "      <td>-8.886939e+08</td>\n",
              "      <td>-9.353135e+08</td>\n",
              "      <td>-9.009801e+08</td>\n",
              "      <td>-8.624664e+08</td>\n",
              "      <td>-9.023976e+08</td>\n",
              "      <td>2.591445e+07</td>\n",
              "    </tr>\n",
              "    <tr>\n",
              "      <th>7</th>\n",
              "      <td>0.551571</td>\n",
              "      <td>0.003916</td>\n",
              "      <td>0.011812</td>\n",
              "      <td>0.000297</td>\n",
              "      <td>6</td>\n",
              "      <td>10</td>\n",
              "      <td>NaN</td>\n",
              "      <td>{'max_features': 6, 'n_estimators': 10}</td>\n",
              "      <td>-2.549663e+09</td>\n",
              "      <td>-2.782039e+09</td>\n",
              "      <td>-2.762720e+09</td>\n",
              "      <td>-2.521134e+09</td>\n",
              "      <td>-2.907667e+09</td>\n",
              "      <td>-2.704645e+09</td>\n",
              "      <td>1.471569e+08</td>\n",
              "      <td>6</td>\n",
              "      <td>-4.980344e+08</td>\n",
              "      <td>-5.045869e+08</td>\n",
              "      <td>-4.994664e+08</td>\n",
              "      <td>-4.990325e+08</td>\n",
              "      <td>-5.055542e+08</td>\n",
              "      <td>-5.013349e+08</td>\n",
              "      <td>3.100456e+06</td>\n",
              "    </tr>\n",
              "    <tr>\n",
              "      <th>8</th>\n",
              "      <td>1.675028</td>\n",
              "      <td>0.011496</td>\n",
              "      <td>0.033370</td>\n",
              "      <td>0.001174</td>\n",
              "      <td>6</td>\n",
              "      <td>30</td>\n",
              "      <td>NaN</td>\n",
              "      <td>{'max_features': 6, 'n_estimators': 30}</td>\n",
              "      <td>-2.370010e+09</td>\n",
              "      <td>-2.583638e+09</td>\n",
              "      <td>-2.607703e+09</td>\n",
              "      <td>-2.350953e+09</td>\n",
              "      <td>-2.661059e+09</td>\n",
              "      <td>-2.514673e+09</td>\n",
              "      <td>1.285080e+08</td>\n",
              "      <td>2</td>\n",
              "      <td>-3.838538e+08</td>\n",
              "      <td>-3.804711e+08</td>\n",
              "      <td>-3.805218e+08</td>\n",
              "      <td>-3.856095e+08</td>\n",
              "      <td>-3.901917e+08</td>\n",
              "      <td>-3.841296e+08</td>\n",
              "      <td>3.617057e+06</td>\n",
              "    </tr>\n",
              "    <tr>\n",
              "      <th>9</th>\n",
              "      <td>0.211379</td>\n",
              "      <td>0.001405</td>\n",
              "      <td>0.004241</td>\n",
              "      <td>0.000047</td>\n",
              "      <td>8</td>\n",
              "      <td>3</td>\n",
              "      <td>NaN</td>\n",
              "      <td>{'max_features': 8, 'n_estimators': 3}</td>\n",
              "      <td>-3.353504e+09</td>\n",
              "      <td>-3.348552e+09</td>\n",
              "      <td>-3.402843e+09</td>\n",
              "      <td>-3.129307e+09</td>\n",
              "      <td>-3.510047e+09</td>\n",
              "      <td>-3.348850e+09</td>\n",
              "      <td>1.241939e+08</td>\n",
              "      <td>13</td>\n",
              "      <td>-9.228123e+08</td>\n",
              "      <td>-8.553031e+08</td>\n",
              "      <td>-8.603321e+08</td>\n",
              "      <td>-8.881964e+08</td>\n",
              "      <td>-9.151287e+08</td>\n",
              "      <td>-8.883545e+08</td>\n",
              "      <td>2.750227e+07</td>\n",
              "    </tr>\n",
              "    <tr>\n",
              "      <th>10</th>\n",
              "      <td>0.713731</td>\n",
              "      <td>0.003781</td>\n",
              "      <td>0.011714</td>\n",
              "      <td>0.000087</td>\n",
              "      <td>8</td>\n",
              "      <td>10</td>\n",
              "      <td>NaN</td>\n",
              "      <td>{'max_features': 8, 'n_estimators': 10}</td>\n",
              "      <td>-2.571970e+09</td>\n",
              "      <td>-2.718994e+09</td>\n",
              "      <td>-2.842317e+09</td>\n",
              "      <td>-2.460258e+09</td>\n",
              "      <td>-2.776666e+09</td>\n",
              "      <td>-2.674041e+09</td>\n",
              "      <td>1.392777e+08</td>\n",
              "      <td>5</td>\n",
              "      <td>-4.932416e+08</td>\n",
              "      <td>-4.815238e+08</td>\n",
              "      <td>-4.730979e+08</td>\n",
              "      <td>-5.155367e+08</td>\n",
              "      <td>-4.985555e+08</td>\n",
              "      <td>-4.923911e+08</td>\n",
              "      <td>1.459294e+07</td>\n",
              "    </tr>\n",
              "    <tr>\n",
              "      <th>11</th>\n",
              "      <td>2.153660</td>\n",
              "      <td>0.006063</td>\n",
              "      <td>0.032743</td>\n",
              "      <td>0.000214</td>\n",
              "      <td>8</td>\n",
              "      <td>30</td>\n",
              "      <td>NaN</td>\n",
              "      <td>{'max_features': 8, 'n_estimators': 30}</td>\n",
              "      <td>-2.357390e+09</td>\n",
              "      <td>-2.546640e+09</td>\n",
              "      <td>-2.591972e+09</td>\n",
              "      <td>-2.318617e+09</td>\n",
              "      <td>-2.527022e+09</td>\n",
              "      <td>-2.468328e+09</td>\n",
              "      <td>1.091662e+08</td>\n",
              "      <td>1</td>\n",
              "      <td>-3.841658e+08</td>\n",
              "      <td>-3.744500e+08</td>\n",
              "      <td>-3.773239e+08</td>\n",
              "      <td>-3.882250e+08</td>\n",
              "      <td>-3.810005e+08</td>\n",
              "      <td>-3.810330e+08</td>\n",
              "      <td>4.871017e+06</td>\n",
              "    </tr>\n",
              "    <tr>\n",
              "      <th>12</th>\n",
              "      <td>0.115330</td>\n",
              "      <td>0.002192</td>\n",
              "      <td>0.004734</td>\n",
              "      <td>0.000133</td>\n",
              "      <td>2</td>\n",
              "      <td>3</td>\n",
              "      <td>False</td>\n",
              "      <td>{'bootstrap': False, 'max_features': 2, 'n_est...</td>\n",
              "      <td>-3.785816e+09</td>\n",
              "      <td>-4.166012e+09</td>\n",
              "      <td>-4.061751e+09</td>\n",
              "      <td>-3.675704e+09</td>\n",
              "      <td>-4.089667e+09</td>\n",
              "      <td>-3.955790e+09</td>\n",
              "      <td>1.900964e+08</td>\n",
              "      <td>17</td>\n",
              "      <td>-0.000000e+00</td>\n",
              "      <td>-0.000000e+00</td>\n",
              "      <td>-0.000000e+00</td>\n",
              "      <td>-0.000000e+00</td>\n",
              "      <td>-0.000000e+00</td>\n",
              "      <td>0.000000e+00</td>\n",
              "      <td>0.000000e+00</td>\n",
              "    </tr>\n",
              "    <tr>\n",
              "      <th>13</th>\n",
              "      <td>0.388709</td>\n",
              "      <td>0.004638</td>\n",
              "      <td>0.014468</td>\n",
              "      <td>0.000979</td>\n",
              "      <td>2</td>\n",
              "      <td>10</td>\n",
              "      <td>False</td>\n",
              "      <td>{'bootstrap': False, 'max_features': 2, 'n_est...</td>\n",
              "      <td>-2.810721e+09</td>\n",
              "      <td>-3.107789e+09</td>\n",
              "      <td>-3.131187e+09</td>\n",
              "      <td>-2.788537e+09</td>\n",
              "      <td>-3.099347e+09</td>\n",
              "      <td>-2.987516e+09</td>\n",
              "      <td>1.539234e+08</td>\n",
              "      <td>10</td>\n",
              "      <td>-6.056477e-02</td>\n",
              "      <td>-0.000000e+00</td>\n",
              "      <td>-0.000000e+00</td>\n",
              "      <td>-0.000000e+00</td>\n",
              "      <td>-2.967449e+00</td>\n",
              "      <td>-6.056027e-01</td>\n",
              "      <td>1.181156e+00</td>\n",
              "    </tr>\n",
              "    <tr>\n",
              "      <th>14</th>\n",
              "      <td>0.155181</td>\n",
              "      <td>0.003655</td>\n",
              "      <td>0.004808</td>\n",
              "      <td>0.000100</td>\n",
              "      <td>3</td>\n",
              "      <td>3</td>\n",
              "      <td>False</td>\n",
              "      <td>{'bootstrap': False, 'max_features': 3, 'n_est...</td>\n",
              "      <td>-3.618324e+09</td>\n",
              "      <td>-3.441527e+09</td>\n",
              "      <td>-3.554815e+09</td>\n",
              "      <td>-3.619116e+09</td>\n",
              "      <td>-3.449864e+09</td>\n",
              "      <td>-3.536729e+09</td>\n",
              "      <td>7.795057e+07</td>\n",
              "      <td>15</td>\n",
              "      <td>-0.000000e+00</td>\n",
              "      <td>-0.000000e+00</td>\n",
              "      <td>-0.000000e+00</td>\n",
              "      <td>-0.000000e+00</td>\n",
              "      <td>-6.072840e+01</td>\n",
              "      <td>-1.214568e+01</td>\n",
              "      <td>2.429136e+01</td>\n",
              "    </tr>\n",
              "    <tr>\n",
              "      <th>15</th>\n",
              "      <td>0.513901</td>\n",
              "      <td>0.004814</td>\n",
              "      <td>0.014272</td>\n",
              "      <td>0.000417</td>\n",
              "      <td>3</td>\n",
              "      <td>10</td>\n",
              "      <td>False</td>\n",
              "      <td>{'bootstrap': False, 'max_features': 3, 'n_est...</td>\n",
              "      <td>-2.757999e+09</td>\n",
              "      <td>-2.851737e+09</td>\n",
              "      <td>-2.830927e+09</td>\n",
              "      <td>-2.672765e+09</td>\n",
              "      <td>-2.786190e+09</td>\n",
              "      <td>-2.779924e+09</td>\n",
              "      <td>6.286720e+07</td>\n",
              "      <td>7</td>\n",
              "      <td>-2.089484e+01</td>\n",
              "      <td>-0.000000e+00</td>\n",
              "      <td>-0.000000e+00</td>\n",
              "      <td>-0.000000e+00</td>\n",
              "      <td>-5.465556e+00</td>\n",
              "      <td>-5.272080e+00</td>\n",
              "      <td>8.093117e+00</td>\n",
              "    </tr>\n",
              "    <tr>\n",
              "      <th>16</th>\n",
              "      <td>0.193912</td>\n",
              "      <td>0.002628</td>\n",
              "      <td>0.004883</td>\n",
              "      <td>0.000038</td>\n",
              "      <td>4</td>\n",
              "      <td>3</td>\n",
              "      <td>False</td>\n",
              "      <td>{'bootstrap': False, 'max_features': 4, 'n_est...</td>\n",
              "      <td>-3.134040e+09</td>\n",
              "      <td>-3.559375e+09</td>\n",
              "      <td>-3.440422e+09</td>\n",
              "      <td>-3.053647e+09</td>\n",
              "      <td>-3.338344e+09</td>\n",
              "      <td>-3.305166e+09</td>\n",
              "      <td>1.879165e+08</td>\n",
              "      <td>12</td>\n",
              "      <td>-0.000000e+00</td>\n",
              "      <td>-0.000000e+00</td>\n",
              "      <td>-0.000000e+00</td>\n",
              "      <td>-0.000000e+00</td>\n",
              "      <td>-0.000000e+00</td>\n",
              "      <td>0.000000e+00</td>\n",
              "      <td>0.000000e+00</td>\n",
              "    </tr>\n",
              "    <tr>\n",
              "      <th>17</th>\n",
              "      <td>0.645132</td>\n",
              "      <td>0.003525</td>\n",
              "      <td>0.014087</td>\n",
              "      <td>0.000249</td>\n",
              "      <td>4</td>\n",
              "      <td>10</td>\n",
              "      <td>False</td>\n",
              "      <td>{'bootstrap': False, 'max_features': 4, 'n_est...</td>\n",
              "      <td>-2.525578e+09</td>\n",
              "      <td>-2.710011e+09</td>\n",
              "      <td>-2.609100e+09</td>\n",
              "      <td>-2.439607e+09</td>\n",
              "      <td>-2.725548e+09</td>\n",
              "      <td>-2.601969e+09</td>\n",
              "      <td>1.088048e+08</td>\n",
              "      <td>4</td>\n",
              "      <td>-0.000000e+00</td>\n",
              "      <td>-1.514119e-02</td>\n",
              "      <td>-0.000000e+00</td>\n",
              "      <td>-0.000000e+00</td>\n",
              "      <td>-0.000000e+00</td>\n",
              "      <td>-3.028238e-03</td>\n",
              "      <td>6.056477e-03</td>\n",
              "    </tr>\n",
              "  </tbody>\n",
              "</table>\n",
              "</div>"
            ],
            "text/plain": [
              "    mean_fit_time  std_fit_time  ...  mean_train_score  std_train_score\n",
              "0        0.075756      0.001743  ...     -1.105559e+09     2.220402e+07\n",
              "1        0.245394      0.005938  ...     -5.818785e+08     7.345821e+06\n",
              "2        0.731683      0.009040  ...     -4.394734e+08     2.966320e+06\n",
              "3        0.123906      0.001940  ...     -9.848396e+08     4.084607e+07\n",
              "4        0.404452      0.002819  ...     -5.163863e+08     1.542862e+07\n",
              "5        1.204350      0.006898  ...     -3.879289e+08     8.571233e+06\n",
              "6        0.166150      0.006374  ...     -9.023976e+08     2.591445e+07\n",
              "7        0.551571      0.003916  ...     -5.013349e+08     3.100456e+06\n",
              "8        1.675028      0.011496  ...     -3.841296e+08     3.617057e+06\n",
              "9        0.211379      0.001405  ...     -8.883545e+08     2.750227e+07\n",
              "10       0.713731      0.003781  ...     -4.923911e+08     1.459294e+07\n",
              "11       2.153660      0.006063  ...     -3.810330e+08     4.871017e+06\n",
              "12       0.115330      0.002192  ...      0.000000e+00     0.000000e+00\n",
              "13       0.388709      0.004638  ...     -6.056027e-01     1.181156e+00\n",
              "14       0.155181      0.003655  ...     -1.214568e+01     2.429136e+01\n",
              "15       0.513901      0.004814  ...     -5.272080e+00     8.093117e+00\n",
              "16       0.193912      0.002628  ...      0.000000e+00     0.000000e+00\n",
              "17       0.645132      0.003525  ...     -3.028238e-03     6.056477e-03\n",
              "\n",
              "[18 rows x 23 columns]"
            ]
          },
          "metadata": {},
          "execution_count": 134
        }
      ]
    },
    {
      "cell_type": "markdown",
      "metadata": {
        "id": "EvD5ZB4k3jJw"
      },
      "source": [
        "## **2. 변환 적용 (RMSE = 23654.49999171906)**"
      ]
    },
    {
      "cell_type": "markdown",
      "metadata": {
        "id": "JDjjTp3K3jJ0"
      },
      "source": [
        "### **2.1 알고리즘을 위한 데이터 준비 및 변환 1~3 적용**"
      ]
    },
    {
      "cell_type": "markdown",
      "metadata": {
        "id": "Vqv9YgA8mhUa"
      },
      "source": [
        "우선 훈련할 데이터프레임을 준비한다."
      ]
    },
    {
      "cell_type": "code",
      "metadata": {
        "id": "gDCv8Bpn4YoI"
      },
      "source": [
        "housing = strat_test_set.copy()"
      ],
      "execution_count": 135,
      "outputs": []
    },
    {
      "cell_type": "markdown",
      "metadata": {
        "id": "GgYnjqyumlBb"
      },
      "source": [
        "**여기서 변환 1처럼 housing에 'median_house_value'에서 이상치를 제거한다.**"
      ]
    },
    {
      "cell_type": "code",
      "metadata": {
        "id": "bXPwx-Jb4Pvx"
      },
      "source": [
        "Outlier_line = [112500, 137500, 187500, 225000, 275000, 350000, 450000, 500001]\n",
        "for i in Outlier_line :\n",
        "  housing = housing[housing.median_house_value != i]"
      ],
      "execution_count": 136,
      "outputs": []
    },
    {
      "cell_type": "markdown",
      "metadata": {
        "id": "1sk6_Se83jJ1"
      },
      "source": [
        "#### 2.1.1 데이터 정제(결측값 제거 or 평균값 적용)"
      ]
    },
    {
      "cell_type": "code",
      "metadata": {
        "colab": {
          "base_uri": "https://localhost:8080/",
          "height": 0
        },
        "id": "ahCmenZ23jJ1",
        "outputId": "8abf9109-aae1-4d26-8d50-974f5a71cf1c"
      },
      "source": [
        "sample_incomplete_rows = housing[housing.isnull().any(axis=1)].head()\n",
        "sample_incomplete_rows"
      ],
      "execution_count": 137,
      "outputs": [
        {
          "output_type": "execute_result",
          "data": {
            "text/html": [
              "<div>\n",
              "<style scoped>\n",
              "    .dataframe tbody tr th:only-of-type {\n",
              "        vertical-align: middle;\n",
              "    }\n",
              "\n",
              "    .dataframe tbody tr th {\n",
              "        vertical-align: top;\n",
              "    }\n",
              "\n",
              "    .dataframe thead th {\n",
              "        text-align: right;\n",
              "    }\n",
              "</style>\n",
              "<table border=\"1\" class=\"dataframe\">\n",
              "  <thead>\n",
              "    <tr style=\"text-align: right;\">\n",
              "      <th></th>\n",
              "      <th>longitude</th>\n",
              "      <th>latitude</th>\n",
              "      <th>housing_median_age</th>\n",
              "      <th>total_rooms</th>\n",
              "      <th>total_bedrooms</th>\n",
              "      <th>population</th>\n",
              "      <th>households</th>\n",
              "      <th>median_income</th>\n",
              "      <th>median_house_value</th>\n",
              "      <th>ocean_proximity</th>\n",
              "    </tr>\n",
              "  </thead>\n",
              "  <tbody>\n",
              "    <tr>\n",
              "      <th>4309</th>\n",
              "      <td>-118.32</td>\n",
              "      <td>34.09</td>\n",
              "      <td>44.0</td>\n",
              "      <td>2666.0</td>\n",
              "      <td>NaN</td>\n",
              "      <td>2297.0</td>\n",
              "      <td>726.0</td>\n",
              "      <td>1.6760</td>\n",
              "      <td>208800.0</td>\n",
              "      <td>&lt;1H OCEAN</td>\n",
              "    </tr>\n",
              "    <tr>\n",
              "      <th>11096</th>\n",
              "      <td>-117.87</td>\n",
              "      <td>33.83</td>\n",
              "      <td>27.0</td>\n",
              "      <td>2287.0</td>\n",
              "      <td>NaN</td>\n",
              "      <td>1140.0</td>\n",
              "      <td>351.0</td>\n",
              "      <td>5.6163</td>\n",
              "      <td>231000.0</td>\n",
              "      <td>&lt;1H OCEAN</td>\n",
              "    </tr>\n",
              "    <tr>\n",
              "      <th>3912</th>\n",
              "      <td>-118.55</td>\n",
              "      <td>34.19</td>\n",
              "      <td>18.0</td>\n",
              "      <td>5862.0</td>\n",
              "      <td>NaN</td>\n",
              "      <td>3161.0</td>\n",
              "      <td>1280.0</td>\n",
              "      <td>3.1106</td>\n",
              "      <td>170600.0</td>\n",
              "      <td>&lt;1H OCEAN</td>\n",
              "    </tr>\n",
              "    <tr>\n",
              "      <th>15030</th>\n",
              "      <td>-117.02</td>\n",
              "      <td>32.78</td>\n",
              "      <td>31.0</td>\n",
              "      <td>2567.0</td>\n",
              "      <td>NaN</td>\n",
              "      <td>1198.0</td>\n",
              "      <td>499.0</td>\n",
              "      <td>3.4659</td>\n",
              "      <td>163000.0</td>\n",
              "      <td>&lt;1H OCEAN</td>\n",
              "    </tr>\n",
              "    <tr>\n",
              "      <th>10885</th>\n",
              "      <td>-117.92</td>\n",
              "      <td>33.70</td>\n",
              "      <td>15.0</td>\n",
              "      <td>3201.0</td>\n",
              "      <td>NaN</td>\n",
              "      <td>1510.0</td>\n",
              "      <td>622.0</td>\n",
              "      <td>4.2708</td>\n",
              "      <td>161700.0</td>\n",
              "      <td>&lt;1H OCEAN</td>\n",
              "    </tr>\n",
              "  </tbody>\n",
              "</table>\n",
              "</div>"
            ],
            "text/plain": [
              "       longitude  latitude  ...  median_house_value  ocean_proximity\n",
              "4309     -118.32     34.09  ...            208800.0        <1H OCEAN\n",
              "11096    -117.87     33.83  ...            231000.0        <1H OCEAN\n",
              "3912     -118.55     34.19  ...            170600.0        <1H OCEAN\n",
              "15030    -117.02     32.78  ...            163000.0        <1H OCEAN\n",
              "10885    -117.92     33.70  ...            161700.0        <1H OCEAN\n",
              "\n",
              "[5 rows x 10 columns]"
            ]
          },
          "metadata": {},
          "execution_count": 137
        }
      ]
    },
    {
      "cell_type": "code",
      "metadata": {
        "colab": {
          "base_uri": "https://localhost:8080/",
          "height": 0
        },
        "id": "blWaygvE3jJ2",
        "outputId": "1b065d25-e4d1-4e64-a756-2ff28e6f143c"
      },
      "source": [
        "sample_incomplete_rows.dropna(subset=[\"total_bedrooms\"])    # 옵션 1"
      ],
      "execution_count": 138,
      "outputs": [
        {
          "output_type": "execute_result",
          "data": {
            "text/html": [
              "<div>\n",
              "<style scoped>\n",
              "    .dataframe tbody tr th:only-of-type {\n",
              "        vertical-align: middle;\n",
              "    }\n",
              "\n",
              "    .dataframe tbody tr th {\n",
              "        vertical-align: top;\n",
              "    }\n",
              "\n",
              "    .dataframe thead th {\n",
              "        text-align: right;\n",
              "    }\n",
              "</style>\n",
              "<table border=\"1\" class=\"dataframe\">\n",
              "  <thead>\n",
              "    <tr style=\"text-align: right;\">\n",
              "      <th></th>\n",
              "      <th>longitude</th>\n",
              "      <th>latitude</th>\n",
              "      <th>housing_median_age</th>\n",
              "      <th>total_rooms</th>\n",
              "      <th>total_bedrooms</th>\n",
              "      <th>population</th>\n",
              "      <th>households</th>\n",
              "      <th>median_income</th>\n",
              "      <th>median_house_value</th>\n",
              "      <th>ocean_proximity</th>\n",
              "    </tr>\n",
              "  </thead>\n",
              "  <tbody>\n",
              "  </tbody>\n",
              "</table>\n",
              "</div>"
            ],
            "text/plain": [
              "Empty DataFrame\n",
              "Columns: [longitude, latitude, housing_median_age, total_rooms, total_bedrooms, population, households, median_income, median_house_value, ocean_proximity]\n",
              "Index: []"
            ]
          },
          "metadata": {},
          "execution_count": 138
        }
      ]
    },
    {
      "cell_type": "code",
      "metadata": {
        "colab": {
          "base_uri": "https://localhost:8080/",
          "height": 0
        },
        "id": "7L50_JU63jJ2",
        "outputId": "76eaa5b8-c447-4026-9c57-d0ca60843c17"
      },
      "source": [
        "sample_incomplete_rows.drop(\"total_bedrooms\", axis=1)       # 옵션 2"
      ],
      "execution_count": 139,
      "outputs": [
        {
          "output_type": "execute_result",
          "data": {
            "text/html": [
              "<div>\n",
              "<style scoped>\n",
              "    .dataframe tbody tr th:only-of-type {\n",
              "        vertical-align: middle;\n",
              "    }\n",
              "\n",
              "    .dataframe tbody tr th {\n",
              "        vertical-align: top;\n",
              "    }\n",
              "\n",
              "    .dataframe thead th {\n",
              "        text-align: right;\n",
              "    }\n",
              "</style>\n",
              "<table border=\"1\" class=\"dataframe\">\n",
              "  <thead>\n",
              "    <tr style=\"text-align: right;\">\n",
              "      <th></th>\n",
              "      <th>longitude</th>\n",
              "      <th>latitude</th>\n",
              "      <th>housing_median_age</th>\n",
              "      <th>total_rooms</th>\n",
              "      <th>population</th>\n",
              "      <th>households</th>\n",
              "      <th>median_income</th>\n",
              "      <th>median_house_value</th>\n",
              "      <th>ocean_proximity</th>\n",
              "    </tr>\n",
              "  </thead>\n",
              "  <tbody>\n",
              "    <tr>\n",
              "      <th>4309</th>\n",
              "      <td>-118.32</td>\n",
              "      <td>34.09</td>\n",
              "      <td>44.0</td>\n",
              "      <td>2666.0</td>\n",
              "      <td>2297.0</td>\n",
              "      <td>726.0</td>\n",
              "      <td>1.6760</td>\n",
              "      <td>208800.0</td>\n",
              "      <td>&lt;1H OCEAN</td>\n",
              "    </tr>\n",
              "    <tr>\n",
              "      <th>11096</th>\n",
              "      <td>-117.87</td>\n",
              "      <td>33.83</td>\n",
              "      <td>27.0</td>\n",
              "      <td>2287.0</td>\n",
              "      <td>1140.0</td>\n",
              "      <td>351.0</td>\n",
              "      <td>5.6163</td>\n",
              "      <td>231000.0</td>\n",
              "      <td>&lt;1H OCEAN</td>\n",
              "    </tr>\n",
              "    <tr>\n",
              "      <th>3912</th>\n",
              "      <td>-118.55</td>\n",
              "      <td>34.19</td>\n",
              "      <td>18.0</td>\n",
              "      <td>5862.0</td>\n",
              "      <td>3161.0</td>\n",
              "      <td>1280.0</td>\n",
              "      <td>3.1106</td>\n",
              "      <td>170600.0</td>\n",
              "      <td>&lt;1H OCEAN</td>\n",
              "    </tr>\n",
              "    <tr>\n",
              "      <th>15030</th>\n",
              "      <td>-117.02</td>\n",
              "      <td>32.78</td>\n",
              "      <td>31.0</td>\n",
              "      <td>2567.0</td>\n",
              "      <td>1198.0</td>\n",
              "      <td>499.0</td>\n",
              "      <td>3.4659</td>\n",
              "      <td>163000.0</td>\n",
              "      <td>&lt;1H OCEAN</td>\n",
              "    </tr>\n",
              "    <tr>\n",
              "      <th>10885</th>\n",
              "      <td>-117.92</td>\n",
              "      <td>33.70</td>\n",
              "      <td>15.0</td>\n",
              "      <td>3201.0</td>\n",
              "      <td>1510.0</td>\n",
              "      <td>622.0</td>\n",
              "      <td>4.2708</td>\n",
              "      <td>161700.0</td>\n",
              "      <td>&lt;1H OCEAN</td>\n",
              "    </tr>\n",
              "  </tbody>\n",
              "</table>\n",
              "</div>"
            ],
            "text/plain": [
              "       longitude  latitude  ...  median_house_value  ocean_proximity\n",
              "4309     -118.32     34.09  ...            208800.0        <1H OCEAN\n",
              "11096    -117.87     33.83  ...            231000.0        <1H OCEAN\n",
              "3912     -118.55     34.19  ...            170600.0        <1H OCEAN\n",
              "15030    -117.02     32.78  ...            163000.0        <1H OCEAN\n",
              "10885    -117.92     33.70  ...            161700.0        <1H OCEAN\n",
              "\n",
              "[5 rows x 9 columns]"
            ]
          },
          "metadata": {},
          "execution_count": 139
        }
      ]
    },
    {
      "cell_type": "code",
      "metadata": {
        "id": "HN5svbVM3jJ2"
      },
      "source": [
        "median = housing[\"total_bedrooms\"].median()\n",
        "sample_incomplete_rows[\"total_bedrooms\"].fillna(median, inplace=True) # 옵션 3"
      ],
      "execution_count": 140,
      "outputs": []
    },
    {
      "cell_type": "code",
      "metadata": {
        "colab": {
          "base_uri": "https://localhost:8080/",
          "height": 0
        },
        "id": "PHE1LAXG3jJ2",
        "outputId": "9a7eefaf-0b33-4975-e85a-ca5b9fbbfc3b"
      },
      "source": [
        "sample_incomplete_rows"
      ],
      "execution_count": 141,
      "outputs": [
        {
          "output_type": "execute_result",
          "data": {
            "text/html": [
              "<div>\n",
              "<style scoped>\n",
              "    .dataframe tbody tr th:only-of-type {\n",
              "        vertical-align: middle;\n",
              "    }\n",
              "\n",
              "    .dataframe tbody tr th {\n",
              "        vertical-align: top;\n",
              "    }\n",
              "\n",
              "    .dataframe thead th {\n",
              "        text-align: right;\n",
              "    }\n",
              "</style>\n",
              "<table border=\"1\" class=\"dataframe\">\n",
              "  <thead>\n",
              "    <tr style=\"text-align: right;\">\n",
              "      <th></th>\n",
              "      <th>longitude</th>\n",
              "      <th>latitude</th>\n",
              "      <th>housing_median_age</th>\n",
              "      <th>total_rooms</th>\n",
              "      <th>total_bedrooms</th>\n",
              "      <th>population</th>\n",
              "      <th>households</th>\n",
              "      <th>median_income</th>\n",
              "      <th>median_house_value</th>\n",
              "      <th>ocean_proximity</th>\n",
              "    </tr>\n",
              "  </thead>\n",
              "  <tbody>\n",
              "    <tr>\n",
              "      <th>4309</th>\n",
              "      <td>-118.32</td>\n",
              "      <td>34.09</td>\n",
              "      <td>44.0</td>\n",
              "      <td>2666.0</td>\n",
              "      <td>445.0</td>\n",
              "      <td>2297.0</td>\n",
              "      <td>726.0</td>\n",
              "      <td>1.6760</td>\n",
              "      <td>208800.0</td>\n",
              "      <td>&lt;1H OCEAN</td>\n",
              "    </tr>\n",
              "    <tr>\n",
              "      <th>11096</th>\n",
              "      <td>-117.87</td>\n",
              "      <td>33.83</td>\n",
              "      <td>27.0</td>\n",
              "      <td>2287.0</td>\n",
              "      <td>445.0</td>\n",
              "      <td>1140.0</td>\n",
              "      <td>351.0</td>\n",
              "      <td>5.6163</td>\n",
              "      <td>231000.0</td>\n",
              "      <td>&lt;1H OCEAN</td>\n",
              "    </tr>\n",
              "    <tr>\n",
              "      <th>3912</th>\n",
              "      <td>-118.55</td>\n",
              "      <td>34.19</td>\n",
              "      <td>18.0</td>\n",
              "      <td>5862.0</td>\n",
              "      <td>445.0</td>\n",
              "      <td>3161.0</td>\n",
              "      <td>1280.0</td>\n",
              "      <td>3.1106</td>\n",
              "      <td>170600.0</td>\n",
              "      <td>&lt;1H OCEAN</td>\n",
              "    </tr>\n",
              "    <tr>\n",
              "      <th>15030</th>\n",
              "      <td>-117.02</td>\n",
              "      <td>32.78</td>\n",
              "      <td>31.0</td>\n",
              "      <td>2567.0</td>\n",
              "      <td>445.0</td>\n",
              "      <td>1198.0</td>\n",
              "      <td>499.0</td>\n",
              "      <td>3.4659</td>\n",
              "      <td>163000.0</td>\n",
              "      <td>&lt;1H OCEAN</td>\n",
              "    </tr>\n",
              "    <tr>\n",
              "      <th>10885</th>\n",
              "      <td>-117.92</td>\n",
              "      <td>33.70</td>\n",
              "      <td>15.0</td>\n",
              "      <td>3201.0</td>\n",
              "      <td>445.0</td>\n",
              "      <td>1510.0</td>\n",
              "      <td>622.0</td>\n",
              "      <td>4.2708</td>\n",
              "      <td>161700.0</td>\n",
              "      <td>&lt;1H OCEAN</td>\n",
              "    </tr>\n",
              "  </tbody>\n",
              "</table>\n",
              "</div>"
            ],
            "text/plain": [
              "       longitude  latitude  ...  median_house_value  ocean_proximity\n",
              "4309     -118.32     34.09  ...            208800.0        <1H OCEAN\n",
              "11096    -117.87     33.83  ...            231000.0        <1H OCEAN\n",
              "3912     -118.55     34.19  ...            170600.0        <1H OCEAN\n",
              "15030    -117.02     32.78  ...            163000.0        <1H OCEAN\n",
              "10885    -117.92     33.70  ...            161700.0        <1H OCEAN\n",
              "\n",
              "[5 rows x 10 columns]"
            ]
          },
          "metadata": {},
          "execution_count": 141
        }
      ]
    },
    {
      "cell_type": "code",
      "metadata": {
        "id": "RQETVD_-3jJ3"
      },
      "source": [
        "from sklearn.impute import SimpleImputer\n",
        "imputer = SimpleImputer(strategy=\"median\")"
      ],
      "execution_count": 142,
      "outputs": []
    },
    {
      "cell_type": "markdown",
      "metadata": {
        "id": "VxFlnDZB3jJ3"
      },
      "source": [
        "중간값이 수치형 특성에서만 계산될 수 있기 때문에 텍스트 특성을 삭제합니다:"
      ]
    },
    {
      "cell_type": "code",
      "metadata": {
        "id": "8qRmryaG3jJ3"
      },
      "source": [
        "housing_num = housing.drop(\"ocean_proximity\", axis=1)\n",
        "# 다른 방법: housing_num = housing.select_dtypes(include=[np.number])"
      ],
      "execution_count": 143,
      "outputs": []
    },
    {
      "cell_type": "code",
      "metadata": {
        "colab": {
          "base_uri": "https://localhost:8080/"
        },
        "id": "Df1W2zx43jJ3",
        "outputId": "ea3647af-3bde-473a-9644-df8d5920c6fa"
      },
      "source": [
        "imputer.fit(housing_num)"
      ],
      "execution_count": 144,
      "outputs": [
        {
          "output_type": "execute_result",
          "data": {
            "text/plain": [
              "SimpleImputer(add_indicator=False, copy=True, fill_value=None,\n",
              "              missing_values=nan, strategy='median', verbose=0)"
            ]
          },
          "metadata": {},
          "execution_count": 144
        }
      ]
    },
    {
      "cell_type": "code",
      "metadata": {
        "colab": {
          "base_uri": "https://localhost:8080/"
        },
        "id": "Gba9ZkYS3jJ4",
        "outputId": "eb54c4e9-9a1e-4635-f6ab-302652ec6aa6"
      },
      "source": [
        "imputer.statistics_"
      ],
      "execution_count": 145,
      "outputs": [
        {
          "output_type": "execute_result",
          "data": {
            "text/plain": [
              "array([-1.1846e+02,  3.4250e+01,  2.8000e+01,  2.1680e+03,  4.4500e+02,\n",
              "        1.1930e+03,  4.1900e+02,  3.4659e+00,  1.7420e+05])"
            ]
          },
          "metadata": {},
          "execution_count": 145
        }
      ]
    },
    {
      "cell_type": "markdown",
      "metadata": {
        "id": "M19fLBFT3jJ4"
      },
      "source": [
        "각 특성의 중간 값이 수동으로 계산한 것과 같은지 확인해 보세요:"
      ]
    },
    {
      "cell_type": "code",
      "metadata": {
        "colab": {
          "base_uri": "https://localhost:8080/"
        },
        "id": "DeWE0JYP3jJ4",
        "outputId": "4640f5b8-cbc5-470b-a83d-a9be9bbd1a16"
      },
      "source": [
        "housing_num.median().values"
      ],
      "execution_count": 146,
      "outputs": [
        {
          "output_type": "execute_result",
          "data": {
            "text/plain": [
              "array([-1.1846e+02,  3.4250e+01,  2.8000e+01,  2.1680e+03,  4.4500e+02,\n",
              "        1.1930e+03,  4.1900e+02,  3.4659e+00,  1.7420e+05])"
            ]
          },
          "metadata": {},
          "execution_count": 146
        }
      ]
    },
    {
      "cell_type": "markdown",
      "metadata": {
        "id": "15SwHirx3jJ4"
      },
      "source": [
        "훈련 세트를 변환합니다:"
      ]
    },
    {
      "cell_type": "code",
      "metadata": {
        "id": "Qfc4UHxh3jJ5"
      },
      "source": [
        "X = imputer.transform(housing_num)"
      ],
      "execution_count": 147,
      "outputs": []
    },
    {
      "cell_type": "code",
      "metadata": {
        "id": "myfKBe_W3jJ6"
      },
      "source": [
        "housing_tr = pd.DataFrame(X, columns=housing_num.columns,\n",
        "                          index=housing_num.index)"
      ],
      "execution_count": 148,
      "outputs": []
    },
    {
      "cell_type": "code",
      "metadata": {
        "colab": {
          "base_uri": "https://localhost:8080/",
          "height": 0
        },
        "id": "WxDOtKq-3jJ6",
        "outputId": "4effaa1b-25eb-4c41-a0b0-4365cd685c7d"
      },
      "source": [
        "housing_tr.loc[sample_incomplete_rows.index.values]"
      ],
      "execution_count": 149,
      "outputs": [
        {
          "output_type": "execute_result",
          "data": {
            "text/html": [
              "<div>\n",
              "<style scoped>\n",
              "    .dataframe tbody tr th:only-of-type {\n",
              "        vertical-align: middle;\n",
              "    }\n",
              "\n",
              "    .dataframe tbody tr th {\n",
              "        vertical-align: top;\n",
              "    }\n",
              "\n",
              "    .dataframe thead th {\n",
              "        text-align: right;\n",
              "    }\n",
              "</style>\n",
              "<table border=\"1\" class=\"dataframe\">\n",
              "  <thead>\n",
              "    <tr style=\"text-align: right;\">\n",
              "      <th></th>\n",
              "      <th>longitude</th>\n",
              "      <th>latitude</th>\n",
              "      <th>housing_median_age</th>\n",
              "      <th>total_rooms</th>\n",
              "      <th>total_bedrooms</th>\n",
              "      <th>population</th>\n",
              "      <th>households</th>\n",
              "      <th>median_income</th>\n",
              "      <th>median_house_value</th>\n",
              "    </tr>\n",
              "  </thead>\n",
              "  <tbody>\n",
              "    <tr>\n",
              "      <th>4309</th>\n",
              "      <td>-118.32</td>\n",
              "      <td>34.09</td>\n",
              "      <td>44.0</td>\n",
              "      <td>2666.0</td>\n",
              "      <td>445.0</td>\n",
              "      <td>2297.0</td>\n",
              "      <td>726.0</td>\n",
              "      <td>1.6760</td>\n",
              "      <td>208800.0</td>\n",
              "    </tr>\n",
              "    <tr>\n",
              "      <th>11096</th>\n",
              "      <td>-117.87</td>\n",
              "      <td>33.83</td>\n",
              "      <td>27.0</td>\n",
              "      <td>2287.0</td>\n",
              "      <td>445.0</td>\n",
              "      <td>1140.0</td>\n",
              "      <td>351.0</td>\n",
              "      <td>5.6163</td>\n",
              "      <td>231000.0</td>\n",
              "    </tr>\n",
              "    <tr>\n",
              "      <th>3912</th>\n",
              "      <td>-118.55</td>\n",
              "      <td>34.19</td>\n",
              "      <td>18.0</td>\n",
              "      <td>5862.0</td>\n",
              "      <td>445.0</td>\n",
              "      <td>3161.0</td>\n",
              "      <td>1280.0</td>\n",
              "      <td>3.1106</td>\n",
              "      <td>170600.0</td>\n",
              "    </tr>\n",
              "    <tr>\n",
              "      <th>15030</th>\n",
              "      <td>-117.02</td>\n",
              "      <td>32.78</td>\n",
              "      <td>31.0</td>\n",
              "      <td>2567.0</td>\n",
              "      <td>445.0</td>\n",
              "      <td>1198.0</td>\n",
              "      <td>499.0</td>\n",
              "      <td>3.4659</td>\n",
              "      <td>163000.0</td>\n",
              "    </tr>\n",
              "    <tr>\n",
              "      <th>10885</th>\n",
              "      <td>-117.92</td>\n",
              "      <td>33.70</td>\n",
              "      <td>15.0</td>\n",
              "      <td>3201.0</td>\n",
              "      <td>445.0</td>\n",
              "      <td>1510.0</td>\n",
              "      <td>622.0</td>\n",
              "      <td>4.2708</td>\n",
              "      <td>161700.0</td>\n",
              "    </tr>\n",
              "  </tbody>\n",
              "</table>\n",
              "</div>"
            ],
            "text/plain": [
              "       longitude  latitude  ...  median_income  median_house_value\n",
              "4309     -118.32     34.09  ...         1.6760            208800.0\n",
              "11096    -117.87     33.83  ...         5.6163            231000.0\n",
              "3912     -118.55     34.19  ...         3.1106            170600.0\n",
              "15030    -117.02     32.78  ...         3.4659            163000.0\n",
              "10885    -117.92     33.70  ...         4.2708            161700.0\n",
              "\n",
              "[5 rows x 9 columns]"
            ]
          },
          "metadata": {},
          "execution_count": 149
        }
      ]
    },
    {
      "cell_type": "code",
      "metadata": {
        "colab": {
          "base_uri": "https://localhost:8080/",
          "height": 0
        },
        "id": "C-XkUWhG3jJ7",
        "outputId": "01d791a3-f127-4ab1-9e78-0acfd118b795"
      },
      "source": [
        "imputer.strategy"
      ],
      "execution_count": 150,
      "outputs": [
        {
          "output_type": "execute_result",
          "data": {
            "application/vnd.google.colaboratory.intrinsic+json": {
              "type": "string"
            },
            "text/plain": [
              "'median'"
            ]
          },
          "metadata": {},
          "execution_count": 150
        }
      ]
    },
    {
      "cell_type": "code",
      "metadata": {
        "colab": {
          "base_uri": "https://localhost:8080/",
          "height": 0
        },
        "id": "KZ4uPxUu3jJ7",
        "outputId": "b58f31aa-a6f1-49df-ccc7-8302c0ffd7b0"
      },
      "source": [
        "housing_tr.head()"
      ],
      "execution_count": 151,
      "outputs": [
        {
          "output_type": "execute_result",
          "data": {
            "text/html": [
              "<div>\n",
              "<style scoped>\n",
              "    .dataframe tbody tr th:only-of-type {\n",
              "        vertical-align: middle;\n",
              "    }\n",
              "\n",
              "    .dataframe tbody tr th {\n",
              "        vertical-align: top;\n",
              "    }\n",
              "\n",
              "    .dataframe thead th {\n",
              "        text-align: right;\n",
              "    }\n",
              "</style>\n",
              "<table border=\"1\" class=\"dataframe\">\n",
              "  <thead>\n",
              "    <tr style=\"text-align: right;\">\n",
              "      <th></th>\n",
              "      <th>longitude</th>\n",
              "      <th>latitude</th>\n",
              "      <th>housing_median_age</th>\n",
              "      <th>total_rooms</th>\n",
              "      <th>total_bedrooms</th>\n",
              "      <th>population</th>\n",
              "      <th>households</th>\n",
              "      <th>median_income</th>\n",
              "      <th>median_house_value</th>\n",
              "    </tr>\n",
              "  </thead>\n",
              "  <tbody>\n",
              "    <tr>\n",
              "      <th>10970</th>\n",
              "      <td>-117.86</td>\n",
              "      <td>33.77</td>\n",
              "      <td>39.0</td>\n",
              "      <td>4159.0</td>\n",
              "      <td>655.0</td>\n",
              "      <td>1669.0</td>\n",
              "      <td>651.0</td>\n",
              "      <td>4.6111</td>\n",
              "      <td>240300.0</td>\n",
              "    </tr>\n",
              "    <tr>\n",
              "      <th>20351</th>\n",
              "      <td>-119.05</td>\n",
              "      <td>34.21</td>\n",
              "      <td>27.0</td>\n",
              "      <td>4357.0</td>\n",
              "      <td>926.0</td>\n",
              "      <td>2110.0</td>\n",
              "      <td>876.0</td>\n",
              "      <td>3.0119</td>\n",
              "      <td>218200.0</td>\n",
              "    </tr>\n",
              "    <tr>\n",
              "      <th>6568</th>\n",
              "      <td>-118.15</td>\n",
              "      <td>34.20</td>\n",
              "      <td>52.0</td>\n",
              "      <td>1786.0</td>\n",
              "      <td>306.0</td>\n",
              "      <td>1018.0</td>\n",
              "      <td>322.0</td>\n",
              "      <td>4.1518</td>\n",
              "      <td>182100.0</td>\n",
              "    </tr>\n",
              "    <tr>\n",
              "      <th>13285</th>\n",
              "      <td>-117.68</td>\n",
              "      <td>34.07</td>\n",
              "      <td>32.0</td>\n",
              "      <td>1775.0</td>\n",
              "      <td>314.0</td>\n",
              "      <td>1067.0</td>\n",
              "      <td>302.0</td>\n",
              "      <td>4.0375</td>\n",
              "      <td>121300.0</td>\n",
              "    </tr>\n",
              "    <tr>\n",
              "      <th>20552</th>\n",
              "      <td>-121.80</td>\n",
              "      <td>38.68</td>\n",
              "      <td>11.0</td>\n",
              "      <td>3851.0</td>\n",
              "      <td>892.0</td>\n",
              "      <td>1847.0</td>\n",
              "      <td>747.0</td>\n",
              "      <td>3.4331</td>\n",
              "      <td>120600.0</td>\n",
              "    </tr>\n",
              "  </tbody>\n",
              "</table>\n",
              "</div>"
            ],
            "text/plain": [
              "       longitude  latitude  ...  median_income  median_house_value\n",
              "10970    -117.86     33.77  ...         4.6111            240300.0\n",
              "20351    -119.05     34.21  ...         3.0119            218200.0\n",
              "6568     -118.15     34.20  ...         4.1518            182100.0\n",
              "13285    -117.68     34.07  ...         4.0375            121300.0\n",
              "20552    -121.80     38.68  ...         3.4331            120600.0\n",
              "\n",
              "[5 rows x 9 columns]"
            ]
          },
          "metadata": {},
          "execution_count": 151
        }
      ]
    },
    {
      "cell_type": "markdown",
      "metadata": {
        "id": "4DSxR_mk3jJ7"
      },
      "source": [
        "#### 2.1.2 텍스트와 범주형 특성 다루기('ocean_proximity' 특성 제거)"
      ]
    },
    {
      "cell_type": "markdown",
      "metadata": {
        "id": "V7tXoueR3jJ7"
      },
      "source": [
        "이제 범주형 입력 특성인 `ocean_proximity`을 전처리합니다:"
      ]
    },
    {
      "cell_type": "code",
      "metadata": {
        "colab": {
          "base_uri": "https://localhost:8080/",
          "height": 0
        },
        "id": "Yp3ykoA53jJ8",
        "outputId": "bf182c00-e99f-4524-f563-70d1329c965b"
      },
      "source": [
        "housing_cat = housing[[\"ocean_proximity\"]]\n",
        "housing_cat.head(10)"
      ],
      "execution_count": 152,
      "outputs": [
        {
          "output_type": "execute_result",
          "data": {
            "text/html": [
              "<div>\n",
              "<style scoped>\n",
              "    .dataframe tbody tr th:only-of-type {\n",
              "        vertical-align: middle;\n",
              "    }\n",
              "\n",
              "    .dataframe tbody tr th {\n",
              "        vertical-align: top;\n",
              "    }\n",
              "\n",
              "    .dataframe thead th {\n",
              "        text-align: right;\n",
              "    }\n",
              "</style>\n",
              "<table border=\"1\" class=\"dataframe\">\n",
              "  <thead>\n",
              "    <tr style=\"text-align: right;\">\n",
              "      <th></th>\n",
              "      <th>ocean_proximity</th>\n",
              "    </tr>\n",
              "  </thead>\n",
              "  <tbody>\n",
              "    <tr>\n",
              "      <th>10970</th>\n",
              "      <td>&lt;1H OCEAN</td>\n",
              "    </tr>\n",
              "    <tr>\n",
              "      <th>20351</th>\n",
              "      <td>&lt;1H OCEAN</td>\n",
              "    </tr>\n",
              "    <tr>\n",
              "      <th>6568</th>\n",
              "      <td>INLAND</td>\n",
              "    </tr>\n",
              "    <tr>\n",
              "      <th>13285</th>\n",
              "      <td>INLAND</td>\n",
              "    </tr>\n",
              "    <tr>\n",
              "      <th>20552</th>\n",
              "      <td>INLAND</td>\n",
              "    </tr>\n",
              "    <tr>\n",
              "      <th>19989</th>\n",
              "      <td>INLAND</td>\n",
              "    </tr>\n",
              "    <tr>\n",
              "      <th>13692</th>\n",
              "      <td>INLAND</td>\n",
              "    </tr>\n",
              "    <tr>\n",
              "      <th>13916</th>\n",
              "      <td>INLAND</td>\n",
              "    </tr>\n",
              "    <tr>\n",
              "      <th>20374</th>\n",
              "      <td>&lt;1H OCEAN</td>\n",
              "    </tr>\n",
              "    <tr>\n",
              "      <th>18776</th>\n",
              "      <td>INLAND</td>\n",
              "    </tr>\n",
              "  </tbody>\n",
              "</table>\n",
              "</div>"
            ],
            "text/plain": [
              "      ocean_proximity\n",
              "10970       <1H OCEAN\n",
              "20351       <1H OCEAN\n",
              "6568           INLAND\n",
              "13285          INLAND\n",
              "20552          INLAND\n",
              "19989          INLAND\n",
              "13692          INLAND\n",
              "13916          INLAND\n",
              "20374       <1H OCEAN\n",
              "18776          INLAND"
            ]
          },
          "metadata": {},
          "execution_count": 152
        }
      ]
    },
    {
      "cell_type": "code",
      "metadata": {
        "colab": {
          "base_uri": "https://localhost:8080/"
        },
        "id": "7urKV3wL3jJ8",
        "outputId": "af19de78-d46a-4960-b3be-25eb0bb33b10"
      },
      "source": [
        "from sklearn.preprocessing import OrdinalEncoder\n",
        "\n",
        "ordinal_encoder = OrdinalEncoder()\n",
        "housing_cat_encoded = ordinal_encoder.fit_transform(housing_cat)\n",
        "housing_cat_encoded[:10]"
      ],
      "execution_count": 153,
      "outputs": [
        {
          "output_type": "execute_result",
          "data": {
            "text/plain": [
              "array([[0.],\n",
              "       [0.],\n",
              "       [1.],\n",
              "       [1.],\n",
              "       [1.],\n",
              "       [1.],\n",
              "       [1.],\n",
              "       [1.],\n",
              "       [0.],\n",
              "       [1.]])"
            ]
          },
          "metadata": {},
          "execution_count": 153
        }
      ]
    },
    {
      "cell_type": "code",
      "metadata": {
        "colab": {
          "base_uri": "https://localhost:8080/"
        },
        "id": "kd1MzZ-13jJ8",
        "outputId": "79410a11-aab7-4294-b62c-6fbb3bd35942"
      },
      "source": [
        "ordinal_encoder.categories_"
      ],
      "execution_count": 154,
      "outputs": [
        {
          "output_type": "execute_result",
          "data": {
            "text/plain": [
              "[array(['<1H OCEAN', 'INLAND', 'ISLAND', 'NEAR BAY', 'NEAR OCEAN'],\n",
              "       dtype=object)]"
            ]
          },
          "metadata": {},
          "execution_count": 154
        }
      ]
    },
    {
      "cell_type": "code",
      "metadata": {
        "colab": {
          "base_uri": "https://localhost:8080/"
        },
        "id": "gO1pm71N3jJ9",
        "outputId": "5c734dd8-768e-436f-a6f8-0a52b91dfc4f"
      },
      "source": [
        "from sklearn.preprocessing import OneHotEncoder\n",
        "\n",
        "cat_encoder = OneHotEncoder()\n",
        "housing_cat_1hot = cat_encoder.fit_transform(housing_cat)\n",
        "housing_cat_1hot"
      ],
      "execution_count": 155,
      "outputs": [
        {
          "output_type": "execute_result",
          "data": {
            "text/plain": [
              "<3825x5 sparse matrix of type '<class 'numpy.float64'>'\n",
              "\twith 3825 stored elements in Compressed Sparse Row format>"
            ]
          },
          "metadata": {},
          "execution_count": 155
        }
      ]
    },
    {
      "cell_type": "markdown",
      "metadata": {
        "id": "WAZ9f6Zv3jJ9"
      },
      "source": [
        "`OneHotEncoder`는 기본적으로 희소 행렬을 반환합니다. 필요하면 `toarray()` 메서드를 사용해 밀집 배열로 변환할 수 있습니다:"
      ]
    },
    {
      "cell_type": "code",
      "metadata": {
        "colab": {
          "base_uri": "https://localhost:8080/"
        },
        "id": "tFLU3XRk3jJ-",
        "outputId": "c154bf7b-b765-4014-cf6c-5692272fc3c5"
      },
      "source": [
        "housing_cat_1hot.toarray()"
      ],
      "execution_count": 156,
      "outputs": [
        {
          "output_type": "execute_result",
          "data": {
            "text/plain": [
              "array([[1., 0., 0., 0., 0.],\n",
              "       [1., 0., 0., 0., 0.],\n",
              "       [0., 1., 0., 0., 0.],\n",
              "       ...,\n",
              "       [1., 0., 0., 0., 0.],\n",
              "       [0., 1., 0., 0., 0.],\n",
              "       [0., 1., 0., 0., 0.]])"
            ]
          },
          "metadata": {},
          "execution_count": 156
        }
      ]
    },
    {
      "cell_type": "markdown",
      "metadata": {
        "id": "_sE3rWcF3jJ-"
      },
      "source": [
        "또는 `OneHotEncoder`를 만들 때 `sparse=False`로 지정할 수 있습니다:"
      ]
    },
    {
      "cell_type": "code",
      "metadata": {
        "colab": {
          "base_uri": "https://localhost:8080/"
        },
        "id": "hJwp11Jn3jJ-",
        "outputId": "1317e9e6-a912-4b7b-f2c1-fe49c4d89bfe"
      },
      "source": [
        "cat_encoder = OneHotEncoder(sparse=False)\n",
        "housing_cat_1hot = cat_encoder.fit_transform(housing_cat)\n",
        "housing_cat_1hot"
      ],
      "execution_count": 157,
      "outputs": [
        {
          "output_type": "execute_result",
          "data": {
            "text/plain": [
              "array([[1., 0., 0., 0., 0.],\n",
              "       [1., 0., 0., 0., 0.],\n",
              "       [0., 1., 0., 0., 0.],\n",
              "       ...,\n",
              "       [1., 0., 0., 0., 0.],\n",
              "       [0., 1., 0., 0., 0.],\n",
              "       [0., 1., 0., 0., 0.]])"
            ]
          },
          "metadata": {},
          "execution_count": 157
        }
      ]
    },
    {
      "cell_type": "code",
      "metadata": {
        "colab": {
          "base_uri": "https://localhost:8080/"
        },
        "id": "SP2PULA03jJ-",
        "outputId": "35f61bde-bfbe-4ee1-e4d0-c658775919ae"
      },
      "source": [
        "cat_encoder.categories_"
      ],
      "execution_count": 158,
      "outputs": [
        {
          "output_type": "execute_result",
          "data": {
            "text/plain": [
              "[array(['<1H OCEAN', 'INLAND', 'ISLAND', 'NEAR BAY', 'NEAR OCEAN'],\n",
              "       dtype=object)]"
            ]
          },
          "metadata": {},
          "execution_count": 158
        }
      ]
    },
    {
      "cell_type": "code",
      "metadata": {
        "colab": {
          "base_uri": "https://localhost:8080/"
        },
        "id": "EYUAy366vDrH",
        "outputId": "ef83a17d-dec3-4f97-87e0-050ddd0ec51f"
      },
      "source": [
        "from sklearn.preprocessing import OneHotEncoder\n",
        "\n",
        "cat_encoder = OneHotEncoder()\n",
        "housing_cat_1hot = cat_encoder.fit_transform(housing_cat)\n",
        "housing_cat_1hot"
      ],
      "execution_count": 159,
      "outputs": [
        {
          "output_type": "execute_result",
          "data": {
            "text/plain": [
              "<3825x5 sparse matrix of type '<class 'numpy.float64'>'\n",
              "\twith 3825 stored elements in Compressed Sparse Row format>"
            ]
          },
          "metadata": {},
          "execution_count": 159
        }
      ]
    },
    {
      "cell_type": "code",
      "metadata": {
        "id": "Yub7zi1Xsd4O"
      },
      "source": [
        "#housing = housing.drop(\"ocean_proximity\", axis=1)"
      ],
      "execution_count": 160,
      "outputs": []
    },
    {
      "cell_type": "code",
      "metadata": {
        "colab": {
          "base_uri": "https://localhost:8080/",
          "height": 0
        },
        "id": "TDa17HREjRAn",
        "outputId": "6d0d56e9-27e3-4147-faea-e143a3379b7a"
      },
      "source": [
        "import scipy as sp\n",
        "import numpy as np\n",
        "\n",
        "one_hot_df = pd.DataFrame(housing_cat_1hot.toarray(), columns=cat_encoder.categories_)\n",
        "one_hot_df"
      ],
      "execution_count": 161,
      "outputs": [
        {
          "output_type": "execute_result",
          "data": {
            "text/html": [
              "<div>\n",
              "<style scoped>\n",
              "    .dataframe tbody tr th:only-of-type {\n",
              "        vertical-align: middle;\n",
              "    }\n",
              "\n",
              "    .dataframe tbody tr th {\n",
              "        vertical-align: top;\n",
              "    }\n",
              "\n",
              "    .dataframe thead tr th {\n",
              "        text-align: left;\n",
              "    }\n",
              "</style>\n",
              "<table border=\"1\" class=\"dataframe\">\n",
              "  <thead>\n",
              "    <tr>\n",
              "      <th></th>\n",
              "      <th>&lt;1H OCEAN</th>\n",
              "      <th>INLAND</th>\n",
              "      <th>ISLAND</th>\n",
              "      <th>NEAR BAY</th>\n",
              "      <th>NEAR OCEAN</th>\n",
              "    </tr>\n",
              "  </thead>\n",
              "  <tbody>\n",
              "    <tr>\n",
              "      <th>0</th>\n",
              "      <td>1.0</td>\n",
              "      <td>0.0</td>\n",
              "      <td>0.0</td>\n",
              "      <td>0.0</td>\n",
              "      <td>0.0</td>\n",
              "    </tr>\n",
              "    <tr>\n",
              "      <th>1</th>\n",
              "      <td>1.0</td>\n",
              "      <td>0.0</td>\n",
              "      <td>0.0</td>\n",
              "      <td>0.0</td>\n",
              "      <td>0.0</td>\n",
              "    </tr>\n",
              "    <tr>\n",
              "      <th>2</th>\n",
              "      <td>0.0</td>\n",
              "      <td>1.0</td>\n",
              "      <td>0.0</td>\n",
              "      <td>0.0</td>\n",
              "      <td>0.0</td>\n",
              "    </tr>\n",
              "    <tr>\n",
              "      <th>3</th>\n",
              "      <td>0.0</td>\n",
              "      <td>1.0</td>\n",
              "      <td>0.0</td>\n",
              "      <td>0.0</td>\n",
              "      <td>0.0</td>\n",
              "    </tr>\n",
              "    <tr>\n",
              "      <th>4</th>\n",
              "      <td>0.0</td>\n",
              "      <td>1.0</td>\n",
              "      <td>0.0</td>\n",
              "      <td>0.0</td>\n",
              "      <td>0.0</td>\n",
              "    </tr>\n",
              "    <tr>\n",
              "      <th>...</th>\n",
              "      <td>...</td>\n",
              "      <td>...</td>\n",
              "      <td>...</td>\n",
              "      <td>...</td>\n",
              "      <td>...</td>\n",
              "    </tr>\n",
              "    <tr>\n",
              "      <th>3820</th>\n",
              "      <td>0.0</td>\n",
              "      <td>1.0</td>\n",
              "      <td>0.0</td>\n",
              "      <td>0.0</td>\n",
              "      <td>0.0</td>\n",
              "    </tr>\n",
              "    <tr>\n",
              "      <th>3821</th>\n",
              "      <td>0.0</td>\n",
              "      <td>0.0</td>\n",
              "      <td>0.0</td>\n",
              "      <td>0.0</td>\n",
              "      <td>1.0</td>\n",
              "    </tr>\n",
              "    <tr>\n",
              "      <th>3822</th>\n",
              "      <td>1.0</td>\n",
              "      <td>0.0</td>\n",
              "      <td>0.0</td>\n",
              "      <td>0.0</td>\n",
              "      <td>0.0</td>\n",
              "    </tr>\n",
              "    <tr>\n",
              "      <th>3823</th>\n",
              "      <td>0.0</td>\n",
              "      <td>1.0</td>\n",
              "      <td>0.0</td>\n",
              "      <td>0.0</td>\n",
              "      <td>0.0</td>\n",
              "    </tr>\n",
              "    <tr>\n",
              "      <th>3824</th>\n",
              "      <td>0.0</td>\n",
              "      <td>1.0</td>\n",
              "      <td>0.0</td>\n",
              "      <td>0.0</td>\n",
              "      <td>0.0</td>\n",
              "    </tr>\n",
              "  </tbody>\n",
              "</table>\n",
              "<p>3825 rows × 5 columns</p>\n",
              "</div>"
            ],
            "text/plain": [
              "     <1H OCEAN INLAND ISLAND NEAR BAY NEAR OCEAN\n",
              "0          1.0    0.0    0.0      0.0        0.0\n",
              "1          1.0    0.0    0.0      0.0        0.0\n",
              "2          0.0    1.0    0.0      0.0        0.0\n",
              "3          0.0    1.0    0.0      0.0        0.0\n",
              "4          0.0    1.0    0.0      0.0        0.0\n",
              "...        ...    ...    ...      ...        ...\n",
              "3820       0.0    1.0    0.0      0.0        0.0\n",
              "3821       0.0    0.0    0.0      0.0        1.0\n",
              "3822       1.0    0.0    0.0      0.0        0.0\n",
              "3823       0.0    1.0    0.0      0.0        0.0\n",
              "3824       0.0    1.0    0.0      0.0        0.0\n",
              "\n",
              "[3825 rows x 5 columns]"
            ]
          },
          "metadata": {},
          "execution_count": 161
        }
      ]
    },
    {
      "cell_type": "code",
      "metadata": {
        "id": "OXauvG0hzeKo"
      },
      "source": [
        "housing = housing.reset_index(drop=True)"
      ],
      "execution_count": 162,
      "outputs": []
    },
    {
      "cell_type": "code",
      "metadata": {
        "id": "SehD9CI7tkmh"
      },
      "source": [
        "housing = pd.concat([housing, one_hot_df], axis = 1)"
      ],
      "execution_count": 163,
      "outputs": []
    },
    {
      "cell_type": "code",
      "metadata": {
        "id": "hl2Et9nnLiVp"
      },
      "source": [
        "housing = housing.drop(\"ocean_proximity\", axis=1)"
      ],
      "execution_count": 164,
      "outputs": []
    },
    {
      "cell_type": "markdown",
      "metadata": {
        "id": "59dE9B-AHQqv"
      },
      "source": [
        "#### 2.1.3 **변환 2, 3**"
      ]
    },
    {
      "cell_type": "markdown",
      "metadata": {
        "id": "A4gh5df5nKmr"
      },
      "source": [
        "**우선 변환 3이 로그함수를 취하는 것이기 때문에 먼저 적용한다.**"
      ]
    },
    {
      "cell_type": "code",
      "metadata": {
        "id": "DLX5zK2SHPyk"
      },
      "source": [
        "# 변환 3\n",
        "housing[\"total_rooms\"] = np.log1p(housing[\"total_rooms\"])\n",
        "housing[\"total_bedrooms\"] = np.log1p(housing[\"total_bedrooms\"])\n",
        "housing[\"population\"] = np.log1p(housing[\"population\"])\n",
        "housing[\"households\"] = np.log1p(housing[\"households\"])\n",
        "housing[\"median_income\"] = np.log1p(housing[\"median_income\"])"
      ],
      "execution_count": 165,
      "outputs": []
    },
    {
      "cell_type": "markdown",
      "metadata": {
        "id": "HhzFyVD7nXpR"
      },
      "source": [
        "**또한, 특성 3개를 추가한다.**"
      ]
    },
    {
      "cell_type": "code",
      "metadata": {
        "id": "FaN03zULIFas"
      },
      "source": [
        "housing[\"rooms_per_household\"] = housing[\"total_rooms\"]/housing[\"households\"]\n",
        "housing[\"bedrooms_per_room\"] = housing[\"total_bedrooms\"]/housing[\"total_rooms\"]\n",
        "housing[\"population_per_household\"]=housing[\"population\"]/housing[\"households\"]\n",
        "#특성 3개 추가"
      ],
      "execution_count": 166,
      "outputs": []
    },
    {
      "cell_type": "markdown",
      "metadata": {
        "id": "SbTnfjBQndcM"
      },
      "source": [
        "**이미 범주형을 수치형으로 바꾸고 특성에 적용했기 때문에 변환 2를 적용하면 된다.**"
      ]
    },
    {
      "cell_type": "code",
      "metadata": {
        "colab": {
          "base_uri": "https://localhost:8080/",
          "height": 0
        },
        "id": "V8IJ9YZxH-I3",
        "outputId": "a9e7f61f-ff2d-44aa-e9dd-bc9b0cc7f8e6"
      },
      "source": [
        "# 변환 2\n",
        "corr_matrix = housing.corr()\n",
        "corr_matrix2 = abs(corr_matrix[\"median_house_value\"])\n",
        "delist = []\n",
        "i = 0\n",
        "\n",
        "while i < len(housing.columns):\n",
        "  if corr_matrix2[i] < 0.2:\n",
        "    delist.append(housing.columns[i])\n",
        "  i += 1\n",
        "\n",
        "housing = housing.drop(delist, axis=1)\n",
        "housing"
      ],
      "execution_count": 167,
      "outputs": [
        {
          "output_type": "execute_result",
          "data": {
            "text/html": [
              "<div>\n",
              "<style scoped>\n",
              "    .dataframe tbody tr th:only-of-type {\n",
              "        vertical-align: middle;\n",
              "    }\n",
              "\n",
              "    .dataframe tbody tr th {\n",
              "        vertical-align: top;\n",
              "    }\n",
              "\n",
              "    .dataframe thead th {\n",
              "        text-align: right;\n",
              "    }\n",
              "</style>\n",
              "<table border=\"1\" class=\"dataframe\">\n",
              "  <thead>\n",
              "    <tr style=\"text-align: right;\">\n",
              "      <th></th>\n",
              "      <th>median_income</th>\n",
              "      <th>median_house_value</th>\n",
              "      <th>(&lt;1H OCEAN,)</th>\n",
              "      <th>(INLAND,)</th>\n",
              "      <th>population_per_household</th>\n",
              "    </tr>\n",
              "  </thead>\n",
              "  <tbody>\n",
              "    <tr>\n",
              "      <th>0</th>\n",
              "      <td>1.724747</td>\n",
              "      <td>240300.0</td>\n",
              "      <td>1.0</td>\n",
              "      <td>0.0</td>\n",
              "      <td>1.145143</td>\n",
              "    </tr>\n",
              "    <tr>\n",
              "      <th>1</th>\n",
              "      <td>1.389265</td>\n",
              "      <td>218200.0</td>\n",
              "      <td>1.0</td>\n",
              "      <td>0.0</td>\n",
              "      <td>1.129626</td>\n",
              "    </tr>\n",
              "    <tr>\n",
              "      <th>2</th>\n",
              "      <td>1.639346</td>\n",
              "      <td>182100.0</td>\n",
              "      <td>0.0</td>\n",
              "      <td>1.0</td>\n",
              "      <td>1.198857</td>\n",
              "    </tr>\n",
              "    <tr>\n",
              "      <th>3</th>\n",
              "      <td>1.616910</td>\n",
              "      <td>121300.0</td>\n",
              "      <td>0.0</td>\n",
              "      <td>1.0</td>\n",
              "      <td>1.220488</td>\n",
              "    </tr>\n",
              "    <tr>\n",
              "      <th>4</th>\n",
              "      <td>1.489099</td>\n",
              "      <td>120600.0</td>\n",
              "      <td>0.0</td>\n",
              "      <td>1.0</td>\n",
              "      <td>1.136678</td>\n",
              "    </tr>\n",
              "    <tr>\n",
              "      <th>...</th>\n",
              "      <td>...</td>\n",
              "      <td>...</td>\n",
              "      <td>...</td>\n",
              "      <td>...</td>\n",
              "      <td>...</td>\n",
              "    </tr>\n",
              "    <tr>\n",
              "      <th>3820</th>\n",
              "      <td>1.089504</td>\n",
              "      <td>76400.0</td>\n",
              "      <td>0.0</td>\n",
              "      <td>1.0</td>\n",
              "      <td>1.115807</td>\n",
              "    </tr>\n",
              "    <tr>\n",
              "      <th>3821</th>\n",
              "      <td>1.090244</td>\n",
              "      <td>134000.0</td>\n",
              "      <td>0.0</td>\n",
              "      <td>0.0</td>\n",
              "      <td>1.176936</td>\n",
              "    </tr>\n",
              "    <tr>\n",
              "      <th>3822</th>\n",
              "      <td>1.774681</td>\n",
              "      <td>311700.0</td>\n",
              "      <td>1.0</td>\n",
              "      <td>0.0</td>\n",
              "      <td>1.118708</td>\n",
              "    </tr>\n",
              "    <tr>\n",
              "      <th>3823</th>\n",
              "      <td>1.742394</td>\n",
              "      <td>133500.0</td>\n",
              "      <td>0.0</td>\n",
              "      <td>1.0</td>\n",
              "      <td>1.156589</td>\n",
              "    </tr>\n",
              "    <tr>\n",
              "      <th>3824</th>\n",
              "      <td>1.565632</td>\n",
              "      <td>78600.0</td>\n",
              "      <td>0.0</td>\n",
              "      <td>1.0</td>\n",
              "      <td>1.191604</td>\n",
              "    </tr>\n",
              "  </tbody>\n",
              "</table>\n",
              "<p>3825 rows × 5 columns</p>\n",
              "</div>"
            ],
            "text/plain": [
              "      median_income  median_house_value  ...  (INLAND,)  population_per_household\n",
              "0          1.724747            240300.0  ...        0.0                  1.145143\n",
              "1          1.389265            218200.0  ...        0.0                  1.129626\n",
              "2          1.639346            182100.0  ...        1.0                  1.198857\n",
              "3          1.616910            121300.0  ...        1.0                  1.220488\n",
              "4          1.489099            120600.0  ...        1.0                  1.136678\n",
              "...             ...                 ...  ...        ...                       ...\n",
              "3820       1.089504             76400.0  ...        1.0                  1.115807\n",
              "3821       1.090244            134000.0  ...        0.0                  1.176936\n",
              "3822       1.774681            311700.0  ...        0.0                  1.118708\n",
              "3823       1.742394            133500.0  ...        1.0                  1.156589\n",
              "3824       1.565632             78600.0  ...        1.0                  1.191604\n",
              "\n",
              "[3825 rows x 5 columns]"
            ]
          },
          "metadata": {},
          "execution_count": 167
        }
      ]
    },
    {
      "cell_type": "markdown",
      "metadata": {
        "id": "4TxZ_pRvni7t"
      },
      "source": [
        "**적용 결과 상관계수가 0.2 이하인 특성은 제거되었다.**\n",
        "\n",
        "**마무리로 'median_house_value' 특성을 housing 데이터프레임에서 제거하고 housing_labels에 따로 넣어놓는다.**"
      ]
    },
    {
      "cell_type": "code",
      "metadata": {
        "id": "2wxm3x6Xeo1m"
      },
      "source": [
        "housing_labels = housing[\"median_house_value\"].copy()\n",
        "housing = housing.drop(\"median_house_value\", axis=1) # 훈련 세트를 위해 레이블 삭제"
      ],
      "execution_count": 168,
      "outputs": []
    },
    {
      "cell_type": "markdown",
      "metadata": {
        "id": "rg6mU6EunINv"
      },
      "source": [
        "#### 2.1.4 **변환 파이프라인**"
      ]
    },
    {
      "cell_type": "markdown",
      "metadata": {
        "id": "_MFvqndInIN5"
      },
      "source": [
        "**수치형 특성을 전처리하기 위해 파이프라인을 만든다.**"
      ]
    },
    {
      "cell_type": "code",
      "metadata": {
        "id": "YQ6wFnDPnIN5"
      },
      "source": [
        "from sklearn.pipeline import Pipeline\n",
        "from sklearn.preprocessing import StandardScaler\n",
        "\n",
        "num_pipeline = Pipeline([\n",
        "        ('imputer', SimpleImputer(strategy=\"median\")),\n",
        "        ('std_scaler', StandardScaler()),\n",
        "    ])\n",
        "\n",
        "housing_prepared = num_pipeline.fit_transform(housing)"
      ],
      "execution_count": 169,
      "outputs": []
    },
    {
      "cell_type": "markdown",
      "metadata": {
        "id": "XZcvT2_tn9j3"
      },
      "source": [
        "**하지만 원본과 다르게 범주형을 미리 수치형으로 바꿔놓아서 0과 1로 이루어져야 할 2, 3번째 열이 1.4와 -0.7로 구성되어 있다.**"
      ]
    },
    {
      "cell_type": "code",
      "metadata": {
        "colab": {
          "base_uri": "https://localhost:8080/"
        },
        "id": "Zz8dmNQanIN5",
        "outputId": "5e1e5a1e-fefe-4f18-d3a7-3361375c6d55"
      },
      "source": [
        "housing_prepared"
      ],
      "execution_count": 170,
      "outputs": [
        {
          "output_type": "execute_result",
          "data": {
            "text/plain": [
              "array([[ 0.69872277,  1.11744228, -0.70087664, -0.48992832],\n",
              "       [-0.31600474,  1.11744228, -0.70087664, -0.71399503],\n",
              "       [ 0.44041266, -0.89490081,  1.4267846 ,  0.28567843],\n",
              "       ...,\n",
              "       [ 0.84975854,  1.11744228, -0.70087664, -0.87163833],\n",
              "       [ 0.75210051, -0.89490081,  1.4267846 , -0.324654  ],\n",
              "       [ 0.2174513 , -0.89490081,  1.4267846 ,  0.18094796]])"
            ]
          },
          "metadata": {},
          "execution_count": 170
        }
      ]
    },
    {
      "cell_type": "markdown",
      "metadata": {
        "id": "ghQ_31rroIaB"
      },
      "source": [
        "**이하 0과 1로 이루어지게 하기 위해서 파이프라인 적용 전 housing에 있는 데이터를 housing_prepared에 적용하는 과정이다.**\n",
        "\n",
        "**<1H OCEAN 부터 적용해보자.**"
      ]
    },
    {
      "cell_type": "code",
      "metadata": {
        "id": "QSZnot5lhBI7"
      },
      "source": [
        "ilst = list(np.array(housing.iloc[:,1].tolist()))\n",
        "ilst2 = []\n",
        "i = 0\n",
        "\n",
        "while i < len(ilst) :\n",
        "  ilst2.append([ilst[i]])\n",
        "  i += 1\n",
        "  \n",
        "housing_prepared[:,[1]] = ilst2"
      ],
      "execution_count": 171,
      "outputs": []
    },
    {
      "cell_type": "markdown",
      "metadata": {
        "id": "wx9v5pzBoY0m"
      },
      "source": [
        "**반복문을 사용하면 되지만 한번 더 사용해서 INLAND 항목도 바꿔주었다.**"
      ]
    },
    {
      "cell_type": "code",
      "metadata": {
        "id": "rgmRdD7PjDTW"
      },
      "source": [
        "ilst = list(np.array(housing.iloc[:,2].tolist()))\n",
        "ilst2 = []\n",
        "i = 0\n",
        "while i < len(ilst) :\n",
        "  ilst2.append([ilst[i]])\n",
        "  i += 1\n",
        "housing_prepared[:,[2]] = ilst2"
      ],
      "execution_count": 172,
      "outputs": []
    },
    {
      "cell_type": "markdown",
      "metadata": {
        "id": "0lbGLa4EoS3W"
      },
      "source": [
        "**성공적으로 적용하였다.**"
      ]
    },
    {
      "cell_type": "code",
      "metadata": {
        "colab": {
          "base_uri": "https://localhost:8080/"
        },
        "id": "gzY2OxpgjL68",
        "outputId": "e071bcf7-193e-4e92-e2c3-38b9a0c55346"
      },
      "source": [
        "housing_prepared"
      ],
      "execution_count": 173,
      "outputs": [
        {
          "output_type": "execute_result",
          "data": {
            "text/plain": [
              "array([[ 0.69872277,  1.        ,  0.        , -0.48992832],\n",
              "       [-0.31600474,  1.        ,  0.        , -0.71399503],\n",
              "       [ 0.44041266,  0.        ,  1.        ,  0.28567843],\n",
              "       ...,\n",
              "       [ 0.84975854,  1.        ,  0.        , -0.87163833],\n",
              "       [ 0.75210051,  0.        ,  1.        , -0.324654  ],\n",
              "       [ 0.2174513 ,  0.        ,  1.        ,  0.18094796]])"
            ]
          },
          "metadata": {},
          "execution_count": 173
        }
      ]
    },
    {
      "cell_type": "code",
      "metadata": {
        "colab": {
          "base_uri": "https://localhost:8080/"
        },
        "id": "cUMndHeFnIN7",
        "outputId": "93ac8691-ca73-4da3-ecd2-62ad9a41f4e9"
      },
      "source": [
        "housing_prepared.shape"
      ],
      "execution_count": 174,
      "outputs": [
        {
          "output_type": "execute_result",
          "data": {
            "text/plain": [
              "(3825, 4)"
            ]
          },
          "metadata": {},
          "execution_count": 174
        }
      ]
    },
    {
      "cell_type": "markdown",
      "metadata": {
        "id": "H3B9GzCGjrra"
      },
      "source": [
        "### **2.2 모델 선택과 훈련**"
      ]
    },
    {
      "cell_type": "markdown",
      "metadata": {
        "id": "KErKZqpwo1lR"
      },
      "source": [
        "**모델 선택과 훈련에서 따로 바꿀 내용은 없기 때문에 약간의 수정만 하였다.**\n",
        "\n",
        "**ex) 변환 적용에 따른 파이프라인의 transform 항목 제거**"
      ]
    },
    {
      "cell_type": "markdown",
      "metadata": {
        "id": "hRMrPIltjrrq"
      },
      "source": [
        "##### 2.2.1 교차 검증을 사용한 평가 (p. 112)"
      ]
    },
    {
      "cell_type": "code",
      "metadata": {
        "id": "pE-PiDuhjrrr"
      },
      "source": [
        "from sklearn.model_selection import cross_val_score\n",
        "\n",
        "scores = cross_val_score(tree_reg, housing_prepared, housing_labels,\n",
        "                         scoring=\"neg_mean_squared_error\", cv=10)\n",
        "tree_rmse_scores = np.sqrt(-scores)"
      ],
      "execution_count": 175,
      "outputs": []
    },
    {
      "cell_type": "code",
      "metadata": {
        "colab": {
          "base_uri": "https://localhost:8080/"
        },
        "id": "5wSFpG-4jrrr",
        "outputId": "5df2363a-d232-4638-8553-4fc75527f118"
      },
      "source": [
        "def display_scores(scores):\n",
        "    print(\"점수:\", scores)\n",
        "    print(\"평균:\", scores.mean())\n",
        "    print(\"표준 편차:\", scores.std())\n",
        "\n",
        "display_scores(tree_rmse_scores)"
      ],
      "execution_count": 176,
      "outputs": [
        {
          "output_type": "stream",
          "name": "stdout",
          "text": [
            "점수: [77697.36311476 77602.91490717 77140.81018048 79333.33840023\n",
            " 80693.22220398 83968.49306273 82017.56835169 85870.58797738\n",
            " 84456.23677603 79337.3321803 ]\n",
            "평균: 80811.78671547429\n",
            "표준 편차: 2968.815172358624\n"
          ]
        }
      ]
    },
    {
      "cell_type": "code",
      "metadata": {
        "colab": {
          "base_uri": "https://localhost:8080/"
        },
        "id": "c1isi_6Xjrrr",
        "outputId": "cb60c917-5a80-4cb2-af54-60f54c8ec288"
      },
      "source": [
        "lin_scores = cross_val_score(lin_reg, housing_prepared, housing_labels,\n",
        "                             scoring=\"neg_mean_squared_error\", cv=10)\n",
        "lin_rmse_scores = np.sqrt(-lin_scores)\n",
        "display_scores(lin_rmse_scores)"
      ],
      "execution_count": 177,
      "outputs": [
        {
          "output_type": "stream",
          "name": "stdout",
          "text": [
            "점수: [60760.79713215 64794.52182928 60970.09857881 62272.59618758\n",
            " 69197.96529907 65123.8049494  62991.55649597 58848.39293478\n",
            " 65417.32956484 64469.86482141]\n",
            "평균: 63484.69277932766\n",
            "표준 편차: 2805.350279527959\n"
          ]
        }
      ]
    },
    {
      "cell_type": "markdown",
      "metadata": {
        "id": "wwclvTfQjrrr"
      },
      "source": [
        "**노트**: 사이킷런 0.22 버전에서 `n_estimators`의 기본값이 100으로 바뀌기 때문에 향후를 위해 `n_estimators=100`로 지정합니다(책에는 등장하지 않습니다)."
      ]
    },
    {
      "cell_type": "code",
      "metadata": {
        "colab": {
          "base_uri": "https://localhost:8080/"
        },
        "id": "JD8K7E7wjrrs",
        "outputId": "6a9b5b6c-b41e-4d7b-a5f7-9de1ebe2878a"
      },
      "source": [
        "from sklearn.ensemble import RandomForestRegressor\n",
        "\n",
        "forest_reg = RandomForestRegressor(n_estimators=100, random_state=42)\n",
        "forest_reg.fit(housing_prepared, housing_labels)"
      ],
      "execution_count": 178,
      "outputs": [
        {
          "output_type": "execute_result",
          "data": {
            "text/plain": [
              "RandomForestRegressor(bootstrap=True, ccp_alpha=0.0, criterion='mse',\n",
              "                      max_depth=None, max_features='auto', max_leaf_nodes=None,\n",
              "                      max_samples=None, min_impurity_decrease=0.0,\n",
              "                      min_impurity_split=None, min_samples_leaf=1,\n",
              "                      min_samples_split=2, min_weight_fraction_leaf=0.0,\n",
              "                      n_estimators=100, n_jobs=None, oob_score=False,\n",
              "                      random_state=42, verbose=0, warm_start=False)"
            ]
          },
          "metadata": {},
          "execution_count": 178
        }
      ]
    },
    {
      "cell_type": "code",
      "metadata": {
        "colab": {
          "base_uri": "https://localhost:8080/"
        },
        "id": "okpRNTyEjrrt",
        "outputId": "e2f8b3e6-c24a-410d-803a-9c6013dd221a"
      },
      "source": [
        "housing_predictions = forest_reg.predict(housing_prepared)\n",
        "forest_mse = mean_squared_error(housing_labels, housing_predictions)\n",
        "forest_rmse = np.sqrt(forest_mse)\n",
        "forest_rmse"
      ],
      "execution_count": 179,
      "outputs": [
        {
          "output_type": "execute_result",
          "data": {
            "text/plain": [
              "22925.449436433246"
            ]
          },
          "metadata": {},
          "execution_count": 179
        }
      ]
    },
    {
      "cell_type": "code",
      "metadata": {
        "colab": {
          "base_uri": "https://localhost:8080/"
        },
        "id": "NH6q52kTjrrt",
        "outputId": "f6ddef91-3f62-4c45-e6ab-d3918d042fb6"
      },
      "source": [
        "from sklearn.model_selection import cross_val_score\n",
        "\n",
        "forest_scores = cross_val_score(forest_reg, housing_prepared, housing_labels,\n",
        "                                scoring=\"neg_mean_squared_error\", cv=10)\n",
        "forest_rmse_scores = np.sqrt(-forest_scores)\n",
        "display_scores(forest_rmse_scores)"
      ],
      "execution_count": 180,
      "outputs": [
        {
          "output_type": "stream",
          "name": "stdout",
          "text": [
            "점수: [61866.53256173 62373.77008567 60223.17847966 59497.55647123\n",
            " 63792.15328368 60100.00748396 63288.61654002 58050.76324036\n",
            " 63063.16415009 61881.88460613]\n",
            "평균: 61413.76269025303\n",
            "표준 편차: 1770.9644804718287\n"
          ]
        }
      ]
    },
    {
      "cell_type": "code",
      "metadata": {
        "colab": {
          "base_uri": "https://localhost:8080/"
        },
        "id": "KForLn_ljrru",
        "outputId": "fc8af30f-da32-4c8b-ef29-ad3f55120354"
      },
      "source": [
        "scores = cross_val_score(lin_reg, housing_prepared, housing_labels, scoring=\"neg_mean_squared_error\", cv=10)\n",
        "pd.Series(np.sqrt(-scores)).describe()"
      ],
      "execution_count": 181,
      "outputs": [
        {
          "output_type": "execute_result",
          "data": {
            "text/plain": [
              "count       10.000000\n",
              "mean     63484.692779\n",
              "std       2957.098839\n",
              "min      58848.392935\n",
              "25%      61295.722981\n",
              "50%      63730.710659\n",
              "75%      65041.484169\n",
              "max      69197.965299\n",
              "dtype: float64"
            ]
          },
          "metadata": {},
          "execution_count": 181
        }
      ]
    },
    {
      "cell_type": "code",
      "metadata": {
        "colab": {
          "base_uri": "https://localhost:8080/"
        },
        "id": "K4aNZytAjrrv",
        "outputId": "1b3fc5ca-ea92-413d-9fdb-e229e21cc7c6"
      },
      "source": [
        "from sklearn.svm import SVR\n",
        "\n",
        "svm_reg = SVR(kernel=\"linear\")\n",
        "svm_reg.fit(housing_prepared, housing_labels)\n",
        "housing_predictions = svm_reg.predict(housing_prepared)\n",
        "svm_mse = mean_squared_error(housing_labels, housing_predictions)\n",
        "svm_rmse = np.sqrt(svm_mse)\n",
        "svm_rmse"
      ],
      "execution_count": 182,
      "outputs": [
        {
          "output_type": "execute_result",
          "data": {
            "text/plain": [
              "97387.4906726381"
            ]
          },
          "metadata": {},
          "execution_count": 182
        }
      ]
    },
    {
      "cell_type": "markdown",
      "metadata": {
        "id": "O_P6WIjP3jKI"
      },
      "source": [
        "### **2.3 모델 세부 튜팅**"
      ]
    },
    {
      "cell_type": "markdown",
      "metadata": {
        "id": "Fla_skc2Murd"
      },
      "source": [
        "**모델 세부 튜닝에서 따로 바꿀 내용은 없기 때문에 약간의 수정만 하였다.**\n",
        "\n",
        "**ex) 파라미터 값 설정 변경**"
      ]
    },
    {
      "cell_type": "markdown",
      "metadata": {
        "id": "puDIbvhT3jKI"
      },
      "source": [
        "#### 2.3.1 그리드 탐색 (p.115)"
      ]
    },
    {
      "cell_type": "markdown",
      "metadata": {
        "id": "3cvMvJexM18h"
      },
      "source": [
        "상관계수가 낮은 특성은 제거하였기 때문에 'max_fatures' 수치를 수정하였다."
      ]
    },
    {
      "cell_type": "code",
      "metadata": {
        "colab": {
          "base_uri": "https://localhost:8080/"
        },
        "id": "4awHXiGq3jKI",
        "scrolled": true,
        "outputId": "7909cceb-72b6-4d5b-a287-37ed1cce79df"
      },
      "source": [
        "from sklearn.model_selection import GridSearchCV\n",
        "\n",
        "param_grid = [\n",
        "    # 12(=3×4)개의 하이퍼파라미터 조합을 시도합니다.\n",
        "    {'n_estimators': [3, 10, 30], 'max_features': [2, 3, 4]},\n",
        "    # bootstrap은 False로 하고 6(=2×3)개의 조합을 시도합니다.\n",
        "    {'bootstrap': [False], 'n_estimators': [3, 10], 'max_features': [2, 3, 4]},\n",
        "  ]\n",
        "\n",
        "forest_reg = RandomForestRegressor(random_state=42)\n",
        "# 다섯 개의 폴드로 훈련하면 총 (12+6)*5=90번의 훈련이 일어납니다.\n",
        "grid_search = GridSearchCV(forest_reg, param_grid, cv=5,\n",
        "                           scoring='neg_mean_squared_error',\n",
        "                           return_train_score=True)\n",
        "grid_search.fit(housing, housing_labels)"
      ],
      "execution_count": 183,
      "outputs": [
        {
          "output_type": "execute_result",
          "data": {
            "text/plain": [
              "GridSearchCV(cv=5, error_score=nan,\n",
              "             estimator=RandomForestRegressor(bootstrap=True, ccp_alpha=0.0,\n",
              "                                             criterion='mse', max_depth=None,\n",
              "                                             max_features='auto',\n",
              "                                             max_leaf_nodes=None,\n",
              "                                             max_samples=None,\n",
              "                                             min_impurity_decrease=0.0,\n",
              "                                             min_impurity_split=None,\n",
              "                                             min_samples_leaf=1,\n",
              "                                             min_samples_split=2,\n",
              "                                             min_weight_fraction_leaf=0.0,\n",
              "                                             n_estimators=100, n_jobs=None,\n",
              "                                             oob_score=False, random_state=42,\n",
              "                                             verbose=0, warm_start=False),\n",
              "             iid='deprecated', n_jobs=None,\n",
              "             param_grid=[{'max_features': [2, 3, 4],\n",
              "                          'n_estimators': [3, 10, 30]},\n",
              "                         {'bootstrap': [False], 'max_features': [2, 3, 4],\n",
              "                          'n_estimators': [3, 10]}],\n",
              "             pre_dispatch='2*n_jobs', refit=True, return_train_score=True,\n",
              "             scoring='neg_mean_squared_error', verbose=0)"
            ]
          },
          "metadata": {},
          "execution_count": 183
        }
      ]
    },
    {
      "cell_type": "markdown",
      "metadata": {
        "id": "5t5ovhYY3jKJ"
      },
      "source": [
        "최상의 파라미터 조합은 다음과 같습니다:"
      ]
    },
    {
      "cell_type": "code",
      "metadata": {
        "colab": {
          "base_uri": "https://localhost:8080/"
        },
        "id": "usT89Mhz3jKJ",
        "outputId": "8cf77a90-6802-432e-b0cb-5f5ef31f17af"
      },
      "source": [
        "grid_search.best_params_"
      ],
      "execution_count": 184,
      "outputs": [
        {
          "output_type": "execute_result",
          "data": {
            "text/plain": [
              "{'max_features': 2, 'n_estimators': 30}"
            ]
          },
          "metadata": {},
          "execution_count": 184
        }
      ]
    },
    {
      "cell_type": "code",
      "metadata": {
        "colab": {
          "base_uri": "https://localhost:8080/"
        },
        "id": "Slc6YeUS3jKJ",
        "outputId": "68aa6a0b-1bb9-496b-cb93-d1226a9ce0b0"
      },
      "source": [
        "grid_search.best_estimator_"
      ],
      "execution_count": 185,
      "outputs": [
        {
          "output_type": "execute_result",
          "data": {
            "text/plain": [
              "RandomForestRegressor(bootstrap=True, ccp_alpha=0.0, criterion='mse',\n",
              "                      max_depth=None, max_features=2, max_leaf_nodes=None,\n",
              "                      max_samples=None, min_impurity_decrease=0.0,\n",
              "                      min_impurity_split=None, min_samples_leaf=1,\n",
              "                      min_samples_split=2, min_weight_fraction_leaf=0.0,\n",
              "                      n_estimators=30, n_jobs=None, oob_score=False,\n",
              "                      random_state=42, verbose=0, warm_start=False)"
            ]
          },
          "metadata": {},
          "execution_count": 185
        }
      ]
    },
    {
      "cell_type": "markdown",
      "metadata": {
        "id": "qZmgvMmc3jKJ"
      },
      "source": [
        "그리드서치에서 테스트한 하이퍼파라미터 조합의 점수를 확인합니다:"
      ]
    },
    {
      "cell_type": "code",
      "metadata": {
        "colab": {
          "base_uri": "https://localhost:8080/"
        },
        "id": "B4m2NDPT3jKJ",
        "outputId": "57316435-7adb-45e7-c5d3-168e10b07149"
      },
      "source": [
        "cvres = grid_search.cv_results_\n",
        "for mean_score, params in zip(cvres[\"mean_test_score\"], cvres[\"params\"]):\n",
        "    print(np.sqrt(-mean_score), params)"
      ],
      "execution_count": 186,
      "outputs": [
        {
          "output_type": "stream",
          "name": "stdout",
          "text": [
            "67889.07359833093 {'max_features': 2, 'n_estimators': 3}\n",
            "62939.68210829389 {'max_features': 2, 'n_estimators': 10}\n",
            "61426.63997668008 {'max_features': 2, 'n_estimators': 30}\n",
            "68658.64272288956 {'max_features': 3, 'n_estimators': 3}\n",
            "62779.91520182231 {'max_features': 3, 'n_estimators': 10}\n",
            "61520.99358149143 {'max_features': 3, 'n_estimators': 30}\n",
            "69075.49784814547 {'max_features': 4, 'n_estimators': 3}\n",
            "63832.9164379589 {'max_features': 4, 'n_estimators': 10}\n",
            "61913.367380477204 {'max_features': 4, 'n_estimators': 30}\n",
            "71432.45751890287 {'bootstrap': False, 'max_features': 2, 'n_estimators': 3}\n",
            "67329.20010071111 {'bootstrap': False, 'max_features': 2, 'n_estimators': 10}\n",
            "72564.13705673715 {'bootstrap': False, 'max_features': 3, 'n_estimators': 3}\n",
            "68869.9072946684 {'bootstrap': False, 'max_features': 3, 'n_estimators': 10}\n",
            "81041.5454306058 {'bootstrap': False, 'max_features': 4, 'n_estimators': 3}\n",
            "80576.89294191488 {'bootstrap': False, 'max_features': 4, 'n_estimators': 10}\n"
          ]
        }
      ]
    },
    {
      "cell_type": "code",
      "metadata": {
        "colab": {
          "base_uri": "https://localhost:8080/",
          "height": 0
        },
        "id": "oJoy5LsQ3jKJ",
        "outputId": "aa2b2bfd-87b3-4f72-99aa-24e40fbbaf86"
      },
      "source": [
        "pd.DataFrame(grid_search.cv_results_)"
      ],
      "execution_count": 187,
      "outputs": [
        {
          "output_type": "execute_result",
          "data": {
            "text/html": [
              "<div>\n",
              "<style scoped>\n",
              "    .dataframe tbody tr th:only-of-type {\n",
              "        vertical-align: middle;\n",
              "    }\n",
              "\n",
              "    .dataframe tbody tr th {\n",
              "        vertical-align: top;\n",
              "    }\n",
              "\n",
              "    .dataframe thead th {\n",
              "        text-align: right;\n",
              "    }\n",
              "</style>\n",
              "<table border=\"1\" class=\"dataframe\">\n",
              "  <thead>\n",
              "    <tr style=\"text-align: right;\">\n",
              "      <th></th>\n",
              "      <th>mean_fit_time</th>\n",
              "      <th>std_fit_time</th>\n",
              "      <th>mean_score_time</th>\n",
              "      <th>std_score_time</th>\n",
              "      <th>param_max_features</th>\n",
              "      <th>param_n_estimators</th>\n",
              "      <th>param_bootstrap</th>\n",
              "      <th>params</th>\n",
              "      <th>split0_test_score</th>\n",
              "      <th>split1_test_score</th>\n",
              "      <th>split2_test_score</th>\n",
              "      <th>split3_test_score</th>\n",
              "      <th>split4_test_score</th>\n",
              "      <th>mean_test_score</th>\n",
              "      <th>std_test_score</th>\n",
              "      <th>rank_test_score</th>\n",
              "      <th>split0_train_score</th>\n",
              "      <th>split1_train_score</th>\n",
              "      <th>split2_train_score</th>\n",
              "      <th>split3_train_score</th>\n",
              "      <th>split4_train_score</th>\n",
              "      <th>mean_train_score</th>\n",
              "      <th>std_train_score</th>\n",
              "    </tr>\n",
              "  </thead>\n",
              "  <tbody>\n",
              "    <tr>\n",
              "      <th>0</th>\n",
              "      <td>0.017516</td>\n",
              "      <td>0.002323</td>\n",
              "      <td>0.001939</td>\n",
              "      <td>0.000057</td>\n",
              "      <td>2</td>\n",
              "      <td>3</td>\n",
              "      <td>NaN</td>\n",
              "      <td>{'max_features': 2, 'n_estimators': 3}</td>\n",
              "      <td>-4.682125e+09</td>\n",
              "      <td>-4.805538e+09</td>\n",
              "      <td>-4.646635e+09</td>\n",
              "      <td>-4.386483e+09</td>\n",
              "      <td>-4.523851e+09</td>\n",
              "      <td>-4.608926e+09</td>\n",
              "      <td>1.429370e+08</td>\n",
              "      <td>8</td>\n",
              "      <td>-1.085485e+09</td>\n",
              "      <td>-1.077459e+09</td>\n",
              "      <td>-1.067861e+09</td>\n",
              "      <td>-1.060714e+09</td>\n",
              "      <td>-1.102969e+09</td>\n",
              "      <td>-1.078898e+09</td>\n",
              "      <td>1.467878e+07</td>\n",
              "    </tr>\n",
              "    <tr>\n",
              "      <th>1</th>\n",
              "      <td>0.048724</td>\n",
              "      <td>0.001737</td>\n",
              "      <td>0.003689</td>\n",
              "      <td>0.000148</td>\n",
              "      <td>2</td>\n",
              "      <td>10</td>\n",
              "      <td>NaN</td>\n",
              "      <td>{'max_features': 2, 'n_estimators': 10}</td>\n",
              "      <td>-4.110203e+09</td>\n",
              "      <td>-3.913931e+09</td>\n",
              "      <td>-3.916510e+09</td>\n",
              "      <td>-3.778155e+09</td>\n",
              "      <td>-4.088219e+09</td>\n",
              "      <td>-3.961404e+09</td>\n",
              "      <td>1.233469e+08</td>\n",
              "      <td>5</td>\n",
              "      <td>-6.743211e+08</td>\n",
              "      <td>-6.868236e+08</td>\n",
              "      <td>-6.747280e+08</td>\n",
              "      <td>-6.725608e+08</td>\n",
              "      <td>-6.632484e+08</td>\n",
              "      <td>-6.743364e+08</td>\n",
              "      <td>7.512402e+06</td>\n",
              "    </tr>\n",
              "    <tr>\n",
              "      <th>2</th>\n",
              "      <td>0.142155</td>\n",
              "      <td>0.003820</td>\n",
              "      <td>0.008515</td>\n",
              "      <td>0.000204</td>\n",
              "      <td>2</td>\n",
              "      <td>30</td>\n",
              "      <td>NaN</td>\n",
              "      <td>{'max_features': 2, 'n_estimators': 30}</td>\n",
              "      <td>-3.913594e+09</td>\n",
              "      <td>-3.705669e+09</td>\n",
              "      <td>-3.842011e+09</td>\n",
              "      <td>-3.507822e+09</td>\n",
              "      <td>-3.897064e+09</td>\n",
              "      <td>-3.773232e+09</td>\n",
              "      <td>1.515080e+08</td>\n",
              "      <td>1</td>\n",
              "      <td>-5.654872e+08</td>\n",
              "      <td>-5.659831e+08</td>\n",
              "      <td>-5.587026e+08</td>\n",
              "      <td>-5.694516e+08</td>\n",
              "      <td>-5.554817e+08</td>\n",
              "      <td>-5.630212e+08</td>\n",
              "      <td>5.132221e+06</td>\n",
              "    </tr>\n",
              "    <tr>\n",
              "      <th>3</th>\n",
              "      <td>0.019343</td>\n",
              "      <td>0.000856</td>\n",
              "      <td>0.001830</td>\n",
              "      <td>0.000058</td>\n",
              "      <td>3</td>\n",
              "      <td>3</td>\n",
              "      <td>NaN</td>\n",
              "      <td>{'max_features': 3, 'n_estimators': 3}</td>\n",
              "      <td>-4.829945e+09</td>\n",
              "      <td>-4.465270e+09</td>\n",
              "      <td>-4.459788e+09</td>\n",
              "      <td>-4.924074e+09</td>\n",
              "      <td>-4.890969e+09</td>\n",
              "      <td>-4.714009e+09</td>\n",
              "      <td>2.075489e+08</td>\n",
              "      <td>9</td>\n",
              "      <td>-1.119936e+09</td>\n",
              "      <td>-1.155767e+09</td>\n",
              "      <td>-1.103662e+09</td>\n",
              "      <td>-1.123585e+09</td>\n",
              "      <td>-1.194039e+09</td>\n",
              "      <td>-1.139398e+09</td>\n",
              "      <td>3.212302e+07</td>\n",
              "    </tr>\n",
              "    <tr>\n",
              "      <th>4</th>\n",
              "      <td>0.059168</td>\n",
              "      <td>0.001658</td>\n",
              "      <td>0.003664</td>\n",
              "      <td>0.000084</td>\n",
              "      <td>3</td>\n",
              "      <td>10</td>\n",
              "      <td>NaN</td>\n",
              "      <td>{'max_features': 3, 'n_estimators': 10}</td>\n",
              "      <td>-3.993334e+09</td>\n",
              "      <td>-3.684617e+09</td>\n",
              "      <td>-3.860363e+09</td>\n",
              "      <td>-4.057859e+09</td>\n",
              "      <td>-4.110416e+09</td>\n",
              "      <td>-3.941318e+09</td>\n",
              "      <td>1.531864e+08</td>\n",
              "      <td>4</td>\n",
              "      <td>-6.774293e+08</td>\n",
              "      <td>-7.036797e+08</td>\n",
              "      <td>-6.733347e+08</td>\n",
              "      <td>-6.785365e+08</td>\n",
              "      <td>-6.882719e+08</td>\n",
              "      <td>-6.842504e+08</td>\n",
              "      <td>1.088115e+07</td>\n",
              "    </tr>\n",
              "    <tr>\n",
              "      <th>5</th>\n",
              "      <td>0.175937</td>\n",
              "      <td>0.005222</td>\n",
              "      <td>0.008557</td>\n",
              "      <td>0.000389</td>\n",
              "      <td>3</td>\n",
              "      <td>30</td>\n",
              "      <td>NaN</td>\n",
              "      <td>{'max_features': 3, 'n_estimators': 30}</td>\n",
              "      <td>-3.905485e+09</td>\n",
              "      <td>-3.523840e+09</td>\n",
              "      <td>-3.820371e+09</td>\n",
              "      <td>-3.653915e+09</td>\n",
              "      <td>-4.020552e+09</td>\n",
              "      <td>-3.784833e+09</td>\n",
              "      <td>1.769973e+08</td>\n",
              "      <td>2</td>\n",
              "      <td>-5.529002e+08</td>\n",
              "      <td>-5.692473e+08</td>\n",
              "      <td>-5.650103e+08</td>\n",
              "      <td>-5.787167e+08</td>\n",
              "      <td>-5.715086e+08</td>\n",
              "      <td>-5.674766e+08</td>\n",
              "      <td>8.535641e+06</td>\n",
              "    </tr>\n",
              "    <tr>\n",
              "      <th>6</th>\n",
              "      <td>0.022610</td>\n",
              "      <td>0.000206</td>\n",
              "      <td>0.001913</td>\n",
              "      <td>0.000056</td>\n",
              "      <td>4</td>\n",
              "      <td>3</td>\n",
              "      <td>NaN</td>\n",
              "      <td>{'max_features': 4, 'n_estimators': 3}</td>\n",
              "      <td>-5.044267e+09</td>\n",
              "      <td>-4.702763e+09</td>\n",
              "      <td>-4.608572e+09</td>\n",
              "      <td>-4.794382e+09</td>\n",
              "      <td>-4.707139e+09</td>\n",
              "      <td>-4.771424e+09</td>\n",
              "      <td>1.485517e+08</td>\n",
              "      <td>11</td>\n",
              "      <td>-1.100283e+09</td>\n",
              "      <td>-1.079149e+09</td>\n",
              "      <td>-1.097551e+09</td>\n",
              "      <td>-1.132851e+09</td>\n",
              "      <td>-1.206080e+09</td>\n",
              "      <td>-1.123183e+09</td>\n",
              "      <td>4.491284e+07</td>\n",
              "    </tr>\n",
              "    <tr>\n",
              "      <th>7</th>\n",
              "      <td>0.070649</td>\n",
              "      <td>0.001685</td>\n",
              "      <td>0.003677</td>\n",
              "      <td>0.000075</td>\n",
              "      <td>4</td>\n",
              "      <td>10</td>\n",
              "      <td>NaN</td>\n",
              "      <td>{'max_features': 4, 'n_estimators': 10}</td>\n",
              "      <td>-4.151477e+09</td>\n",
              "      <td>-3.980786e+09</td>\n",
              "      <td>-3.915292e+09</td>\n",
              "      <td>-4.166420e+09</td>\n",
              "      <td>-4.159231e+09</td>\n",
              "      <td>-4.074641e+09</td>\n",
              "      <td>1.055307e+08</td>\n",
              "      <td>6</td>\n",
              "      <td>-6.846068e+08</td>\n",
              "      <td>-7.126348e+08</td>\n",
              "      <td>-6.778597e+08</td>\n",
              "      <td>-6.984110e+08</td>\n",
              "      <td>-6.755126e+08</td>\n",
              "      <td>-6.898050e+08</td>\n",
              "      <td>1.392298e+07</td>\n",
              "    </tr>\n",
              "    <tr>\n",
              "      <th>8</th>\n",
              "      <td>0.208374</td>\n",
              "      <td>0.003586</td>\n",
              "      <td>0.008360</td>\n",
              "      <td>0.000116</td>\n",
              "      <td>4</td>\n",
              "      <td>30</td>\n",
              "      <td>NaN</td>\n",
              "      <td>{'max_features': 4, 'n_estimators': 30}</td>\n",
              "      <td>-3.956666e+09</td>\n",
              "      <td>-3.668578e+09</td>\n",
              "      <td>-3.778456e+09</td>\n",
              "      <td>-3.740569e+09</td>\n",
              "      <td>-4.022057e+09</td>\n",
              "      <td>-3.833265e+09</td>\n",
              "      <td>1.338569e+08</td>\n",
              "      <td>3</td>\n",
              "      <td>-5.671605e+08</td>\n",
              "      <td>-5.792185e+08</td>\n",
              "      <td>-5.695208e+08</td>\n",
              "      <td>-5.867805e+08</td>\n",
              "      <td>-5.642213e+08</td>\n",
              "      <td>-5.733803e+08</td>\n",
              "      <td>8.379983e+06</td>\n",
              "    </tr>\n",
              "    <tr>\n",
              "      <th>9</th>\n",
              "      <td>0.022281</td>\n",
              "      <td>0.001596</td>\n",
              "      <td>0.002029</td>\n",
              "      <td>0.000259</td>\n",
              "      <td>2</td>\n",
              "      <td>3</td>\n",
              "      <td>False</td>\n",
              "      <td>{'bootstrap': False, 'max_features': 2, 'n_est...</td>\n",
              "      <td>-5.157360e+09</td>\n",
              "      <td>-5.055737e+09</td>\n",
              "      <td>-5.161382e+09</td>\n",
              "      <td>-4.718076e+09</td>\n",
              "      <td>-5.420426e+09</td>\n",
              "      <td>-5.102596e+09</td>\n",
              "      <td>2.269458e+08</td>\n",
              "      <td>12</td>\n",
              "      <td>-0.000000e+00</td>\n",
              "      <td>-0.000000e+00</td>\n",
              "      <td>-0.000000e+00</td>\n",
              "      <td>-0.000000e+00</td>\n",
              "      <td>-0.000000e+00</td>\n",
              "      <td>0.000000e+00</td>\n",
              "      <td>0.000000e+00</td>\n",
              "    </tr>\n",
              "    <tr>\n",
              "      <th>10</th>\n",
              "      <td>0.067584</td>\n",
              "      <td>0.001657</td>\n",
              "      <td>0.004189</td>\n",
              "      <td>0.000112</td>\n",
              "      <td>2</td>\n",
              "      <td>10</td>\n",
              "      <td>False</td>\n",
              "      <td>{'bootstrap': False, 'max_features': 2, 'n_est...</td>\n",
              "      <td>-4.644939e+09</td>\n",
              "      <td>-4.391954e+09</td>\n",
              "      <td>-4.615239e+09</td>\n",
              "      <td>-4.198439e+09</td>\n",
              "      <td>-4.815535e+09</td>\n",
              "      <td>-4.533221e+09</td>\n",
              "      <td>2.149162e+08</td>\n",
              "      <td>7</td>\n",
              "      <td>-0.000000e+00</td>\n",
              "      <td>-0.000000e+00</td>\n",
              "      <td>-0.000000e+00</td>\n",
              "      <td>-0.000000e+00</td>\n",
              "      <td>-0.000000e+00</td>\n",
              "      <td>0.000000e+00</td>\n",
              "      <td>0.000000e+00</td>\n",
              "    </tr>\n",
              "    <tr>\n",
              "      <th>11</th>\n",
              "      <td>0.026961</td>\n",
              "      <td>0.000256</td>\n",
              "      <td>0.001914</td>\n",
              "      <td>0.000035</td>\n",
              "      <td>3</td>\n",
              "      <td>3</td>\n",
              "      <td>False</td>\n",
              "      <td>{'bootstrap': False, 'max_features': 3, 'n_est...</td>\n",
              "      <td>-5.491310e+09</td>\n",
              "      <td>-5.120219e+09</td>\n",
              "      <td>-5.014258e+09</td>\n",
              "      <td>-5.337944e+09</td>\n",
              "      <td>-5.364039e+09</td>\n",
              "      <td>-5.265554e+09</td>\n",
              "      <td>1.733077e+08</td>\n",
              "      <td>13</td>\n",
              "      <td>-0.000000e+00</td>\n",
              "      <td>-0.000000e+00</td>\n",
              "      <td>-0.000000e+00</td>\n",
              "      <td>-0.000000e+00</td>\n",
              "      <td>-0.000000e+00</td>\n",
              "      <td>0.000000e+00</td>\n",
              "      <td>0.000000e+00</td>\n",
              "    </tr>\n",
              "    <tr>\n",
              "      <th>12</th>\n",
              "      <td>0.085325</td>\n",
              "      <td>0.001819</td>\n",
              "      <td>0.004073</td>\n",
              "      <td>0.000075</td>\n",
              "      <td>3</td>\n",
              "      <td>10</td>\n",
              "      <td>False</td>\n",
              "      <td>{'bootstrap': False, 'max_features': 3, 'n_est...</td>\n",
              "      <td>-4.857076e+09</td>\n",
              "      <td>-4.592967e+09</td>\n",
              "      <td>-4.797921e+09</td>\n",
              "      <td>-4.660235e+09</td>\n",
              "      <td>-4.807122e+09</td>\n",
              "      <td>-4.743064e+09</td>\n",
              "      <td>9.949981e+07</td>\n",
              "      <td>10</td>\n",
              "      <td>-0.000000e+00</td>\n",
              "      <td>-0.000000e+00</td>\n",
              "      <td>-0.000000e+00</td>\n",
              "      <td>-0.000000e+00</td>\n",
              "      <td>-0.000000e+00</td>\n",
              "      <td>0.000000e+00</td>\n",
              "      <td>0.000000e+00</td>\n",
              "    </tr>\n",
              "    <tr>\n",
              "      <th>13</th>\n",
              "      <td>0.033251</td>\n",
              "      <td>0.001247</td>\n",
              "      <td>0.002147</td>\n",
              "      <td>0.000193</td>\n",
              "      <td>4</td>\n",
              "      <td>3</td>\n",
              "      <td>False</td>\n",
              "      <td>{'bootstrap': False, 'max_features': 4, 'n_est...</td>\n",
              "      <td>-6.755796e+09</td>\n",
              "      <td>-6.129496e+09</td>\n",
              "      <td>-6.147163e+09</td>\n",
              "      <td>-6.787282e+09</td>\n",
              "      <td>-7.018924e+09</td>\n",
              "      <td>-6.567732e+09</td>\n",
              "      <td>3.622356e+08</td>\n",
              "      <td>15</td>\n",
              "      <td>-0.000000e+00</td>\n",
              "      <td>-0.000000e+00</td>\n",
              "      <td>-0.000000e+00</td>\n",
              "      <td>-0.000000e+00</td>\n",
              "      <td>-0.000000e+00</td>\n",
              "      <td>0.000000e+00</td>\n",
              "      <td>0.000000e+00</td>\n",
              "    </tr>\n",
              "    <tr>\n",
              "      <th>14</th>\n",
              "      <td>0.108017</td>\n",
              "      <td>0.001402</td>\n",
              "      <td>0.004220</td>\n",
              "      <td>0.000117</td>\n",
              "      <td>4</td>\n",
              "      <td>10</td>\n",
              "      <td>False</td>\n",
              "      <td>{'bootstrap': False, 'max_features': 4, 'n_est...</td>\n",
              "      <td>-6.633167e+09</td>\n",
              "      <td>-6.053558e+09</td>\n",
              "      <td>-6.115510e+09</td>\n",
              "      <td>-6.662959e+09</td>\n",
              "      <td>-6.997985e+09</td>\n",
              "      <td>-6.492636e+09</td>\n",
              "      <td>3.575330e+08</td>\n",
              "      <td>14</td>\n",
              "      <td>-0.000000e+00</td>\n",
              "      <td>-0.000000e+00</td>\n",
              "      <td>-0.000000e+00</td>\n",
              "      <td>-0.000000e+00</td>\n",
              "      <td>-0.000000e+00</td>\n",
              "      <td>0.000000e+00</td>\n",
              "      <td>0.000000e+00</td>\n",
              "    </tr>\n",
              "  </tbody>\n",
              "</table>\n",
              "</div>"
            ],
            "text/plain": [
              "    mean_fit_time  std_fit_time  ...  mean_train_score  std_train_score\n",
              "0        0.017516      0.002323  ...     -1.078898e+09     1.467878e+07\n",
              "1        0.048724      0.001737  ...     -6.743364e+08     7.512402e+06\n",
              "2        0.142155      0.003820  ...     -5.630212e+08     5.132221e+06\n",
              "3        0.019343      0.000856  ...     -1.139398e+09     3.212302e+07\n",
              "4        0.059168      0.001658  ...     -6.842504e+08     1.088115e+07\n",
              "5        0.175937      0.005222  ...     -5.674766e+08     8.535641e+06\n",
              "6        0.022610      0.000206  ...     -1.123183e+09     4.491284e+07\n",
              "7        0.070649      0.001685  ...     -6.898050e+08     1.392298e+07\n",
              "8        0.208374      0.003586  ...     -5.733803e+08     8.379983e+06\n",
              "9        0.022281      0.001596  ...      0.000000e+00     0.000000e+00\n",
              "10       0.067584      0.001657  ...      0.000000e+00     0.000000e+00\n",
              "11       0.026961      0.000256  ...      0.000000e+00     0.000000e+00\n",
              "12       0.085325      0.001819  ...      0.000000e+00     0.000000e+00\n",
              "13       0.033251      0.001247  ...      0.000000e+00     0.000000e+00\n",
              "14       0.108017      0.001402  ...      0.000000e+00     0.000000e+00\n",
              "\n",
              "[15 rows x 23 columns]"
            ]
          },
          "metadata": {},
          "execution_count": 187
        }
      ]
    },
    {
      "cell_type": "markdown",
      "metadata": {
        "id": "-F_Gl6Hx3jKK"
      },
      "source": [
        "#### 2.3.2 최상의 모델과 오차 분석 (p.118)"
      ]
    },
    {
      "cell_type": "code",
      "metadata": {
        "colab": {
          "base_uri": "https://localhost:8080/"
        },
        "id": "FzeiTATG3jKL",
        "outputId": "ef17adc9-9a61-425b-fbad-e39502649d5c"
      },
      "source": [
        "feature_importances = grid_search.best_estimator_.feature_importances_\n",
        "feature_importances"
      ],
      "execution_count": 188,
      "outputs": [
        {
          "output_type": "execute_result",
          "data": {
            "text/plain": [
              "array([0.53994085, 0.03048519, 0.17934518, 0.25022878])"
            ]
          },
          "metadata": {},
          "execution_count": 188
        }
      ]
    },
    {
      "cell_type": "markdown",
      "metadata": {
        "id": "maYRQ9KR3jKM"
      },
      "source": [
        "#### 2.3.3 테스트 세트로 시스템 평가하기 **(결과)**"
      ]
    },
    {
      "cell_type": "markdown",
      "metadata": {
        "id": "kRZHKYKgw7gq"
      },
      "source": [
        "**결과를 확인해보면 rmse = 23654.49999171906 값이 나오는 것을 확인할 수 있다.**"
      ]
    },
    {
      "cell_type": "code",
      "metadata": {
        "id": "gIBlDTuC3jKM"
      },
      "source": [
        "final_model = grid_search.best_estimator_\n",
        "\n",
        "X_test = housing\n",
        "y_test = housing_labels\n",
        "\n",
        "final_predictions = final_model.predict(X_test)\n",
        "\n",
        "final_mse = mean_squared_error(y_test, final_predictions)\n",
        "final_rmse = np.sqrt(final_mse)"
      ],
      "execution_count": 189,
      "outputs": []
    },
    {
      "cell_type": "code",
      "metadata": {
        "colab": {
          "base_uri": "https://localhost:8080/"
        },
        "id": "rlyOHboB3jKN",
        "outputId": "130ceaef-e2c2-4deb-d753-8ce2058ed006"
      },
      "source": [
        "final_rmse"
      ],
      "execution_count": 190,
      "outputs": [
        {
          "output_type": "execute_result",
          "data": {
            "text/plain": [
              "23654.49999171906"
            ]
          },
          "metadata": {},
          "execution_count": 190
        }
      ]
    },
    {
      "cell_type": "markdown",
      "metadata": {
        "id": "ko9218iN3jKN"
      },
      "source": [
        "테스트 RMSE에 대한 95% 신뢰 구간을 계산할 수 있습니다:"
      ]
    },
    {
      "cell_type": "code",
      "metadata": {
        "colab": {
          "base_uri": "https://localhost:8080/"
        },
        "id": "P9zJzrQq3jKN",
        "outputId": "7cbbcebc-31d4-4539-f45c-54b4d4cd84f0"
      },
      "source": [
        "from scipy import stats\n",
        "\n",
        "confidence = 0.95\n",
        "squared_errors = (final_predictions - y_test) ** 2\n",
        "np.sqrt(stats.t.interval(confidence, len(squared_errors) - 1,\n",
        "                         loc=squared_errors.mean(),\n",
        "                         scale=stats.sem(squared_errors)))"
      ],
      "execution_count": 191,
      "outputs": [
        {
          "output_type": "execute_result",
          "data": {
            "text/plain": [
              "array([22793.42057051, 24485.31638375])"
            ]
          },
          "metadata": {},
          "execution_count": 191
        }
      ]
    },
    {
      "cell_type": "markdown",
      "metadata": {
        "id": "BqNbyOqV3jKN"
      },
      "source": [
        "다음과 같이 수동으로 계산할 수도 있습니다:"
      ]
    },
    {
      "cell_type": "code",
      "metadata": {
        "colab": {
          "base_uri": "https://localhost:8080/"
        },
        "id": "prCstoCT3jKN",
        "outputId": "8306b9b8-1f4c-4833-c148-cfa5feb777d2"
      },
      "source": [
        "m = len(squared_errors)\n",
        "mean = squared_errors.mean()\n",
        "tscore = stats.t.ppf((1 + confidence) / 2, df=m - 1)\n",
        "tmargin = tscore * squared_errors.std(ddof=1) / np.sqrt(m)\n",
        "np.sqrt(mean - tmargin), np.sqrt(mean + tmargin)"
      ],
      "execution_count": 192,
      "outputs": [
        {
          "output_type": "execute_result",
          "data": {
            "text/plain": [
              "(22793.42057050913, 24485.316383750298)"
            ]
          },
          "metadata": {},
          "execution_count": 192
        }
      ]
    }
  ]
}