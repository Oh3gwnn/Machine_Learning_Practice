{
  "nbformat": 4,
  "nbformat_minor": 0,
  "metadata": {
    "colab": {
      "name": "Practice_6.ipynb",
      "provenance": [],
      "collapsed_sections": [
        "nLk1UDyWdwfs",
        "vgSRth_ofRzj",
        "6XJj-T7idwgO",
        "81__Y2Q8plHI",
        "7ctpg-2NWh6H",
        "ZRqth4VmfUUx",
        "ZNNeCfQVphhQ",
        "6dmSCC6Tphh2",
        "bZAD5gUN0-WB",
        "6pfNQbbNX0R0"
      ]
    },
    "kernelspec": {
      "name": "python3",
      "display_name": "Python 3"
    },
    "language_info": {
      "name": "python"
    }
  },
  "cells": [
    {
      "cell_type": "markdown",
      "metadata": {
        "id": "nLk1UDyWdwfs"
      },
      "source": [
        "### 기본 설정"
      ]
    },
    {
      "cell_type": "markdown",
      "metadata": {
        "id": "bWpgkRvKdwft"
      },
      "source": [
        "- 필수 모듈 불러오기\n",
        "- 그래프 출력 관련 기본 설정 지정"
      ]
    },
    {
      "cell_type": "code",
      "metadata": {
        "id": "JS6-FgfVdwfu"
      },
      "source": [
        "# 파이썬 ≥3.5 필수 (파이썬 3.7 추천)\n",
        "import sys\n",
        "assert sys.version_info >= (3, 5) \n",
        "\n",
        "# 사이킷런 ≥0.20 필수\n",
        "import sklearn\n",
        "assert sklearn.__version__ >= \"0.20\"\n",
        "\n",
        "# 공통 모듈 임포트\n",
        "import numpy as np\n",
        "import os\n",
        "\n",
        "# 노트북 실행 결과를 동일하게 유지하기 위해\n",
        "np.random.seed(42)\n",
        "\n",
        "# 깔끔한 그래프 출력을 위해\n",
        "%matplotlib inline\n",
        "import matplotlib as mpl\n",
        "import matplotlib.pyplot as plt\n",
        "mpl.rc('axes', labelsize=14)\n",
        "mpl.rc('xtick', labelsize=12)\n",
        "mpl.rc('ytick', labelsize=12)\n",
        "\n",
        "# 그림을 저장할 위치\n",
        "PROJECT_ROOT_DIR = \".\"\n",
        "CHAPTER_ID = \"decision_trees\"\n",
        "IMAGES_PATH = os.path.join(PROJECT_ROOT_DIR, \"images\", CHAPTER_ID)\n",
        "os.makedirs(IMAGES_PATH, exist_ok=True)\n",
        "\n",
        "def save_fig(fig_id, tight_layout=True, fig_extension=\"png\", resolution=300):\n",
        "    path = os.path.join(IMAGES_PATH, fig_id + \".\" + fig_extension)\n",
        "    print(\"Saving figure\", fig_id)\n",
        "    if tight_layout:\n",
        "        plt.tight_layout()\n",
        "    plt.savefig(path, format=fig_extension, dpi=resolution)"
      ],
      "execution_count": null,
      "outputs": []
    },
    {
      "cell_type": "markdown",
      "metadata": {
        "id": "vgSRth_ofRzj"
      },
      "source": [
        "# **문제 1: 6장 연습문제 8번**"
      ]
    },
    {
      "cell_type": "markdown",
      "metadata": {
        "id": "aJslCj6-fXQr"
      },
      "source": [
        "랜덤 포레스트를 직접 구현한 다음에 7장에서 소개한 사이킷런의 랜덤 포레스트 모델을 사용하는 것과의 성능을 비교하라."
      ]
    },
    {
      "cell_type": "markdown",
      "metadata": {
        "id": "6XJj-T7idwgO"
      },
      "source": [
        "## **직접구현 랜덤 포레스트(accuracy_score: 0.872)**"
      ]
    },
    {
      "cell_type": "markdown",
      "metadata": {
        "id": "6E6PfeFCj6_t"
      },
      "source": [
        "**make_moons 데이터셋을 생성**\n",
        "\n",
        " - `make_moons(n_samples=10000, noise=0.4)` 이용\n",
        " - 결과를 일정하게 만들기 위해 `random_state=42` 추가"
      ]
    },
    {
      "cell_type": "code",
      "metadata": {
        "id": "L1UtGvAMj6_5"
      },
      "source": [
        "from sklearn.datasets import make_moons\n",
        "\n",
        "X, y = make_moons(n_samples=10000, noise=0.4, random_state=42)"
      ],
      "execution_count": null,
      "outputs": []
    },
    {
      "cell_type": "markdown",
      "metadata": {
        "id": "gI9CerC9j6_5"
      },
      "source": [
        "**make_moons 데이터셋을 train 세트와 test 세트 분할**\n",
        "\n",
        " - `train_test_split()` 사용"
      ]
    },
    {
      "cell_type": "code",
      "metadata": {
        "id": "_Z5ROr5-j6_6"
      },
      "source": [
        "from sklearn.model_selection import train_test_split\n",
        "\n",
        "X_train, X_test, y_train, y_test = train_test_split(X, y, test_size=0.2, random_state=42)"
      ],
      "execution_count": null,
      "outputs": []
    },
    {
      "cell_type": "markdown",
      "metadata": {
        "id": "VDOmxaHTlUop"
      },
      "source": [
        "**`DecisionTreeClassifier`의 최적 하이퍼 파라미터 찾기: 교차 검증과 그리드 탐색 활용**\n",
        " - `GridSearchCV` 활용\n",
        " - `max_leaf_nodes` 다양한 값 사용"
      ]
    },
    {
      "cell_type": "code",
      "metadata": {
        "colab": {
          "base_uri": "https://localhost:8080/"
        },
        "id": "JulDQmhtlUo2",
        "outputId": "83c6091b-6c27-4587-f775-4936fa6a9b32"
      },
      "source": [
        "from sklearn.tree import DecisionTreeClassifier\n",
        "from sklearn.model_selection import GridSearchCV\n",
        "\n",
        "params = {'max_leaf_nodes': list(range(2, 100)), 'min_samples_split': [2, 3, 4]}\n",
        "grid_search_cv = GridSearchCV(DecisionTreeClassifier(random_state=42), params, verbose=1, cv=3)\n",
        "\n",
        "grid_search_cv.fit(X_train, y_train)"
      ],
      "execution_count": null,
      "outputs": [
        {
          "output_type": "stream",
          "text": [
            "Fitting 3 folds for each of 294 candidates, totalling 882 fits\n"
          ],
          "name": "stdout"
        },
        {
          "output_type": "stream",
          "text": [
            "[Parallel(n_jobs=1)]: Using backend SequentialBackend with 1 concurrent workers.\n",
            "[Parallel(n_jobs=1)]: Done 882 out of 882 | elapsed:    9.0s finished\n"
          ],
          "name": "stderr"
        },
        {
          "output_type": "execute_result",
          "data": {
            "text/plain": [
              "GridSearchCV(cv=3, error_score=nan,\n",
              "             estimator=DecisionTreeClassifier(ccp_alpha=0.0, class_weight=None,\n",
              "                                              criterion='gini', max_depth=None,\n",
              "                                              max_features=None,\n",
              "                                              max_leaf_nodes=None,\n",
              "                                              min_impurity_decrease=0.0,\n",
              "                                              min_impurity_split=None,\n",
              "                                              min_samples_leaf=1,\n",
              "                                              min_samples_split=2,\n",
              "                                              min_weight_fraction_leaf=0.0,\n",
              "                                              presort='deprecated',\n",
              "                                              random_state=42,\n",
              "                                              splitter='best'),\n",
              "             iid='deprecated', n_jobs=None,\n",
              "             param_grid={'max_leaf_nodes': [2, 3, 4, 5, 6, 7, 8, 9, 10, 11, 12,\n",
              "                                            13, 14, 15, 16, 17, 18, 19, 20, 21,\n",
              "                                            22, 23, 24, 25, 26, 27, 28, 29, 30,\n",
              "                                            31, ...],\n",
              "                         'min_samples_split': [2, 3, 4]},\n",
              "             pre_dispatch='2*n_jobs', refit=True, return_train_score=False,\n",
              "             scoring=None, verbose=1)"
            ]
          },
          "metadata": {
            "tags": []
          },
          "execution_count": 4
        }
      ]
    },
    {
      "cell_type": "markdown",
      "metadata": {
        "id": "dYEiq8LlngDc"
      },
      "source": [
        "`max_leaf_nodes=17`, `min_samples_split=2`일 때, 최적의 하이퍼 파라미터 값이 나옴."
      ]
    },
    {
      "cell_type": "code",
      "metadata": {
        "colab": {
          "base_uri": "https://localhost:8080/"
        },
        "id": "5t4l4ehFlUo3",
        "outputId": "ad762dd7-5c14-4a01-fd74-66f0b7518c9b"
      },
      "source": [
        "grid_search_cv.best_estimator_"
      ],
      "execution_count": null,
      "outputs": [
        {
          "output_type": "execute_result",
          "data": {
            "text/plain": [
              "DecisionTreeClassifier(ccp_alpha=0.0, class_weight=None, criterion='gini',\n",
              "                       max_depth=None, max_features=None, max_leaf_nodes=17,\n",
              "                       min_impurity_decrease=0.0, min_impurity_split=None,\n",
              "                       min_samples_leaf=1, min_samples_split=2,\n",
              "                       min_weight_fraction_leaf=0.0, presort='deprecated',\n",
              "                       random_state=42, splitter='best')"
            ]
          },
          "metadata": {
            "tags": []
          },
          "execution_count": 5
        }
      ]
    },
    {
      "cell_type": "markdown",
      "metadata": {
        "id": "6syMuKbMdwgO"
      },
      "source": [
        "**랜덤 포레스트 만들기**\n",
        " - 각각 무작위로 선택된 100개의 `n_instances`와 1,000개의 `n_trees` 생성\n",
        " - 사이킷런의 `ShuffleSplit` 클래스 활용"
      ]
    },
    {
      "cell_type": "code",
      "metadata": {
        "id": "7Lwf31_XdwgO"
      },
      "source": [
        "from sklearn.model_selection import ShuffleSplit\n",
        "\n",
        "n_trees = 1000\n",
        "n_instances = 100\n",
        "\n",
        "mini_sets = []\n",
        "\n",
        "rs = ShuffleSplit(n_splits=n_trees, test_size=len(X_train) - n_instances, random_state=42)\n",
        "\n",
        "for mini_train_index, mini_test_index in rs.split(X_train):\n",
        "    X_mini_train = X_train[mini_train_index]\n",
        "    y_mini_train = y_train[mini_train_index]\n",
        "    mini_sets.append((X_mini_train, y_mini_train))"
      ],
      "execution_count": null,
      "outputs": []
    },
    {
      "cell_type": "markdown",
      "metadata": {
        "id": "DKxCiIEddwgP"
      },
      "source": [
        "**앞에서 찾은 최적의 하이퍼 파라미터 값을 사용**\n",
        " - `clone(grid_search_cv.best_estimator_)` 이용\n",
        "\n",
        "각각의 서브 데이터셋에 결정 트리 훈련, 테스트 세트에서 1,000개의 결정트리 평가\n",
        "\n",
        "더 작은 데이터셋에서 훈련되었기 때문에 성능이 이전보다 낮다."
      ]
    },
    {
      "cell_type": "code",
      "metadata": {
        "id": "CYnwbmThdwgP",
        "colab": {
          "base_uri": "https://localhost:8080/"
        },
        "outputId": "133ea5e7-cdc7-4532-b279-f44e5d846293"
      },
      "source": [
        "from sklearn.metrics import accuracy_score\n",
        "from sklearn.base import clone\n",
        "# clone: 동일 파라미터를 가지고 새로운 추정치 생성\n",
        "\n",
        "forest = [clone(grid_search_cv.best_estimator_) for _ in range(n_trees)]\n",
        "\n",
        "accuracy_scores = []\n",
        "\n",
        "for tree, (X_mini_train, y_mini_train) in zip(forest, mini_sets):\n",
        "    tree.fit(X_mini_train, y_mini_train)\n",
        "    \n",
        "    y_pred = tree.predict(X_test)\n",
        "    accuracy_scores.append(accuracy_score(y_test, y_pred))\n",
        "\n",
        "np.mean(accuracy_scores)"
      ],
      "execution_count": null,
      "outputs": [
        {
          "output_type": "execute_result",
          "data": {
            "text/plain": [
              "0.8054499999999999"
            ]
          },
          "metadata": {
            "tags": []
          },
          "execution_count": 7
        }
      ]
    },
    {
      "cell_type": "markdown",
      "metadata": {
        "id": "VeuwQ-nVdwgP"
      },
      "source": [
        "**각 테스트 세트 샘플에 1,000개의 결정 트리 예측 생성**\n",
        " - SciPy의 `mode()`를 사용하여 다수결 예측(_majority-vote predictions_)이 만들어진다."
      ]
    },
    {
      "cell_type": "code",
      "metadata": {
        "id": "AsUBU20SdwgP"
      },
      "source": [
        "Y_pred = np.empty([n_trees, len(X_test)], dtype=np.uint8)\n",
        "\n",
        "for tree_index, tree in enumerate(forest):\n",
        "    Y_pred[tree_index] = tree.predict(X_test)"
      ],
      "execution_count": null,
      "outputs": []
    },
    {
      "cell_type": "code",
      "metadata": {
        "id": "ob09Ts0ndwgP"
      },
      "source": [
        "from scipy.stats import mode\n",
        "\n",
        "y_pred_majority_votes, n_votes = mode(Y_pred, axis=0)"
      ],
      "execution_count": null,
      "outputs": []
    },
    {
      "cell_type": "markdown",
      "metadata": {
        "id": "s2N4ACuodwgQ"
      },
      "source": [
        "테스트 세트에서 예측을 평가하면 첫 번째 모형보다 조금 더 높은 정확도를 얻는다."
      ]
    },
    {
      "cell_type": "code",
      "metadata": {
        "id": "9l0KArYrdwgQ",
        "colab": {
          "base_uri": "https://localhost:8080/"
        },
        "outputId": "c7d83746-1bbb-4f3a-e7d6-ef726c957dd8"
      },
      "source": [
        "accuracy_score(y_test, y_pred_majority_votes.reshape([-1]))"
      ],
      "execution_count": null,
      "outputs": [
        {
          "output_type": "execute_result",
          "data": {
            "text/plain": [
              "0.872"
            ]
          },
          "metadata": {
            "tags": []
          },
          "execution_count": 10
        }
      ]
    },
    {
      "cell_type": "code",
      "metadata": {
        "colab": {
          "base_uri": "https://localhost:8080/"
        },
        "id": "YEHa5NJ0ut6Y",
        "outputId": "aeb93eb4-6d19-49e7-f963-903bbd73ddba"
      },
      "source": [
        "np.sum(y_pred == y_pred_majority_votes) / len(y_pred)"
      ],
      "execution_count": null,
      "outputs": [
        {
          "output_type": "execute_result",
          "data": {
            "text/plain": [
              "0.8995"
            ]
          },
          "metadata": {
            "tags": []
          },
          "execution_count": 11
        }
      ]
    },
    {
      "cell_type": "markdown",
      "metadata": {
        "id": "81__Y2Q8plHI"
      },
      "source": [
        "## **사이킷런 랜덤 포레스트(accuracy_score: 0.8715)**"
      ]
    },
    {
      "cell_type": "markdown",
      "metadata": {
        "id": "XMz-tkZ2uF9S"
      },
      "source": [
        "**사이킷런을 이용하여 랜덤 포레스트 모델 생성**\n",
        " - `n_estimators=1000, max_leaf_nodes=17, random_state=42` 설정"
      ]
    },
    {
      "cell_type": "code",
      "metadata": {
        "id": "dod6tiXrpn4N"
      },
      "source": [
        "from sklearn.ensemble import RandomForestClassifier\n",
        "\n",
        "rnd_clf = RandomForestClassifier(n_estimators=1000, max_leaf_nodes=17, random_state=42)\n",
        "rnd_clf.fit(X_train, y_train)\n",
        "\n",
        "y_pred_rf = rnd_clf.predict(X_test)"
      ],
      "execution_count": null,
      "outputs": []
    },
    {
      "cell_type": "markdown",
      "metadata": {
        "id": "m8sK9WU5uUcL"
      },
      "source": [
        "사이킷런을 활용한 랜덤 포레스트 예측 값이 위의 직접 랜덤 포레스트 모델을 구현한 예측 값과 비슷하다."
      ]
    },
    {
      "cell_type": "code",
      "metadata": {
        "colab": {
          "base_uri": "https://localhost:8080/"
        },
        "id": "gkIu5ZteqRv8",
        "outputId": "7d5623ec-4240-4ad1-ce3b-7b43ef437fc9"
      },
      "source": [
        "accuracy_score(y_test, y_pred_rf)"
      ],
      "execution_count": null,
      "outputs": [
        {
          "output_type": "execute_result",
          "data": {
            "text/plain": [
              "0.8715"
            ]
          },
          "metadata": {
            "tags": []
          },
          "execution_count": 13
        }
      ]
    },
    {
      "cell_type": "markdown",
      "metadata": {
        "id": "7ctpg-2NWh6H"
      },
      "source": [
        "## **두 모델의 예측 값 비교(98.25% 일치)**"
      ]
    },
    {
      "cell_type": "markdown",
      "metadata": {
        "id": "b4HADgjQWshH"
      },
      "source": [
        "직접 구현한 `y_pred_majority_votes`의 예측 값과 사이킷런의 `y_pred_rf` 예측 값을 비교한다.\n",
        "\n",
        "0.9825만큼 일치하는 것을 확인할 수 있다."
      ]
    },
    {
      "cell_type": "code",
      "metadata": {
        "colab": {
          "base_uri": "https://localhost:8080/"
        },
        "id": "c7Lh31hFu1Cn",
        "outputId": "d72757ef-de12-46be-b674-7201156bb448"
      },
      "source": [
        "np.sum(y_pred_majority_votes == y_pred_rf) / len(y_pred)"
      ],
      "execution_count": null,
      "outputs": [
        {
          "output_type": "execute_result",
          "data": {
            "text/plain": [
              "0.9825"
            ]
          },
          "metadata": {
            "tags": []
          },
          "execution_count": 14
        }
      ]
    },
    {
      "cell_type": "markdown",
      "metadata": {
        "id": "ZRqth4VmfUUx"
      },
      "source": [
        "# **문제 2: 7장 연습문제 9번**"
      ]
    },
    {
      "cell_type": "markdown",
      "metadata": {
        "id": "cgcBJSiQfY1L"
      },
      "source": [
        "스태킹 모델을 직접 구현한 후 7장 강의노트에서 소개한 사이킷런의 스태킹 모델을 사용하는 것과의 성능을 비교하라."
      ]
    },
    {
      "cell_type": "markdown",
      "metadata": {
        "id": "ZNNeCfQVphhQ"
      },
      "source": [
        "#### **MNIST 데이터셋 가져오기**"
      ]
    },
    {
      "cell_type": "markdown",
      "metadata": {
        "id": "rff_2eW0phhQ"
      },
      "source": [
        "아래 코드는 MNIST 사진에 포함된 픽셀별 중요도를 이미지로 보여준다."
      ]
    },
    {
      "cell_type": "code",
      "metadata": {
        "id": "dX1ZIt44y_4v"
      },
      "source": [
        "from sklearn.datasets import fetch_openml\n",
        "\n",
        "mnist = fetch_openml('mnist_784', version=1)\n",
        "mnist.target = mnist.target.astype(np.uint8)"
      ],
      "execution_count": null,
      "outputs": []
    },
    {
      "cell_type": "markdown",
      "metadata": {
        "id": "QqguyTv9phhu"
      },
      "source": [
        "MNIST 데이터셋을 훈련 세트, 검증 세트, 테스트 세트로 각각 10,000개, 10,000개, 10,000개로 나눈다.\n",
        "\n",
        "ps. 훈련 세트도 10,000개인 이유는 모델 훈련이 너무 오래 걸려서 입니다."
      ]
    },
    {
      "cell_type": "code",
      "metadata": {
        "id": "sKBU9zIIphhu"
      },
      "source": [
        "from sklearn.model_selection import train_test_split"
      ],
      "execution_count": null,
      "outputs": []
    },
    {
      "cell_type": "code",
      "metadata": {
        "id": "wTOCaQlCphhu"
      },
      "source": [
        "X_train_val, X_test, y_train_val, y_test = train_test_split(\n",
        "    mnist.data, mnist.target, test_size=10000, random_state=42)\n",
        "X_train, X_val, y_train, y_val = train_test_split(\n",
        "    X_train_val, y_train_val, test_size=10000, random_state=42)\n",
        "\n",
        "# 남는 훈련 세트가 50,000개의 이미지 파일\n",
        "# 스태킹 모델 훈련이 오래 걸리기 때문에 10,000개로 설정\n",
        "X_train, X_train, y_train, y_train = train_test_split(\n",
        "    X_train, y_train, test_size=10000, random_state=42)"
      ],
      "execution_count": null,
      "outputs": []
    },
    {
      "cell_type": "markdown",
      "metadata": {
        "id": "6dmSCC6Tphh2"
      },
      "source": [
        "## **직접구현 스태킹 모델(accuracy_score: 0.9384)**"
      ]
    },
    {
      "cell_type": "markdown",
      "metadata": {
        "id": "OUTi9wFOy0Iv"
      },
      "source": [
        "**Random Forest, Extra-Trees, SVM, MLP 모델 가져오기**"
      ]
    },
    {
      "cell_type": "code",
      "metadata": {
        "id": "12ObSrPty0Iz"
      },
      "source": [
        "from sklearn.ensemble import RandomForestClassifier, ExtraTreesClassifier\n",
        "from sklearn.svm import LinearSVC\n",
        "from sklearn.neural_network import MLPClassifier"
      ],
      "execution_count": null,
      "outputs": []
    },
    {
      "cell_type": "code",
      "metadata": {
        "id": "t0pAoiyry0I0"
      },
      "source": [
        "# 각각의 모델 적용\n",
        "random_forest_clf = RandomForestClassifier(n_estimators=20, random_state=42)\n",
        "extra_trees_clf = ExtraTreesClassifier(n_estimators=20, random_state=42)\n",
        "svm_clf = LinearSVC(max_iter=20, tol=20, random_state=42)\n",
        "mlp_clf = MLPClassifier(random_state=42)"
      ],
      "execution_count": null,
      "outputs": []
    },
    {
      "cell_type": "code",
      "metadata": {
        "colab": {
          "base_uri": "https://localhost:8080/"
        },
        "id": "AmjwkIrWy0I1",
        "outputId": "8c46f65c-1289-41dc-ea5b-811f283191c7"
      },
      "source": [
        "estimators = [random_forest_clf, extra_trees_clf, svm_clf, mlp_clf]\n",
        "for estimator in estimators:\n",
        "    print(\"Training the\", estimator)\n",
        "    estimator.fit(X_train, y_train)"
      ],
      "execution_count": null,
      "outputs": [
        {
          "output_type": "stream",
          "text": [
            "Training the RandomForestClassifier(bootstrap=True, ccp_alpha=0.0, class_weight=None,\n",
            "                       criterion='gini', max_depth=None, max_features='auto',\n",
            "                       max_leaf_nodes=None, max_samples=None,\n",
            "                       min_impurity_decrease=0.0, min_impurity_split=None,\n",
            "                       min_samples_leaf=1, min_samples_split=2,\n",
            "                       min_weight_fraction_leaf=0.0, n_estimators=20,\n",
            "                       n_jobs=None, oob_score=False, random_state=42, verbose=0,\n",
            "                       warm_start=False)\n",
            "Training the ExtraTreesClassifier(bootstrap=False, ccp_alpha=0.0, class_weight=None,\n",
            "                     criterion='gini', max_depth=None, max_features='auto',\n",
            "                     max_leaf_nodes=None, max_samples=None,\n",
            "                     min_impurity_decrease=0.0, min_impurity_split=None,\n",
            "                     min_samples_leaf=1, min_samples_split=2,\n",
            "                     min_weight_fraction_leaf=0.0, n_estimators=20, n_jobs=None,\n",
            "                     oob_score=False, random_state=42, verbose=0,\n",
            "                     warm_start=False)\n",
            "Training the LinearSVC(C=1.0, class_weight=None, dual=True, fit_intercept=True,\n",
            "          intercept_scaling=1, loss='squared_hinge', max_iter=20,\n",
            "          multi_class='ovr', penalty='l2', random_state=42, tol=20, verbose=0)\n",
            "Training the MLPClassifier(activation='relu', alpha=0.0001, batch_size='auto', beta_1=0.9,\n",
            "              beta_2=0.999, early_stopping=False, epsilon=1e-08,\n",
            "              hidden_layer_sizes=(100,), learning_rate='constant',\n",
            "              learning_rate_init=0.001, max_fun=15000, max_iter=200,\n",
            "              momentum=0.9, n_iter_no_change=10, nesterovs_momentum=True,\n",
            "              power_t=0.5, random_state=42, shuffle=True, solver='adam',\n",
            "              tol=0.0001, validation_fraction=0.1, verbose=False,\n",
            "              warm_start=False)\n"
          ],
          "name": "stdout"
        }
      ]
    },
    {
      "cell_type": "markdown",
      "metadata": {
        "id": "RI8Nv5eP3lND"
      },
      "source": [
        "**개별 실행을 통해 검증 세트 예측과 결과 예측으로 새 훈련 세트 작성**\n",
        " - 각 훈련 샘플은 이미지에 대한 `classifiers`의 예측 세트를 포함하는 벡터이며 대상은 이미지 클래스이다.\n",
        " - 새로운 훈련 세트에 대한 `classfier` 훈련"
      ]
    },
    {
      "cell_type": "code",
      "metadata": {
        "id": "DiqV3xkYphh3"
      },
      "source": [
        "X_val_predictions = np.empty((len(X_val), len(estimators)), dtype=np.float32)\n",
        "\n",
        "for index, estimator in enumerate(estimators):\n",
        "    X_val_predictions[:, index] = estimator.predict(X_val)"
      ],
      "execution_count": null,
      "outputs": []
    },
    {
      "cell_type": "code",
      "metadata": {
        "id": "9AjXgq2Hphh3",
        "colab": {
          "base_uri": "https://localhost:8080/"
        },
        "outputId": "93cc7fac-58ae-4950-cfb3-a7e8f4948491"
      },
      "source": [
        "X_val_predictions"
      ],
      "execution_count": null,
      "outputs": [
        {
          "output_type": "execute_result",
          "data": {
            "text/plain": [
              "array([[5., 5., 5., 5.],\n",
              "       [8., 8., 8., 8.],\n",
              "       [2., 2., 2., 2.],\n",
              "       ...,\n",
              "       [4., 7., 7., 7.],\n",
              "       [6., 6., 6., 6.],\n",
              "       [7., 7., 7., 7.]], dtype=float32)"
            ]
          },
          "metadata": {
            "tags": []
          },
          "execution_count": 41
        }
      ]
    },
    {
      "cell_type": "code",
      "metadata": {
        "id": "O_o6Pk3Nphh3",
        "colab": {
          "base_uri": "https://localhost:8080/"
        },
        "outputId": "673c3f12-3019-4f08-d743-dd07a7ff849b"
      },
      "source": [
        "rnd_forest_blender = RandomForestClassifier(n_estimators=200, oob_score=True, random_state=42)\n",
        "rnd_forest_blender.fit(X_val_predictions, y_val)"
      ],
      "execution_count": null,
      "outputs": [
        {
          "output_type": "execute_result",
          "data": {
            "text/plain": [
              "RandomForestClassifier(bootstrap=True, ccp_alpha=0.0, class_weight=None,\n",
              "                       criterion='gini', max_depth=None, max_features='auto',\n",
              "                       max_leaf_nodes=None, max_samples=None,\n",
              "                       min_impurity_decrease=0.0, min_impurity_split=None,\n",
              "                       min_samples_leaf=1, min_samples_split=2,\n",
              "                       min_weight_fraction_leaf=0.0, n_estimators=200,\n",
              "                       n_jobs=None, oob_score=True, random_state=42, verbose=0,\n",
              "                       warm_start=False)"
            ]
          },
          "metadata": {
            "tags": []
          },
          "execution_count": 42
        }
      ]
    },
    {
      "cell_type": "code",
      "metadata": {
        "id": "MD-I8uWDphh3",
        "colab": {
          "base_uri": "https://localhost:8080/"
        },
        "outputId": "21c03f1e-8946-48d5-bc41-5cef8dd408c4"
      },
      "source": [
        "rnd_forest_blender.oob_score_"
      ],
      "execution_count": null,
      "outputs": [
        {
          "output_type": "execute_result",
          "data": {
            "text/plain": [
              "0.942"
            ]
          },
          "metadata": {
            "tags": []
          },
          "execution_count": 43
        }
      ]
    },
    {
      "cell_type": "markdown",
      "metadata": {
        "id": "eqOReDsQphh4"
      },
      "source": [
        "미세 조정을 통해 최적의 블렌더를 선택할 수 있다."
      ]
    },
    {
      "cell_type": "markdown",
      "metadata": {
        "id": "mBFugXpR-BqQ"
      },
      "source": [
        "**`Blender` 훈련 후 모든 `Classifier`에 대해서 스태킹 모델 형성**\n",
        "\n",
        "테스트 세트의 앙상블을 평가해보자.\n",
        "\n",
        "테스트 세트의 각 이미지에 대해 모든 classifier을 사용하여 예측하고, 다음 예측을 blender에 공급하여 앙상블의 예측 값을 가져온다."
      ]
    },
    {
      "cell_type": "code",
      "metadata": {
        "id": "fupksmOjphh4"
      },
      "source": [
        "X_test_predictions = np.empty((len(X_test), len(estimators)), dtype=np.float32)\n",
        "\n",
        "for index, estimator in enumerate(estimators):\n",
        "    X_test_predictions[:, index] = estimator.predict(X_test)"
      ],
      "execution_count": null,
      "outputs": []
    },
    {
      "cell_type": "code",
      "metadata": {
        "id": "2NxZ2MPAphh5"
      },
      "source": [
        "y_pred1 = rnd_forest_blender.predict(X_test_predictions)"
      ],
      "execution_count": null,
      "outputs": []
    },
    {
      "cell_type": "code",
      "metadata": {
        "id": "DBTeG2O1phh5"
      },
      "source": [
        "from sklearn.metrics import accuracy_score"
      ],
      "execution_count": null,
      "outputs": []
    },
    {
      "cell_type": "markdown",
      "metadata": {
        "id": "S7sgwaYeaq1G"
      },
      "source": [
        "예측한 값인 `accuracy_score`의 값이 0.9384가 나온다."
      ]
    },
    {
      "cell_type": "code",
      "metadata": {
        "id": "4XrPk_iHphh6",
        "colab": {
          "base_uri": "https://localhost:8080/"
        },
        "outputId": "297882aa-1390-4c79-eecf-3d47b94bef2e"
      },
      "source": [
        "accuracy_score(y_test, y_pred1)"
      ],
      "execution_count": null,
      "outputs": [
        {
          "output_type": "execute_result",
          "data": {
            "text/plain": [
              "0.9384"
            ]
          },
          "metadata": {
            "tags": []
          },
          "execution_count": 47
        }
      ]
    },
    {
      "cell_type": "markdown",
      "metadata": {
        "id": "bZAD5gUN0-WB"
      },
      "source": [
        "## **사이킷런 스태킹 모델(accuracy_score: 0.9491)**"
      ]
    },
    {
      "cell_type": "markdown",
      "metadata": {
        "id": "M7g9rDAna1G_"
      },
      "source": [
        "**사용할 모든 `Classifier`를 import 한다.**"
      ]
    },
    {
      "cell_type": "code",
      "metadata": {
        "id": "EIhuj8fb0-WH"
      },
      "source": [
        "from sklearn.ensemble import RandomForestClassifier\n",
        "from sklearn.svm import LinearSVC\n",
        "from sklearn.linear_model import LogisticRegression\n",
        "from sklearn.preprocessing import StandardScaler\n",
        "from sklearn.pipeline import make_pipeline\n",
        "from sklearn.ensemble import StackingClassifier"
      ],
      "execution_count": null,
      "outputs": []
    },
    {
      "cell_type": "markdown",
      "metadata": {
        "id": "9BmbhTnFRZzv"
      },
      "source": [
        "`RandomForest`, `LinearSVC` **모델 적용 `StackingClassifier`**"
      ]
    },
    {
      "cell_type": "code",
      "metadata": {
        "id": "M7HSZ7CPPPhO"
      },
      "source": [
        "estimators = [('rf', RandomForestClassifier(n_estimators=20, random_state=42)),\n",
        "              ('svr', make_pipeline(StandardScaler(),\n",
        "                                    LinearSVC(random_state=42)))]\n",
        "\n",
        "clf = StackingClassifier(estimators=estimators, \n",
        "                         final_estimator=LogisticRegression())"
      ],
      "execution_count": null,
      "outputs": []
    },
    {
      "cell_type": "code",
      "metadata": {
        "id": "w-mYRF4K0-WJ",
        "colab": {
          "base_uri": "https://localhost:8080/"
        },
        "outputId": "556c89c3-f673-4f28-ff15-75b42f4e8d4f"
      },
      "source": [
        "clf.fit(X_train, y_train).score(X_test, y_test)"
      ],
      "execution_count": null,
      "outputs": [
        {
          "output_type": "stream",
          "text": [
            "/usr/local/lib/python3.7/dist-packages/sklearn/svm/_base.py:947: ConvergenceWarning: Liblinear failed to converge, increase the number of iterations.\n",
            "  \"the number of iterations.\", ConvergenceWarning)\n",
            "/usr/local/lib/python3.7/dist-packages/sklearn/svm/_base.py:947: ConvergenceWarning: Liblinear failed to converge, increase the number of iterations.\n",
            "  \"the number of iterations.\", ConvergenceWarning)\n",
            "/usr/local/lib/python3.7/dist-packages/sklearn/svm/_base.py:947: ConvergenceWarning: Liblinear failed to converge, increase the number of iterations.\n",
            "  \"the number of iterations.\", ConvergenceWarning)\n",
            "/usr/local/lib/python3.7/dist-packages/sklearn/svm/_base.py:947: ConvergenceWarning: Liblinear failed to converge, increase the number of iterations.\n",
            "  \"the number of iterations.\", ConvergenceWarning)\n",
            "/usr/local/lib/python3.7/dist-packages/sklearn/svm/_base.py:947: ConvergenceWarning: Liblinear failed to converge, increase the number of iterations.\n",
            "  \"the number of iterations.\", ConvergenceWarning)\n",
            "/usr/local/lib/python3.7/dist-packages/sklearn/svm/_base.py:947: ConvergenceWarning: Liblinear failed to converge, increase the number of iterations.\n",
            "  \"the number of iterations.\", ConvergenceWarning)\n",
            "/usr/local/lib/python3.7/dist-packages/sklearn/linear_model/_logistic.py:940: ConvergenceWarning: lbfgs failed to converge (status=1):\n",
            "STOP: TOTAL NO. of ITERATIONS REACHED LIMIT.\n",
            "\n",
            "Increase the number of iterations (max_iter) or scale the data as shown in:\n",
            "    https://scikit-learn.org/stable/modules/preprocessing.html\n",
            "Please also refer to the documentation for alternative solver options:\n",
            "    https://scikit-learn.org/stable/modules/linear_model.html#logistic-regression\n",
            "  extra_warning_msg=_LOGISTIC_SOLVER_CONVERGENCE_MSG)\n"
          ],
          "name": "stderr"
        },
        {
          "output_type": "execute_result",
          "data": {
            "text/plain": [
              "0.9292"
            ]
          },
          "metadata": {
            "tags": []
          },
          "execution_count": 50
        }
      ]
    },
    {
      "cell_type": "markdown",
      "metadata": {
        "id": "a1_xHk6HR45_"
      },
      "source": [
        "예측 평가 값이 0.9292으로 직접 구현한 것 보다 점수가 낮다.\n",
        "\n",
        "하지만 RandomForest, LinearSVC만 적용한 스태킹 모델이기 때문에 이전에 직접 만든 스태킹 모델에서 사용하는 모델들을 가져와서 다시 실행해보자."
      ]
    },
    {
      "cell_type": "markdown",
      "metadata": {
        "id": "7rTaKR5_RqQU"
      },
      "source": [
        "`RandomForest`, `ExtraTrees`, `LinearSVC`, `MLP` **모델 적용 `StackingClassifier`**"
      ]
    },
    {
      "cell_type": "code",
      "metadata": {
        "id": "yLM7aQob0-WI"
      },
      "source": [
        "estimators = [('rf', RandomForestClassifier(n_estimators=20, random_state=42)),\n",
        "              ('ex', ExtraTreesClassifier(n_estimators=20, random_state=42)),\n",
        "              ('svm', LinearSVC(max_iter=20, tol=20, random_state=42)),\n",
        "              ('mlp', MLPClassifier(random_state=42))]\n",
        "\n",
        "clf = StackingClassifier(estimators=estimators, \n",
        "                         final_estimator=LogisticRegression())"
      ],
      "execution_count": null,
      "outputs": []
    },
    {
      "cell_type": "code",
      "metadata": {
        "colab": {
          "base_uri": "https://localhost:8080/"
        },
        "id": "2YKR0cZtQxa2",
        "outputId": "880f09cf-c1c0-42ac-d75f-c0f78a7c1c7c"
      },
      "source": [
        "clf.fit(X_train, y_train).score(X_test, y_test)"
      ],
      "execution_count": null,
      "outputs": [
        {
          "output_type": "stream",
          "text": [
            "/usr/local/lib/python3.7/dist-packages/sklearn/linear_model/_logistic.py:940: ConvergenceWarning: lbfgs failed to converge (status=1):\n",
            "STOP: TOTAL NO. of ITERATIONS REACHED LIMIT.\n",
            "\n",
            "Increase the number of iterations (max_iter) or scale the data as shown in:\n",
            "    https://scikit-learn.org/stable/modules/preprocessing.html\n",
            "Please also refer to the documentation for alternative solver options:\n",
            "    https://scikit-learn.org/stable/modules/linear_model.html#logistic-regression\n",
            "  extra_warning_msg=_LOGISTIC_SOLVER_CONVERGENCE_MSG)\n"
          ],
          "name": "stderr"
        },
        {
          "output_type": "execute_result",
          "data": {
            "text/plain": [
              "0.9491"
            ]
          },
          "metadata": {
            "tags": []
          },
          "execution_count": 52
        }
      ]
    },
    {
      "cell_type": "markdown",
      "metadata": {
        "id": "IVJK9w5ST1_f"
      },
      "source": [
        "예측 평가 값이 0.9491으로 직접 구현한 것 보다 점수가 높다.\n",
        "\n",
        "훈련 세트를 많이 줄였기 때문에 정확한 훈련이 되지 않았을 수도 있다.\n",
        "\n",
        "마지막으로 두 모델을 비교하기 위해 `y_pred2` 값을 따로 저장한다."
      ]
    },
    {
      "cell_type": "code",
      "metadata": {
        "id": "nvBApHWsXb2A"
      },
      "source": [
        "y_pred2 = clf.predict(X_test)"
      ],
      "execution_count": null,
      "outputs": []
    },
    {
      "cell_type": "markdown",
      "metadata": {
        "id": "6pfNQbbNX0R0"
      },
      "source": [
        "## **두 모델의 예측 값 비교(95.97% 일치)**"
      ]
    },
    {
      "cell_type": "markdown",
      "metadata": {
        "id": "B69cLFh0X0R3"
      },
      "source": [
        "**직접 구현한** `y_pred1` **예측 값과 사이킷런의** `y_pred2` **예측 값을 비교한다.**\n",
        "\n",
        "0.9597만큼 일치하는 것을 확인할 수 있다."
      ]
    },
    {
      "cell_type": "code",
      "metadata": {
        "colab": {
          "base_uri": "https://localhost:8080/"
        },
        "id": "ETM9-ZgFX0R4",
        "outputId": "7ddd5a54-a213-47d3-80e9-4172dccd8d02"
      },
      "source": [
        "np.sum(y_pred1 == y_pred2) / len(y_val)"
      ],
      "execution_count": null,
      "outputs": [
        {
          "output_type": "execute_result",
          "data": {
            "text/plain": [
              "0.9597"
            ]
          },
          "metadata": {
            "tags": []
          },
          "execution_count": 58
        }
      ]
    }
  ]
}