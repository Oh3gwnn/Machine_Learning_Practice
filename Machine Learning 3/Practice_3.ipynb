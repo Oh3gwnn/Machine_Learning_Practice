{
  "nbformat": 4,
  "nbformat_minor": 0,
  "metadata": {
    "colab": {
      "name": "Practice_3.ipynb",
      "provenance": [],
      "collapsed_sections": []
    },
    "kernelspec": {
      "name": "python3",
      "display_name": "Python 3"
    },
    "language_info": {
      "name": "python"
    }
  },
  "cells": [
    {
      "cell_type": "markdown",
      "metadata": {
        "id": "WFWhxVXVytrH"
      },
      "source": [
        "**학번 : 2017250039**\n",
        "\n",
        "**이름 : 임형택**"
      ]
    },
    {
      "cell_type": "code",
      "metadata": {
        "id": "Mi8iICIFe0jW"
      },
      "source": [
        "import pandas as pd\n",
        "import numpy as np\n",
        "\n",
        "train = pd.read_csv('train.csv')\n",
        "test = pd.read_csv('test.csv')"
      ],
      "execution_count": null,
      "outputs": []
    },
    {
      "cell_type": "markdown",
      "metadata": {
        "id": "o5b9Ki3ahFT4"
      },
      "source": [
        "일단 라이브러리들을 불러오고, 'train.csv', 'test.csv' 파일 또한 불러오자.\n",
        "\n",
        "그 후 제대로 파일을 불러왔는지 train.head()로 확인해보았다."
      ]
    },
    {
      "cell_type": "code",
      "metadata": {
        "colab": {
          "base_uri": "https://localhost:8080/",
          "height": 496
        },
        "id": "TCb4HVDffDc4",
        "outputId": "0d658238-f890-492a-dc64-12336f10df85"
      },
      "source": [
        "train.head()"
      ],
      "execution_count": null,
      "outputs": [
        {
          "output_type": "execute_result",
          "data": {
            "text/html": [
              "<div>\n",
              "<style scoped>\n",
              "    .dataframe tbody tr th:only-of-type {\n",
              "        vertical-align: middle;\n",
              "    }\n",
              "\n",
              "    .dataframe tbody tr th {\n",
              "        vertical-align: top;\n",
              "    }\n",
              "\n",
              "    .dataframe thead th {\n",
              "        text-align: right;\n",
              "    }\n",
              "</style>\n",
              "<table border=\"1\" class=\"dataframe\">\n",
              "  <thead>\n",
              "    <tr style=\"text-align: right;\">\n",
              "      <th></th>\n",
              "      <th>PassengerId</th>\n",
              "      <th>Survived</th>\n",
              "      <th>Pclass</th>\n",
              "      <th>Name</th>\n",
              "      <th>Sex</th>\n",
              "      <th>Age</th>\n",
              "      <th>SibSp</th>\n",
              "      <th>Parch</th>\n",
              "      <th>Ticket</th>\n",
              "      <th>Fare</th>\n",
              "      <th>Cabin</th>\n",
              "      <th>Embarked</th>\n",
              "    </tr>\n",
              "  </thead>\n",
              "  <tbody>\n",
              "    <tr>\n",
              "      <th>0</th>\n",
              "      <td>1</td>\n",
              "      <td>0</td>\n",
              "      <td>3</td>\n",
              "      <td>Braund, Mr. Owen Harris</td>\n",
              "      <td>male</td>\n",
              "      <td>22.0</td>\n",
              "      <td>1</td>\n",
              "      <td>0</td>\n",
              "      <td>A/5 21171</td>\n",
              "      <td>7.2500</td>\n",
              "      <td>NaN</td>\n",
              "      <td>S</td>\n",
              "    </tr>\n",
              "    <tr>\n",
              "      <th>1</th>\n",
              "      <td>2</td>\n",
              "      <td>1</td>\n",
              "      <td>1</td>\n",
              "      <td>Cumings, Mrs. John Bradley (Florence Briggs Th...</td>\n",
              "      <td>female</td>\n",
              "      <td>38.0</td>\n",
              "      <td>1</td>\n",
              "      <td>0</td>\n",
              "      <td>PC 17599</td>\n",
              "      <td>71.2833</td>\n",
              "      <td>C85</td>\n",
              "      <td>C</td>\n",
              "    </tr>\n",
              "    <tr>\n",
              "      <th>2</th>\n",
              "      <td>3</td>\n",
              "      <td>1</td>\n",
              "      <td>3</td>\n",
              "      <td>Heikkinen, Miss. Laina</td>\n",
              "      <td>female</td>\n",
              "      <td>26.0</td>\n",
              "      <td>0</td>\n",
              "      <td>0</td>\n",
              "      <td>STON/O2. 3101282</td>\n",
              "      <td>7.9250</td>\n",
              "      <td>NaN</td>\n",
              "      <td>S</td>\n",
              "    </tr>\n",
              "    <tr>\n",
              "      <th>3</th>\n",
              "      <td>4</td>\n",
              "      <td>1</td>\n",
              "      <td>1</td>\n",
              "      <td>Futrelle, Mrs. Jacques Heath (Lily May Peel)</td>\n",
              "      <td>female</td>\n",
              "      <td>35.0</td>\n",
              "      <td>1</td>\n",
              "      <td>0</td>\n",
              "      <td>113803</td>\n",
              "      <td>53.1000</td>\n",
              "      <td>C123</td>\n",
              "      <td>S</td>\n",
              "    </tr>\n",
              "    <tr>\n",
              "      <th>4</th>\n",
              "      <td>5</td>\n",
              "      <td>0</td>\n",
              "      <td>3</td>\n",
              "      <td>Allen, Mr. William Henry</td>\n",
              "      <td>male</td>\n",
              "      <td>35.0</td>\n",
              "      <td>0</td>\n",
              "      <td>0</td>\n",
              "      <td>373450</td>\n",
              "      <td>8.0500</td>\n",
              "      <td>NaN</td>\n",
              "      <td>S</td>\n",
              "    </tr>\n",
              "  </tbody>\n",
              "</table>\n",
              "</div>"
            ],
            "text/plain": [
              "   PassengerId  Survived  Pclass  ...     Fare Cabin  Embarked\n",
              "0            1         0       3  ...   7.2500   NaN         S\n",
              "1            2         1       1  ...  71.2833   C85         C\n",
              "2            3         1       3  ...   7.9250   NaN         S\n",
              "3            4         1       1  ...  53.1000  C123         S\n",
              "4            5         0       3  ...   8.0500   NaN         S\n",
              "\n",
              "[5 rows x 12 columns]"
            ]
          },
          "metadata": {
            "tags": []
          },
          "execution_count": 137
        }
      ]
    },
    {
      "cell_type": "markdown",
      "metadata": {
        "id": "CdKySa5Cgav6"
      },
      "source": [
        "위의 데이터 프레임을 살펴보면 승객 데이터에서 제공되는 특성은 10가지가 있는데,\n",
        "\n",
        "* **Survived**: 타깃입니다. 0은 생존하지 못한 것이고 1은 생존을 의미합니다.\n",
        "* **Pclass**: 승객 등급. 1, 2, 3등석.\n",
        "* **Name**, **Sex**, **Age**: 이름 그대로 의미입니다.\n",
        "* **SibSp**: 함께 탑승한 형제, 배우자의 수.\n",
        "* **Parch**: 함께 탑승한 자녀, 부모의 수.\n",
        "* **Ticket**: 티켓 아이디\n",
        "* **Fare**: 티켓 요금 (파운드)\n",
        "* **Cabin**: 객실 번호\n",
        "* **Embarked**: 승객이 탑승한 곳. C(Cherbourg), Q(Queenstown), S(Southampton)\n",
        "\n",
        "그 중에서 의미를 바로 알기 힘든 것들을 자세하게 살펴보자.\n",
        "\n",
        "*  **Survivied** - 생존 여부(0은 사망, 1은 생존; train 데이터에서만 제공)\n",
        "*  **Pclass** - 사회경제적 지위(1에 가까울 수록 높음)\n",
        "*  **SipSp** - 배우자나 형제 자매 명 수의 총 합\n",
        "*  **Parch** - 부모 자식 명 수의 총 합"
      ]
    },
    {
      "cell_type": "markdown",
      "metadata": {
        "id": "PEG1gGnryLJY"
      },
      "source": [
        "그리고 Survived 특성을 참고하여 차트를 확인하면"
      ]
    },
    {
      "cell_type": "code",
      "metadata": {
        "id": "DYYkN-rfyLkU",
        "colab": {
          "base_uri": "https://localhost:8080/",
          "height": 460
        },
        "outputId": "9af01b93-27db-43e3-99b1-ae333133bbe0"
      },
      "source": [
        "import seaborn as sns\n",
        "import matplotlib.pyplot as plt\n",
        "f, ax=plt.subplots(1, 2, figsize=(12,6))\n",
        "train['Survived'].value_counts().plot.pie(explode=[0,0.1],autopct='%1.1f%%',ax=ax[0],shadow=True)\n",
        "ax[0].set_title('Survived')\n",
        "ax[0].set_ylabel('')\n",
        "sns.countplot('Survived',data=train,ax=ax[1])\n",
        "ax[1].set_title('Survived')\n",
        "plt.show()"
      ],
      "execution_count": null,
      "outputs": [
        {
          "output_type": "stream",
          "text": [
            "/usr/local/lib/python3.7/dist-packages/seaborn/_decorators.py:43: FutureWarning: Pass the following variable as a keyword arg: x. From version 0.12, the only valid positional argument will be `data`, and passing other arguments without an explicit keyword will result in an error or misinterpretation.\n",
            "  FutureWarning\n"
          ],
          "name": "stderr"
        },
        {
          "output_type": "display_data",
          "data": {
            "image/png": "[encoded data removed]",
            "text/plain": [
              "<Figure size 864x432 with 2 Axes>"
            ]
          },
          "metadata": {
            "tags": [],
            "needs_background": "light"
          }
        }
      ]
    },
    {
      "cell_type": "markdown",
      "metadata": {
        "id": "xrxWgdpBydqr"
      },
      "source": [
        "위에 설명한 것처럼 0은 사망, 1은 생존을 의미하니까 탑승객의 60% 이상이 사망했다는 결론을 얻을 수 있다."
      ]
    },
    {
      "cell_type": "markdown",
      "metadata": {
        "id": "vq9Q7qNN6sRh"
      },
      "source": [
        "우선 타이타닉호 사건에 대해서 찾아봤는데 등급(Pclass)이 높을수록\n",
        "\n",
        "**그리고 여성과 아이를 먼저 구조했거 때문에 Survived는 당연히 타깃으로 잡고, (Pclass, Sex, Age)를 특성 기준으로 삼으면 좋을 것 같다.**\n",
        "\n",
        "한번 성별과 나이, Pclass까지 참고하여 차트를 확인해 보자."
      ]
    },
    {
      "cell_type": "code",
      "metadata": {
        "id": "E3qPVcNJy3xd",
        "colab": {
          "base_uri": "https://localhost:8080/",
          "height": 351
        },
        "outputId": "e50ea8c4-e2bc-43c0-cc67-1932409aea3b"
      },
      "source": [
        "f,ax=plt.subplots(1,2,figsize=(12,6))\n",
        "train['Survived'][train['Sex']=='male'].value_counts().plot.pie(explode=[0,0.1],autopct='%1.1f%%',ax=ax[0],shadow=True)\n",
        "train['Survived'][train['Sex']=='female'].value_counts().plot.pie(explode=[0,0.1],autopct='%1.1f%%',ax=ax[1],shadow=True)\n",
        "ax[0].set_title('Survived (male)')\n",
        "ax[1].set_title('Survived (female)')\n",
        "plt.show()"
      ],
      "execution_count": null,
      "outputs": [
        {
          "output_type": "display_data",
          "data": {
            "image/png": "[encoded data removed]",
            "text/plain": [
              "<Figure size 864x432 with 2 Axes>"
            ]
          },
          "metadata": {
            "tags": []
          }
        }
      ]
    },
    {
      "cell_type": "markdown",
      "metadata": {
        "id": "U1SXU_KJzvLJ"
      },
      "source": [
        "위에서 말했듯 여성과 아이를 먼저 구하는 문화가 있었기 때문에 여성이 생존율이 높은것을 확인 할 수 있다.\n",
        "\n",
        "밑에있는 차트는 Pclass와 (Sex, Survived)특성을 비교한다."
      ]
    },
    {
      "cell_type": "code",
      "metadata": {
        "id": "pAiSTbvTzYJy",
        "colab": {
          "base_uri": "https://localhost:8080/",
          "height": 166
        },
        "outputId": "ca1f3103-b88f-4c80-ad84-888b60c73a40"
      },
      "source": [
        "pd.crosstab([train['Sex'],train['Survived']],[train['Pclass']],margins=True).style.background_gradient(cmap='summer_r')"
      ],
      "execution_count": null,
      "outputs": [
        {
          "output_type": "execute_result",
          "data": {
            "text/html": [
              "<style  type=\"text/css\" >\n",
              "#T_37553d9c_937d_11eb_80ba_0242ac1c0002row0_col0,#T_37553d9c_937d_11eb_80ba_0242ac1c0002row0_col1,#T_37553d9c_937d_11eb_80ba_0242ac1c0002row0_col3,#T_37553d9c_937d_11eb_80ba_0242ac1c0002row3_col2{\n",
              "            background-color:  #ffff66;\n",
              "            color:  #000000;\n",
              "        }#T_37553d9c_937d_11eb_80ba_0242ac1c0002row0_col2,#T_37553d9c_937d_11eb_80ba_0242ac1c0002row1_col2{\n",
              "            background-color:  #f1f866;\n",
              "            color:  #000000;\n",
              "        }#T_37553d9c_937d_11eb_80ba_0242ac1c0002row1_col0{\n",
              "            background-color:  #96cb66;\n",
              "            color:  #000000;\n",
              "        }#T_37553d9c_937d_11eb_80ba_0242ac1c0002row1_col1{\n",
              "            background-color:  #a3d166;\n",
              "            color:  #000000;\n",
              "        }#T_37553d9c_937d_11eb_80ba_0242ac1c0002row1_col3{\n",
              "            background-color:  #cfe766;\n",
              "            color:  #000000;\n",
              "        }#T_37553d9c_937d_11eb_80ba_0242ac1c0002row2_col0{\n",
              "            background-color:  #a7d366;\n",
              "            color:  #000000;\n",
              "        }#T_37553d9c_937d_11eb_80ba_0242ac1c0002row2_col1,#T_37553d9c_937d_11eb_80ba_0242ac1c0002row2_col3{\n",
              "            background-color:  #85c266;\n",
              "            color:  #000000;\n",
              "        }#T_37553d9c_937d_11eb_80ba_0242ac1c0002row2_col2{\n",
              "            background-color:  #6eb666;\n",
              "            color:  #000000;\n",
              "        }#T_37553d9c_937d_11eb_80ba_0242ac1c0002row3_col0{\n",
              "            background-color:  #cde666;\n",
              "            color:  #000000;\n",
              "        }#T_37553d9c_937d_11eb_80ba_0242ac1c0002row3_col1{\n",
              "            background-color:  #f0f866;\n",
              "            color:  #000000;\n",
              "        }#T_37553d9c_937d_11eb_80ba_0242ac1c0002row3_col3{\n",
              "            background-color:  #f7fb66;\n",
              "            color:  #000000;\n",
              "        }#T_37553d9c_937d_11eb_80ba_0242ac1c0002row4_col0,#T_37553d9c_937d_11eb_80ba_0242ac1c0002row4_col1,#T_37553d9c_937d_11eb_80ba_0242ac1c0002row4_col2,#T_37553d9c_937d_11eb_80ba_0242ac1c0002row4_col3{\n",
              "            background-color:  #008066;\n",
              "            color:  #f1f1f1;\n",
              "        }</style><table id=\"T_37553d9c_937d_11eb_80ba_0242ac1c0002\" ><thead>    <tr>        <th class=\"blank\" ></th>        <th class=\"index_name level0\" >Pclass</th>        <th class=\"col_heading level0 col0\" >1</th>        <th class=\"col_heading level0 col1\" >2</th>        <th class=\"col_heading level0 col2\" >3</th>        <th class=\"col_heading level0 col3\" >All</th>    </tr>    <tr>        <th class=\"index_name level0\" >Sex</th>        <th class=\"index_name level1\" >Survived</th>        <th class=\"blank\" ></th>        <th class=\"blank\" ></th>        <th class=\"blank\" ></th>        <th class=\"blank\" ></th>    </tr></thead><tbody>\n",
              "                <tr>\n",
              "                        <th id=\"T_37553d9c_937d_11eb_80ba_0242ac1c0002level0_row0\" class=\"row_heading level0 row0\" rowspan=2>female</th>\n",
              "                        <th id=\"T_37553d9c_937d_11eb_80ba_0242ac1c0002level1_row0\" class=\"row_heading level1 row0\" >0</th>\n",
              "                        <td id=\"T_37553d9c_937d_11eb_80ba_0242ac1c0002row0_col0\" class=\"data row0 col0\" >3</td>\n",
              "                        <td id=\"T_37553d9c_937d_11eb_80ba_0242ac1c0002row0_col1\" class=\"data row0 col1\" >6</td>\n",
              "                        <td id=\"T_37553d9c_937d_11eb_80ba_0242ac1c0002row0_col2\" class=\"data row0 col2\" >72</td>\n",
              "                        <td id=\"T_37553d9c_937d_11eb_80ba_0242ac1c0002row0_col3\" class=\"data row0 col3\" >81</td>\n",
              "            </tr>\n",
              "            <tr>\n",
              "                                <th id=\"T_37553d9c_937d_11eb_80ba_0242ac1c0002level1_row1\" class=\"row_heading level1 row1\" >1</th>\n",
              "                        <td id=\"T_37553d9c_937d_11eb_80ba_0242ac1c0002row1_col0\" class=\"data row1 col0\" >91</td>\n",
              "                        <td id=\"T_37553d9c_937d_11eb_80ba_0242ac1c0002row1_col1\" class=\"data row1 col1\" >70</td>\n",
              "                        <td id=\"T_37553d9c_937d_11eb_80ba_0242ac1c0002row1_col2\" class=\"data row1 col2\" >72</td>\n",
              "                        <td id=\"T_37553d9c_937d_11eb_80ba_0242ac1c0002row1_col3\" class=\"data row1 col3\" >233</td>\n",
              "            </tr>\n",
              "            <tr>\n",
              "                        <th id=\"T_37553d9c_937d_11eb_80ba_0242ac1c0002level0_row2\" class=\"row_heading level0 row2\" rowspan=2>male</th>\n",
              "                        <th id=\"T_37553d9c_937d_11eb_80ba_0242ac1c0002level1_row2\" class=\"row_heading level1 row2\" >0</th>\n",
              "                        <td id=\"T_37553d9c_937d_11eb_80ba_0242ac1c0002row2_col0\" class=\"data row2 col0\" >77</td>\n",
              "                        <td id=\"T_37553d9c_937d_11eb_80ba_0242ac1c0002row2_col1\" class=\"data row2 col1\" >91</td>\n",
              "                        <td id=\"T_37553d9c_937d_11eb_80ba_0242ac1c0002row2_col2\" class=\"data row2 col2\" >300</td>\n",
              "                        <td id=\"T_37553d9c_937d_11eb_80ba_0242ac1c0002row2_col3\" class=\"data row2 col3\" >468</td>\n",
              "            </tr>\n",
              "            <tr>\n",
              "                                <th id=\"T_37553d9c_937d_11eb_80ba_0242ac1c0002level1_row3\" class=\"row_heading level1 row3\" >1</th>\n",
              "                        <td id=\"T_37553d9c_937d_11eb_80ba_0242ac1c0002row3_col0\" class=\"data row3 col0\" >45</td>\n",
              "                        <td id=\"T_37553d9c_937d_11eb_80ba_0242ac1c0002row3_col1\" class=\"data row3 col1\" >17</td>\n",
              "                        <td id=\"T_37553d9c_937d_11eb_80ba_0242ac1c0002row3_col2\" class=\"data row3 col2\" >47</td>\n",
              "                        <td id=\"T_37553d9c_937d_11eb_80ba_0242ac1c0002row3_col3\" class=\"data row3 col3\" >109</td>\n",
              "            </tr>\n",
              "            <tr>\n",
              "                        <th id=\"T_37553d9c_937d_11eb_80ba_0242ac1c0002level0_row4\" class=\"row_heading level0 row4\" >All</th>\n",
              "                        <th id=\"T_37553d9c_937d_11eb_80ba_0242ac1c0002level1_row4\" class=\"row_heading level1 row4\" ></th>\n",
              "                        <td id=\"T_37553d9c_937d_11eb_80ba_0242ac1c0002row4_col0\" class=\"data row4 col0\" >216</td>\n",
              "                        <td id=\"T_37553d9c_937d_11eb_80ba_0242ac1c0002row4_col1\" class=\"data row4 col1\" >184</td>\n",
              "                        <td id=\"T_37553d9c_937d_11eb_80ba_0242ac1c0002row4_col2\" class=\"data row4 col2\" >491</td>\n",
              "                        <td id=\"T_37553d9c_937d_11eb_80ba_0242ac1c0002row4_col3\" class=\"data row4 col3\" >891</td>\n",
              "            </tr>\n",
              "    </tbody></table>"
            ],
            "text/plain": [
              "<pandas.io.formats.style.Styler at 0x7f630b405a10>"
            ]
          },
          "metadata": {
            "tags": []
          },
          "execution_count": 140
        }
      ]
    },
    {
      "cell_type": "markdown",
      "metadata": {
        "id": "ZnuZHL9M022-"
      },
      "source": [
        "보다시피 높은 등급일수록 생존 확률이 높았다는 것을 확인할 수 있다.\n",
        "\n",
        "특히 3등급 객실에 있었던 남성의 경우 생존률이 엄청 낮은 것을 확인할 수 있다."
      ]
    },
    {
      "cell_type": "markdown",
      "metadata": {
        "id": "blys8Bov06n5"
      },
      "source": [
        "**누락 데이터 확인**"
      ]
    },
    {
      "cell_type": "code",
      "metadata": {
        "id": "mBw6TcpJ0xZl",
        "colab": {
          "base_uri": "https://localhost:8080/"
        },
        "outputId": "0a1d8c90-9c40-43d5-8278-68f149dc19a5"
      },
      "source": [
        "train.info()"
      ],
      "execution_count": null,
      "outputs": [
        {
          "output_type": "stream",
          "text": [
            "<class 'pandas.core.frame.DataFrame'>\n",
            "RangeIndex: 891 entries, 0 to 890\n",
            "Data columns (total 12 columns):\n",
            " #   Column       Non-Null Count  Dtype  \n",
            "---  ------       --------------  -----  \n",
            " 0   PassengerId  891 non-null    int64  \n",
            " 1   Survived     891 non-null    int64  \n",
            " 2   Pclass       891 non-null    int64  \n",
            " 3   Name         891 non-null    object \n",
            " 4   Sex          891 non-null    object \n",
            " 5   Age          714 non-null    float64\n",
            " 6   SibSp        891 non-null    int64  \n",
            " 7   Parch        891 non-null    int64  \n",
            " 8   Ticket       891 non-null    object \n",
            " 9   Fare         891 non-null    float64\n",
            " 10  Cabin        204 non-null    object \n",
            " 11  Embarked     889 non-null    object \n",
            "dtypes: float64(2), int64(5), object(5)\n",
            "memory usage: 83.7+ KB\n"
          ],
          "name": "stdout"
        }
      ]
    },
    {
      "cell_type": "markdown",
      "metadata": {
        "id": "xLPfv7LW7I58"
      },
      "source": [
        "Age가 null값이 있는 것을 확인할 수 있다.\n",
        "\n",
        "아까 특성을 정할 때 중요하게 생각한다고 한 만큼 지우는것보다 중간 나이로 넣는 방식으로 해보자."
      ]
    },
    {
      "cell_type": "code",
      "metadata": {
        "id": "iFNR31Vk1cjk",
        "colab": {
          "base_uri": "https://localhost:8080/"
        },
        "outputId": "ea591989-4472-4a34-d814-ef133401a7d0"
      },
      "source": [
        "train['Age'][train.isnull().any(axis=1)]"
      ],
      "execution_count": null,
      "outputs": [
        {
          "output_type": "execute_result",
          "data": {
            "text/plain": [
              "0      22.0\n",
              "2      26.0\n",
              "4      35.0\n",
              "5       NaN\n",
              "7       2.0\n",
              "       ... \n",
              "884    25.0\n",
              "885    39.0\n",
              "886    27.0\n",
              "888     NaN\n",
              "890    32.0\n",
              "Name: Age, Length: 708, dtype: float64"
            ]
          },
          "metadata": {
            "tags": []
          },
          "execution_count": 142
        }
      ]
    },
    {
      "cell_type": "code",
      "metadata": {
        "id": "8sbHkFJA1G6n"
      },
      "source": [
        "median = train[\"Age\"].median()\n",
        "train[\"Age\"].fillna(median, inplace=True)"
      ],
      "execution_count": null,
      "outputs": []
    },
    {
      "cell_type": "markdown",
      "metadata": {
        "id": "dQjXCRr_4ecD"
      },
      "source": [
        "중간 값을 넣고 다시 수치를 확인하면"
      ]
    },
    {
      "cell_type": "code",
      "metadata": {
        "id": "7SRxSq6l3qd8",
        "colab": {
          "base_uri": "https://localhost:8080/"
        },
        "outputId": "1546de5a-bb1f-4601-bb24-a0dab775bdcb"
      },
      "source": [
        "train.info()"
      ],
      "execution_count": null,
      "outputs": [
        {
          "output_type": "stream",
          "text": [
            "<class 'pandas.core.frame.DataFrame'>\n",
            "RangeIndex: 891 entries, 0 to 890\n",
            "Data columns (total 12 columns):\n",
            " #   Column       Non-Null Count  Dtype  \n",
            "---  ------       --------------  -----  \n",
            " 0   PassengerId  891 non-null    int64  \n",
            " 1   Survived     891 non-null    int64  \n",
            " 2   Pclass       891 non-null    int64  \n",
            " 3   Name         891 non-null    object \n",
            " 4   Sex          891 non-null    object \n",
            " 5   Age          891 non-null    float64\n",
            " 6   SibSp        891 non-null    int64  \n",
            " 7   Parch        891 non-null    int64  \n",
            " 8   Ticket       891 non-null    object \n",
            " 9   Fare         891 non-null    float64\n",
            " 10  Cabin        204 non-null    object \n",
            " 11  Embarked     889 non-null    object \n",
            "dtypes: float64(2), int64(5), object(5)\n",
            "memory usage: 83.7+ KB\n"
          ],
          "name": "stdout"
        }
      ]
    },
    {
      "cell_type": "markdown",
      "metadata": {
        "id": "LarF5-owTTbO"
      },
      "source": [
        "\"Age\" 특성에 null이 사라져서 누락된 값이 채워진 것을 볼 수 있다."
      ]
    },
    {
      "cell_type": "markdown",
      "metadata": {
        "id": "_mdz132aTWQx"
      },
      "source": [
        "또한 \"Sex\" 특성에 있는 \"male\", \"female\"을 수치형으로 바꾼다."
      ]
    },
    {
      "cell_type": "code",
      "metadata": {
        "colab": {
          "base_uri": "https://localhost:8080/"
        },
        "id": "5899pvqiDJFT",
        "outputId": "7f1746a7-4ab0-4afe-971b-00fe15685205"
      },
      "source": [
        "i = 0\n",
        "while i < len(train[\"Sex\"]):\n",
        "  if train[\"Sex\"][i] == \"male\" :\n",
        "    train[\"Sex\"][i] = 0\n",
        "  else :\n",
        "    train[\"Sex\"][i] = 1\n",
        "  i += 1\n",
        "train[\"Sex\"]"
      ],
      "execution_count": null,
      "outputs": [
        {
          "output_type": "stream",
          "text": [
            "/usr/local/lib/python3.7/dist-packages/ipykernel_launcher.py:4: SettingWithCopyWarning: \n",
            "A value is trying to be set on a copy of a slice from a DataFrame\n",
            "\n",
            "See the caveats in the documentation: https://pandas.pydata.org/pandas-docs/stable/user_guide/indexing.html#returning-a-view-versus-a-copy\n",
            "  after removing the cwd from sys.path.\n",
            "/usr/local/lib/python3.7/dist-packages/ipykernel_launcher.py:6: SettingWithCopyWarning: \n",
            "A value is trying to be set on a copy of a slice from a DataFrame\n",
            "\n",
            "See the caveats in the documentation: https://pandas.pydata.org/pandas-docs/stable/user_guide/indexing.html#returning-a-view-versus-a-copy\n",
            "  \n"
          ],
          "name": "stderr"
        },
        {
          "output_type": "execute_result",
          "data": {
            "text/plain": [
              "0      0\n",
              "1      1\n",
              "2      1\n",
              "3      1\n",
              "4      0\n",
              "      ..\n",
              "886    0\n",
              "887    1\n",
              "888    1\n",
              "889    0\n",
              "890    0\n",
              "Name: Sex, Length: 891, dtype: object"
            ]
          },
          "metadata": {
            "tags": []
          },
          "execution_count": 145
        }
      ]
    },
    {
      "cell_type": "markdown",
      "metadata": {
        "id": "FG5aXne3TgZq"
      },
      "source": [
        "마찬가지로 \"Age\" 특성에 아이(12살 이하)와 어른을 구별하기 위해 두개의 범위를 만든다."
      ]
    },
    {
      "cell_type": "code",
      "metadata": {
        "colab": {
          "base_uri": "https://localhost:8080/"
        },
        "id": "z-R7dsXOE6Kj",
        "outputId": "e9b6cbdf-31ea-4b7b-d5ae-54e988496fa3"
      },
      "source": [
        "i = 0\n",
        "while i < len(train[\"Age\"]):\n",
        "  if train[\"Age\"][i] < 13.0 :\n",
        "    train[\"Age\"][i] = 0.0\n",
        "  else :\n",
        "    train[\"Age\"][i] = 1.0\n",
        "  i += 1\n",
        "train[\"Age\"]"
      ],
      "execution_count": null,
      "outputs": [
        {
          "output_type": "stream",
          "text": [
            "/usr/local/lib/python3.7/dist-packages/ipykernel_launcher.py:6: SettingWithCopyWarning: \n",
            "A value is trying to be set on a copy of a slice from a DataFrame\n",
            "\n",
            "See the caveats in the documentation: https://pandas.pydata.org/pandas-docs/stable/user_guide/indexing.html#returning-a-view-versus-a-copy\n",
            "  \n",
            "/usr/local/lib/python3.7/dist-packages/ipykernel_launcher.py:4: SettingWithCopyWarning: \n",
            "A value is trying to be set on a copy of a slice from a DataFrame\n",
            "\n",
            "See the caveats in the documentation: https://pandas.pydata.org/pandas-docs/stable/user_guide/indexing.html#returning-a-view-versus-a-copy\n",
            "  after removing the cwd from sys.path.\n"
          ],
          "name": "stderr"
        },
        {
          "output_type": "execute_result",
          "data": {
            "text/plain": [
              "0      1.0\n",
              "1      1.0\n",
              "2      1.0\n",
              "3      1.0\n",
              "4      1.0\n",
              "      ... \n",
              "886    1.0\n",
              "887    1.0\n",
              "888    1.0\n",
              "889    1.0\n",
              "890    1.0\n",
              "Name: Age, Length: 891, dtype: float64"
            ]
          },
          "metadata": {
            "tags": []
          },
          "execution_count": 146
        }
      ]
    },
    {
      "cell_type": "markdown",
      "metadata": {
        "id": "hD-FabcKT3k7"
      },
      "source": [
        "여기서 한번 예측 모델을 실행하고 결과를 도출해보자."
      ]
    },
    {
      "cell_type": "code",
      "metadata": {
        "id": "XALM75S96qV5",
        "colab": {
          "base_uri": "https://localhost:8080/"
        },
        "outputId": "52d195ad-f680-4eca-86fe-7d260bbf4676"
      },
      "source": [
        "from sklearn.tree import DecisionTreeClassifier\n",
        "from sklearn.model_selection import train_test_split\n",
        "from sklearn import metrics #accuracy measure\n",
        "\n",
        "train_df, test_df = train_test_split(train, test_size=0.3,random_state=0)\n",
        "target_col = ['Pclass', 'Sex', 'Age']\n",
        "train_X=train_df[target_col]\n",
        "train_Y=train_df['Survived']\n",
        "test_X=test_df[target_col]\n",
        "test_Y=test_df['Survived']\n",
        "\n",
        "features_one = train_X.values\n",
        "target = train_Y.values\n",
        "\n",
        "tree_model = DecisionTreeClassifier()\n",
        "tree_model.fit(features_one, target)\n",
        "dt_prediction = tree_model.predict(test_X)\n",
        "\n",
        "print(metrics.accuracy_score(dt_prediction, test_Y))"
      ],
      "execution_count": null,
      "outputs": [
        {
          "output_type": "stream",
          "text": [
            "0.7947761194029851\n"
          ],
          "name": "stdout"
        }
      ]
    },
    {
      "cell_type": "markdown",
      "metadata": {
        "id": "7iUhbagsUDHd"
      },
      "source": [
        "예측 모델은 0.7947761194029851이라는 결과가 나온다.\n",
        "\n",
        "test 값에도 적용하기 위해 test.csv의 \"Sex\", \"Age\" 특성에도 똑같이 처리를 해주고 다시 실행하고 파일을 만들어서 제출을 해보자."
      ]
    },
    {
      "cell_type": "code",
      "metadata": {
        "colab": {
          "base_uri": "https://localhost:8080/"
        },
        "id": "LA2TKezsR_l1",
        "outputId": "5551501b-9526-4a95-f083-37ba9234db01"
      },
      "source": [
        "i = 0\n",
        "while i < len(test[\"Sex\"]):\n",
        "  if test[\"Sex\"][i] == \"male\" :\n",
        "    test[\"Sex\"][i] = 0\n",
        "  else :\n",
        "    test[\"Sex\"][i] = 1\n",
        "  i += 1\n",
        "test[\"Sex\"]"
      ],
      "execution_count": null,
      "outputs": [
        {
          "output_type": "stream",
          "text": [
            "/usr/local/lib/python3.7/dist-packages/ipykernel_launcher.py:4: SettingWithCopyWarning: \n",
            "A value is trying to be set on a copy of a slice from a DataFrame\n",
            "\n",
            "See the caveats in the documentation: https://pandas.pydata.org/pandas-docs/stable/user_guide/indexing.html#returning-a-view-versus-a-copy\n",
            "  after removing the cwd from sys.path.\n",
            "/usr/local/lib/python3.7/dist-packages/ipykernel_launcher.py:6: SettingWithCopyWarning: \n",
            "A value is trying to be set on a copy of a slice from a DataFrame\n",
            "\n",
            "See the caveats in the documentation: https://pandas.pydata.org/pandas-docs/stable/user_guide/indexing.html#returning-a-view-versus-a-copy\n",
            "  \n"
          ],
          "name": "stderr"
        },
        {
          "output_type": "execute_result",
          "data": {
            "text/plain": [
              "0      0\n",
              "1      1\n",
              "2      0\n",
              "3      0\n",
              "4      1\n",
              "      ..\n",
              "413    0\n",
              "414    1\n",
              "415    0\n",
              "416    0\n",
              "417    0\n",
              "Name: Sex, Length: 418, dtype: object"
            ]
          },
          "metadata": {
            "tags": []
          },
          "execution_count": 147
        }
      ]
    },
    {
      "cell_type": "code",
      "metadata": {
        "colab": {
          "base_uri": "https://localhost:8080/"
        },
        "id": "b9e-y_B2R_l1",
        "outputId": "803837b5-3101-44f8-93a1-3da1e0f6de7d"
      },
      "source": [
        "i = 0\n",
        "while i < len(test[\"Age\"]):\n",
        "  if test[\"Age\"][i] < 13.0 :\n",
        "    test[\"Age\"][i] = 0.0\n",
        "  else :\n",
        "    test[\"Age\"][i] = 1.0\n",
        "  i += 1\n",
        "test[\"Age\"]"
      ],
      "execution_count": null,
      "outputs": [
        {
          "output_type": "stream",
          "text": [
            "/usr/local/lib/python3.7/dist-packages/ipykernel_launcher.py:6: SettingWithCopyWarning: \n",
            "A value is trying to be set on a copy of a slice from a DataFrame\n",
            "\n",
            "See the caveats in the documentation: https://pandas.pydata.org/pandas-docs/stable/user_guide/indexing.html#returning-a-view-versus-a-copy\n",
            "  \n",
            "/usr/local/lib/python3.7/dist-packages/ipykernel_launcher.py:4: SettingWithCopyWarning: \n",
            "A value is trying to be set on a copy of a slice from a DataFrame\n",
            "\n",
            "See the caveats in the documentation: https://pandas.pydata.org/pandas-docs/stable/user_guide/indexing.html#returning-a-view-versus-a-copy\n",
            "  after removing the cwd from sys.path.\n"
          ],
          "name": "stderr"
        },
        {
          "output_type": "execute_result",
          "data": {
            "text/plain": [
              "0      1.0\n",
              "1      1.0\n",
              "2      1.0\n",
              "3      1.0\n",
              "4      1.0\n",
              "      ... \n",
              "413    1.0\n",
              "414    1.0\n",
              "415    1.0\n",
              "416    1.0\n",
              "417    1.0\n",
              "Name: Age, Length: 418, dtype: float64"
            ]
          },
          "metadata": {
            "tags": []
          },
          "execution_count": 148
        }
      ]
    },
    {
      "cell_type": "markdown",
      "metadata": {
        "id": "myFB_eV1UTBL"
      },
      "source": [
        "밑은 결과 제출을 위해 예측모델 파일을 생성하는 코드이다."
      ]
    },
    {
      "cell_type": "code",
      "metadata": {
        "id": "L_bXoPcPHp25"
      },
      "source": [
        "# predict test data with pre-trained tree model\n",
        "test_features = test[target_col].values\n",
        "dt_prediction_result = tree_model.predict(test_features)\n",
        "\n",
        "# Create a data frame with two columns: PassengerId & Survived. Survived contains your predictions\n",
        "PassengerId = np.array(test[\"PassengerId\"]).astype(int)\n",
        "dt_solution = pd.DataFrame(dt_prediction_result, PassengerId, columns = [\"Survived\"])\n",
        "\n",
        "# Write your solution to a csv file with the name my_solution.csv\n",
        "dt_solution.to_csv(\"my_solution_one.csv\", index_label = [\"PassengerId\"]) "
      ],
      "execution_count": null,
      "outputs": []
    }
  ]
}