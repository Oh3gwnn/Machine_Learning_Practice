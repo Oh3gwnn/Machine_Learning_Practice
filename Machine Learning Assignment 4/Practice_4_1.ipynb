{
 "cells": [
  {
   "cell_type": "markdown",
   "metadata": {
    "id": "fjVSKv3Jswjq"
   },
   "source": [
    "## **기본 설정**"
   ]
  },
  {
   "cell_type": "markdown",
   "metadata": {
    "id": "MWnyE30kswjr"
   },
   "source": [
    "- 필수 모듈 불러오기\n",
    "- 그래프 출력 관련 기본 설정 지정"
   ]
  },
  {
   "cell_type": "code",
   "execution_count": null,
   "metadata": {
    "id": "I1sKJ_njswjr"
   },
   "outputs": [],
   "source": [
    "# 파이썬 ≥3.5 필수\n",
    "import sys\n",
    "assert sys.version_info >= (3, 5)\n",
    "\n",
    "# 사이킷런 ≥0.20 필수\n",
    "import sklearn\n",
    "assert sklearn.__version__ >= \"0.20\"\n",
    "\n",
    "# 공통 모듈 임포트\n",
    "import numpy as np\n",
    "import os\n",
    "\n",
    "# 노트북 실행 결과를 동일하게 유지하기 위해\n",
    "np.random.seed(42)\n",
    "\n",
    "# 깔끔한 그래프 출력을 위해\n",
    "%matplotlib inline\n",
    "import matplotlib as mpl\n",
    "import matplotlib.pyplot as plt\n",
    "mpl.rc('axes', labelsize=14)\n",
    "mpl.rc('xtick', labelsize=12)\n",
    "mpl.rc('ytick', labelsize=12)\n",
    "\n",
    "# 그림을 저장할 위치\n",
    "PROJECT_ROOT_DIR = \".\"\n",
    "CHAPTER_ID = \"training_linear_models\"\n",
    "IMAGES_PATH = os.path.join(PROJECT_ROOT_DIR, \"images\", CHAPTER_ID)\n",
    "os.makedirs(IMAGES_PATH, exist_ok=True)\n",
    "\n",
    "def save_fig(fig_id, tight_layout=True, fig_extension=\"png\", resolution=300):\n",
    "    path = os.path.join(IMAGES_PATH, fig_id + \".\" + fig_extension)\n",
    "    print(\"그림 저장:\", fig_id)\n",
    "    if tight_layout:\n",
    "        plt.tight_layout()\n",
    "    plt.savefig(path, format=fig_extension, dpi=resolution)\n",
    "    \n",
    "# 어레이 데이터를 csv 파일로 저장하기\n",
    "def save_data(fileName, arrayName, header=''):\n",
    "    np.savetxt(fileName, arrayName, delimiter=',', header=header, comments='')"
   ]
  },
  {
   "cell_type": "markdown",
   "metadata": {
    "id": "-5sW7IH1uWEN"
   },
   "source": [
    "## **붓꽃(iris) 데이터셋 & 로지스틱 회귀(시그모이드 함수)**"
   ]
  },
  {
   "cell_type": "markdown",
   "metadata": {
    "id": "QVTw95HJswki"
   },
   "source": [
    "붓꽃(iris) 데이터셋을 이용하여 로지스틱 회귀를 이용한 분류에 활용되는 결정 경계를 설명한다.\n",
    "아래 코드는 사이킷런에서 제공하는 붓꽃 데이터셋을 번치(Bunch) 자료형으로 불러온다. \n",
    "\n",
    "__참고:__ `Bunch` 자료형은 기본적으로 `dict` 자료형과 동일하다. \n",
    "차이점은 인덱싱을 속성(attribute)처럼 처리할 수 있다는 것 뿐이다."
   ]
  },
  {
   "cell_type": "code",
   "execution_count": null,
   "metadata": {
    "id": "eIKjzhxZuPYg"
   },
   "outputs": [],
   "source": [
    "from sklearn import datasets\n",
    "iris = datasets.load_iris()"
   ]
  },
  {
   "cell_type": "markdown",
   "metadata": {
    "id": "J-zSyRooswkj"
   },
   "source": [
    "데이터셋에 사용된 키는 다음과 같다. "
   ]
  },
  {
   "cell_type": "code",
   "execution_count": null,
   "metadata": {
    "colab": {
     "base_uri": "https://localhost:8080/"
    },
    "id": "RKYpPNJBuPYh",
    "outputId": "e0dfa1d4-2906-4d4a-e37c-c3e0290bb83d"
   },
   "outputs": [
    {
     "data": {
      "text/plain": [
       "dict_keys(['data', 'target', 'target_names', 'DESCR', 'feature_names', 'filename'])"
      ]
     },
     "execution_count": 3,
     "metadata": {
      "tags": []
     },
     "output_type": "execute_result"
    }
   ],
   "source": [
    "iris.keys()"
   ]
  },
  {
   "cell_type": "markdown",
   "metadata": {
    "id": "q7DtKSR1swkj"
   },
   "source": [
    "`'data'` 키에 해당하는 값은 (150, 4) 모양의 넘파이 어레이다.\n",
    "\n",
    "- 150: 150개의 붓꽃 샘플\n",
    "- 4: 네 개의 특성. 차례대로 꽃받침 길이, 꽃받침 너비, 꽃잎 길이, 꽃잎 너비.\n",
    "\n",
    "아래 코드는 처음 5개의 샘플 데이터를 보여준다. \n",
    "\n",
    "__참고:__ 원래 `iris['data'][:5]`로 값을 확인하지만 `Bunch` 자료형이기에 아래와 같이 클래스의\n",
    "속성 형식으로 확인할 수도 있다. 인용부호를 사용하지 않음에 주의해야 한다."
   ]
  },
  {
   "cell_type": "code",
   "execution_count": null,
   "metadata": {
    "colab": {
     "base_uri": "https://localhost:8080/"
    },
    "id": "euDJ__UUswkk",
    "outputId": "fb0216ed-dd97-4de1-ccd5-0e8eb01645d9"
   },
   "outputs": [
    {
     "data": {
      "text/plain": [
       "array([[5.1, 3.5, 1.4, 0.2],\n",
       "       [4.9, 3. , 1.4, 0.2],\n",
       "       [4.7, 3.2, 1.3, 0.2],\n",
       "       [4.6, 3.1, 1.5, 0.2],\n",
       "       [5. , 3.6, 1.4, 0.2]])"
      ]
     },
     "execution_count": 4,
     "metadata": {
      "tags": []
     },
     "output_type": "execute_result"
    }
   ],
   "source": [
    "iris.data[:5]"
   ]
  },
  {
   "cell_type": "markdown",
   "metadata": {
    "id": "fzlVLY92swkk"
   },
   "source": [
    "`'target'` 키는 150개 붓꽃에 대한 품종을 1차원 어레이로 담고 있다.\n",
    "\n",
    "- 0: 세토사(Iris-Setosa)\n",
    "- 1: 버시컬러(Iris-Versicolor)\n",
    "- 2: 버지니카(Iris-Virginica)\n",
    "\n",
    "언급된 순서대로 50개씩 세 품종의 타깃이 저장되어 있으며, \n",
    "처음 5개의 샘플은 세토사 품종임을 아래처럼 확인할 수 있다."
   ]
  },
  {
   "cell_type": "code",
   "execution_count": null,
   "metadata": {
    "colab": {
     "base_uri": "https://localhost:8080/"
    },
    "id": "8lud7yESswkk",
    "outputId": "af905ddd-a2c2-4fc8-9e77-28c1f0640d07"
   },
   "outputs": [
    {
     "data": {
      "text/plain": [
       "array([0, 0, 0, 0, 0])"
      ]
     },
     "execution_count": 5,
     "metadata": {
      "tags": []
     },
     "output_type": "execute_result"
    }
   ],
   "source": [
    "iris.target[:5]"
   ]
  },
  {
   "cell_type": "markdown",
   "metadata": {
    "id": "wTfmPwBhswkl"
   },
   "source": [
    "50번 인덱스부터는 버시컬러 품종이다."
   ]
  },
  {
   "cell_type": "code",
   "execution_count": null,
   "metadata": {
    "colab": {
     "base_uri": "https://localhost:8080/"
    },
    "id": "W6No634-swkl",
    "outputId": "27766684-9e2f-4b25-bc0f-81c34614e1c9"
   },
   "outputs": [
    {
     "data": {
      "text/plain": [
       "array([1, 1, 1, 1, 1])"
      ]
     },
     "execution_count": 6,
     "metadata": {
      "tags": []
     },
     "output_type": "execute_result"
    }
   ],
   "source": [
    "iris.target[50:55]"
   ]
  },
  {
   "cell_type": "markdown",
   "metadata": {
    "id": "I_yLYkTcswkl"
   },
   "source": [
    "100번 인덱스부터는 버지니카 품종이다."
   ]
  },
  {
   "cell_type": "code",
   "execution_count": null,
   "metadata": {
    "colab": {
     "base_uri": "https://localhost:8080/"
    },
    "id": "zumXca4Vswkl",
    "outputId": "bac716e8-cd06-47bc-c6f2-f46f4a596424"
   },
   "outputs": [
    {
     "data": {
      "text/plain": [
       "array([2, 2, 2, 2, 2])"
      ]
     },
     "execution_count": 7,
     "metadata": {
      "tags": []
     },
     "output_type": "execute_result"
    }
   ],
   "source": [
    "iris.target[100:105]"
   ]
  },
  {
   "cell_type": "markdown",
   "metadata": {
    "id": "EJM6Y1a2swkm"
   },
   "source": [
    "이런 정보가 `'DESCR'` 속성에 저장되어 있다."
   ]
  },
  {
   "cell_type": "code",
   "execution_count": null,
   "metadata": {
    "colab": {
     "base_uri": "https://localhost:8080/"
    },
    "id": "LVOS-mS0swkm",
    "outputId": "b454ff20-9059-4d7d-dcf5-498cf03ed5fd"
   },
   "outputs": [
    {
     "name": "stdout",
     "output_type": "stream",
     "text": [
      ".. _iris_dataset:\n",
      "\n",
      "Iris plants dataset\n",
      "--------------------\n",
      "\n",
      "**Data Set Characteristics:**\n",
      "\n",
      "    :Number of Instances: 150 (50 in each of three classes)\n",
      "    :Number of Attributes: 4 numeric, predictive attributes and the class\n",
      "    :Attribute Information:\n",
      "        - sepal length in cm\n",
      "        - sepal width in cm\n",
      "        - petal length in cm\n",
      "        - petal width in cm\n",
      "        - class:\n",
      "                - Iris-Setosa\n",
      "                - Iris-Versicolour\n",
      "                - Iris-Virginica\n",
      "                \n",
      "    :Summary Statistics:\n",
      "\n",
      "    ============== ==== ==== ======= ===== ====================\n",
      "                    Min  Max   Mean    SD   Class Correlation\n",
      "    ============== ==== ==== ======= ===== ====================\n",
      "    sepal length:   4.3  7.9   5.84   0.83    0.7826\n",
      "    sepal width:    2.0  4.4   3.05   0.43   -0.4194\n",
      "    petal length:   1.0  6.9   3.76   1.76    0.9490  (high!)\n",
      "    petal width:    0.1  2.5   1.20   0.76    0.9565  (high!)\n",
      "    ============== ==== ==== ======= ===== ====================\n",
      "\n",
      "    :Missing Attribute Values: None\n",
      "    :Class Distribution: 33.3% for each of 3 classes.\n",
      "    :Creator: R.A. Fisher\n",
      "    :Donor: Michael Marshall (MARSHALL%PLU@io.arc.nasa.gov)\n",
      "    :Date: July, 1988\n",
      "\n",
      "The famous Iris database, first used by Sir R.A. Fisher. The dataset is taken\n",
      "from Fisher's paper. Note that it's the same as in R, but not as in the UCI\n",
      "Machine Learning Repository, which has two wrong data points.\n",
      "\n",
      "This is perhaps the best known database to be found in the\n",
      "pattern recognition literature.  Fisher's paper is a classic in the field and\n",
      "is referenced frequently to this day.  (See Duda & Hart, for example.)  The\n",
      "data set contains 3 classes of 50 instances each, where each class refers to a\n",
      "type of iris plant.  One class is linearly separable from the other 2; the\n",
      "latter are NOT linearly separable from each other.\n",
      "\n",
      ".. topic:: References\n",
      "\n",
      "   - Fisher, R.A. \"The use of multiple measurements in taxonomic problems\"\n",
      "     Annual Eugenics, 7, Part II, 179-188 (1936); also in \"Contributions to\n",
      "     Mathematical Statistics\" (John Wiley, NY, 1950).\n",
      "   - Duda, R.O., & Hart, P.E. (1973) Pattern Classification and Scene Analysis.\n",
      "     (Q327.D83) John Wiley & Sons.  ISBN 0-471-22361-1.  See page 218.\n",
      "   - Dasarathy, B.V. (1980) \"Nosing Around the Neighborhood: A New System\n",
      "     Structure and Classification Rule for Recognition in Partially Exposed\n",
      "     Environments\".  IEEE Transactions on Pattern Analysis and Machine\n",
      "     Intelligence, Vol. PAMI-2, No. 1, 67-71.\n",
      "   - Gates, G.W. (1972) \"The Reduced Nearest Neighbor Rule\".  IEEE Transactions\n",
      "     on Information Theory, May 1972, 431-433.\n",
      "   - See also: 1988 MLC Proceedings, 54-64.  Cheeseman et al\"s AUTOCLASS II\n",
      "     conceptual clustering system finds 3 classes in the data.\n",
      "   - Many, many more ...\n"
     ]
    }
   ],
   "source": [
    "print(iris.DESCR)"
   ]
  },
  {
   "cell_type": "markdown",
   "metadata": {
    "id": "JOab4Jzsswkm"
   },
   "source": [
    "#### 이진 분류: 로지스틱 회귀"
   ]
  },
  {
   "cell_type": "markdown",
   "metadata": {
    "id": "IxJ5B37Aswkn"
   },
   "source": [
    "로지스틱 회귀는 기본적으로 이진 분류 모델이며, 일대다(OvR) 전략을 이용하여 다중 클래스 분류도 지원한다.\n",
    "하지만 다중 클래스를 기본으로 지원하는 __소프트맥스 회귀__를 잠시 뒤에 소개한다."
   ]
  },
  {
   "cell_type": "markdown",
   "metadata": {
    "id": "GiSsIbQaswkn"
   },
   "source": [
    "__예제 1__\n",
    "\n",
    "아래 코드는 이진 분류 설명을 위해 꽃잎 너비(petal width) 특성을 이용하여 버지니카 품종 여부를 판정하는 데에\n",
    "사용되는 데이터셋을 지정한다."
   ]
  },
  {
   "cell_type": "code",
   "execution_count": null,
   "metadata": {
    "id": "9iq5r8f4swkn"
   },
   "outputs": [],
   "source": [
    "X = iris[\"data\"][:, 3:]                   # 1개의 특성(꽃잎 너비)만 사용\n",
    "y = (iris[\"target\"] == 2).astype(np.int)  # 버지니카(Virginica) 품종일 때 1(양성)"
   ]
  },
  {
   "cell_type": "markdown",
   "metadata": {
    "id": "GohJZoNNswkn"
   },
   "source": [
    "이제 사이킷런의 LogisticRegression 모델을 훈련시킨다.\n",
    "\n",
    "**참고**: 사이킷런 0.22 버전의 기본값인 `solver=\"lbfgs\"`로 지정"
   ]
  },
  {
   "cell_type": "code",
   "execution_count": null,
   "metadata": {
    "colab": {
     "base_uri": "https://localhost:8080/"
    },
    "id": "zKKwwgsLswkn",
    "outputId": "d943f4f2-983e-4dfa-cb94-2f8a8a8724e0"
   },
   "outputs": [
    {
     "data": {
      "text/plain": [
       "LogisticRegression(C=1.0, class_weight=None, dual=False, fit_intercept=True,\n",
       "                   intercept_scaling=1, l1_ratio=None, max_iter=100,\n",
       "                   multi_class='auto', n_jobs=None, penalty='l2',\n",
       "                   random_state=42, solver='lbfgs', tol=0.0001, verbose=0,\n",
       "                   warm_start=False)"
      ]
     },
     "execution_count": 10,
     "metadata": {
      "tags": []
     },
     "output_type": "execute_result"
    }
   ],
   "source": [
    "from sklearn.linear_model import LogisticRegression\n",
    "log_reg = LogisticRegression(solver=\"lbfgs\", random_state=42)\n",
    "log_reg.fit(X, y)"
   ]
  },
  {
   "cell_type": "markdown",
   "metadata": {
    "id": "O9alY2XAswko"
   },
   "source": [
    "1000개의 샘플을 새로 생성하여 훈련된 로지스틱 회귀 모델의 예측 결과를 도표로 확인하면 다음과 같다.\n",
    "\n",
    "* `X_new`: 0~3구간을 1000등분한 값 1000개. 즉, 꽃잎의 너비를 0에서 3사이에서 1000개 선택.\n",
    "* `y_proba`: 각 샘플에 대한 양성 확률\n",
    "- x 축: 꽃잎 너비 크기\n",
    "- 초록 실선: 버지니카(양성) 확률\n",
    "- 파랑 점선: 버지니카가 아닌(음성) 확률"
   ]
  },
  {
   "cell_type": "code",
   "execution_count": null,
   "metadata": {
    "colab": {
     "base_uri": "https://localhost:8080/",
     "height": 285
    },
    "id": "UV_jz-B_swko",
    "outputId": "62ab8b13-6f50-4eeb-c844-c05240310ddc"
   },
   "outputs": [
    {
     "data": {
      "text/plain": [
       "[<matplotlib.lines.Line2D at 0x7f82d81ae190>]"
      ]
     },
     "execution_count": 11,
     "metadata": {
      "tags": []
     },
     "output_type": "execute_result"
    },
    {
     "data": {
      "image/png": "[encoded data removed]",
      "text/plain": [
       "<Figure size 432x288 with 1 Axes>"
      ]
     },
     "metadata": {
      "needs_background": "light",
      "tags": []
     },
     "output_type": "display_data"
    }
   ],
   "source": [
    "X_new = np.linspace(0, 3, 1000).reshape(1000, 1)\n",
    "y_proba = log_reg.predict_proba(X_new)\n",
    "\n",
    "plt.plot(X_new, y_proba[:, 1], \"g-\", linewidth=2, label=\"Iris virginica\")\n",
    "plt.plot(X_new, y_proba[:, 0], \"b--\", linewidth=2, label=\"Not Iris virginica\")"
   ]
  },
  {
   "cell_type": "markdown",
   "metadata": {
    "id": "LPRDHbReswko"
   },
   "source": [
    "&#x270b; 아래 코드는 보다 많은 정보를 도표와 함께 전달한다.\n",
    "\n",
    "- y=1.0를 지난 수평선\n",
    "- x=1.66 근처의 결정 경계(decision boundary): 검은 수직 점선\n",
    "- 초록 삼각형: 버지니카 품종\n",
    "- 파랑 사각형: 버지니카 아닌 품종"
   ]
  },
  {
   "cell_type": "code",
   "execution_count": null,
   "metadata": {
    "colab": {
     "base_uri": "https://localhost:8080/",
     "height": 297
    },
    "id": "AgftfnIzswkp",
    "outputId": "23ba9443-7446-4076-9153-fed41029a9cc"
   },
   "outputs": [
    {
     "name": "stderr",
     "output_type": "stream",
     "text": [
      "/usr/local/lib/python3.7/dist-packages/matplotlib/patches.py:1327: VisibleDeprecationWarning: Creating an ndarray from ragged nested sequences (which is a list-or-tuple of lists-or-tuples-or ndarrays with different lengths or shapes) is deprecated. If you meant to do this, you must specify 'dtype=object' when creating the ndarray\n",
      "  verts = np.dot(coords, M) + (x + dx, y + dy)\n"
     ]
    },
    {
     "name": "stdout",
     "output_type": "stream",
     "text": [
      "그림 저장: logistic_regression_plot\n"
     ]
    },
    {
     "data": {
      "image/png": "[encoded data removed]",
      "text/plain": [
       "<Figure size 576x216 with 1 Axes>"
      ]
     },
     "metadata": {
      "needs_background": "light",
      "tags": []
     },
     "output_type": "display_data"
    }
   ],
   "source": [
    "X_new = np.linspace(0, 3, 1000).reshape(-1, 1)\n",
    "y_proba = log_reg.predict_proba(X_new)\n",
    "decision_boundary = X_new[y_proba[:, 1] >= 0.5][0]\n",
    "\n",
    "plt.figure(figsize=(8, 3))\n",
    "plt.plot(X[y==0], y[y==0], \"bs\")\n",
    "plt.plot(X[y==1], y[y==1], \"g^\")\n",
    "plt.plot([decision_boundary, decision_boundary], [-1, 2], \"k:\", linewidth=2)\n",
    "plt.plot(X_new, y_proba[:, 1], \"g-\", linewidth=2, label=\"Iris virginica\")\n",
    "plt.plot(X_new, y_proba[:, 0], \"b--\", linewidth=2, label=\"Not Iris virginica\")\n",
    "plt.text(decision_boundary+0.02, 0.15, \"Decision  boundary\", fontsize=14, color=\"k\", ha=\"center\")\n",
    "plt.arrow(decision_boundary, 0.08, -0.3, 0, head_width=0.05, head_length=0.1, fc='b', ec='b')\n",
    "plt.arrow(decision_boundary, 0.92, 0.3, 0, head_width=0.05, head_length=0.1, fc='g', ec='g')\n",
    "plt.xlabel(\"Petal width (cm)\", fontsize=14)\n",
    "plt.ylabel(\"Probability\", fontsize=14)\n",
    "plt.legend(loc=\"center left\", fontsize=14)\n",
    "plt.axis([0, 3, -0.02, 1.02])\n",
    "save_fig(\"logistic_regression_plot\")\n",
    "plt.show()"
   ]
  },
  {
   "cell_type": "markdown",
   "metadata": {
    "id": "bFC7QkNuswkp"
   },
   "source": [
    "양성 확률이 0.5가 되는 꽃잎 너비의 길이, 즉 결정 경계는 1.66이다. "
   ]
  },
  {
   "cell_type": "code",
   "execution_count": null,
   "metadata": {
    "colab": {
     "base_uri": "https://localhost:8080/"
    },
    "id": "gNaF2dE5swkp",
    "outputId": "456a6409-19d2-4ec5-9314-ab63b60e9733"
   },
   "outputs": [
    {
     "data": {
      "text/plain": [
       "array([1.66066066])"
      ]
     },
     "execution_count": 13,
     "metadata": {
      "tags": []
     },
     "output_type": "execute_result"
    }
   ],
   "source": [
    "decision_boundary"
   ]
  },
  {
   "cell_type": "markdown",
   "metadata": {
    "id": "rFIshj2Wswkp"
   },
   "source": [
    "실제로 1.66보다 크면 양성, 작으면 음성으로 판정한다."
   ]
  },
  {
   "cell_type": "code",
   "execution_count": null,
   "metadata": {
    "colab": {
     "base_uri": "https://localhost:8080/"
    },
    "id": "gDE_NaP2swkq",
    "outputId": "1b31edfb-72b3-4116-c4d1-076a2a375bed"
   },
   "outputs": [
    {
     "data": {
      "text/plain": [
       "array([1, 0])"
      ]
     },
     "execution_count": 14,
     "metadata": {
      "tags": []
     },
     "output_type": "execute_result"
    }
   ],
   "source": [
    "log_reg.predict([[1.7], [1.5]])"
   ]
  },
  {
   "cell_type": "markdown",
   "metadata": {
    "id": "SvA0lM1Nswkq"
   },
   "source": [
    "__예제 2__\n",
    "\n",
    "아래 코드는 이진 분류 설명을 위해 꽃잎 길이와 너비 두 개의 특성을 이용하여 \n",
    "버지니카 품종 여부를 판정하는 모델을 훈련한다."
   ]
  },
  {
   "cell_type": "code",
   "execution_count": null,
   "metadata": {
    "colab": {
     "base_uri": "https://localhost:8080/"
    },
    "id": "nfPpE0z3swkq",
    "outputId": "f48cbde5-f98d-4d30-dde2-a6b53ffc9680"
   },
   "outputs": [
    {
     "data": {
      "text/plain": [
       "LogisticRegression(C=10000000000, class_weight=None, dual=False,\n",
       "                   fit_intercept=True, intercept_scaling=1, l1_ratio=None,\n",
       "                   max_iter=100, multi_class='auto', n_jobs=None, penalty='l2',\n",
       "                   random_state=42, solver='lbfgs', tol=0.0001, verbose=0,\n",
       "                   warm_start=False)"
      ]
     },
     "execution_count": 15,
     "metadata": {
      "tags": []
     },
     "output_type": "execute_result"
    }
   ],
   "source": [
    "X = iris[\"data\"][:, (2, 3)]                  # 꽃잎 길이와 너비\n",
    "y = (iris[\"target\"] == 2).astype(np.int)\n",
    "\n",
    "log_reg = LogisticRegression(solver=\"lbfgs\", C=10**10, random_state=42)\n",
    "log_reg.fit(X, y)"
   ]
  },
  {
   "cell_type": "markdown",
   "metadata": {
    "id": "uX5Axgqqswkq"
   },
   "source": [
    "훈련 결과를 도표로 그리면 다음과 같다.\n",
    "\n",
    "- 검은 실선: 결정 경계\n",
    "- 다른 직선들: 버지니카(양성) 추정 확률별 결정 경계를 보여줌."
   ]
  },
  {
   "cell_type": "code",
   "execution_count": null,
   "metadata": {
    "colab": {
     "base_uri": "https://localhost:8080/",
     "height": 314
    },
    "id": "D31mghWpswkr",
    "outputId": "c4b159d3-45a2-4fed-bab5-fc4eaa20175c"
   },
   "outputs": [
    {
     "name": "stdout",
     "output_type": "stream",
     "text": [
      "그림 저장: logistic_regression_contour_plot\n"
     ]
    },
    {
     "data": {
      "image/png": "[encoded data removed]",
      "text/plain": [
       "<Figure size 720x288 with 1 Axes>"
      ]
     },
     "metadata": {
      "needs_background": "light",
      "tags": []
     },
     "output_type": "display_data"
    }
   ],
   "source": [
    "x0, x1 = np.meshgrid(\n",
    "        np.linspace(2.9, 7, 500).reshape(-1, 1),\n",
    "        np.linspace(0.8, 2.7, 200).reshape(-1, 1),\n",
    "    )\n",
    "X_new = np.c_[x0.ravel(), x1.ravel()]\n",
    "\n",
    "y_proba = log_reg.predict_proba(X_new)\n",
    "\n",
    "plt.figure(figsize=(10, 4))\n",
    "plt.plot(X[y==0, 0], X[y==0, 1], \"bs\")\n",
    "plt.plot(X[y==1, 0], X[y==1, 1], \"g^\")\n",
    "\n",
    "zz = y_proba[:, 1].reshape(x0.shape)\n",
    "contour = plt.contour(x0, x1, zz, cmap=plt.cm.brg)\n",
    "\n",
    "\n",
    "left_right = np.array([2.9, 7])\n",
    "boundary = -(log_reg.coef_[0][0] * left_right + log_reg.intercept_[0]) / log_reg.coef_[0][1]\n",
    "\n",
    "plt.clabel(contour, inline=1, fontsize=12)\n",
    "plt.plot(left_right, boundary, \"k--\", linewidth=3)\n",
    "plt.text(3.5, 1.5, \"Not Iris virginica\", fontsize=14, color=\"b\", ha=\"center\")\n",
    "plt.text(6.5, 2.3, \"Iris virginica\", fontsize=14, color=\"g\", ha=\"center\")\n",
    "plt.xlabel(\"Petal length\", fontsize=14)\n",
    "plt.ylabel(\"Petal width\", fontsize=14)\n",
    "plt.axis([2.9, 7, 0.8, 2.7])\n",
    "save_fig(\"logistic_regression_contour_plot\")\n",
    "plt.show()"
   ]
  },
  {
   "cell_type": "markdown",
   "metadata": {
    "id": "_y1hqAzoswlD"
   },
   "source": [
    "## **과제 1: 조기 종료 & 배치 경사 하강법 시그모이드 함수(사이킷런 미활용)**"
   ]
  },
  {
   "cell_type": "markdown",
   "metadata": {
    "id": "j7bBVuMRswlD"
   },
   "source": [
    "조기 종료를 사용한 배치 경사 하강법으로 로지스틱 회귀를 구현하라.\n",
    "단, 사이킷런을 전혀 사용하지 않아야 한다."
   ]
  },
  {
   "cell_type": "markdown",
   "metadata": {
    "id": "mtpNoKKioBq-"
   },
   "source": [
    "__단계 1: 데이터 준비__ \n",
    "\n",
    "아래 코드는 이진 분류 설명을 위해 꽃잎 너비(petal width) 특성을 이용하여 버지니카 품종 여부를 판정하는 데에\n",
    "사용되는 데이터셋을 지정한다."
   ]
  },
  {
   "cell_type": "code",
   "execution_count": null,
   "metadata": {
    "id": "Vy3vJalHldYl"
   },
   "outputs": [],
   "source": [
    "X = iris[\"data\"][:, (2, 3)]                  # 꽃잎 길이와 너비\n",
    "y = (iris[\"target\"] == 2).astype(np.int)"
   ]
  },
  {
   "cell_type": "code",
   "execution_count": null,
   "metadata": {
    "id": "SLGzSOr2ldYu"
   },
   "outputs": [],
   "source": [
    "X_with_bias = np.c_[np.ones([len(X), 1]), X]"
   ]
  },
  {
   "cell_type": "code",
   "execution_count": null,
   "metadata": {
    "id": "zuaxQJVIldYu"
   },
   "outputs": [],
   "source": [
    "np.random.seed(2042)"
   ]
  },
  {
   "cell_type": "markdown",
   "metadata": {
    "id": "X8MdT0-AldYu"
   },
   "source": [
    "__단계 2: 데이터셋 분할__ \n",
    "\n",
    "데이터셋을 훈련, 검증, 테스트 용도로 6대 2대 2의 비율로 무작위로 분할한다.\n",
    "\n",
    "- 훈련 세트: 60%\n",
    "- 검증 세트: 20%\n",
    "- 테스트 세트: 20%\n",
    "\n",
    "아래 코드는 사이킷런의 `train_test_split()` 함수를 사용하지 않고 \n",
    "수동으로 무작위 분할하는 방법을 보여준다.\n",
    "먼저 각 세트의 크기를 결정한다."
   ]
  },
  {
   "cell_type": "code",
   "execution_count": null,
   "metadata": {
    "id": "JA947aG8ldYu"
   },
   "outputs": [],
   "source": [
    "test_ratio = 0.2                                         # 테스트 세트 비율 = 20%\n",
    "validation_ratio = 0.2                                   # 검증 세트 비율 = 20%\n",
    "total_size = len(X_with_bias)                            # 전체 데이터셋 크기\n",
    "\n",
    "test_size = int(total_size * test_ratio)                 # 테스트 세트 크기: 전체의 20%\n",
    "validation_size = int(total_size * validation_ratio)     # 검증 세트 크기: 전체의 20%\n",
    "train_size = total_size - test_size - validation_size    # 훈련 세트 크기: 전체의 60%"
   ]
  },
  {
   "cell_type": "markdown",
   "metadata": {
    "id": "O1XOEfN6ldYu"
   },
   "source": [
    "`np.random.permutation()` 함수를 이용하여 인덱스를 무작위로 섞는다. "
   ]
  },
  {
   "cell_type": "code",
   "execution_count": null,
   "metadata": {
    "id": "OkCJAWoRldYv"
   },
   "outputs": [],
   "source": [
    "rnd_indices = np.random.permutation(total_size)"
   ]
  },
  {
   "cell_type": "markdown",
   "metadata": {
    "id": "NWLa4p2EldYv"
   },
   "source": [
    "인덱스가 무작위로 섞였기 때문에 무작위로 분할하는 효과를 얻는다.\n",
    "방법은 섞인 인덱스를 이용하여 지정된 6:2:2의 비율로 훈련, 검증, 테스트 세트로 분할하는 것이다."
   ]
  },
  {
   "cell_type": "code",
   "execution_count": null,
   "metadata": {
    "id": "my7vDBejldYv"
   },
   "outputs": [],
   "source": [
    "X_train = X_with_bias[rnd_indices[:train_size]]\n",
    "y_train = y[rnd_indices[:train_size]]\n",
    "\n",
    "X_valid = X_with_bias[rnd_indices[train_size:-test_size]]\n",
    "y_valid = y[rnd_indices[train_size:-test_size]]\n",
    "\n",
    "X_test = X_with_bias[rnd_indices[-test_size:]]\n",
    "y_test = y[rnd_indices[-test_size:]]"
   ]
  },
  {
   "cell_type": "markdown",
   "metadata": {
    "id": "WRqMkiESldYw"
   },
   "source": [
    "__단계 3: 타깃 변환__ \n",
    "\n",
    "타깃은 0, 1로 설정되어 있다. 차례대로 버지니카가 아닌 품종, 버지니카 품종을 가리킨다.\n",
    "훈련 세트의 첫 5개 샘플의 품종은 다음과 같다."
   ]
  },
  {
   "cell_type": "code",
   "execution_count": null,
   "metadata": {
    "colab": {
     "base_uri": "https://localhost:8080/"
    },
    "id": "Dr6-2jJCldYw",
    "outputId": "5a9d313e-08a9-480d-a0a2-b1abd8b0aa77"
   },
   "outputs": [
    {
     "data": {
      "text/plain": [
       "array([0, 0, 1, 0, 0])"
      ]
     },
     "execution_count": 23,
     "metadata": {
      "tags": []
     },
     "output_type": "execute_result"
    }
   ],
   "source": [
    "y_train[:5]"
   ]
  },
  {
   "cell_type": "markdown",
   "metadata": {
    "id": "Aadh7u5OldYw"
   },
   "source": [
    "학습을 위해 타깃을 원-핫 벡터로 변환해야 한다. \n",
    "이유는 소프트맥스 회귀는 샘플이 주어지면 각 클래스별로 속할 확률을 구하고\n",
    "구해진 결과를 실제 확률과 함께 이용하여 비용함수를 계산하기 때문이다. \n",
    "\n",
    "붓꽃 데이터의 경우 세 개의 품종 클래스별로 속할 확률을 계산해야 하기 때문에 \n",
    "품종을 0, 1의 하나의 숫자로 두기 보다는 해당 클래스는 1, 나머지는 0인\n",
    "확률값으로 이루어진 어레이로 다루어야 소프트맥스 회귀가 계산한 클래스별 확률과 \n",
    "연결된다.\n",
    "\n",
    "아래 함수 `to_one_hot()` 함수는 길이가 m이면서 0, 1로 이루어진 1차원 어레이가 입력되면\n",
    "(m, 2) 모양의 원-핫 벡터를 반환한다."
   ]
  },
  {
   "cell_type": "code",
   "execution_count": null,
   "metadata": {
    "id": "Krdl0k1ZldYw"
   },
   "outputs": [],
   "source": [
    "def to_one_hot(y):\n",
    "    n_classes = y.max() + 1                 # 클래스 수\n",
    "    m = len(y)                              # 샘플 수\n",
    "    Y_one_hot = np.zeros((m, n_classes))    # (샘플 수, 클래스 수) 0-벡터 생성\n",
    "    Y_one_hot[np.arange(m), y] = 1          # 샘플 별로 해당 클래스의 값만 1로 변경. (넘파이 인덱싱 활용)\n",
    "    return Y_one_hot"
   ]
  },
  {
   "cell_type": "markdown",
   "metadata": {
    "id": "pyZEaItUldYx"
   },
   "source": [
    "샘플 5개에 대해 잘 작동하는 것을 확인할 수 있다."
   ]
  },
  {
   "cell_type": "code",
   "execution_count": null,
   "metadata": {
    "colab": {
     "base_uri": "https://localhost:8080/"
    },
    "id": "Tcw5XP3pldYx",
    "outputId": "e688f0f1-295a-4161-ddaf-91ccba7800ce"
   },
   "outputs": [
    {
     "data": {
      "text/plain": [
       "array([0, 0, 1, 0, 0])"
      ]
     },
     "execution_count": 25,
     "metadata": {
      "tags": []
     },
     "output_type": "execute_result"
    }
   ],
   "source": [
    "y_train[:5]"
   ]
  },
  {
   "cell_type": "code",
   "execution_count": null,
   "metadata": {
    "colab": {
     "base_uri": "https://localhost:8080/"
    },
    "id": "EY09ce6qldYx",
    "outputId": "9c42d131-5ada-4e65-df96-9411d18a6e4f"
   },
   "outputs": [
    {
     "data": {
      "text/plain": [
       "array([[1., 0.],\n",
       "       [1., 0.],\n",
       "       [0., 1.],\n",
       "       [1., 0.],\n",
       "       [1., 0.]])"
      ]
     },
     "execution_count": 26,
     "metadata": {
      "tags": []
     },
     "output_type": "execute_result"
    }
   ],
   "source": [
    "to_one_hot(y_train[:5])"
   ]
  },
  {
   "cell_type": "markdown",
   "metadata": {
    "id": "O5bJVsjhldYx"
   },
   "source": [
    "이제 훈련/검증/테스트 세트의 타깃을 모두 원-핫 벡터로 변환한다."
   ]
  },
  {
   "cell_type": "code",
   "execution_count": null,
   "metadata": {
    "id": "fpi4x4Y3ldYy"
   },
   "outputs": [],
   "source": [
    "Y_train_one_hot = to_one_hot(y_train)\n",
    "Y_valid_one_hot = to_one_hot(y_valid)\n",
    "Y_test_one_hot = to_one_hot(y_test)"
   ]
  },
  {
   "cell_type": "markdown",
   "metadata": {
    "id": "Aio2g7TToFue"
   },
   "source": [
    "__단계 4: 로지스틱 회귀 시그모이드 함수__ "
   ]
  },
  {
   "cell_type": "code",
   "execution_count": null,
   "metadata": {
    "id": "1NWYCJdRWkXv"
   },
   "outputs": [],
   "source": [
    "def sigmoid(logits):\n",
    "    sig = 1 / (1 + np.exp(-logits))                  # 시그모이드 함수 식\n",
    "    return sig "
   ]
  },
  {
   "cell_type": "markdown",
   "metadata": {
    "id": "lvMSfvZ5ldYz"
   },
   "source": [
    "__단계 5: 경사하강법 활용 훈련__ "
   ]
  },
  {
   "cell_type": "markdown",
   "metadata": {
    "id": "ToEjsNM7ldYz"
   },
   "source": [
    "경사하강법을 구현하기 위해 아래 비용함수와 비용함수의 그레이디언트를 파이썬으로 \n",
    "구현할 수 있어야 한다.\n",
    "\n",
    "- 비용 함수($K$는 클래스 수, $m$은 샘플 수):\n",
    "\n",
    "$$\n",
    "J(\\mathbf{\\Theta}) =\n",
    "- \\dfrac{1}{m}\\sum\\limits_{i=1}^{m}\\sum\\limits_{k=1}^{K}{y_k^{(i)}\\log\\left(\\hat{p}_k^{(i)}\\right)}\n",
    "$$\n",
    "\n",
    "- 그레이디언트 공식(클래스 $k$에 대해):\n",
    "\n",
    "$$\n",
    "\\nabla_{\\mathbf{\\theta}^{(k)}} \\, J(\\mathbf{\\Theta}) = \\dfrac{1}{m} \\sum\\limits_{i=1}^{m}{ \\left ( \\hat{p}^{(i)}_k - y_k^{(i)} \\right ) \\mathbf{x}^{(i)}}\n",
    "$$\n",
    "\n",
    "__주의사항:__ \n",
    "수학적으로 $\\hat{p}_k^{(i)} = 0$이면 \n",
    "$\\log\\left(\\hat{p}_k^{(i)}\\right)$는 정의되지 않는다.\n",
    "`NaN` 값을 피하기 위해 \n",
    "$\\hat{p}_k^{(i)}$에 작은 값 `epsilon` 추가한다.\n",
    "여기서는 `1e-7`을 사용한다. \n",
    "사실 너무 작은 `epsilon`을 0에 더하면\n",
    "컴퓨터가 그래도 0으로 취급할 수 있음에 조심해야 한다."
   ]
  },
  {
   "cell_type": "markdown",
   "metadata": {
    "id": "p2gkruxQldY0"
   },
   "source": [
    "이제 훈련 코드를 작성할 수 있다.\n",
    "클래스별 파라미터로 이루어진 $(n+1, K)$ 행렬 모양의 2차원 넘파이 어레이 $\\Theta$를 \n",
    "생성하기 위해 $n$과 $K$를 확인한다."
   ]
  },
  {
   "cell_type": "code",
   "execution_count": null,
   "metadata": {
    "id": "EQlASSjnldY0"
   },
   "outputs": [],
   "source": [
    "n_inputs = X_train.shape[1]           # 특성 수(n) + 1, 붓꽃의 경우: 특성 2개 + 1\n",
    "n_outputs = len(np.unique(y_train))   # 중복을 제거한 클래스 수(K), 붓꽃의 경우: 3개"
   ]
  },
  {
   "cell_type": "markdown",
   "metadata": {
    "id": "lq0bWBbtldY0"
   },
   "source": [
    "파라미터 $\\Theta$를 무작위로 초기 설정한다."
   ]
  },
  {
   "cell_type": "code",
   "execution_count": null,
   "metadata": {
    "id": "snHxET_yldY0"
   },
   "outputs": [],
   "source": [
    "Theta = np.random.randn(n_inputs, n_outputs)"
   ]
  },
  {
   "cell_type": "markdown",
   "metadata": {
    "id": "BwyOGm-XldY0"
   },
   "source": [
    "배치 경사하강법 훈련은 아래 코드를 통해 이루어진다.\n",
    "\n",
    "- `eta = 0.01`: 학습률\n",
    "- `n_iterations = 5001` : 에포크 수\n",
    "- `m = len(X_train)`: 훈련 세트 크기, 즉 훈련 샘플 수\n",
    "- `epsilon = 1e-7`: $\\log$ 값이 항상 계산되도록 더해지는 작은 실수\n",
    "- `logits`: 모든 샘플에 대한 클래스별 점수, 즉 $\\mathbf{X}_{\\textit{train}}\\, \\Theta$\n",
    "- `Y_proba`: 모든 샘플에 대해 계산된 클래스 별 소속 확률, 즉 $\\hat P$"
   ]
  },
  {
   "cell_type": "code",
   "execution_count": null,
   "metadata": {
    "colab": {
     "base_uri": "https://localhost:8080/"
    },
    "id": "09pa8AH7ldY0",
    "outputId": "c1dec530-ae5b-48e7-a71f-a4441e0717b4"
   },
   "outputs": [
    {
     "name": "stdout",
     "output_type": "stream",
     "text": [
      "0 0.7505665677244439\n",
      "1000 0.4804763206274273\n",
      "2000 0.41052714358214226\n",
      "3000 0.3677684056162294\n",
      "4000 0.338602752400534\n",
      "5000 0.31712937163117505\n",
      "6000 0.3004458644844975\n",
      "7000 0.2869673202781083\n",
      "8000 0.2757539915016319\n",
      "9000 0.26621136946706836\n",
      "10000 0.25794341251343855\n",
      "11000 0.2506750168780993\n",
      "12000 0.24420839315801782\n",
      "13000 0.23839719317579688\n",
      "14000 0.23313046840028445\n",
      "15000 0.22832234114153505\n",
      "16000 0.22390513457121133\n",
      "17000 0.2198246727795877\n",
      "18000 0.21603698524324255\n",
      "19000 0.21250594536404507\n",
      "20000 0.20920154545577957\n"
     ]
    }
   ],
   "source": [
    "#  배치 경사하강법 구현\n",
    "eta = 0.008\n",
    "n_iterations = 20001\n",
    "m = len(X_train)\n",
    "epsilon = 1e-7\n",
    "\n",
    "Theta = np.random.randn(n_inputs, n_outputs)\n",
    "\n",
    "for iteration in range(n_iterations):     # 20001번 반복 훈련\n",
    "    logits = X_train.dot(Theta)\n",
    "    Y_proba = sigmoid(logits)\n",
    "    \n",
    "    if iteration % 1000 == 0:              # 1000 에포크마다 손실(비용) 계산해서 출력\n",
    "        loss = -np.mean(np.sum(Y_train_one_hot * np.log(Y_proba + epsilon), axis=1))\n",
    "        print(iteration, loss)\n",
    "    \n",
    "    error = Y_proba - Y_train_one_hot     # 그레이디언트 계산.\n",
    "    gradients = 1/m * X_train.T.dot(error)\n",
    "    \n",
    "    Theta = Theta - eta * gradients       # 파라미터 업데이트"
   ]
  },
  {
   "cell_type": "markdown",
   "metadata": {
    "id": "qO-mdlfqldY1"
   },
   "source": [
    "학습된 파라미터는 다음과 같다."
   ]
  },
  {
   "cell_type": "code",
   "execution_count": null,
   "metadata": {
    "colab": {
     "base_uri": "https://localhost:8080/"
    },
    "id": "-dsmhq1MldY1",
    "outputId": "a95e79af-ca3a-4ac0-cee1-a146828cabb3"
   },
   "outputs": [
    {
     "data": {
      "text/plain": [
       "array([[ 6.63293556, -6.19531144],\n",
       "       [-0.3701003 ,  0.10952161],\n",
       "       [-2.94571424,  3.46140596]])"
      ]
     },
     "execution_count": 32,
     "metadata": {
      "tags": []
     },
     "output_type": "execute_result"
    }
   ],
   "source": [
    "Theta"
   ]
  },
  {
   "cell_type": "markdown",
   "metadata": {
    "id": "o8fST0MyldY1"
   },
   "source": [
    "검증 세트에 대한 예측과 정확도는 다음과 같다.\n",
    "`logits`, `Y_proba`를 검증 세트인 `X_valid`를 이용하여 계산한다.\n",
    "예측 클래스는 `Y_proba`에서 가장 큰 값을 갖는 인덱스로 선택한다."
   ]
  },
  {
   "cell_type": "code",
   "execution_count": null,
   "metadata": {
    "colab": {
     "base_uri": "https://localhost:8080/"
    },
    "id": "GAxtCSkjldY1",
    "outputId": "06abd330-a0a5-4ec2-9f2a-675580336ca4"
   },
   "outputs": [
    {
     "data": {
      "text/plain": [
       "0.9666666666666667"
      ]
     },
     "execution_count": 33,
     "metadata": {
      "tags": []
     },
     "output_type": "execute_result"
    }
   ],
   "source": [
    "logits = X_valid.dot(Theta)              \n",
    "Y_proba = sigmoid(logits)\n",
    "y_predict = np.argmax(Y_proba, axis=1)          # 가장 높은 확률을 갖는 클래스 선택\n",
    "\n",
    "accuracy_score = np.mean(y_predict == y_valid)  # 정확도 계산\n",
    "accuracy_score"
   ]
  },
  {
   "cell_type": "markdown",
   "metadata": {
    "id": "RzerHBmYldY1"
   },
   "source": [
    "__단계 6: 규제가 추가된 경사하강법 활용 훈련__ "
   ]
  },
  {
   "cell_type": "markdown",
   "metadata": {
    "id": "GyIZXA0vldY2"
   },
   "source": [
    "$\\ell_2$ 규제가 추가된 경사하강법 훈련을 구현한다. \n",
    "코드는 기본적으로 동일하다.\n",
    "다만 손실(비용)에 $\\ell_2$ 페널티가 추가되었고 \n",
    "그래디언트에도 항이 추가되었다(`Theta`의 첫 번째 원소는 편향이므로 규제하지 않습니다). \n",
    "\n",
    "- 학습률 `eta` 증가됨.\n",
    "- `alpha = 0.1`: 규제 강도"
   ]
  },
  {
   "cell_type": "code",
   "execution_count": null,
   "metadata": {
    "colab": {
     "base_uri": "https://localhost:8080/"
    },
    "id": "J_VQ48UJldY2",
    "outputId": "99c6776a-4182-45f3-9e03-a2b01b64ae4b"
   },
   "outputs": [
    {
     "name": "stdout",
     "output_type": "stream",
     "text": [
      "0 0.33378492575068963\n",
      "1000 0.49434322777154\n",
      "2000 0.4355305367449598\n",
      "3000 0.4124696788537583\n",
      "4000 0.4006428414257761\n",
      "5000 0.39368330211232105\n",
      "6000 0.38936673547714856\n",
      "7000 0.3866743621604194\n",
      "8000 0.38504755389364487\n",
      "9000 0.38414646891982535\n",
      "10000 0.38375109735397783\n",
      "11000 0.38371296418442136\n",
      "12000 0.38392877480960247\n",
      "13000 0.3843249641089864\n",
      "14000 0.38484816968171187\n",
      "15000 0.3854591253110464\n",
      "16000 0.3861286201666072\n",
      "17000 0.38683475169489867\n",
      "18000 0.3875610138629505\n",
      "19000 0.3882949393280328\n",
      "20000 0.38902711762968356\n"
     ]
    }
   ],
   "source": [
    "eta = 0.008\n",
    "n_iterations = 20001\n",
    "m = len(X_train)\n",
    "epsilon = 1e-7\n",
    "alpha = 0.1        # 규제 하이퍼파라미터\n",
    "\n",
    "Theta = np.random.randn(n_inputs, n_outputs)  # 파라미터 새로 초기화\n",
    "\n",
    "for iteration in range(n_iterations):\n",
    "    logits = X_train.dot(Theta)\n",
    "    Y_proba = sigmoid(logits)\n",
    "    \n",
    "    if iteration % 1000 == 0:\n",
    "        xentropy_loss = -np.mean(np.sum(Y_train_one_hot * np.log(Y_proba + epsilon), axis=1))\n",
    "        l2_loss = 1/2 * np.sum(np.square(Theta[1:]))  # 편향은 규제에서 제외\n",
    "        loss = xentropy_loss + alpha * l2_loss        # l2 규제가 추가된 손실\n",
    "        print(iteration, loss)\n",
    "    \n",
    "    error = Y_proba - Y_train_one_hot\n",
    "    l2_loss_gradients = np.r_[np.zeros([1, n_outputs]), alpha * Theta[1:]]   # l2 규제 그레이디언트\n",
    "    gradients = 1/m * X_train.T.dot(error) + l2_loss_gradients\n",
    "    \n",
    "    Theta = Theta - eta * gradients"
   ]
  },
  {
   "cell_type": "code",
   "execution_count": null,
   "metadata": {
    "colab": {
     "base_uri": "https://localhost:8080/"
    },
    "id": "dvH3GwDvX10O",
    "outputId": "08a7e2e0-d4bb-4de2-c2f1-93b4fc8fda68"
   },
   "outputs": [
    {
     "data": {
      "text/plain": [
       "array([[ 5.4450137 , -5.2783609 ],\n",
       "       [-0.90394829,  0.87334938],\n",
       "       [-0.58323251,  0.57735928]])"
      ]
     },
     "execution_count": 35,
     "metadata": {
      "tags": []
     },
     "output_type": "execute_result"
    }
   ],
   "source": [
    "Theta"
   ]
  },
  {
   "cell_type": "code",
   "execution_count": null,
   "metadata": {
    "colab": {
     "base_uri": "https://localhost:8080/"
    },
    "id": "egQOtIgPldY2",
    "outputId": "cdc8ad96-c824-48f2-9f6c-5c7a221aaa55"
   },
   "outputs": [
    {
     "data": {
      "text/plain": [
       "0.9333333333333333"
      ]
     },
     "execution_count": 36,
     "metadata": {
      "tags": []
     },
     "output_type": "execute_result"
    }
   ],
   "source": [
    "logits = X_valid.dot(Theta)\n",
    "Y_proba = sigmoid(logits)\n",
    "y_predict = np.argmax(Y_proba, axis=1)\n",
    "\n",
    "accuracy_score = np.mean(y_predict == y_valid)\n",
    "accuracy_score"
   ]
  },
  {
   "cell_type": "markdown",
   "metadata": {
    "id": "8wu8YMP3ldY3"
   },
   "source": [
    "__단계 7: 조기 종료 추가__"
   ]
  },
  {
   "cell_type": "markdown",
   "metadata": {
    "id": "3zPNNj-IldY3"
   },
   "source": [
    "위 규제가 사용된 모델의 훈련 과정에서\n",
    "매 에포크마다 검증 세트에 대한 손실을 계산하여 오차가 줄어들다가 증가하기 시작할 때 멈추도록 한다."
   ]
  },
  {
   "cell_type": "code",
   "execution_count": null,
   "metadata": {
    "colab": {
     "base_uri": "https://localhost:8080/"
    },
    "id": "lfGySMP9ldY3",
    "outputId": "f0d25c61-8bc7-4b60-8c30-9db71e0af112"
   },
   "outputs": [
    {
     "name": "stdout",
     "output_type": "stream",
     "text": [
      "0 0.38520207611430535\n",
      "0 0.38520207611430535\n",
      "1 0.3886293636916429 조기 종료!\n"
     ]
    }
   ],
   "source": [
    "eta = 0.008\n",
    "n_iterations = 20001\n",
    "m = len(X_train)\n",
    "epsilon = 1e-7\n",
    "alpha = 0.1            # 규제 하이퍼파라미터\n",
    "best_loss = np.infty   # 최소 손실값 기억 변수\n",
    "\n",
    "Theta = np.random.randn(n_inputs, n_outputs)  # 파라미터 새로 초기화\n",
    "\n",
    "for iteration in range(n_iterations):\n",
    "    # 훈련 및 손실 계산\n",
    "    logits = X_train.dot(Theta)\n",
    "    Y_proba = sigmoid(logits)\n",
    "    error = Y_proba - Y_train_one_hot\n",
    "    gradients = 1/m * X_train.T.dot(error) + np.r_[np.zeros([1, n_outputs]), alpha * Theta[1:]]\n",
    "    Theta = Theta - eta * gradients\n",
    "\n",
    "    # 검증 세트에 대한 손실 계산\n",
    "    logits = X_valid.dot(Theta)\n",
    "    Y_proba = sigmoid(logits)\n",
    "    xentropy_loss = -np.mean(np.sum(Y_valid_one_hot * np.log(Y_proba + epsilon), axis=1))\n",
    "    l2_loss = 1/2 * np.sum(np.square(Theta[1:]))\n",
    "    loss = xentropy_loss + alpha * l2_loss\n",
    "    \n",
    "    # 1000 에포크마다 검증 세트에 대한 손실 출력\n",
    "    if iteration % 1000 == 0:\n",
    "        print(iteration, loss)\n",
    "        \n",
    "    # 에포크마다 최소 손실값 업데이트\n",
    "    if loss < best_loss:\n",
    "        best_loss = loss\n",
    "    else:                                      # 에포크가 줄어들지 않으면 바로 훈련 종료\n",
    "        print(iteration - 1, best_loss)        # 종료되지 이전 에포크의 손실값 출력\n",
    "        print(iteration, loss, \"조기 종료!\")\n",
    "        break"
   ]
  },
  {
   "cell_type": "code",
   "execution_count": null,
   "metadata": {
    "colab": {
     "base_uri": "https://localhost:8080/"
    },
    "id": "xDcTaahbX221",
    "outputId": "d2a4a7b0-4c9e-46f4-a521-b69c3e89db87"
   },
   "outputs": [
    {
     "data": {
      "text/plain": [
       "array([[-0.50057877, -1.55863498],\n",
       "       [ 0.92208839, -0.05329011],\n",
       "       [-0.09270044,  1.39373802]])"
      ]
     },
     "execution_count": 38,
     "metadata": {
      "tags": []
     },
     "output_type": "execute_result"
    }
   ],
   "source": [
    "Theta"
   ]
  },
  {
   "cell_type": "code",
   "execution_count": null,
   "metadata": {
    "colab": {
     "base_uri": "https://localhost:8080/"
    },
    "id": "Rl1sWhECldY3",
    "outputId": "350c358e-469b-4ab5-b81a-4e30a5bc29cc"
   },
   "outputs": [
    {
     "data": {
      "text/plain": [
       "0.6666666666666666"
      ]
     },
     "execution_count": 39,
     "metadata": {
      "tags": []
     },
     "output_type": "execute_result"
    }
   ],
   "source": [
    "logits = X_valid.dot(Theta)\n",
    "Y_proba = sigmoid(logits)\n",
    "y_predict = np.argmax(Y_proba, axis=1)\n",
    "\n",
    "accuracy_score = np.mean(y_predict == y_valid)\n",
    "accuracy_score"
   ]
  },
  {
   "cell_type": "markdown",
   "metadata": {
    "id": "_sTY1awdnyyW"
   },
   "source": [
    "정확도는 떨어졌지만, 데이터가 적거나 운이 나쁜 경우일 것이다."
   ]
  },
  {
   "cell_type": "markdown",
   "metadata": {
    "id": "Z1NU9SXSldY5"
   },
   "source": [
    "## **과제 2: 과제 1 + 다중 클래스 분류**"
   ]
  },
  {
   "cell_type": "markdown",
   "metadata": {
    "id": "Riwt4ZCyldY6"
   },
   "source": [
    "과제 1에서 구현된 로지스틱 회귀 알고리즘에 일대다(OvR) 방식을 적용하여 붓꽃에 대한 다중 클래스 분류 알고리즘을 구현하라. 단, 사이킷런을 전혀 사용하지 않아야 한다."
   ]
  },
  {
   "cell_type": "code",
   "execution_count": null,
   "metadata": {
    "id": "9Qqun0BIFF_T"
   },
   "outputs": [],
   "source": [
    "np.random.seed(2042)"
   ]
  },
  {
   "cell_type": "markdown",
   "metadata": {
    "id": "iOo3tERZPgIW"
   },
   "source": [
    "데이터 전처리 def 정의"
   ]
  },
  {
   "cell_type": "code",
   "execution_count": null,
   "metadata": {
    "id": "zSfpc-L3FSrR"
   },
   "outputs": [],
   "source": [
    "def datasetting(X, y):\n",
    "  X_with_bias = np.c_[np.ones([len(X), 1]), X]\n",
    "\n",
    "  test_ratio = 0.2                                         # 테스트 세트 비율 = 20%\n",
    "  validation_ratio = 0.2                                   # 검증 세트 비율 = 20%\n",
    "  total_size = len(X_with_bias)                            # 전체 데이터셋 크기\n",
    "\n",
    "  test_size = int(total_size * test_ratio)                 # 테스트 세트 크기: 전체의 20%\n",
    "  validation_size = int(total_size * validation_ratio)     # 검증 세트 크기: 전체의 20%\n",
    "  train_size = total_size - test_size - validation_size    # 훈련 세트 크기: 전체의 60%\n",
    "  rnd_indices = np.random.permutation(total_size)\n",
    "\n",
    "  X_train = X_with_bias[rnd_indices[:train_size]]\n",
    "  y_train = y[rnd_indices[:train_size]]\n",
    "\n",
    "  X_valid = X_with_bias[rnd_indices[train_size:-test_size]]\n",
    "  y_valid = y[rnd_indices[train_size:-test_size]]\n",
    "\n",
    "  X_test = X_with_bias[rnd_indices[-test_size:]]\n",
    "  y_test = y[rnd_indices[-test_size:]]\n",
    "\n",
    "  Y_train_one_hot = to_one_hot(y_train)\n",
    "  Y_valid_one_hot = to_one_hot(y_valid)\n",
    "  Y_test_one_hot = to_one_hot(y_test)\n",
    "  \n",
    "  return X_train, y_train, X_valid, y_valid, X_test, y_test, Y_train_one_hot, Y_valid_one_hot, Y_test_one_hot"
   ]
  },
  {
   "cell_type": "markdown",
   "metadata": {
    "id": "GtXoUpHWPj8_"
   },
   "source": [
    "iris 데이터셋(붓꽃 데이터)가 50 단위로 나뉘는데, 각각 품종에 따른 Theta값 구하기"
   ]
  },
  {
   "cell_type": "code",
   "execution_count": null,
   "metadata": {
    "colab": {
     "base_uri": "https://localhost:8080/"
    },
    "id": "jake5xZQFF_C",
    "outputId": "6681d637-1cd0-4fae-f8fc-c6b133ba55d8"
   },
   "outputs": [
    {
     "name": "stdout",
     "output_type": "stream",
     "text": [
      "0 1.218616855424293\n",
      "51 0.5708859411839247\n",
      "52 0.5710125527237332 조기 종료!\n",
      "0 0.682982725354496\n",
      "14 0.6734147955234785\n",
      "15 0.673496410423033 조기 종료!\n",
      "0 2.418209167132795\n",
      "1000 0.6113601403774309\n",
      "2000 0.5107233368931612\n",
      "3000 0.4662777684751965\n",
      "4000 0.441642222484412\n",
      "5000 0.4266222467528403\n",
      "6000 0.4170598081296712\n",
      "7000 0.4108476130927281\n",
      "8000 0.4067957076033864\n",
      "9000 0.4041874847488671\n",
      "10000 0.4025705728246626\n",
      "11000 0.40164830673059193\n",
      "12000 0.4012198564858454\n",
      "12745 0.401136937356851\n",
      "12746 0.40113693743151896 조기 종료!\n"
     ]
    }
   ],
   "source": [
    "i=0\n",
    "a=50\n",
    "b=[]\n",
    "while i < 150:\n",
    "  X = iris[\"data\"][i:a][:, (2, 3)]                  # 꽃잎 길이와 너비\n",
    "  y = iris[\"target\"][i:a]\n",
    "  datasetting(X, y)\n",
    "\n",
    "  n_inputs = X_train.shape[1]           # 특성 수(n) + 1, 붓꽃의 경우: 특성 2개 + 1\n",
    "  n_outputs = len(np.unique(y_train))   # 중복을 제거한 클래스 수(K), 붓꽃의 경우: 3개\n",
    "  Theta = np.random.randn(n_inputs, n_outputs)\n",
    "\n",
    "  eta = 0.008\n",
    "  n_iterations = 20001\n",
    "  m = len(X_train)\n",
    "  epsilon = 1e-7\n",
    "  alpha = 0.1            # 규제 하이퍼파라미터\n",
    "  best_loss = np.infty   # 최소 손실값 기억 변수\n",
    "\n",
    "  Theta = np.random.randn(n_inputs, n_outputs)  # 파라미터 새로 초기화\n",
    "\n",
    "  for iteration in range(n_iterations):\n",
    "      # 훈련 및 손실 계산\n",
    "      logits = X_train.dot(Theta)\n",
    "      Y_proba = sigmoid(logits)\n",
    "      error = Y_proba - Y_train_one_hot\n",
    "      gradients = 1/m * X_train.T.dot(error) + np.r_[np.zeros([1, n_outputs]), alpha * Theta[1:]]\n",
    "      Theta = Theta - eta * gradients\n",
    "      \n",
    "      # 검증 세트에 대한 손실 계산\n",
    "      logits = X_valid.dot(Theta)\n",
    "      Y_proba = sigmoid(logits)\n",
    "      xentropy_loss = -np.mean(np.sum(Y_valid_one_hot * np.log(Y_proba + epsilon), axis=1))\n",
    "      l2_loss = 1/2 * np.sum(np.square(Theta[1:]))\n",
    "      loss = xentropy_loss + alpha * l2_loss\n",
    "      \n",
    "      # 1000 에포크마다 검증 세트에 대한 손실 출력\n",
    "      if iteration % 1000 == 0:\n",
    "          print(iteration, loss)\n",
    "          \n",
    "      # 에포크마다 최소 손실값 업데이트\n",
    "      if loss < best_loss:\n",
    "          best_loss = loss\n",
    "      else:                                      # 에포크가 줄어들지 않으면 바로 훈련 종료\n",
    "          print(iteration - 1, best_loss)        # 종료되지 이전 에포크의 손실값 출력\n",
    "          print(iteration, loss, \"조기 종료!\")\n",
    "          break\n",
    "  i += 50\n",
    "  a += 50\n",
    "  b.append(Theta)"
   ]
  },
  {
   "cell_type": "markdown",
   "metadata": {
    "id": "yNfyfylnPuI_"
   },
   "source": [
    "Theta 값들을 비교하여 best Theta 값 찾기"
   ]
  },
  {
   "cell_type": "code",
   "execution_count": null,
   "metadata": {
    "id": "IxCn0SlaIa9w"
   },
   "outputs": [],
   "source": [
    "i = 0\n",
    "best_Y_proba = []\n",
    "\n",
    "while i < 3:\n",
    "  logits = X_valid.dot(b[i])\n",
    "  Y_proba = sigmoid(logits)\n",
    "  best_Y_proba.append(Y_proba)\n",
    "  i+=1"
   ]
  },
  {
   "cell_type": "code",
   "execution_count": null,
   "metadata": {
    "id": "69c9tH0gMjqU"
   },
   "outputs": [],
   "source": [
    "w1 = best_Y_proba[0]\n",
    "w2 = best_Y_proba[1]\n",
    "w3 = best_Y_proba[2]"
   ]
  },
  {
   "cell_type": "code",
   "execution_count": null,
   "metadata": {
    "id": "E8_77druMzL7"
   },
   "outputs": [],
   "source": [
    "i = 0\n",
    "w4 = np.zeros((30, 2))\n",
    "\n",
    "while i < len(w1):\n",
    "  if w1[i,0] > w2[i,0]:\n",
    "    w4[i,0] = w1[i,0]\n",
    "  else:\n",
    "    w4[i,0] = w2[i,0]\n",
    "  if w3[i,0] > w4[i,0]:\n",
    "    w4[i,0] = w3[i,0]\n",
    "\n",
    "  if w1[i,1] > w2[i,1]:\n",
    "    w4[i,1] = w1[i,1]\n",
    "  else:\n",
    "    w4[i,1] = w2[i,1]\n",
    "  if w3[i,1] > w4[i,1]:\n",
    "    w4[i,1] = w3[i,1]\n",
    "  i+=1"
   ]
  },
  {
   "cell_type": "markdown",
   "metadata": {
    "id": "XJdTy6FQPzjx"
   },
   "source": [
    "가장 좋은 성능을 보이는 Theta 값을 찾음"
   ]
  },
  {
   "cell_type": "code",
   "execution_count": null,
   "metadata": {
    "colab": {
     "base_uri": "https://localhost:8080/"
    },
    "id": "hf60bl6nPFtH",
    "outputId": "43a94af9-7664-44f2-8a7a-9ca9e4dd0761"
   },
   "outputs": [
    {
     "data": {
      "text/plain": [
       "0.6"
      ]
     },
     "execution_count": 46,
     "metadata": {
      "tags": []
     },
     "output_type": "execute_result"
    }
   ],
   "source": [
    "y_predict = np.argmax(w4, axis=1)\n",
    "\n",
    "accuracy_score = np.mean(y_predict == y_valid)\n",
    "accuracy_score"
   ]
  }
 ],
 "metadata": {
  "colab": {
   "collapsed_sections": [
    "fjVSKv3Jswjq",
    "-5sW7IH1uWEN",
    "_y1hqAzoswlD",
    "Z1NU9SXSldY5"
   ],
   "name": "Practice_4-1.ipynb",
   "provenance": []
  },
  "kernelspec": {
   "display_name": "Python 3",
   "language": "python",
   "name": "python3"
  },
  "language_info": {
   "codemirror_mode": {
    "name": "ipython",
    "version": 3
   },
   "file_extension": ".py",
   "mimetype": "text/x-python",
   "name": "python",
   "nbconvert_exporter": "python",
   "pygments_lexer": "ipython3",
   "version": "3.7.6"
  }
 },
 "nbformat": 4,
 "nbformat_minor": 1
}
