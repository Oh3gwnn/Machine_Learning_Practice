{
  "nbformat": 4,
  "nbformat_minor": 0,
  "metadata": {
    "colab": {
      "name": "Practice_1.ipynb",
      "private_outputs": true,
      "provenance": [],
      "collapsed_sections": []
    },
    "kernelspec": {
      "name": "python3",
      "display_name": "Python 3"
    }
  },
  "cells": [
    {
      "cell_type": "markdown",
      "metadata": {
        "id": "_tqlxOSkZzhy"
      },
      "source": [
        "### **그래프 그리기 기본 설정**"
      ]
    },
    {
      "cell_type": "code",
      "metadata": {
        "id": "ybPm0brVY8JR"
      },
      "source": [
        "import sys\n",
        "assert sys.version_info >= (3, 5)\n",
        "\n",
        "import sklearn\n",
        "assert sklearn.__version__ >= \"0.20\""
      ],
      "execution_count": null,
      "outputs": []
    },
    {
      "cell_type": "code",
      "metadata": {
        "id": "2AXegWE-Y32f"
      },
      "source": [
        "%matplotlib inline \n",
        "\n",
        "import matplotlib as mpl\n",
        "mpl.rc('axes', labelsize=14)\n",
        "mpl.rc('xtick', labelsize=12)\n",
        "mpl.rc('ytick', labelsize=12)"
      ],
      "execution_count": null,
      "outputs": []
    },
    {
      "cell_type": "code",
      "metadata": {
        "id": "M5caAY0wY17g"
      },
      "source": [
        "import matplotlib.pyplot as plt\n",
        "import numpy as np\n",
        "import pandas as pd"
      ],
      "execution_count": null,
      "outputs": []
    },
    {
      "cell_type": "code",
      "metadata": {
        "id": "Jy2CXMPaY0Nu"
      },
      "source": [
        "import os\n",
        "\n",
        "# 그래프 저장을 디렉토리 지정\n",
        "PROJECT_ROOT_DIR = \".\"\n",
        "CHAPTER_ID = \"fundamentals\"\n",
        "IMAGES_PATH = os.path.join(PROJECT_ROOT_DIR, \"images\", CHAPTER_ID)\n",
        "os.makedirs(IMAGES_PATH, exist_ok=True)\n",
        "\n",
        "# 그래프 저장 함수 선언\n",
        "def save_fig(fig_id, tight_layout=True, fig_extension=\"png\", resolution=300):\n",
        "    path = os.path.join(IMAGES_PATH, fig_id + \".\" + fig_extension)\n",
        "    print(\"Saving figure\", fig_id)\n",
        "    if tight_layout:\n",
        "        plt.tight_layout()\n",
        "    plt.savefig(path, format=fig_extension, dpi=resolution)"
      ],
      "execution_count": null,
      "outputs": []
    },
    {
      "cell_type": "markdown",
      "metadata": {
        "id": "bvbVxO4eZ-eC"
      },
      "source": [
        "### **데이터 다운로드**"
      ]
    },
    {
      "cell_type": "code",
      "metadata": {
        "id": "-rddkwJkZQ_c"
      },
      "source": [
        "!git clone https://github.com/codingalzi/handson-ml.git"
      ],
      "execution_count": null,
      "outputs": []
    },
    {
      "cell_type": "code",
      "metadata": {
        "id": "KQdYQXs2ZTEC"
      },
      "source": [
        "!cp /content/handson-ml/notebooks/datasets/lifesat/* /content/"
      ],
      "execution_count": null,
      "outputs": []
    },
    {
      "cell_type": "markdown",
      "metadata": {
        "id": "Y1f7eEsBbsRn"
      },
      "source": [
        "###**데이터 적재와 준비**"
      ]
    },
    {
      "cell_type": "code",
      "metadata": {
        "id": "XADU6HIzaK4D"
      },
      "source": [
        "oecd_bli = pd.read_csv(\"oecd_bli_2020.csv\")\n",
        "oecd_bli = oecd_bli[oecd_bli[\"INEQUALITY\"]==\"TOT\"]\n",
        "oecd_bli = oecd_bli.pivot(index=\"Country\", columns=\"Indicator\", values=\"Value\")\n",
        "\n",
        "# 알파벳 순으로 첫 5개 국가 데이터 보여주기\n",
        "oecd_bli.head()"
      ],
      "execution_count": null,
      "outputs": []
    },
    {
      "cell_type": "code",
      "metadata": {
        "id": "QIgVK9kdbnIG"
      },
      "source": [
        "oecd_bli[\"Life satisfaction\"].head()"
      ],
      "execution_count": null,
      "outputs": []
    },
    {
      "cell_type": "markdown",
      "metadata": {
        "id": "3uxygou_bxha"
      },
      "source": [
        "###**1인당 GDP 데이터 적재와 준비**"
      ]
    },
    {
      "cell_type": "code",
      "metadata": {
        "id": "UMmpPUxvbzS4"
      },
      "source": [
        "gdp_per_capita = pd.read_excel(\"gdp_per_capita_2020.xlsx\", thousands=',', na_values=\"n/a\")\n",
        "gdp_per_capita.rename(columns={2020: \"GDP per capita\"}, inplace=True) # \"2020\" 컬럼 이름을 \"GDP per capita\" 로 변경 \n",
        "gdp_per_capita.set_index(\"Country\", inplace=True)\n",
        "\n",
        "# 알파벳 순으로 첫 5개 국가 GDP 정보 확인\n",
        "gdp_per_capita.head()"
      ],
      "execution_count": null,
      "outputs": []
    },
    {
      "cell_type": "markdown",
      "metadata": {
        "id": "YYxt_kF_cOMg"
      },
      "source": [
        "###**데이터 병합**"
      ]
    },
    {
      "cell_type": "code",
      "metadata": {
        "id": "KEabtFJWcRUE"
      },
      "source": [
        "full_country_stats = pd.merge(left=oecd_bli, right=gdp_per_capita, left_index=True, right_index=True)"
      ],
      "execution_count": null,
      "outputs": []
    },
    {
      "cell_type": "code",
      "metadata": {
        "id": "Vkr2CBB8cVyn"
      },
      "source": [
        "full_country_stats.sort_values(by=\"GDP per capita\", inplace=True) # 1인당 GDP 기준으로 정렬"
      ],
      "execution_count": null,
      "outputs": []
    },
    {
      "cell_type": "code",
      "metadata": {
        "id": "5Xfkdti7hWoJ"
      },
      "source": [
        "full_country_stats.head(3)"
      ],
      "execution_count": null,
      "outputs": []
    },
    {
      "cell_type": "code",
      "metadata": {
        "id": "SHZivOl5hZuC"
      },
      "source": [
        "full_country_stats.tail(3)"
      ],
      "execution_count": null,
      "outputs": []
    },
    {
      "cell_type": "code",
      "metadata": {
        "id": "CryeBOQdhcCN"
      },
      "source": [
        "# 7개 국가의 행 인덱스를 전체 인덱스 집합에서 제거\n",
        "remove_indices = [1, 2, 4, 6, 37, 38, 39]\n",
        "keep_indices = list(set(range(40)) - set(remove_indices))\n",
        "\n",
        "# 7개 국가를 제외한 국가들의 1인당 GDP와 삶의 만족도 데이터\n",
        "sample_data = full_country_stats[[\"GDP per capita\", 'Life satisfaction']].iloc[keep_indices] \n",
        "\n",
        "# 제외된 7개 국가의 1인당 GGP와 삶의 만족도 데이터\n",
        "missing_data = full_country_stats[[\"GDP per capita\", 'Life satisfaction']].iloc[remove_indices]"
      ],
      "execution_count": null,
      "outputs": []
    },
    {
      "cell_type": "code",
      "metadata": {
        "id": "J9f4qfLChr2k"
      },
      "source": [
        "# 7개 국가를 제외한 국가들의 데이터 산점도\n",
        "sample_data.plot(kind='scatter', x=\"GDP per capita\", y='Life satisfaction', figsize=(5,3))\n",
        "plt.axis([0, 70000, 0, 10])\n",
        "\n",
        "# 언급된 5개 국가명 명기 좌표\n",
        "position_text = {\n",
        "  \"Hungary\": (8000, 1),\n",
        "  \"Korea\": (26000, 1.7),\n",
        "  \"France\": (34000, 2.4),\n",
        "  \"Australia\": (44000, 3.0),\n",
        "  \"United States\": (60000, 3.8),\n",
        "}\n",
        "\n",
        "# 5개 국가는 좌표를 이용하여 빨강색 점으로 표기\n",
        "for country, pos_text in position_text.items():\n",
        "    pos_data_x, pos_data_y = sample_data.loc[country]\n",
        "    # 5개 국가명 표기\n",
        "    country = \"U.S.\" if country == \"United States\" else country\n",
        "    plt.annotate(country, xy=(pos_data_x, pos_data_y), xytext=pos_text,\n",
        "            arrowprops=dict(facecolor='black', width=0.5, shrink=0.1, headwidth=5))\n",
        "    # 5개 국가 산점도 그리기\n",
        "    plt.plot(pos_data_x, pos_data_y, \"ro\")\n",
        "plt.xlabel(\"GDP per capita (USD)\")\n",
        "save_fig('money_happy_scatterplot')\n",
        "plt.show()"
      ],
      "execution_count": null,
      "outputs": []
    },
    {
      "cell_type": "code",
      "metadata": {
        "id": "-gvTI8RzjpkR"
      },
      "source": [
        "sample_data.loc[list(position_text.keys())]"
      ],
      "execution_count": null,
      "outputs": []
    },
    {
      "cell_type": "markdown",
      "metadata": {
        "id": "-sEdDHAJju18"
      },
      "source": [
        "###**선형회귀 모델 훈련**"
      ]
    },
    {
      "cell_type": "code",
      "metadata": {
        "id": "uxhzG4PFjxAp"
      },
      "source": [
        "from sklearn import linear_model\n",
        "\n",
        "# 선형회귀 모델 지정\n",
        "lin1 = linear_model.LinearRegression()\n",
        "\n",
        "# 훈련 데이터셋 지정\n",
        "Xsample = np.c_[sample_data[\"GDP per capita\"]]\n",
        "ysample = np.c_[sample_data[\"Life satisfaction\"]]\n",
        "\n",
        "# 모델 훈련\n",
        "lin1.fit(Xsample, ysample)"
      ],
      "execution_count": null,
      "outputs": []
    },
    {
      "cell_type": "code",
      "metadata": {
        "id": "DCNDob-Vj6Ah"
      },
      "source": [
        "# 예측된 최적의 직선에 대한 정보: 절편과 기울기\n",
        "t0, t1 = lin1.intercept_[0], lin1.coef_[0][0]\n",
        "\n",
        "t0, t1"
      ],
      "execution_count": null,
      "outputs": []
    },
    {
      "cell_type": "code",
      "metadata": {
        "id": "C4qa_ve9j8ck"
      },
      "source": [
        "# 산점도\n",
        "sample_data.plot(kind='scatter', x=\"GDP per capita\", y='Life satisfaction', figsize=(5,3))\n",
        "plt.xlabel(\"GDP per capita (USD)\")\n",
        "plt.axis([0, 60000, 0, 10])\n",
        "\n",
        "# 직선 그리기\n",
        "X=np.linspace(0, 60000, 1000)\n",
        "plt.plot(X, t0 + t1*X, \"b\")\n",
        "# 직선의 절편과 기울기 정보 명시\n",
        "plt.text(5000, 3.1, r\"$\\theta_0 = 4.85$\", fontsize=14, color=\"b\")\n",
        "plt.text(5000, 2.2, r\"$\\theta_1 = 4.91 \\times 10^{-5}$\", fontsize=14, color=\"b\")\n",
        "\n",
        "save_fig('best_fit_model_plot')\n",
        "plt.show()"
      ],
      "execution_count": null,
      "outputs": []
    },
    {
      "cell_type": "markdown",
      "metadata": {
        "id": "cMUQR27zkD5r"
      },
      "source": [
        "###**훈련된 모델 활용**"
      ]
    },
    {
      "cell_type": "code",
      "metadata": {
        "id": "SgIq5RcGkG2l"
      },
      "source": [
        "# 키프러스 1인당 GDP: 26240\n",
        "cyprus_gdp_per_capita = gdp_per_capita.loc[\"Cyprus\"][\"GDP per capita\"]\n",
        "print(cyprus_gdp_per_capita)"
      ],
      "execution_count": null,
      "outputs": []
    },
    {
      "cell_type": "code",
      "metadata": {
        "id": "pT4yqS6ukN9p"
      },
      "source": [
        "cyprus_predicted_life_satisfaction = lin1.predict([[cyprus_gdp_per_capita]])[0][0]\n",
        "cyprus_predicted_life_satisfaction"
      ],
      "execution_count": null,
      "outputs": []
    },
    {
      "cell_type": "code",
      "metadata": {
        "id": "Jvvh4IdukQXU"
      },
      "source": [
        "sample_data.plot(kind='scatter', x=\"GDP per capita\", y='Life satisfaction', figsize=(5,3), s=1)\n",
        "plt.xlabel(\"GDP per capita (USD)\")\n",
        "\n",
        "# 예측된 최적의 직선\n",
        "X=np.linspace(0, 60000, 1000)\n",
        "plt.plot(X, t0 + t1*X, \"b\")\n",
        "plt.axis([0, 60000, 0, 10])\n",
        "plt.text(5000, 7.5, r\"$\\theta_0 = 4.85$\", fontsize=14, color=\"b\")\n",
        "plt.text(5000, 6.6, r\"$\\theta_1 = 4.91 \\times 10^{-5}$\", fontsize=14, color=\"b\")\n",
        "\n",
        "# 키프러스에 대한 삶의 만족도 예측값\n",
        "\n",
        "# 빨간 점선 그리기\n",
        "plt.plot([cyprus_gdp_per_capita, cyprus_gdp_per_capita], [0, cyprus_predicted_life_satisfaction], \"r--\")\n",
        "plt.text(25000, 5.0, r\"Prediction = 6.15\", fontsize=14, color=\"b\")\n",
        "\n",
        "# 예측 지점 좌표 찍기(빨강생)\n",
        "plt.plot(cyprus_gdp_per_capita, cyprus_predicted_life_satisfaction, \"ro\")\n",
        "save_fig('cyprus_prediction_plot')\n",
        "plt.show()"
      ],
      "execution_count": null,
      "outputs": []
    },
    {
      "cell_type": "markdown",
      "metadata": {
        "id": "Uovio64lklNA"
      },
      "source": [
        "##**머신러닝의 주요 도전 과제**"
      ]
    },
    {
      "cell_type": "markdown",
      "metadata": {
        "id": "1dfgC7KPkoF_"
      },
      "source": [
        "###**대표성 없는 훈련 데이터**\n",
        "\n",
        "제외 국가: Columbia(콜롬비아), Brazil(브라질), Mexico(멕시코), Chille(칠레), Ireland(아일랜드), Switzerland(스위스, Luxembourg(룩셈부르크)"
      ]
    },
    {
      "cell_type": "code",
      "metadata": {
        "id": "ES-U5ocukqSp"
      },
      "source": [
        "missing_data"
      ],
      "execution_count": null,
      "outputs": []
    },
    {
      "cell_type": "code",
      "metadata": {
        "id": "WhBTv7Yul7_L"
      },
      "source": [
        "position_text2 = {\n",
        "    \"Colombia\": (1000, 9.0),\n",
        "    \"Brazil\": (11000, 9.0),\n",
        "    \"Mexico\": (25000, 9.0),\n",
        "    \"Chile\": (35000, 9.0),\n",
        "    \"Ireland\": (60000, 3),\n",
        "    \"Switzerland\": (72000, 3.0),\n",
        "    \"Luxembourg\": (90000, 3.0),\n",
        "}"
      ],
      "execution_count": null,
      "outputs": []
    },
    {
      "cell_type": "code",
      "metadata": {
        "id": "2msyHsfDk334"
      },
      "source": [
        "# 7개 국가를 제외한 국가들의 산점도 (파랑색 점)\n",
        "sample_data.plot(kind='scatter', x=\"GDP per capita\", y='Life satisfaction', figsize=(8,3))\n",
        "plt.axis([0, 110000, 0, 10])\n",
        "\n",
        "# 7개 국가 산점도(빨강 점)\n",
        "for country, pos_text in position_text2.items():\n",
        "    pos_data_x, pos_data_y = missing_data.loc[country]\n",
        "    # 7개 국가명 표기\n",
        "    plt.annotate(country, xy=(pos_data_x, pos_data_y), xytext=pos_text,\n",
        "            arrowprops=dict(facecolor='black', width=0.5, shrink=0.1, headwidth=5))\n",
        "    plt.plot(pos_data_x, pos_data_y, \"rs\")\n",
        "\n",
        "# 7개 국가 제외 예측 선형 모델 그래프 (파랑 점선)\n",
        "X=np.linspace(0, 110000, 1000)\n",
        "plt.plot(X, t0 + t1*X, \"b:\")\n",
        "\n",
        "# 7개 국가 포함 선형회귀 모델 훈련 및 예측\n",
        "lin_reg_full = linear_model.LinearRegression()\n",
        "Xfull = np.c_[full_country_stats[\"GDP per capita\"]]\n",
        "yfull = np.c_[full_country_stats[\"Life satisfaction\"]]\n",
        "lin_reg_full.fit(Xfull, yfull)\n",
        "\n",
        "# 7개 국가 포함 예측 선형 모델 그래프(검정 실선)\n",
        "t0full, t1full = lin_reg_full.intercept_[0], lin_reg_full.coef_[0][0]\n",
        "X = np.linspace(0, 110000, 1000)\n",
        "plt.plot(X, t0full + t1full * X, \"k\")\n",
        "plt.xlabel(\"GDP per capita (USD)\")\n",
        "\n",
        "save_fig('representative_training_data_scatterplot')\n",
        "plt.show()"
      ],
      "execution_count": null,
      "outputs": []
    },
    {
      "cell_type": "markdown",
      "metadata": {
        "id": "c3S0GuOomcEH"
      },
      "source": [
        "###**과대적합과 모델 규제**"
      ]
    },
    {
      "cell_type": "code",
      "metadata": {
        "id": "Wprmt6vEmew4"
      },
      "source": [
        "full_country_stats.plot(kind='scatter', x=\"GDP per capita\", y='Life satisfaction', figsize=(8,3))\n",
        "plt.axis([0, 110000, 0, 10])\n",
        "\n",
        "from sklearn import preprocessing\n",
        "from sklearn import pipeline\n",
        "\n",
        "poly = preprocessing.PolynomialFeatures(degree=60, include_bias=False)\n",
        "scaler = preprocessing.StandardScaler()\n",
        "lin_reg2 = linear_model.LinearRegression()\n",
        "\n",
        "pipeline_reg = pipeline.Pipeline([('poly', poly), ('scal', scaler), ('lin', lin_reg2)])\n",
        "pipeline_reg.fit(Xfull, yfull)\n",
        "curve = pipeline_reg.predict(X[:, np.newaxis])\n",
        "plt.plot(X, curve)\n",
        "plt.xlabel(\"GDP per capita (USD)\")\n",
        "save_fig('overfitting_model_plot')\n",
        "plt.show()\n"
      ],
      "execution_count": null,
      "outputs": []
    },
    {
      "cell_type": "code",
      "metadata": {
        "id": "Quvx5p0RmieG"
      },
      "source": [
        "full_country_stats.loc[[c for c in full_country_stats.index if \"W\" in c.upper()]][\"Life satisfaction\"]"
      ],
      "execution_count": null,
      "outputs": []
    },
    {
      "cell_type": "code",
      "metadata": {
        "id": "JuLL4nUymnfz"
      },
      "source": [
        "gdp_per_capita.loc[[c for c in full_country_stats.index if \"W\" in c.upper()]].head()"
      ],
      "execution_count": null,
      "outputs": []
    },
    {
      "cell_type": "code",
      "metadata": {
        "id": "Fe9M06N4oHCG"
      },
      "source": [
        "plt.figure(figsize=(8,3))\n",
        "\n",
        "plt.xlabel(\"GDP per capita\")\n",
        "plt.ylabel('Life satisfaction')\n",
        "\n",
        "# 7개 국가 제외 데이터 산점도(파랑 동그라미)\n",
        "plt.plot(list(sample_data[\"GDP per capita\"]), list(sample_data[\"Life satisfaction\"]), \"bo\")\n",
        "# 제외된 7개 국가 산점도(빨강 네모)\n",
        "plt.plot(list(missing_data[\"GDP per capita\"]), list(missing_data[\"Life satisfaction\"]), \"rs\")\n",
        "\n",
        "# 7개 국가 포함 예측 선형 모델 그래프(빨강 파선)\n",
        "X = np.linspace(0, 110000, 1000)\n",
        "plt.plot(X, t0full + t1full * X, \"r--\", label=\"Linear model on all data\")\n",
        "# 7개 국가 제외 예측 선형 모델 그래프(파랑 점선)\n",
        "plt.plot(X, t0 + t1*X, \"b:\", label=\"Linear model on partial data\")\n",
        "\n",
        "# 릿지(Ridge) 규제 적용 훈련: 7개 국가 제외 데이터 대상\n",
        "ridge = linear_model.Ridge(alpha=10**9.5)\n",
        "Xsample = np.c_[sample_data[\"GDP per capita\"]]\n",
        "ysample = np.c_[sample_data[\"Life satisfaction\"]]\n",
        "ridge.fit(Xsample, ysample)\n",
        "# 릿지 규제 적용 예측 선형 모델 그래프(파랑 실선)\n",
        "t0ridge, t1ridge = ridge.intercept_[0], ridge.coef_[0][0]\n",
        "plt.plot(X, t0ridge + t1ridge * X, \"b\", label=\"Regularized linear model on partial data\")\n",
        "\n",
        "plt.legend(loc=\"lower right\")\n",
        "plt.axis([0, 110000, 0, 10])\n",
        "plt.xlabel(\"GDP per capita (USD)\")\n",
        "save_fig('ridge_model_plot')\n",
        "plt.show()"
      ],
      "execution_count": null,
      "outputs": []
    },
    {
      "cell_type": "markdown",
      "metadata": {
        "id": "FvDJ2NZLoMqD"
      },
      "source": [
        "###**사례 기반 학습**"
      ]
    },
    {
      "cell_type": "code",
      "metadata": {
        "id": "TBYjT3hPoPEJ"
      },
      "source": [
        "sample_data[12:15]"
      ],
      "execution_count": null,
      "outputs": []
    },
    {
      "cell_type": "code",
      "metadata": {
        "id": "r-dsbFdvoRCt"
      },
      "source": [
        "#삶의 만족도 평균값\n",
        "(5.9 + 6.3 + 5.9)/3"
      ],
      "execution_count": null,
      "outputs": []
    },
    {
      "cell_type": "code",
      "metadata": {
        "id": "KoHNvCTnoYKw"
      },
      "source": [
        "import sklearn.neighbors\n",
        "model = sklearn.neighbors.KNeighborsRegressor(n_neighbors=3)"
      ],
      "execution_count": null,
      "outputs": []
    },
    {
      "cell_type": "code",
      "metadata": {
        "id": "aOg8oSdqobp-"
      },
      "source": [
        "X = np.c_[sample_data[\"GDP per capita\"]]\n",
        "y = np.c_[sample_data[\"Life satisfaction\"]]\n",
        "\n",
        "# 모델 훈련\n",
        "model.fit(X, y)\n",
        "\n",
        "# 키프러스 국가에 대한 예측하기\n",
        "X_new = np.array([[26240.0]])  # Cyprus' GDP per capita\n",
        "print(model.predict(X_new)) # outputs [[5.96666667]]"
      ],
      "execution_count": null,
      "outputs": []
    }
  ]
}